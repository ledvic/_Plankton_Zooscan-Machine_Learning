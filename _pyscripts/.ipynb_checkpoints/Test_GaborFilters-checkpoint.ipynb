{
 "cells": [
  {
   "cell_type": "code",
   "execution_count": 1,
   "id": "3a1f43a6-74ac-462c-9e39-fa1b1ce37b57",
   "metadata": {},
   "outputs": [],
   "source": [
    "import os\n",
    "\n",
    "import pandas as pd\n",
    "\n",
    "import numpy as np\n",
    "from numpy import random\n",
    "\n",
    "from random import sample\n",
    "\n",
    "import matplotlib.pyplot as plt\n",
    "\n",
    "import skimage\n",
    "from skimage import io\n",
    "from skimage.feature import daisy, hog, ORB, local_binary_pattern, SIFT\n",
    "from skimage.color import label2rgb, rgb2gray\n",
    "from skimage.transform import resize, rotate, downscale_local_mean\n",
    "\n",
    "from scipy import ndimage as ndi\n",
    "from skimage.util import img_as_float\n",
    "from skimage.filters import gabor_kernel\n",
    "\n",
    "from sklearn.cluster import MiniBatchKMeans\n",
    "from sklearn.decomposition import PCA\n",
    "from sklearn import preprocessing\n",
    "from skimage import exposure\n",
    "\n",
    "# from tqdm import tqdm\n",
    "\n",
    "import gc\n",
    "\n",
    "from joblib import Parallel, delayed\n",
    "\n",
    "from tqdm.notebook import tqdm\n",
    "\n",
    "from sklearn.preprocessing import Normalizer\n",
    "from matplotlib.ticker import MaxNLocator\n",
    "from sklearn.preprocessing import StandardScaler\n",
    "\n",
    "from scipy.special import erfcinv"
   ]
  },
  {
   "cell_type": "code",
   "execution_count": 2,
   "id": "eb92173c-0343-43f2-a0a8-e65cd4978653",
   "metadata": {},
   "outputs": [],
   "source": [
    "from skimage import data\n",
    "from skimage.util import img_as_float\n",
    "from skimage.filters import gabor_kernel\n",
    "\n",
    "import math"
   ]
  },
  {
   "cell_type": "code",
   "execution_count": 3,
   "id": "4dd57a97-c7ab-47f9-9685-587f331b5d27",
   "metadata": {},
   "outputs": [],
   "source": [
    "dfFoldTraining_1 = pd.read_csv('..//_inputs//_images_Zooscan//_Zooscan-validation-fold_1.csv')"
   ]
  },
  {
   "cell_type": "code",
   "execution_count": 4,
   "id": "3900a0d8-8d22-4096-8c5f-3fa23a946ed8",
   "metadata": {},
   "outputs": [],
   "source": [
    "# gabor filter\n",
    "\n",
    "def createGaborfilterbank(m=39, n=39):\n",
    "    garray = []\n",
    "    fmax = 0.327 # maximum frequency\n",
    "    gamma = np.sqrt(2)\n",
    "    eta = np.sqrt(2)\n",
    "    \n",
    "    gamma = 0.5\n",
    "    eta = 0.5\n",
    "    \n",
    "    u = 6 #number of frequencies\n",
    "    v = 8 #number of orientation\n",
    "\n",
    "    for i in range(0,u):\n",
    "\n",
    "        fu = fmax/np.sqrt(2)**(i); # frequency\n",
    "        alpha = fu/gamma;\n",
    "        beta = fu/eta;\n",
    "\n",
    "        for j in range(0,v):\n",
    "            theta = j/v*np.pi; # orientation \n",
    "\n",
    "            x, y = np.meshgrid(np.arange(1,n+1,1), np.arange(1,m+1,1))\n",
    "\n",
    "            xenvolope  =  (x-((m+1)/2))*np.cos(theta) + (y-((n+1)/2))*np.sin(theta);\n",
    "            yenvolope  = -(x-((m+1)/2))*np.sin(theta) + (y-((n+1)/2))*np.cos(theta);\n",
    "            \n",
    "            gfilter = np.transpose(\n",
    "                                (fu**2/(np.pi*gamma*eta))*np.exp(-((alpha**2)*(xenvolope**2) + \n",
    "                              (beta**2)*(yenvolope**2)))*np.exp(1j*2*np.pi*fu*xenvolope)\n",
    "                                    );\n",
    "\n",
    "            garray.append(gfilter);\n",
    "\n",
    "    plt.figure(figsize=(15,10))\n",
    "\n",
    "    for i in range(48):    \n",
    "        ax = plt.subplot(6,8,i+1)\n",
    "        # ax.set_title(label)\n",
    "        plt.imshow(np.real(garray[i]),cmap='Greys_r')\n",
    "        plt.axis(\"off\")  \n",
    "        \n",
    "    return garray\n",
    "\n",
    "def computeGaborfeatures(image, kernels):\n",
    "    feats = []\n",
    "    filteredimg = []\n",
    "    \n",
    "    for k, kernel in enumerate(kernels):\n",
    "        filtered = ndi.convolve(image, np.abs(kernel), mode='wrap')\n",
    "            \n",
    "        feats.append(filtered.mean())\n",
    "        feats.append(filtered.std())\n",
    "        \n",
    "        filteredimg.append(filtered)\n",
    "        \n",
    "    return feats, filteredimg"
   ]
  },
  {
   "cell_type": "code",
   "execution_count": 5,
   "id": "6196573b-6f90-46fb-9a2d-fec293168c4b",
   "metadata": {},
   "outputs": [],
   "source": [
    "def sg_solvefilterparams(k, p, m, n):\n",
    "\n",
    "    gamma = solvegamma(k, p);\n",
    "    eta = solveeta(n, p);\n",
    "\n",
    "    return gamma, eta\n",
    "\n",
    "\n",
    "def solvegamma(k,p):\n",
    "\n",
    "    gamma = 1.0 / np.pi * np.sqrt(-np.log(p)) * (k + 1) / (k - 1);\n",
    "\n",
    "    return gamma\n",
    "\n",
    "\n",
    "def solvek(gamma,p):\n",
    "\n",
    "    x = 1.0 / (gamma * np.pi)*np.sqrt(-np.log(p));\n",
    "    k = (1 + x) / (1 - x);\n",
    "    \n",
    "    return k\n",
    "\n",
    "\n",
    "def solvep(gamma,k):\n",
    "\n",
    "    p = np.exp(- (gamma * np.pi * (k - 1) / (k + 1))**2);\n",
    "    \n",
    "    return p\n",
    "\n",
    "\n",
    "def solveeta(n,p):\n",
    "\n",
    "    ua = np.pi / n / 2; # ua based on approximation\n",
    "\n",
    "    eta = 1.0 / np.pi * np.sqrt(-np.log(p)) / ua;\n",
    "    \n",
    "    return eta\n"
   ]
  },
  {
   "cell_type": "code",
   "execution_count": 6,
   "id": "c01b712b-b882-4a34-ac64-b665e7092033",
   "metadata": {},
   "outputs": [],
   "source": [
    "def norminv(p,mu,sigma):\n",
    "    \n",
    "    x0 = np.multiply( -np.sqrt(2), (erfcinv(2 * p)) );\n",
    "    x = np.multiply(sigma, x0) + mu;\n",
    "    \n",
    "    return x"
   ]
  },
  {
   "cell_type": "code",
   "execution_count": 7,
   "id": "23e3ae44-7de8-49a0-942d-59c3710fd292",
   "metadata": {},
   "outputs": [],
   "source": [
    "def compute_fhigh(f0, a, b):\n",
    "    \n",
    "    d = f0;\n",
    "\n",
    "    if b > a:\n",
    "\n",
    "      foo = -( (a**2) * d )/(a**2 - b**2);\n",
    "\n",
    "      if foo < a:\n",
    "        fhigh2 = np.sqrt( (d + foo)**2 + (b/a * np.sqrt(a**2 - foo**2))**2 );\n",
    "      else:\n",
    "        fhigh2 = d + a;\n",
    "    \n",
    "    else:\n",
    "        fhigh2 = d + a; \n",
    "\n",
    "    if fhigh2 > 0.5:\n",
    "      fhigh2 = 0.5; \n",
    "\n",
    "    return fhigh2"
   ]
  },
  {
   "cell_type": "code",
   "execution_count": 8,
   "id": "c478086a-2348-4948-924f-100e4f07b5aa",
   "metadata": {},
   "outputs": [],
   "source": [
    "def ellipsoid_envelope_point(a,b,c):\n",
    "\n",
    "    x=(c*(a**2))/np.sqrt(b**2+c**2*a**2)\n",
    "    y=b/a*np.sqrt(a**2-x**2);\n",
    "    \n",
    "    return np.array([x,y])"
   ]
  },
  {
   "cell_type": "code",
   "execution_count": 9,
   "id": "28a89f27-ad6b-47ff-80d6-36b1d8adcc23",
   "metadata": {},
   "outputs": [],
   "source": [
    "def accurate_envelope_f(f0,a,b,theta):\n",
    "\n",
    "    if np.mod(theta, np.pi/2)!=0:\n",
    "\n",
    "        # solve points with slopes -tan(pi/2-theta) and tan(theta)\n",
    "        x1y1 = ellipsoid_envelope_point(a,b,-np.tan(np.pi/2-theta))\n",
    "        x2y2 = ellipsoid_envelope_point(a,b,np.tan(theta))\n",
    "        \n",
    "        envelope = np.array([x1y1, -x1y1, x2y2, -x2y2])\n",
    "    \n",
    "        # shift by f0\n",
    "        envelope = envelope + np.tile([f0, 0],[4,1])\n",
    "\n",
    "        # rotate by theta\n",
    "        envelope = np.matmul(envelope, np.array([[np.cos(theta), np.sin(theta)],[-np.sin(theta), np.cos(theta)]]))\n",
    "\n",
    "        xmin = min(envelope[:,0]);\n",
    "        xmax = max(envelope[:,0]);\n",
    "        ymin = min(envelope[:,1]);\n",
    "        ymax = max(envelope[:,1]);\n",
    "\n",
    "        envelope=np.real([xmin, xmax, ymin, ymax])\n",
    "\n",
    "    else: \n",
    "\n",
    "        envelope = np.array([[f0-a, 0], [f0+a, 0] , [f0, b], [f0, -b]])\n",
    "        \n",
    "        envelope = np.matmul(envelope, np.array([[np.cos(theta), np.sin(theta)],[-np.sin(theta), np.cos(theta)]]))\n",
    "        \n",
    "        xmin = min(envelope[:,0]);\n",
    "        xmax = max(envelope[:,0]);\n",
    "        ymin = min(envelope[:,1]);\n",
    "        ymax = max(envelope[:,1]);\n",
    "        \n",
    "        envelope=np.real([xmin, xmax, ymin, ymax])\n",
    "\n",
    "    return envelope\n",
    "    "
   ]
  },
  {
   "cell_type": "code",
   "execution_count": 10,
   "id": "3b732c6e-1234-4e0a-b457-53a330337d9f",
   "metadata": {},
   "outputs": [],
   "source": [
    "def computeAGaborFilter(f0, theta, gamma, eta, Nx, Ny):\n",
    "    \n",
    "    pf = np.sqrt(0.99) #energy to include in the filters\n",
    "    alpha = f0 / gamma\n",
    "    beta = f0 / eta\n",
    "    \n",
    "    # accurate rectangular envelope\n",
    "    majenv = norminv(np.array([1-pf, 1+pf])/2,0,f0/(np.sqrt(2)*np.pi*gamma))\n",
    "    minenv = norminv(np.array([1-pf, 1+pf])/2,0,f0/(np.sqrt(2)*np.pi*eta))\n",
    "    \n",
    "    fhigh = compute_fhigh(f0,majenv[1],minenv[1])\n",
    "    \n",
    "    envelope = accurate_envelope_f(f0,majenv[1],minenv[1],theta)\n",
    "    \n",
    "    envelope[:2] = envelope[:2] * Nx\n",
    "    envelope[-2:] = envelope[-2:] * Ny\n",
    "    \n",
    "    envelope = np.array([np.floor(envelope[0]), np.ceil(envelope[1]), np.floor(envelope[2]), np.ceil(envelope[3])])\n",
    "    \n",
    "    nx = np.arange(envelope[0], envelope[1] + 1, 1, dtype=int)\n",
    "    ny = np.arange(envelope[2], envelope[3] + 1, 1, dtype=int)\n",
    "    \n",
    "    u = nx/Nx; #frequencies that bank contains\n",
    "    v = ny/Ny;\n",
    "    \n",
    "    U, V = np.meshgrid(u,v)\n",
    "    \n",
    "    Uenvelope =  (np.add(-U * np.sin(theta), V * np.cos(theta)))**2 / beta**2\n",
    "    Venvelope =  (np.add(U * np.cos(theta), V * np.sin(theta) - f0))**2 / alpha**2\n",
    "    \n",
    "    gf = np.exp( -(np.pi**2) * np.add(Uenvelope,Venvelope) )\n",
    "    \n",
    "    return gf, envelope, fhigh\n",
    "    "
   ]
  },
  {
   "cell_type": "code",
   "execution_count": 11,
   "id": "2c2d90ec-6364-4932-8926-f2471b8c6f07",
   "metadata": {},
   "outputs": [],
   "source": [
    "def transformtoSpatialGaborFiler(FrequencyGaborFilter, envelope, row, col):\n",
    "    \n",
    "    M1 = col\n",
    "    M2 = row\n",
    "    \n",
    "    lx = envelope[1] - envelope[0];\n",
    "    ly = envelope[3] - envelope[2];\n",
    "    \n",
    "    xx = np.int32(np.mod( np.arange(0,lx + 1) + envelope[0] + M1 , M1 ) + 1)-1;\n",
    "    yy = np.int32(np.mod( np.arange(0,ly + 1) + envelope[2] + M2 , M2 ) + 1)-1;\n",
    "    \n",
    "    f2_ = np.zeros((M2,M1), dtype=np.float64)\n",
    "    \n",
    "    for y in range(0,len(yy)):\n",
    "        for x in range(0,len(xx)):\n",
    "            xf2 = xx[x] \n",
    "            yf2 = yy[y] \n",
    "\n",
    "            f2_[yf2,xf2] = FrequencyGaborFilter[y,x]\n",
    "            \n",
    "    f2 = np.fft.ifftshift( np.fft.ifft2(f2_) )\n",
    "    \n",
    "    return f2"
   ]
  },
  {
   "cell_type": "code",
   "execution_count": 13,
   "id": "e2216399-beed-48d8-9479-88ccc357e282",
   "metadata": {},
   "outputs": [],
   "source": [
    "def createSetOfGarborFilters(row=43, col=43):\n",
    "\n",
    "    fmax = 0.327 # maximum frequency\n",
    "\n",
    "    k = np.sqrt(2) #frequency ratio or factor for selecting filter frequencies\n",
    "    \n",
    "    p = 0.5 # crossing point between two consecutive filters, default 0.5\n",
    "    # pf = np.sqrt(0.99) #energy to include in the filters\n",
    "    \n",
    "    u = 6 #number of frequencies\n",
    "    v = 8 #number of orientation\n",
    "    \n",
    "    gamma, eta = sg_solvefilterparams(k, p, u, v) # smoothing parameters\n",
    "    \n",
    "    # gamma = np.sqrt(2)\n",
    "    # eta = np.sqrt(2)\n",
    "    \n",
    "    arrFreqs = np.zeros(u) # store frequencies of filters \n",
    "    dMaxFHigh = 0 # store maximum frequency of all filter bank\n",
    "    arrFHighs = np.zeros(u * v) # store maximum frequency of a filter bank\n",
    "    arrOries = np.zeros(v) # store orientations of filters \n",
    "    arrFreqGaborFilters = [None] * u * v # store list of Gabor filters on frequency domain\n",
    "    arrSpatGaborFilters = [None] * u * v # store list of Gabor filters on spatial domain\n",
    "    arrEnvelopes = np.zeros((u * v, 4))\n",
    "    \n",
    "    for i in range(0,u):\n",
    "\n",
    "        fu = fmax/k**i # frequency of the filter\n",
    "        \n",
    "        arrFreqs[i] = fu\n",
    "        \n",
    "        for j in range(0,v):\n",
    "            theta = j/v*np.pi; # orientation of the filter \n",
    "            \n",
    "            FreqGaborFilter, envelope, fhigh = computeAGaborFilter(fu, theta, gamma, eta, row, col) \n",
    "            \n",
    "            SpatGaborFilters = transformtoSpatialGaborFiler(FreqGaborFilter, envelope, row, col) # for visualization\n",
    "                  \n",
    "            if fhigh > dMaxFHigh:\n",
    "                dMaxFHigh = fhigh\n",
    "            \n",
    "            # arrFreqs[i * v + j] = fu\n",
    "            arrFHighs[i * v + j] = fhigh\n",
    "            arrEnvelopes[i * v + j] = envelope\n",
    "            # arrOries[i * v + j] = theta\n",
    "            arrOries[j] = theta\n",
    "            arrFreqGaborFilters[i * v + j] = FreqGaborFilter\n",
    "            arrSpatGaborFilters[i * v + j] = SpatGaborFilters # for visualization\n",
    "            \n",
    "            # display(envelope)\n",
    "            # print(i,j, i * v + j)\n",
    "        \n",
    "    return arrFreqs, dMaxFHigh, arrFHighs, arrOries, arrEnvelopes, arrFreqGaborFilters, arrSpatGaborFilters"
   ]
  },
  {
   "cell_type": "code",
   "execution_count": 14,
   "id": "8880450b-ce59-482d-a122-6bab63b96cc8",
   "metadata": {},
   "outputs": [
    {
     "data": {
      "text/plain": [
       "[11838]"
      ]
     },
     "execution_count": 14,
     "metadata": {},
     "output_type": "execute_result"
    }
   ],
   "source": [
    "dfFoldTraining_1 = pd.read_csv('..//_inputs//_images_Zooscan//_Zooscan-training-fold_4.csv')\n",
    "dfFoldTraining_1.index[dfFoldTraining_1['short_filenames'] == \"0064-cop_calanoida_ptt.png\"].tolist()"
   ]
  },
  {
   "cell_type": "code",
   "execution_count": 15,
   "id": "709f749a-af5d-4298-bb97-e357a1a43697",
   "metadata": {},
   "outputs": [
    {
     "data": {
      "text/plain": [
       "(-0.5, 133.5, 133.5, -0.5)"
      ]
     },
     "execution_count": 15,
     "metadata": {},
     "output_type": "execute_result"
    },
    {
     "data": {
      "image/png": "[encoded data removed]",
      "text/plain": [
       "<Figure size 500x200 with 1 Axes>"
      ]
     },
     "metadata": {},
     "output_type": "display_data"
    }
   ],
   "source": [
    "img = io.imread(dfFoldTraining_1[\"filenames\"][11838])\n",
    "\n",
    "plt.figure(figsize=(5,2))\n",
    "\n",
    "plt.imshow(img,cmap='Greys_r')\n",
    "\n",
    "plt.axis(\"off\") "
   ]
  },
  {
   "cell_type": "code",
   "execution_count": 16,
   "id": "58ae309c-2a61-45e0-95aa-5064a5c19858",
   "metadata": {},
   "outputs": [
    {
     "data": {
      "text/plain": [
       "(134, 134)"
      ]
     },
     "execution_count": 16,
     "metadata": {},
     "output_type": "execute_result"
    }
   ],
   "source": [
    "img.shape"
   ]
  },
  {
   "cell_type": "code",
   "execution_count": 17,
   "id": "44ddff97-83db-496f-bfb7-dd5700379d1f",
   "metadata": {},
   "outputs": [],
   "source": [
    "arrFreqs, dMaxFHigh, arrFHighs, arrOries, arrEnvelopes, arrFreqGaborFilters, arrSpatGaborFilters = createSetOfGarborFilters(img.shape[0], img.shape[1])"
   ]
  },
  {
   "cell_type": "code",
   "execution_count": 18,
   "id": "776c4f50-ff7c-4a2e-b33a-3e55aa47f80e",
   "metadata": {},
   "outputs": [
    {
     "data": {
      "text/plain": [
       "<Figure size 1500x1000 with 0 Axes>"
      ]
     },
     "execution_count": 18,
     "metadata": {},
     "output_type": "execute_result"
    },
    {
     "data": {
      "image/png": "[encoded data removed]",
      "text/plain": [
       "<Figure size 1500x1000 with 48 Axes>"
      ]
     },
     "metadata": {},
     "output_type": "display_data"
    },
    {
     "data": {
      "text/plain": [
       "<Figure size 1500x1000 with 0 Axes>"
      ]
     },
     "metadata": {},
     "output_type": "display_data"
    }
   ],
   "source": [
    "plt.figure(figsize=(15,10))\n",
    "for i in range(48):    \n",
    "    ax = plt.subplot(6,8,i+1)\n",
    "    # ax.set_title(label)\n",
    "    plt.imshow(np.real(arrSpatGaborFilters[i]),cmap='Greys_r')\n",
    "    label = str(np.real(arrSpatGaborFilters[i]).shape)\n",
    "    ax.set_title(label)\n",
    "    plt.axis(\"off\") \n",
    "    \n",
    "plt.figure(figsize=(15,10))"
   ]
  },
  {
   "cell_type": "code",
   "execution_count": 20,
   "id": "5587d2c2-8eb1-45cb-bfe5-2a8c9da4762b",
   "metadata": {},
   "outputs": [
    {
     "data": {
      "text/plain": [
       "2"
      ]
     },
     "execution_count": 20,
     "metadata": {},
     "output_type": "execute_result"
    }
   ],
   "source": [
    "arrMN.size"
   ]
  },
  {
   "cell_type": "code",
   "execution_count": 22,
   "id": "7f1973da-9a70-4393-8bb3-4ed1e7ecefe0",
   "metadata": {},
   "outputs": [
    {
     "name": "stdout",
     "output_type": "stream",
     "text": [
      "[1.08526161 1.53479169 2.17052322 3.06958338 4.34104645 6.13916676]\n",
      "[[124 124]\n",
      " [88 88]\n",
      " [62 62]\n",
      " [44 44]\n",
      " [30 30]\n",
      " [22 22]]\n",
      "[[1.0806451612903225 1.0806451612903225]\n",
      " [1.5227272727272727 1.5227272727272727]\n",
      " [2.161290322580645 2.161290322580645]\n",
      " [3.0454545454545454 3.0454545454545454]\n",
      " [4.466666666666667 4.466666666666667]\n",
      " [6.090909090909091 6.090909090909091]]\n"
     ]
    }
   ],
   "source": [
    "arrMN = np.array([img.shape[1], img.shape[0]])\n",
    "arrMZooms = np.zeros(len(arrFreqs))\n",
    "dMMaxZoom = 0\n",
    "arrMRespSize = np.zeros((len(arrFreqs), arrMN.size), dtype=object)\n",
    "arrMActualZoom = np.zeros((len(arrFreqs), arrMN.size), dtype=object)\n",
    "\n",
    "for idxFreq in range(len(arrFreqs)):\n",
    "    dZoom = 0.5 / arrFHighs[idxFreq * len(arrOries)]\n",
    "    \n",
    "    if dMMaxZoom > 0 and dZoom > dMMaxZoom:\n",
    "        dZoom = dMMaxZoom\n",
    "    \n",
    "    if dZoom < 1:\n",
    "        printf('Zoom factor smaller than 1, wtf?\\n');\n",
    "        dZoom = 1;\n",
    "        \n",
    "    arrMZooms[idxFreq] = dZoom\n",
    "    \n",
    "    # print(dZoom, arrN)\n",
    "    \n",
    "    # the responsesize is always wanted to be divisible by two\n",
    "    arrMRespSize[idxFreq] = np.int32(np.round(arrMN / dZoom / 2) * 2); \n",
    "\n",
    "    # actual zoom factor\n",
    "    arrMActualZoom[idxFreq] = arrMN / arrMRespSize[idxFreq];\n",
    "    \n",
    "print(arrMZooms)\n",
    "\n",
    "print(arrMRespSize)\n",
    "print(arrMActualZoom)\n",
    "\n",
    "\n",
    "# perform the filtering\n",
    "fimg = np.fft.fft2(np.fft.ifftshift(img_as_float(img)))\n",
    "\n",
    "\n",
    "# arrMFreqs = np.zeros(len(arrFreqs))\n",
    "# arrCustomPoints = []\n",
    "\n",
    "# for idxFreq in range(len(arrFreqs)):\n",
    "#     f0 = arrFreqs[idxFreq]\n",
    "    \n",
    "#     arrMFreqs[idxFreq] = f0\n",
    "    \n",
    "#     # zero memory for filter responses, each frequency is of different size now \n",
    "#     if not arrCustomPoints\n",
    "#         #m.freq{find}.resp=zeros(length(bank.freq{find}.orient),m.respSize(find,2),m.respSize(find,1))\n",
    "        "
   ]
  },
  {
   "cell_type": "code",
   "execution_count": 57,
   "id": "6a9368bb-99e9-43fa-a3dd-f089ca98b026",
   "metadata": {},
   "outputs": [
    {
     "data": {
      "text/plain": [
       "array([[ 25.,  62., -21.,  21.],\n",
       "       [ 22.,  59.,  -4.,  37.],\n",
       "       [ 11.,  51.,  11.,  51.],\n",
       "       [ -4.,  37.,  22.,  59.],\n",
       "       [-21.,  21.,  25.,  62.],\n",
       "       [-37.,   4.,  22.,  59.],\n",
       "       [-51., -11.,  11.,  51.],\n",
       "       [-59., -22.,  -4.,  37.],\n",
       "       [ 18.,  44., -15.,  15.],\n",
       "       [ 15.,  42.,  -3.,  27.],\n",
       "       [  8.,  36.,   8.,  36.],\n",
       "       [ -3.,  27.,  15.,  42.],\n",
       "       [-15.,  15.,  18.,  44.],\n",
       "       [-27.,   3.,  15.,  42.],\n",
       "       [-36.,  -8.,   8.,  36.],\n",
       "       [-42., -15.,  -3.,  27.],\n",
       "       [ 12.,  31., -11.,  11.],\n",
       "       [ 11.,  30.,  -2.,  19.],\n",
       "       [  5.,  26.,   5.,  26.],\n",
       "       [ -2.,  19.,  11.,  30.],\n",
       "       [-11.,  11.,  12.,  31.],\n",
       "       [-19.,   2.,  11.,  30.],\n",
       "       [-26.,  -5.,   5.,  26.],\n",
       "       [-30., -11.,  -2.,  19.],\n",
       "       [  9.,  22.,  -8.,   8.],\n",
       "       [  7.,  21.,  -2.,  14.],\n",
       "       [  4.,  18.,   4.,  18.],\n",
       "       [ -2.,  14.,   7.,  21.],\n",
       "       [ -8.,   8.,   9.,  22.],\n",
       "       [-14.,   2.,   7.,  21.],\n",
       "       [-18.,  -4.,   4.,  18.],\n",
       "       [-21.,  -7.,  -2.,  14.],\n",
       "       [  6.,  16.,  -6.,   6.],\n",
       "       [  5.,  15.,  -1.,  10.],\n",
       "       [  2.,  13.,   2.,  13.],\n",
       "       [ -1.,  10.,   5.,  15.],\n",
       "       [ -6.,   6.,   6.,  16.],\n",
       "       [-10.,   1.,   5.,  15.],\n",
       "       [-13.,  -2.,   2.,  13.],\n",
       "       [-15.,  -5.,  -1.,  10.],\n",
       "       [  4.,  11.,  -4.,   4.],\n",
       "       [  3.,  11.,  -1.,   7.],\n",
       "       [  2.,   9.,   2.,   9.],\n",
       "       [ -1.,   7.,   3.,  11.],\n",
       "       [ -4.,   4.,   4.,  11.],\n",
       "       [ -7.,   1.,   3.,  11.],\n",
       "       [ -9.,  -2.,   2.,   9.],\n",
       "       [-11.,  -3.,  -1.,   7.]])"
      ]
     },
     "execution_count": 57,
     "metadata": {},
     "output_type": "execute_result"
    }
   ],
   "source": [
    "arrEnvelopes"
   ]
  },
  {
   "cell_type": "code",
   "execution_count": 234,
   "id": "299a1501-3a6b-4078-96f4-498a2e87a275",
   "metadata": {},
   "outputs": [
    {
     "data": {
      "text/plain": [
       "[124, 124]"
      ]
     },
     "execution_count": 234,
     "metadata": {},
     "output_type": "execute_result"
    }
   ],
   "source": [
    "np.squeeze(arrMRespSize[0]).tolist()"
   ]
  },
  {
   "cell_type": "code",
   "execution_count": 227,
   "id": "a014c68b-2f48-481a-91c0-1fefb1c91ba3",
   "metadata": {},
   "outputs": [
    {
     "data": {
      "text/plain": [
       "[124, 124]"
      ]
     },
     "execution_count": 227,
     "metadata": {},
     "output_type": "execute_result"
    }
   ],
   "source": [
    "arrMRespSize[0].flatten().tolist()"
   ]
  },
  {
   "cell_type": "code",
   "execution_count": 243,
   "id": "6d11f20d-3794-447c-ac55-4748db9fdf86",
   "metadata": {},
   "outputs": [],
   "source": [
    "a = np.zeros((8, np.squeeze(arrMRespSize[0])[0], np.squeeze(arrMRespSize[0])[1]))\n"
   ]
  },
  {
   "cell_type": "code",
   "execution_count": 75,
   "id": "a4d12980-44c9-4189-a198-5684ee544fa6",
   "metadata": {},
   "outputs": [
    {
     "data": {
      "text/plain": [
       "(134, 134)"
      ]
     },
     "execution_count": 75,
     "metadata": {},
     "output_type": "execute_result"
    }
   ],
   "source": [
    "fimg.shape"
   ]
  },
  {
   "cell_type": "code",
   "execution_count": 94,
   "id": "988c456d-52cf-49ed-b887-3209918ffcb6",
   "metadata": {},
   "outputs": [
    {
     "data": {
      "text/plain": [
       "array([25, 26, 27, 28, 29, 30, 31, 32, 33, 34, 35, 36, 37, 38, 39, 40, 41,\n",
       "       42, 43, 44, 45, 46, 47, 48, 49, 50, 51, 52, 53, 54, 55, 56, 57, 58,\n",
       "       59, 60, 61, 62])"
      ]
     },
     "execution_count": 94,
     "metadata": {},
     "output_type": "execute_result"
    }
   ],
   "source": [
    "xx"
   ]
  },
  {
   "cell_type": "code",
   "execution_count": 95,
   "id": "35c54695-3d9d-4a6e-8ca6-c7699d74f4a1",
   "metadata": {},
   "outputs": [
    {
     "data": {
      "text/plain": [
       "array([113, 114, 115, 116, 117, 118, 119, 120, 121, 122, 123, 124, 125,\n",
       "       126, 127, 128, 129, 130, 131, 132, 133,   0,   1,   2,   3,   4,\n",
       "         5,   6,   7,   8,   9,  10,  11,  12,  13,  14,  15,  16,  17,\n",
       "        18,  19,  20,  21])"
      ]
     },
     "execution_count": 95,
     "metadata": {},
     "output_type": "execute_result"
    }
   ],
   "source": [
    "yy"
   ]
  },
  {
   "cell_type": "code",
   "execution_count": 96,
   "id": "02799bcc-89ca-46b8-8fbc-2ae511e0e627",
   "metadata": {},
   "outputs": [
    {
     "data": {
      "text/plain": [
       "array([25, 26, 27, 28, 29, 30, 31, 32, 33, 34, 35, 36, 37, 38, 39, 40, 41,\n",
       "       42, 43, 44, 45, 46, 47, 48, 49, 50, 51, 52, 53, 54, 55, 56, 57, 58,\n",
       "       59, 60, 61, 62])"
      ]
     },
     "execution_count": 96,
     "metadata": {},
     "output_type": "execute_result"
    }
   ],
   "source": [
    "xx_z"
   ]
  },
  {
   "cell_type": "code",
   "execution_count": 97,
   "id": "0c16c97d-b720-4233-876b-73368b934ed9",
   "metadata": {},
   "outputs": [
    {
     "data": {
      "text/plain": [
       "array([103, 104, 105, 106, 107, 108, 109, 110, 111, 112, 113, 114, 115,\n",
       "       116, 117, 118, 119, 120, 121, 122, 123,   0,   1,   2,   3,   4,\n",
       "         5,   6,   7,   8,   9,  10,  11,  12,  13,  14,  15,  16,  17,\n",
       "        18,  19,  20,  21])"
      ]
     },
     "execution_count": 97,
     "metadata": {},
     "output_type": "execute_result"
    }
   ],
   "source": [
    "yy_z"
   ]
  },
  {
   "cell_type": "code",
   "execution_count": 68,
   "id": "f4953f55-9716-4fe1-978f-5467d9a59740",
   "metadata": {},
   "outputs": [
    {
     "data": {
      "text/plain": [
       "(43,)"
      ]
     },
     "execution_count": 68,
     "metadata": {},
     "output_type": "execute_result"
    }
   ],
   "source": [
    "np.take(fimg, yy_z).shape"
   ]
  },
  {
   "cell_type": "code",
   "execution_count": 84,
   "id": "1066c2c0-6e39-4b9a-a4ca-b1b64d3d08e5",
   "metadata": {},
   "outputs": [
    {
     "data": {
      "text/plain": [
       "()"
      ]
     },
     "metadata": {},
     "output_type": "display_data"
    },
    {
     "data": {
      "text/plain": [
       "(134,)"
      ]
     },
     "metadata": {},
     "output_type": "display_data"
    }
   ],
   "source": [
    "Ni, Nk = fimg.shape[:0], fimg.shape[1:]\n",
    "\n",
    "display(Ni, Nk)"
   ]
  },
  {
   "cell_type": "code",
   "execution_count": 91,
   "id": "62c7c108-ec5c-4222-8038-26ffa404dd34",
   "metadata": {},
   "outputs": [
    {
     "data": {
      "text/plain": [
       "(134, 134)"
      ]
     },
     "execution_count": 91,
     "metadata": {},
     "output_type": "execute_result"
    }
   ],
   "source": [
    "fimg.shape"
   ]
  },
  {
   "cell_type": "code",
   "execution_count": 99,
   "id": "3b6443c3-b758-45de-91bc-302cd8ce66e3",
   "metadata": {},
   "outputs": [],
   "source": [
    "fimgtest = np.zeros((len(yy),len(xx)), dtype=np.complex_)\n",
    "\n",
    "for y in range(0,len(yy)):\n",
    "    for x in range(0,len(xx)):\n",
    "        xf2 = xx[x] \n",
    "        yf2 = yy[y] \n",
    "\n",
    "        fimgtest[y,x] = fimg[yf2,xf2]"
   ]
  },
  {
   "cell_type": "code",
   "execution_count": 104,
   "id": "15f04eba-4632-483a-a879-03a1946f186c",
   "metadata": {},
   "outputs": [
    {
     "data": {
      "text/plain": [
       "(43, 38)"
      ]
     },
     "execution_count": 104,
     "metadata": {},
     "output_type": "execute_result"
    }
   ],
   "source": [
    "fimgtest.shape"
   ]
  },
  {
   "cell_type": "code",
   "execution_count": 103,
   "id": "7ecc6c19-5cdc-4d01-856a-d7e06672e96c",
   "metadata": {},
   "outputs": [
    {
     "data": {
      "text/plain": [
       "(43, 38)"
      ]
     },
     "execution_count": 103,
     "metadata": {},
     "output_type": "execute_result"
    }
   ],
   "source": [
    "arrFreqGaborFilters[idxFreq * len(arrFreqs) + idxOrien].shape"
   ]
  },
  {
   "cell_type": "code",
   "execution_count": 107,
   "id": "61490026-2b04-4d59-82cc-5d2765ae00e8",
   "metadata": {},
   "outputs": [
    {
     "data": {
      "text/plain": [
       "array([[ 1.65653483e-04-4.56568570e-06j,  3.05952945e-04+1.19394296e-04j,\n",
       "         3.45817610e-04+1.64991642e-04j, ...,\n",
       "         1.33273185e-04-2.68203931e-04j, -7.35869771e-05+4.48434503e-05j,\n",
       "        -1.26775486e-04-1.00746745e-04j],\n",
       "       [-3.08323860e-04-1.46618463e-04j, -9.99752371e-05+1.39161777e-04j,\n",
       "         3.46378511e-04+3.03031699e-04j, ...,\n",
       "         3.90303250e-05+2.10711032e-04j,  2.35612358e-04+3.21898808e-04j,\n",
       "        -7.43716055e-05+1.90507324e-05j],\n",
       "       [-3.09800309e-05+2.31431761e-04j, -8.25043236e-05+1.53024165e-04j,\n",
       "         1.20215603e-04+7.18620764e-04j, ...,\n",
       "         5.23442421e-04-6.56447372e-04j,  3.54522989e-04-5.36167280e-04j,\n",
       "        -2.91754365e-04-1.21707462e-04j],\n",
       "       ...,\n",
       "       [ 9.61331569e-04-8.84140993e-04j,  2.24000175e-03-1.05632538e-03j,\n",
       "         3.30643435e-04-3.60375715e-04j, ...,\n",
       "         6.56761304e-04-4.72194856e-04j, -1.50087026e-05-2.59097561e-04j,\n",
       "        -4.11894770e-05+1.01697066e-05j],\n",
       "       [ 1.81202676e-04+1.00915460e-04j,  1.42564426e-03-2.79039683e-04j,\n",
       "         2.49813227e-03+8.38607057e-04j, ...,\n",
       "        -1.01171491e-04-6.09408678e-04j, -2.33597539e-05-7.62190555e-05j,\n",
       "         1.16565943e-04-5.67698066e-05j],\n",
       "       [-2.96773242e-04-1.21464033e-04j, -4.92213081e-04-6.76356762e-04j,\n",
       "        -7.81549436e-05-2.06511231e-04j, ...,\n",
       "        -1.87895792e-04-1.98968140e-04j,  1.00770038e-04-5.46956057e-06j,\n",
       "         9.63499465e-05-1.51464925e-05j]])"
      ]
     },
     "execution_count": 107,
     "metadata": {},
     "output_type": "execute_result"
    }
   ],
   "source": [
    "np.multiply(arrFreqGaborFilters[idxFreq * len(arrFreqs) + idxOrien], fimgtest)"
   ]
  },
  {
   "cell_type": "code",
   "execution_count": 112,
   "id": "469e80e0-f161-4ff0-bfd0-fad94a8d05dc",
   "metadata": {},
   "outputs": [
    {
     "data": {
      "text/plain": [
       "(-0.022573805938710546+0.1113078484395591j)"
      ]
     },
     "execution_count": 112,
     "metadata": {},
     "output_type": "execute_result"
    }
   ],
   "source": [
    "f2_[123,26]"
   ]
  },
  {
   "cell_type": "code",
   "execution_count": 113,
   "id": "bd953cc0-7a76-48f7-a289-7380322c3aae",
   "metadata": {},
   "outputs": [],
   "source": [
    "f2 = np.fft.ifftshift( np.fft.ifft2(f2_) )"
   ]
  },
  {
   "cell_type": "code",
   "execution_count": 116,
   "id": "1a2e4f1b-e9e2-4295-a765-9c303d2b8e5a",
   "metadata": {},
   "outputs": [
    {
     "data": {
      "text/plain": [
       "array([1.0806451612903225, 1.0806451612903225], dtype=object)"
      ]
     },
     "metadata": {},
     "output_type": "display_data"
    },
    {
     "data": {
      "text/plain": [
       "1.1677939646201871"
      ]
     },
     "metadata": {},
     "output_type": "display_data"
    }
   ],
   "source": [
    "display(arrMActualZoom[idxFreq])\n",
    "display(arrMActualZoom[idxFreq].prod())\n"
   ]
  },
  {
   "cell_type": "code",
   "execution_count": 117,
   "id": "913fb164-461a-4329-894e-8ed5cdd98dcd",
   "metadata": {},
   "outputs": [
    {
     "data": {
      "text/plain": [
       "array([[-1.58547778e-08+1.31532876e-08j, -1.31061562e-08-2.48587902e-09j,\n",
       "        -9.25278744e-09-1.83171743e-08j, ...,\n",
       "         5.98904339e-09-1.91501199e-08j,  1.66324334e-08-7.10581257e-09j,\n",
       "         1.49302043e-08+1.94485026e-08j],\n",
       "       [-5.95853596e-08+3.39320569e-08j, -4.69807976e-08-2.28118787e-08j,\n",
       "         4.17339176e-09-7.31914833e-08j, ...,\n",
       "         3.13360229e-08-5.53476936e-08j,  5.52083248e-08-1.17925924e-08j,\n",
       "         3.54053019e-08+7.03330268e-08j],\n",
       "       [-1.54910278e-07+7.55187044e-08j, -1.07451891e-07-6.23810623e-08j,\n",
       "         1.56957697e-08-1.81437669e-07j, ...,\n",
       "         8.94670205e-08-1.32236240e-07j,  1.30072638e-07-1.97518199e-08j,\n",
       "         8.21269778e-08+1.74759223e-07j],\n",
       "       ...,\n",
       "       [-4.56760280e-09-2.00269520e-09j, -3.68929315e-09-7.47125060e-09j,\n",
       "         1.34925805e-08-6.39269789e-09j, ...,\n",
       "         5.14016909e-09-9.16448008e-11j,  3.81613812e-09+5.34103415e-09j,\n",
       "        -5.52885389e-09+4.84920973e-09j],\n",
       "       [-1.15183654e-09-3.61821013e-09j,  3.36422809e-09-4.41776044e-09j,\n",
       "         3.55945442e-09+3.39291517e-09j, ...,\n",
       "         3.59544985e-09+1.33114167e-09j, -6.50722393e-10+6.86688639e-09j,\n",
       "        -6.24950806e-09-1.25484418e-09j],\n",
       "       [-9.38433105e-10+1.19996045e-09j,  2.75734849e-09+9.60057212e-10j,\n",
       "        -8.93688337e-09+4.01529835e-09j, ...,\n",
       "         5.24995452e-10-3.09777591e-09j,  5.44850922e-10+7.76984899e-10j,\n",
       "         1.51174086e-09-5.02963476e-10j]])"
      ]
     },
     "execution_count": 117,
     "metadata": {},
     "output_type": "execute_result"
    }
   ],
   "source": [
    "np.divide(f2, arrMActualZoom[idxFreq].prod())"
   ]
  },
  {
   "cell_type": "code",
   "execution_count": 118,
   "id": "bcd27545-d29b-4858-a141-9c3a1074ade5",
   "metadata": {},
   "outputs": [
    {
     "name": "stdout",
     "output_type": "stream",
     "text": [
      "0\n",
      "0\n"
     ]
    }
   ],
   "source": [
    "arrMFreqs = np.zeros(len(arrFreqs))\n",
    "arrCustomPoints = []\n",
    "arrMResps = [None]*len(arrFreqs)\n",
    "arrMFreqZooms = np.zeros(len(arrFreqs))\n",
    "for idxFreq in range(0,1):\n",
    "    print(idxFreq)\n",
    "    f0 = arrFreqs[idxFreq]\n",
    "    \n",
    "    arrMFreqs[idxFreq] = f0\n",
    "    \n",
    "    # zero memory for filter responses, each frequency is of different size now \n",
    "    if not arrCustomPoints:\n",
    "        arrMResps[idxFreq] = np.zeros((len(arrOries), np.squeeze(arrMRespSize[0])[1], np.squeeze(arrMRespSize[0])[0]))\n",
    "        \n",
    "        # loop through orientations\n",
    "        for idxOrien in range(0,1):\n",
    "            print(idxOrien)\n",
    "            a = arrEnvelopes[idxFreq * len(arrFreqs) + idxOrien]\n",
    "            \n",
    "            fhigh = arrFHighs[idxFreq * len(arrFreqs) + idxOrien]\n",
    "            \n",
    "            arrMFreqZooms[idxFreq] = arrMZooms[idxFreq]\n",
    "            \n",
    "            f2_ = np.zeros((arrMRespSize[idxFreq, 1] , arrMRespSize[idxFreq, 0]), dtype=np.complex_)\n",
    "            \n",
    "            lx = a[1]-a[0];\n",
    "            ly = a[3]-a[2];\n",
    "            \n",
    "            # coordinates for the filter area in filtered fullsize image\n",
    "            xx = np.int32(np.mod( np.arange(0, lx + 1) + a[0] + arrMN[0] , arrMN[0] ) + 1) - 1;\n",
    "            yy = np.int32(np.mod( np.arange(0, ly + 1) + a[2] + arrMN[1] , arrMN[1] ) + 1) - 1;\n",
    "            \n",
    "            # coordinates for the filter area in downscaled response image\n",
    "            xx_z = np.int32(np.mod( np.arange(0, lx + 1) + a[0] + arrMRespSize[idxFreq, 0], arrMRespSize[idxFreq, 0]));\n",
    "            yy_z = np.int32(np.mod( np.arange(0, ly + 1) + a[2] + arrMRespSize[idxFreq, 1], arrMRespSize[idxFreq, 1]));\n",
    "            \n",
    "            fs = np.zeros((len(yy),len(xx)), dtype=np.complex_)\n",
    "            for y in range(0,len(yy)):\n",
    "                for x in range(0,len(xx)):\n",
    "                    xf2 = xx[x] \n",
    "                    yf2 = yy[y] \n",
    "                    fs[y,x] = fimg[yf2,xf2]\n",
    "                    \n",
    "            multifsgb = np.multiply(arrFreqGaborFilters[idxFreq * len(arrFreqs) + idxOrien], fs)\n",
    "            \n",
    "            for y in range(0,len(yy_z)):\n",
    "                for x in range(0,len(xx_z)):\n",
    "                    xf2 = xx_z[x] \n",
    "                    yf2 = yy_z[y] \n",
    "                    f2_[yf2,xf2] = multifsgb[y,x]\n",
    "            \n",
    "            arrMResps[idxFreq] = np.divide(np.fft.ifftshift( np.fft.ifft2(f2_) ), arrMActualZoom[idxFreq].prod())"
   ]
  },
  {
   "cell_type": "code",
   "execution_count": 121,
   "id": "dcb348ad-d314-4d9e-a63d-b8cfc0994384",
   "metadata": {},
   "outputs": [
    {
     "ename": "AttributeError",
     "evalue": "'NoneType' object has no attribute 'shape'",
     "output_type": "error",
     "traceback": [
      "\u001b[1;31m---------------------------------------------------------------------------\u001b[0m",
      "\u001b[1;31mAttributeError\u001b[0m                            Traceback (most recent call last)",
      "Cell \u001b[1;32mIn[121], line 1\u001b[0m\n\u001b[1;32m----> 1\u001b[0m \u001b[43marrMResps\u001b[49m\u001b[43m[\u001b[49m\u001b[38;5;241;43m1\u001b[39;49m\u001b[43m]\u001b[49m\u001b[38;5;241;43m.\u001b[39;49m\u001b[43mshape\u001b[49m\n",
      "\u001b[1;31mAttributeError\u001b[0m: 'NoneType' object has no attribute 'shape'"
     ]
    }
   ],
   "source": [
    "arrMResps[1].shape"
   ]
  },
  {
   "cell_type": "code",
   "execution_count": 205,
   "id": "9db11828-ee01-4025-a704-955d2268c2e3",
   "metadata": {},
   "outputs": [],
   "source": [
    "arrMFreqs = np.zeros(len(arrFreqs))\n",
    "arrCustomPoints = []\n",
    "# arrMResps = np.zeros(len(arrFreqs))\n",
    "arrMFreqZooms = np.zeros(len(arrFreqs))\n",
    "for idxFreq in range(len(arrFreqs)):\n",
    "    f0 = arrFreqs[idxFreq]\n",
    "    \n",
    "    arrMFreqs[idxFreq] = f0\n",
    "    \n",
    "    # zero memory for filter responses, each frequency is of different size now \n",
    "    if not arrCustomPoints:\n",
    "        arrMResps[idxFreq] = np.zeros((len(arrOries), np.squeeze(arrMRespSize[0])[1], np.squeeze(arrMRespSize[0])[0]))\n",
    "        \n",
    "        # loop through orientations\n",
    "        for idxOrien = in range(len(arrOries)):\n",
    "            a = arrEnvelopes[idxFreq * len(arrFreqs) + idxOrien]\n",
    "            \n",
    "            fhigh = arrFHighs[idxFreq * len(arrFreqs) + idxOrien]\n",
    "            \n",
    "            arrMFreqZooms[idxFreq] = arrMZooms[idxFreq]\n",
    "            \n",
    "            f2_ = np.zeros(arrMRespSize[idxFreq, 1] , arrMRespSize[idxFreq, 0], dtype=np.float64);\n",
    "            \n",
    "            lx = a[1]-a[0];\n",
    "            ly = a[3]-a[2];\n",
    "            \n",
    "            # coordinates for the filter area in filtered fullsize image\n",
    "            xx=mod( (0:lx) + a(1) + N(1) , N(1) ) + 1;\n",
    "            yy=mod( (0:ly) + a(3) + N(2) , N(2) ) + 1;\n",
    "            \n",
    "            xx = np.int32(np.mod( np.arange(0, lx + 1) + a[0] + arrMN[0] , arrMN[0] ) + 1)-1;\n",
    "            yy = np.int32(np.mod( np.arange(0, ly + 1) + a[2] + arrMN[1] , arrMN[1] ) + 1)-1;\n",
    "            \n",
    "            # coordinates for the filter area in downscaled response image\n",
    "            xx_z = np.int32(np.mod( np.arange(0, lx + 1) + a[0] + arrMRespSize[find,0], arrMRespSize[find,0])) + 1;\n",
    "            yy_z = np.int32(np.mod( np.arange(0, ly + 1) + a[2] + arrMRespSize[find,1], arrMRespSize[find,1])) + 1;\n",
    "            \n",
    "            # filter the image\n",
    "            # f2_(yy_z,xx_z) = bank.freq{find}.orient{oind}.filter .* fs(yy,xx);\n",
    "            np.matmul(arrFreqGaborFilters[idxFreq * len(arrFreqs) + idxOrien]\n",
    "            for y in range(0,len(yy_z)):\n",
    "                for x in range(0,len(xx_z)):\n",
    "                    xf2 = xx_z[x] \n",
    "                    yf2 = yy_z[y] \n",
    "\n",
    "                    f2_[yf2,xf2] = FrequencyGaborFilter[y,x]\n",
    "            \n",
    "#     f2_ = np.zeros((M2,M1), dtype=np.float64)\n",
    "    \n",
    "#     for y in range(0,len(yy)):\n",
    "#         for x in range(0,len(xx)):\n",
    "#             xf2 = xx[x] \n",
    "#             yf2 = yy[y] \n",
    "\n",
    "#             f2_[yf2,xf2] = FrequencyGaborFilter[y,x]\n",
    "            \n",
    "    # f2 = np.fft.ifftshift( np.fft.ifft2(f2_) )"
   ]
  },
  {
   "cell_type": "code",
   "execution_count": 192,
   "id": "e6289fe3-4b16-46e5-a8af-7d59f3145829",
   "metadata": {},
   "outputs": [],
   "source": [
    "# perform the filtering\n",
    "\n",
    "fimg = np.fft.fft2(np.fft.ifftshift(img_as_float(img)));"
   ]
  },
  {
   "cell_type": "code",
   "execution_count": 193,
   "id": "38c8060c-6e6b-4344-98a1-785090cdf0b4",
   "metadata": {},
   "outputs": [
    {
     "data": {
      "text/plain": [
       "(134, 134)"
      ]
     },
     "execution_count": 193,
     "metadata": {},
     "output_type": "execute_result"
    }
   ],
   "source": [
    "fimg.shape"
   ]
  },
  {
   "cell_type": "code",
   "execution_count": 199,
   "id": "1f67f230-5d7e-4ff8-8003-9e3f68d4bb19",
   "metadata": {},
   "outputs": [
    {
     "data": {
      "text/plain": [
       "array([ 1.68877804e+04  +0.j        , -7.25112051e+02-164.21490949j,\n",
       "       -1.88263114e+02 -65.59557984j,  4.91296329e+01 +52.42975997j,\n",
       "        6.48958339e+01 +69.53074402j,  2.25280403e+01  +3.34704139j,\n",
       "        1.50969625e+01 -54.83903663j,  1.05861517e+01 -22.49983091j,\n",
       "        4.05698938e+00 +18.81036894j,  1.97934598e+00  +9.24255004j])"
      ]
     },
     "execution_count": 199,
     "metadata": {},
     "output_type": "execute_result"
    }
   ],
   "source": [
    "fimg[0:10,0]\n"
   ]
  },
  {
   "cell_type": "code",
   "execution_count": 191,
   "id": "7316a6b3-dcec-4a37-a4c9-1b59a66a73bd",
   "metadata": {},
   "outputs": [],
   "source": [
    "imgttt = img_as_float(img)"
   ]
  },
  {
   "cell_type": "code",
   "execution_count": 190,
   "id": "5f333714-3c7d-4714-85bc-c11bfe8c230c",
   "metadata": {},
   "outputs": [
    {
     "data": {
      "text/plain": [
       "array([[1., 1., 1., ..., 1., 1., 1.],\n",
       "       [1., 1., 1., ..., 1., 1., 1.],\n",
       "       [1., 1., 1., ..., 1., 1., 1.],\n",
       "       ...,\n",
       "       [1., 1., 1., ..., 1., 1., 1.],\n",
       "       [1., 1., 1., ..., 1., 1., 1.],\n",
       "       [1., 1., 1., ..., 1., 1., 1.]])"
      ]
     },
     "execution_count": 190,
     "metadata": {},
     "output_type": "execute_result"
    }
   ],
   "source": [
    "imgttt"
   ]
  },
  {
   "cell_type": "code",
   "execution_count": null,
   "id": "f07eac4c-8ee5-4276-8746-4f470aca0bcc",
   "metadata": {},
   "outputs": [],
   "source": []
  }
 ],
 "metadata": {
  "kernelspec": {
   "display_name": "Python [conda env:image_processing]",
   "language": "python",
   "name": "conda-env-image_processing-py"
  },
  "language_info": {
   "codemirror_mode": {
    "name": "ipython",
    "version": 3
   },
   "file_extension": ".py",
   "mimetype": "text/x-python",
   "name": "python",
   "nbconvert_exporter": "python",
   "pygments_lexer": "ipython3",
   "version": "3.9.16"
  },
  "toc-showmarkdowntxt": false
 },
 "nbformat": 4,
 "nbformat_minor": 5
}
