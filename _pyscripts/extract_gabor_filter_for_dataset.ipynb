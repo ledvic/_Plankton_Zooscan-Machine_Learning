{
 "cells": [
  {
   "cell_type": "code",
   "execution_count": 18,
   "metadata": {},
   "outputs": [],
   "source": [
    "import numpy as np\n",
    "\n",
    "from gabor_filters._my_custom_utils import solve_filter_parameters\n"
   ]
  },
  {
   "cell_type": "code",
   "execution_count": 14,
   "metadata": {},
   "outputs": [
    {
     "ename": "NameError",
     "evalue": "name 'np' is not defined",
     "output_type": "error",
     "traceback": [
      "\u001b[1;31m---------------------------------------------------------------------------\u001b[0m",
      "\u001b[1;31mNameError\u001b[0m                                 Traceback (most recent call last)",
      "Cell \u001b[1;32mIn[14], line 1\u001b[0m\n\u001b[1;32m----> 1\u001b[0m \u001b[39mdef\u001b[39;00m \u001b[39mcreate_a_set_of_gabo_filters\u001b[39m(fmax\u001b[39m=\u001b[39m\u001b[39m0.327\u001b[39m, k\u001b[39m=\u001b[39mnp\u001b[39m.\u001b[39msqrt(\u001b[39m2\u001b[39m), p\u001b[39m=\u001b[39m\u001b[39m0.5\u001b[39m, u\u001b[39m=\u001b[39m\u001b[39m6\u001b[39m, v\u001b[39m=\u001b[39m\u001b[39m8\u001b[39m, row\u001b[39m=\u001b[39m\u001b[39m43\u001b[39m, col\u001b[39m=\u001b[39m\u001b[39m43\u001b[39m):\n\u001b[0;32m      2\u001b[0m \u001b[39m#     row=43, col=43 # size of image\u001b[39;00m\n\u001b[0;32m      3\u001b[0m \u001b[39m#     fmax = 0.327 # maximum frequency\u001b[39;00m\n\u001b[0;32m      4\u001b[0m \n\u001b[0;32m      5\u001b[0m \u001b[39m#     k = np.sqrt(2) #frequency ratio or factor for selecting filter frequencies\u001b[39;00m\n\u001b[0;32m      6\u001b[0m \n\u001b[0;32m      7\u001b[0m \u001b[39m#     p = 0.5 # crossing point between two consecutive filters, default 0.5\u001b[39;00m\n\u001b[0;32m      8\u001b[0m \u001b[39m#     # pf = np.sqrt(0.99) #energy to include in the filters\u001b[39;00m\n\u001b[0;32m      9\u001b[0m \n\u001b[0;32m     10\u001b[0m \u001b[39m#     u = 6 #number of frequencies\u001b[39;00m\n\u001b[0;32m     11\u001b[0m \u001b[39m#     v = 8 #number of orientation\u001b[39;00m\n\u001b[0;32m     13\u001b[0m     gamma, eta \u001b[39m=\u001b[39m solve_filter_parameters(k, p, u, v) \u001b[39m# smoothing parameters\u001b[39;00m\n\u001b[0;32m     15\u001b[0m     GaborFilterBank \u001b[39m=\u001b[39m [\u001b[39mNone\u001b[39;00m]\u001b[39m*\u001b[39mu\u001b[39m*\u001b[39mv \n",
      "\u001b[1;31mNameError\u001b[0m: name 'np' is not defined"
     ]
    }
   ],
   "source": [
    "def create_a_set_of_gabo_filters(fmax=0.327, k=np.sqrt(2), p=0.5, u=6, v=8, row=43, col=43):\n",
    "#     row=43, col=43 # size of image\n",
    "#     fmax = 0.327 # maximum frequency\n",
    "\n",
    "#     k = np.sqrt(2) #frequency ratio or factor for selecting filter frequencies\n",
    "\n",
    "#     p = 0.5 # crossing point between two consecutive filters, default 0.5\n",
    "#     # pf = np.sqrt(0.99) #energy to include in the filters\n",
    "\n",
    "#     u = 6 #number of frequencies\n",
    "#     v = 8 #number of orientation\n",
    "\n",
    "    gamma, eta = solve_filter_parameters(k, p, u, v) # smoothing parameters\n",
    "\n",
    "    GaborFilterBank = [None]*u*v \n",
    "      \n",
    "    for i in range(0,u):\n",
    "        fu = fmax/k**i # frequency of the filter\n",
    "        for j in range(0,v):\n",
    "            theta = j/v*np.pi; # orientation of the filter \n",
    "\n",
    "            GaborFilterIJ = GaborFilter()\n",
    "            GaborFilterIJ.frequency = fu\n",
    "            GaborFilterIJ.orientation = theta\n",
    "            GaborFilterIJ.compute_a_gabor_filter(gamma, eta, row, col) \n",
    "\n",
    "            # GaborFilterIJ.showParameters()\n",
    "\n",
    "            GaborFilterBank[i*v+j] = GaborFilterIJ\n",
    "    \n",
    "    return GaborFilterBank"
   ]
  },
  {
   "cell_type": "code",
   "execution_count": null,
   "metadata": {},
   "outputs": [],
   "source": []
  }
 ],
 "metadata": {
  "kernelspec": {
   "display_name": "image_processing",
   "language": "python",
   "name": "python3"
  },
  "language_info": {
   "codemirror_mode": {
    "name": "ipython",
    "version": 3
   },
   "file_extension": ".py",
   "mimetype": "text/x-python",
   "name": "python",
   "nbconvert_exporter": "python",
   "pygments_lexer": "ipython3",
   "version": "3.9.16"
  },
  "orig_nbformat": 4
 },
 "nbformat": 4,
 "nbformat_minor": 2
}
