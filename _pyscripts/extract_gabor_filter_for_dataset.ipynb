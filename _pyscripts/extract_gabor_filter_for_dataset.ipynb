{
 "cells": [
  {
   "cell_type": "code",
   "execution_count": 21,
   "metadata": {},
   "outputs": [],
   "source": [
    "import numpy as np\n",
    "import pandas as pd \n",
    "\n",
    "\n",
    "from skimage import io\n",
    "\n",
    "import matplotlib.pyplot as plt\n",
    "\n",
    "import gabor_filters\n",
    "from  gabor_filters import gabor_filter\n",
    "from  gabor_filters import gabor_filter_response\n",
    "\n",
    "from gabor_filters.gabor_filter import GaborFilter as gb\n",
    "from gabor_filters.gabor_filter import GaborFilterBank as gbb\n",
    "\n",
    "from gabor_filters.gabor_filter_response import GaborFilterResponse as gbfr\n",
    "from gabor_filters.gabor_filter_response import GaborFilteredResponseBank as gbfrb\n",
    "\n",
    "import importlib\n",
    "importlib.reload(gabor_filters)\n",
    "# importlib.reload(gabor_filters.gabor_filter_response)\n",
    "\n",
    "from gabor_filters.gabor_filter import GaborFilter as gb\n",
    "from gabor_filters.gabor_filter import GaborFilterBank as gbb\n",
    "\n",
    "\n",
    "from gabor_filters.gabor_filter_response import GaborFilterResponse as gbfr\n",
    "from gabor_filters.gabor_filter_response import GaborFilteredResponseBank as gbfrb"
   ]
  },
  {
   "cell_type": "code",
   "execution_count": 1,
   "metadata": {},
   "outputs": [
    {
     "name": "stdout",
     "output_type": "stream",
     "text": [
      "3.8.16\n",
      "0.19.2\n"
     ]
    }
   ],
   "source": [
    "import os\n",
    "\n",
    "import pandas as pd\n",
    "\n",
    "import numpy as np\n",
    "from numpy import random\n",
    "\n",
    "from random import sample\n",
    "\n",
    "import matplotlib.pyplot as plt\n",
    "\n",
    "import skimage\n",
    "from skimage import io\n",
    "from skimage.feature import daisy, hog, ORB, local_binary_pattern, SIFT\n",
    "from skimage.color import label2rgb, rgb2gray\n",
    "from skimage.transform import resize, rotate, downscale_local_mean\n",
    "\n",
    "from scipy import ndimage as ndi\n",
    "from skimage.util import img_as_float\n",
    "from skimage.filters import gabor_kernel\n",
    "\n",
    "from sklearn.cluster import MiniBatchKMeans\n",
    "from sklearn.decomposition import PCA\n",
    "from sklearn import preprocessing\n",
    "from skimage import exposure\n",
    "\n",
    "# from tqdm import tqdm\n",
    "\n",
    "import gc\n",
    "\n",
    "from joblib import Parallel, delayed\n",
    "\n",
    "from platform import python_version\n",
    "\n",
    "print(python_version())\n",
    "\n",
    "print(skimage.__version__)\n",
    "\n",
    "from sklearn.preprocessing import Normalizer\n",
    "from matplotlib.ticker import MaxNLocator\n",
    "from sklearn.preprocessing import StandardScaler"
   ]
  },
  {
   "cell_type": "code",
   "execution_count": null,
   "metadata": {},
   "outputs": [],
   "source": [
    "def extract_hog_from_filepath(filepath):\n",
    "    # read image from its path\n",
    "    img = io.imread(filepath, as_gray=True)\n",
    "    \n",
    "    # resize the image for obtaining the same length of HOG feature \n",
    "    img_r = (resize(img,(256,256))*255).astype(np.uint8)\n",
    "    \n",
    "    # extract hog feature\n",
    "    hog_feature = hog(img_r, orientations=8, pixels_per_cell=(16, 16),cells_per_block=(1, 1), visualize=False, feature_vector=True)\n",
    "    \n",
    "    #normalization\n",
    "    # hog_feature=hog_feature/np.linalg.norm(hog_feature)\n",
    "    \n",
    "    return hog_feature\n",
    "\n",
    "def extract_hog(dfDataset):\n",
    "        \n",
    "    HOG_features = Parallel(n_jobs=-5)(\n",
    "                    delayed(extract_hog_from_filepath)(filepath) for filepath in tqdm(dfDataset['filenames'], position=1, desc='Extract HOG')\n",
    "                )\n",
    "    \n",
    "    HOG_list=np.vstack(HOG_features)\n",
    "    \n",
    "    return HOG_list"
   ]
  },
  {
   "attachments": {},
   "cell_type": "markdown",
   "metadata": {},
   "source": [
    "## 4.2. main()\n",
    "\n",
    "### 4.2.1. For fold 1\n",
    "#### 1. Read path of fold 1 file"
   ]
  },
  {
   "cell_type": "code",
   "execution_count": null,
   "metadata": {},
   "outputs": [],
   "source": [
    "dfFoldTraining_1 = pd.read_csv('..//_inputs//_images_Zooscan//_Zooscan-training-fold_1.csv')\n",
    "dfFoldValidation_1 = pd.read_csv('..//_inputs//_images_Zooscan//_Zooscan-validation-fold_1.csv')"
   ]
  },
  {
   "attachments": {},
   "cell_type": "markdown",
   "metadata": {},
   "source": [
    "#### 2. Extracting HOG feature for the training set"
   ]
  },
  {
   "cell_type": "code",
   "execution_count": null,
   "metadata": {},
   "outputs": [
    {
     "data": {
      "application/vnd.jupyter.widget-view+json": {
       "model_id": "41da415a27e44340bc07967da7c4e288",
       "version_major": 2,
       "version_minor": 0
      },
      "text/plain": [
       "Extract HOG:   0%|          | 0/44099 [00:00<?, ?it/s]"
      ]
     },
     "metadata": {},
     "output_type": "display_data"
    }
   ],
   "source": [
    "HOG_list = extract_hog(dfFoldTraining_1)"
   ]
  },
  {
   "cell_type": "code",
   "execution_count": null,
   "metadata": {},
   "outputs": [],
   "source": [
    "# create a standard deviation normalization for later uses\n",
    "train_std_norm = StandardScaler().fit(HOG_list)"
   ]
  },
  {
   "cell_type": "code",
   "execution_count": null,
   "metadata": {},
   "outputs": [],
   "source": [
    "# Standard deviation normalization\n",
    "HOG_list_std = train_std_norm.transform(HOG_list)"
   ]
  },
  {
   "cell_type": "code",
   "execution_count": null,
   "metadata": {},
   "outputs": [
    {
     "data": {
      "text/plain": [
       "array([[-0.05010858, -0.03541166, -0.04601461, ..., -0.07276438,\n",
       "        -0.08904395, -0.07078106],\n",
       "       [-0.05010858, -0.03541166, -0.04601461, ..., -0.07276438,\n",
       "        -0.08904395, -0.07078106],\n",
       "       [-0.05010858, -0.03541166, -0.04601461, ..., -0.07276438,\n",
       "        -0.08904395, -0.07078106],\n",
       "       ...,\n",
       "       [-0.05010858, -0.03541166, -0.04601461, ..., -0.07276438,\n",
       "        -0.08904395, -0.07078106],\n",
       "       [-0.05010858, -0.03541166, -0.04601461, ..., -0.07276438,\n",
       "        -0.08904395, -0.07078106],\n",
       "       [-0.05010858, -0.03541166, -0.04601461, ..., -0.07276438,\n",
       "        -0.08904395, -0.07078106]])"
      ]
     },
     "metadata": {},
     "output_type": "display_data"
    }
   ],
   "source": [
    "display(HOG_list_std)"
   ]
  },
  {
   "cell_type": "code",
   "execution_count": null,
   "metadata": {},
   "outputs": [
    {
     "name": "stdout",
     "output_type": "stream",
     "text": [
      "Total HOG features: (44099, 2048)\n"
     ]
    }
   ],
   "source": [
    "print('Total HOG features:',(HOG_list_std.shape))"
   ]
  },
  {
   "attachments": {},
   "cell_type": "markdown",
   "metadata": {},
   "source": [
    "#### 3. PCA analysis on the training set"
   ]
  },
  {
   "cell_type": "code",
   "execution_count": null,
   "metadata": {},
   "outputs": [],
   "source": [
    "pca_HOG_std = PCA().fit(HOG_list_std)"
   ]
  },
  {
   "attachments": {},
   "cell_type": "markdown",
   "metadata": {},
   "source": [
    "##### 3.1. Plot PCA components and CEV\n",
    "\n",
    "From this, we can know number of components to keep"
   ]
  },
  {
   "cell_type": "code",
   "execution_count": null,
   "metadata": {},
   "outputs": [
    {
     "data": {
      "text/plain": [
       "Text(0.5, 1.0, 'PCA analysis on HOG features of training set')"
      ]
     },
     "metadata": {},
     "output_type": "display_data"
    },
    {
     "data": {
      "image/png": "[encoded data removed]",
      "text/plain": [
       "<Figure size 1000x500 with 1 Axes>"
      ]
     },
     "metadata": {},
     "output_type": "display_data"
    }
   ],
   "source": [
    "fig, ax = plt.subplots(figsize=(10, 5), tight_layout=True)\n",
    "\n",
    "ax.plot(np.cumsum(pca_HOG_std.explained_variance_ratio_)*100, linewidth=2)\n",
    "ax.grid(color='r', linestyle='--', linewidth=1)\n",
    "\n",
    "ax.set_xlabel('Number of components')\n",
    "ax.set_ylabel('Cumulative explained variance');\n",
    "\n",
    "ax.set_yticks(np.arange(0,105,5))\n",
    "ax.set_xticks(np.arange(0,HOG_list.shape[1],100))\n",
    "\n",
    "ax.axhline(y=90, linewidth=3, color='g', alpha=0.5)\n",
    "\n",
    "# ax.plot(800, 91, marker=\"o\", markersize=10, markeredgecolor=\"red\", markerfacecolor=\"green\")\n",
    "\n",
    "ax.set_title(\"PCA analysis on HOG features of training set\")"
   ]
  },
  {
   "cell_type": "code",
   "execution_count": null,
   "metadata": {},
   "outputs": [
    {
     "data": {
      "text/plain": [
       "90.44853073965696"
      ]
     },
     "metadata": {},
     "output_type": "display_data"
    }
   ],
   "source": [
    "(np.cumsum(pca_HOG_std.explained_variance_ratio_)*100)[1100]"
   ]
  },
  {
   "attachments": {},
   "cell_type": "markdown",
   "metadata": {},
   "source": [
    "<b>Remarks: More than 90% of variance is explained by first 1100 components</b>"
   ]
  },
  {
   "attachments": {},
   "cell_type": "markdown",
   "metadata": {},
   "source": [
    "##### 3.2. Kaiser's rule in statistics: Pick components which have eigenvalues >= 1 or 0.7\n"
   ]
  },
  {
   "cell_type": "code",
   "execution_count": null,
   "metadata": {},
   "outputs": [
    {
     "data": {
      "text/plain": [
       "Text(0.5, 1.0, 'Scree Plot of PCA: Component Eigenvalues')"
      ]
     },
     "metadata": {},
     "output_type": "display_data"
    },
    {
     "data": {
      "image/png": "[encoded data removed]",
      "text/plain": [
       "<Figure size 720x360 with 1 Axes>"
      ]
     },
     "metadata": {},
     "output_type": "display_data"
    }
   ],
   "source": [
    "fig, ax = plt.subplots(figsize=(10, 5), tight_layout=True)\n",
    "\n",
    "ax.plot(pca_HOG_std.explained_variance_, 'bo-', linewidth=2)\n",
    "ax.grid(color='r', linestyle='--', linewidth=1)\n",
    "\n",
    "ax.set_yticks(np.arange(0,125,5))\n",
    "ax.set_xticks(np.arange(0,HOG_list.shape[1],100))\n",
    "\n",
    "ax.set_xlabel('Principal Component')\n",
    "ax.set_ylabel('Eigenvalue')\n",
    "plt.axhline(y=1, linewidth=1, color='g', alpha=0.5)\n",
    "plt.title('Scree Plot of PCA: Component Eigenvalues')"
   ]
  },
  {
   "cell_type": "code",
   "execution_count": null,
   "metadata": {},
   "outputs": [
    {
     "name": "stdout",
     "output_type": "stream",
     "text": [
      "\n",
      "Eigenvalues \n",
      "[1.15568612e+02 1.02669002e+02 9.46843646e+01 ... 9.83031116e-02\n",
      " 9.43206197e-02 9.08247098e-02]\n",
      "Eigenvectors \n",
      "[[ 0.01395531  0.00990388  0.01375403 ...  0.01237111  0.01375091\n",
      "   0.01293913]\n",
      " [ 0.01194358  0.00841177  0.0112819  ...  0.01011539  0.01155574\n",
      "   0.01031938]\n",
      " [ 0.00438814  0.00259772  0.00384605 ...  0.0035082   0.00417374\n",
      "   0.00321487]\n",
      " ...\n",
      " [-0.11619066 -0.03793043  0.06569485 ... -0.01453993  0.06216408\n",
      "   0.052127  ]\n",
      " [ 0.05078577  0.01776065 -0.09553286 ... -0.02083596  0.0406094\n",
      "   0.02194985]\n",
      " [ 0.02113276 -0.00250593 -0.00594427 ... -0.01159366 -0.05829523\n",
      "   0.01565881]]\n"
     ]
    }
   ],
   "source": [
    "print('\\nEigenvalues \\n%s' %pca_HOG_std.explained_variance_)\n",
    "print('Eigenvectors \\n%s' %pca_HOG_std.components_)"
   ]
  },
  {
   "cell_type": "code",
   "execution_count": null,
   "metadata": {},
   "outputs": [],
   "source": [
    "# kaiser's rule in statistics: Pick components which have eigenvalues >= 1 or 0.7\n",
    "a = pca_HOG_std.explained_variance_ >= 1.0"
   ]
  },
  {
   "cell_type": "code",
   "execution_count": null,
   "metadata": {},
   "outputs": [
    {
     "data": {
      "text/plain": [
       "309"
      ]
     },
     "metadata": {},
     "output_type": "display_data"
    }
   ],
   "source": [
    "a.sum()"
   ]
  },
  {
   "attachments": {},
   "cell_type": "markdown",
   "metadata": {},
   "source": [
    "<b> Only 309 components are significant and should be kept </b>"
   ]
  },
  {
   "attachments": {},
   "cell_type": "markdown",
   "metadata": {},
   "source": [
    "#### 4. Fit PCA to the HOG features\n",
    "\n",
    "1. We fit PCA (with n_components to keep) onto the training set\n",
    "2. Transform the training set with that PCA\n",
    "3. Use that PCA to transform the validation & test set\n",
    "\n",
    "##### 4.1. For training set"
   ]
  },
  {
   "cell_type": "code",
   "execution_count": null,
   "metadata": {},
   "outputs": [
    {
     "name": "stdout",
     "output_type": "stream",
     "text": [
      "Original shape:    (44099, 2048)\n",
      "Transformed shape: (44099, 1100)\n"
     ]
    }
   ],
   "source": [
    "# keep 1100 components which contribute to > 90 %\n",
    "pca_HOG_std_2 = PCA(n_components=1100)\n",
    "pca_HOG_std_2.fit(HOG_list_std)\n",
    "HOG_PCA_train = pca_HOG_std_2.transform(HOG_list_std)\n",
    "print(\"Original shape:   \", HOG_list_std.shape)\n",
    "print(\"Transformed shape:\", HOG_PCA_train.shape)"
   ]
  },
  {
   "cell_type": "code",
   "execution_count": null,
   "metadata": {},
   "outputs": [],
   "source": [
    "# HOG for train set --- standardization again\n",
    "std_scale_train_2 = preprocessing.StandardScaler().fit(HOG_PCA_train)"
   ]
  },
  {
   "cell_type": "code",
   "execution_count": null,
   "metadata": {},
   "outputs": [
    {
     "data": {
      "text/html": [
       "<div>\n",
       "<style scoped>\n",
       "    .dataframe tbody tr th:only-of-type {\n",
       "        vertical-align: middle;\n",
       "    }\n",
       "\n",
       "    .dataframe tbody tr th {\n",
       "        vertical-align: top;\n",
       "    }\n",
       "\n",
       "    .dataframe thead th {\n",
       "        text-align: right;\n",
       "    }\n",
       "</style>\n",
       "<table border=\"1\" class=\"dataframe\">\n",
       "  <thead>\n",
       "    <tr style=\"text-align: right;\">\n",
       "      <th></th>\n",
       "      <th>0</th>\n",
       "      <th>1</th>\n",
       "      <th>2</th>\n",
       "      <th>3</th>\n",
       "      <th>4</th>\n",
       "      <th>5</th>\n",
       "      <th>6</th>\n",
       "      <th>7</th>\n",
       "      <th>8</th>\n",
       "      <th>9</th>\n",
       "      <th>...</th>\n",
       "      <th>1091</th>\n",
       "      <th>1092</th>\n",
       "      <th>1093</th>\n",
       "      <th>1094</th>\n",
       "      <th>1095</th>\n",
       "      <th>1096</th>\n",
       "      <th>1097</th>\n",
       "      <th>1098</th>\n",
       "      <th>1099</th>\n",
       "      <th>1100</th>\n",
       "    </tr>\n",
       "  </thead>\n",
       "  <tbody>\n",
       "    <tr>\n",
       "      <th>0</th>\n",
       "      <td>0001-aggregates.png</td>\n",
       "      <td>0.917148</td>\n",
       "      <td>1.447246</td>\n",
       "      <td>0.206029</td>\n",
       "      <td>-1.107510</td>\n",
       "      <td>-1.734309</td>\n",
       "      <td>0.399973</td>\n",
       "      <td>0.329698</td>\n",
       "      <td>-0.708391</td>\n",
       "      <td>-0.284369</td>\n",
       "      <td>...</td>\n",
       "      <td>0.511516</td>\n",
       "      <td>1.532829</td>\n",
       "      <td>-0.091285</td>\n",
       "      <td>1.621535</td>\n",
       "      <td>-0.197880</td>\n",
       "      <td>0.682659</td>\n",
       "      <td>-0.838745</td>\n",
       "      <td>-0.156916</td>\n",
       "      <td>1.951763</td>\n",
       "      <td>-0.464003</td>\n",
       "    </tr>\n",
       "    <tr>\n",
       "      <th>1</th>\n",
       "      <td>0002.png</td>\n",
       "      <td>0.370505</td>\n",
       "      <td>-0.948531</td>\n",
       "      <td>0.756832</td>\n",
       "      <td>-0.493438</td>\n",
       "      <td>1.041628</td>\n",
       "      <td>-1.255949</td>\n",
       "      <td>-0.119693</td>\n",
       "      <td>-1.534237</td>\n",
       "      <td>-0.714659</td>\n",
       "      <td>...</td>\n",
       "      <td>-0.079446</td>\n",
       "      <td>-0.215757</td>\n",
       "      <td>1.081805</td>\n",
       "      <td>-0.632592</td>\n",
       "      <td>-1.280335</td>\n",
       "      <td>0.687809</td>\n",
       "      <td>-0.206522</td>\n",
       "      <td>1.736197</td>\n",
       "      <td>-0.415600</td>\n",
       "      <td>0.495210</td>\n",
       "    </tr>\n",
       "    <tr>\n",
       "      <th>2</th>\n",
       "      <td>0003-aggregates.png</td>\n",
       "      <td>2.865255</td>\n",
       "      <td>1.593701</td>\n",
       "      <td>0.678115</td>\n",
       "      <td>1.457410</td>\n",
       "      <td>-0.285363</td>\n",
       "      <td>-2.661964</td>\n",
       "      <td>-0.595322</td>\n",
       "      <td>1.991623</td>\n",
       "      <td>-1.164248</td>\n",
       "      <td>...</td>\n",
       "      <td>1.624138</td>\n",
       "      <td>1.999911</td>\n",
       "      <td>-0.900000</td>\n",
       "      <td>0.503939</td>\n",
       "      <td>-2.237205</td>\n",
       "      <td>-1.134731</td>\n",
       "      <td>0.243765</td>\n",
       "      <td>0.064901</td>\n",
       "      <td>0.600189</td>\n",
       "      <td>-1.111427</td>\n",
       "    </tr>\n",
       "    <tr>\n",
       "      <th>3</th>\n",
       "      <td>0004-aggregates.png</td>\n",
       "      <td>-1.317980</td>\n",
       "      <td>1.106058</td>\n",
       "      <td>-0.475207</td>\n",
       "      <td>0.014288</td>\n",
       "      <td>-0.773317</td>\n",
       "      <td>1.132120</td>\n",
       "      <td>0.918911</td>\n",
       "      <td>-1.054879</td>\n",
       "      <td>-1.039779</td>\n",
       "      <td>...</td>\n",
       "      <td>-0.454460</td>\n",
       "      <td>0.244967</td>\n",
       "      <td>-0.360653</td>\n",
       "      <td>1.493211</td>\n",
       "      <td>0.256294</td>\n",
       "      <td>-0.670891</td>\n",
       "      <td>-0.415434</td>\n",
       "      <td>-0.104941</td>\n",
       "      <td>0.209982</td>\n",
       "      <td>0.116195</td>\n",
       "    </tr>\n",
       "    <tr>\n",
       "      <th>4</th>\n",
       "      <td>0004.png</td>\n",
       "      <td>0.805215</td>\n",
       "      <td>-0.247367</td>\n",
       "      <td>1.353335</td>\n",
       "      <td>1.581153</td>\n",
       "      <td>-1.279883</td>\n",
       "      <td>-0.339334</td>\n",
       "      <td>-0.500247</td>\n",
       "      <td>-1.551780</td>\n",
       "      <td>-1.650041</td>\n",
       "      <td>...</td>\n",
       "      <td>-1.769747</td>\n",
       "      <td>0.593067</td>\n",
       "      <td>0.236974</td>\n",
       "      <td>-2.268845</td>\n",
       "      <td>1.587752</td>\n",
       "      <td>1.290187</td>\n",
       "      <td>-0.017582</td>\n",
       "      <td>0.530560</td>\n",
       "      <td>1.899955</td>\n",
       "      <td>-0.968483</td>\n",
       "    </tr>\n",
       "  </tbody>\n",
       "</table>\n",
       "<p>5 rows × 1101 columns</p>\n",
       "</div>"
      ],
      "text/plain": [
       "                  0         1         2         3         4         5     \\\n",
       "0  0001-aggregates.png  0.917148  1.447246  0.206029 -1.107510 -1.734309   \n",
       "1             0002.png  0.370505 -0.948531  0.756832 -0.493438  1.041628   \n",
       "2  0003-aggregates.png  2.865255  1.593701  0.678115  1.457410 -0.285363   \n",
       "3  0004-aggregates.png -1.317980  1.106058 -0.475207  0.014288 -0.773317   \n",
       "4             0004.png  0.805215 -0.247367  1.353335  1.581153 -1.279883   \n",
       "\n",
       "       6         7         8         9     ...      1091      1092      1093  \\\n",
       "0  0.399973  0.329698 -0.708391 -0.284369  ...  0.511516  1.532829 -0.091285   \n",
       "1 -1.255949 -0.119693 -1.534237 -0.714659  ... -0.079446 -0.215757  1.081805   \n",
       "2 -2.661964 -0.595322  1.991623 -1.164248  ...  1.624138  1.999911 -0.900000   \n",
       "3  1.132120  0.918911 -1.054879 -1.039779  ... -0.454460  0.244967 -0.360653   \n",
       "4 -0.339334 -0.500247 -1.551780 -1.650041  ... -1.769747  0.593067  0.236974   \n",
       "\n",
       "       1094      1095      1096      1097      1098      1099      1100  \n",
       "0  1.621535 -0.197880  0.682659 -0.838745 -0.156916  1.951763 -0.464003  \n",
       "1 -0.632592 -1.280335  0.687809 -0.206522  1.736197 -0.415600  0.495210  \n",
       "2  0.503939 -2.237205 -1.134731  0.243765  0.064901  0.600189 -1.111427  \n",
       "3  1.493211  0.256294 -0.670891 -0.415434 -0.104941  0.209982  0.116195  \n",
       "4 -2.268845  1.587752  1.290187 -0.017582  0.530560  1.899955 -0.968483  \n",
       "\n",
       "[5 rows x 1101 columns]"
      ]
     },
     "metadata": {},
     "output_type": "display_data"
    },
    {
     "data": {
      "text/plain": [
       "(44099, 1101)"
      ]
     },
     "metadata": {},
     "output_type": "display_data"
    }
   ],
   "source": [
    "# Save in file\n",
    "X_HOG_std_train = std_scale_train_2.transform(HOG_PCA_train)\n",
    "X_HOG_train_dff = pd.DataFrame(data = X_HOG_std_train)\n",
    "X_HOG_train_df = pd.DataFrame(data = dfFoldTraining_1[\"short_filenames\"])\n",
    "\n",
    "X_HOG_train_df = pd.concat([X_HOG_train_df,X_HOG_train_dff], axis=1)\n",
    "X_HOG_train_df.columns = pd.RangeIndex(X_HOG_train_df.columns.size)\n",
    "\n",
    "display(X_HOG_train_df.head(5), X_HOG_train_df.shape)\n",
    "\n",
    "X_HOG_train_df.to_csv(\"..//_inputs//_image_features//new//X-HOG_std_PCA_1100_std-train-fold_1.csv\", header=False, index=False)"
   ]
  },
  {
   "attachments": {},
   "cell_type": "markdown",
   "metadata": {},
   "source": [
    "##### 4.2. For validation set"
   ]
  },
  {
   "cell_type": "code",
   "execution_count": null,
   "metadata": {},
   "outputs": [
    {
     "data": {
      "application/vnd.jupyter.widget-view+json": {
       "model_id": "300d46b9dd4948919a5771a69453202d",
       "version_major": 2,
       "version_minor": 0
      },
      "text/plain": [
       "Extract HOG:   0%|          | 0/14700 [00:00<?, ?it/s]"
      ]
     },
     "metadata": {},
     "output_type": "display_data"
    }
   ],
   "source": [
    "#Extract HOG features for the validation set\n",
    "HOG_validation_list = extract_hog(dfFoldValidation_1)"
   ]
  },
  {
   "cell_type": "code",
   "execution_count": null,
   "metadata": {},
   "outputs": [],
   "source": [
    "# standard deviation normalization\n",
    "HOG_validation_list_std = train_std_norm.transform(HOG_validation_list)"
   ]
  },
  {
   "cell_type": "code",
   "execution_count": null,
   "metadata": {},
   "outputs": [],
   "source": [
    "# Transform the HOG features using above PCA fitting\n",
    "HOG_PCA_validation = pca_HOG_std_2.transform(HOG_validation_list_std)"
   ]
  },
  {
   "cell_type": "code",
   "execution_count": null,
   "metadata": {},
   "outputs": [
    {
     "name": "stdout",
     "output_type": "stream",
     "text": [
      "Original shape:    (14700, 2048)\n",
      "Transformed shape: (14700, 1100)\n"
     ]
    }
   ],
   "source": [
    "print(\"Original shape:   \", HOG_validation_list.shape)\n",
    "print(\"Transformed shape:\", HOG_PCA_validation.shape)"
   ]
  },
  {
   "cell_type": "code",
   "execution_count": null,
   "metadata": {},
   "outputs": [],
   "source": [
    "# standard deviation normalization using above std_scale_train = preprocessing.StandardScaler().fit(HOG_PCA_train)\n",
    "X_HOG_std_validation = std_scale_train_2.transform(HOG_PCA_validation)"
   ]
  },
  {
   "cell_type": "code",
   "execution_count": null,
   "metadata": {},
   "outputs": [
    {
     "data": {
      "text/html": [
       "<div>\n",
       "<style scoped>\n",
       "    .dataframe tbody tr th:only-of-type {\n",
       "        vertical-align: middle;\n",
       "    }\n",
       "\n",
       "    .dataframe tbody tr th {\n",
       "        vertical-align: top;\n",
       "    }\n",
       "\n",
       "    .dataframe thead th {\n",
       "        text-align: right;\n",
       "    }\n",
       "</style>\n",
       "<table border=\"1\" class=\"dataframe\">\n",
       "  <thead>\n",
       "    <tr style=\"text-align: right;\">\n",
       "      <th></th>\n",
       "      <th>0</th>\n",
       "      <th>1</th>\n",
       "      <th>2</th>\n",
       "      <th>3</th>\n",
       "      <th>4</th>\n",
       "      <th>5</th>\n",
       "      <th>6</th>\n",
       "      <th>7</th>\n",
       "      <th>8</th>\n",
       "      <th>9</th>\n",
       "      <th>...</th>\n",
       "      <th>1091</th>\n",
       "      <th>1092</th>\n",
       "      <th>1093</th>\n",
       "      <th>1094</th>\n",
       "      <th>1095</th>\n",
       "      <th>1096</th>\n",
       "      <th>1097</th>\n",
       "      <th>1098</th>\n",
       "      <th>1099</th>\n",
       "      <th>1100</th>\n",
       "    </tr>\n",
       "  </thead>\n",
       "  <tbody>\n",
       "    <tr>\n",
       "      <th>0</th>\n",
       "      <td>0002-aggregates.png</td>\n",
       "      <td>-0.005962</td>\n",
       "      <td>0.047701</td>\n",
       "      <td>1.075164</td>\n",
       "      <td>-0.732217</td>\n",
       "      <td>-1.554549</td>\n",
       "      <td>0.148789</td>\n",
       "      <td>0.036890</td>\n",
       "      <td>0.857929</td>\n",
       "      <td>0.348601</td>\n",
       "      <td>...</td>\n",
       "      <td>1.376050</td>\n",
       "      <td>1.263499</td>\n",
       "      <td>0.995447</td>\n",
       "      <td>0.685557</td>\n",
       "      <td>-0.099480</td>\n",
       "      <td>-0.603319</td>\n",
       "      <td>-0.834841</td>\n",
       "      <td>1.428551</td>\n",
       "      <td>1.778422</td>\n",
       "      <td>1.221029</td>\n",
       "    </tr>\n",
       "    <tr>\n",
       "      <th>1</th>\n",
       "      <td>0006-aggregates.png</td>\n",
       "      <td>0.301887</td>\n",
       "      <td>-0.205501</td>\n",
       "      <td>0.333048</td>\n",
       "      <td>-0.741293</td>\n",
       "      <td>-0.972635</td>\n",
       "      <td>-0.357926</td>\n",
       "      <td>1.407182</td>\n",
       "      <td>-1.916246</td>\n",
       "      <td>0.145617</td>\n",
       "      <td>...</td>\n",
       "      <td>-0.441662</td>\n",
       "      <td>0.431345</td>\n",
       "      <td>1.046982</td>\n",
       "      <td>-0.620637</td>\n",
       "      <td>0.403026</td>\n",
       "      <td>-0.219844</td>\n",
       "      <td>-0.271041</td>\n",
       "      <td>-0.115279</td>\n",
       "      <td>-1.132150</td>\n",
       "      <td>0.786428</td>\n",
       "    </tr>\n",
       "    <tr>\n",
       "      <th>2</th>\n",
       "      <td>001-aggregates-jo_700_05.png</td>\n",
       "      <td>2.366545</td>\n",
       "      <td>0.749287</td>\n",
       "      <td>0.652475</td>\n",
       "      <td>-1.861808</td>\n",
       "      <td>-0.702044</td>\n",
       "      <td>-0.365452</td>\n",
       "      <td>0.328857</td>\n",
       "      <td>0.476454</td>\n",
       "      <td>0.367040</td>\n",
       "      <td>...</td>\n",
       "      <td>0.731662</td>\n",
       "      <td>3.773888</td>\n",
       "      <td>-0.604871</td>\n",
       "      <td>-0.923889</td>\n",
       "      <td>0.416154</td>\n",
       "      <td>-1.340859</td>\n",
       "      <td>0.559198</td>\n",
       "      <td>-0.620273</td>\n",
       "      <td>0.453902</td>\n",
       "      <td>-0.172933</td>\n",
       "    </tr>\n",
       "    <tr>\n",
       "      <th>3</th>\n",
       "      <td>0010-aggregates.png</td>\n",
       "      <td>-0.160033</td>\n",
       "      <td>0.347112</td>\n",
       "      <td>-0.668117</td>\n",
       "      <td>-0.461242</td>\n",
       "      <td>-0.508690</td>\n",
       "      <td>1.609127</td>\n",
       "      <td>-0.454135</td>\n",
       "      <td>-1.161684</td>\n",
       "      <td>-0.853908</td>\n",
       "      <td>...</td>\n",
       "      <td>0.444387</td>\n",
       "      <td>0.432414</td>\n",
       "      <td>-0.665007</td>\n",
       "      <td>-0.123202</td>\n",
       "      <td>-0.987345</td>\n",
       "      <td>-0.099243</td>\n",
       "      <td>-1.443244</td>\n",
       "      <td>1.550003</td>\n",
       "      <td>0.090061</td>\n",
       "      <td>0.305470</td>\n",
       "    </tr>\n",
       "    <tr>\n",
       "      <th>4</th>\n",
       "      <td>0011.png</td>\n",
       "      <td>0.012900</td>\n",
       "      <td>-0.917647</td>\n",
       "      <td>-1.639604</td>\n",
       "      <td>0.979652</td>\n",
       "      <td>-0.571192</td>\n",
       "      <td>0.432666</td>\n",
       "      <td>0.224566</td>\n",
       "      <td>2.290114</td>\n",
       "      <td>0.181760</td>\n",
       "      <td>...</td>\n",
       "      <td>0.061558</td>\n",
       "      <td>-0.936495</td>\n",
       "      <td>0.084808</td>\n",
       "      <td>1.413953</td>\n",
       "      <td>-0.674965</td>\n",
       "      <td>-1.838460</td>\n",
       "      <td>0.212193</td>\n",
       "      <td>-0.265324</td>\n",
       "      <td>-0.616324</td>\n",
       "      <td>0.788030</td>\n",
       "    </tr>\n",
       "  </tbody>\n",
       "</table>\n",
       "<p>5 rows × 1101 columns</p>\n",
       "</div>"
      ],
      "text/plain": [
       "                           0         1         2         3         4     \\\n",
       "0           0002-aggregates.png -0.005962  0.047701  1.075164 -0.732217   \n",
       "1           0006-aggregates.png  0.301887 -0.205501  0.333048 -0.741293   \n",
       "2  001-aggregates-jo_700_05.png  2.366545  0.749287  0.652475 -1.861808   \n",
       "3           0010-aggregates.png -0.160033  0.347112 -0.668117 -0.461242   \n",
       "4                      0011.png  0.012900 -0.917647 -1.639604  0.979652   \n",
       "\n",
       "       5         6         7         8         9     ...      1091      1092  \\\n",
       "0 -1.554549  0.148789  0.036890  0.857929  0.348601  ...  1.376050  1.263499   \n",
       "1 -0.972635 -0.357926  1.407182 -1.916246  0.145617  ... -0.441662  0.431345   \n",
       "2 -0.702044 -0.365452  0.328857  0.476454  0.367040  ...  0.731662  3.773888   \n",
       "3 -0.508690  1.609127 -0.454135 -1.161684 -0.853908  ...  0.444387  0.432414   \n",
       "4 -0.571192  0.432666  0.224566  2.290114  0.181760  ...  0.061558 -0.936495   \n",
       "\n",
       "       1093      1094      1095      1096      1097      1098      1099  \\\n",
       "0  0.995447  0.685557 -0.099480 -0.603319 -0.834841  1.428551  1.778422   \n",
       "1  1.046982 -0.620637  0.403026 -0.219844 -0.271041 -0.115279 -1.132150   \n",
       "2 -0.604871 -0.923889  0.416154 -1.340859  0.559198 -0.620273  0.453902   \n",
       "3 -0.665007 -0.123202 -0.987345 -0.099243 -1.443244  1.550003  0.090061   \n",
       "4  0.084808  1.413953 -0.674965 -1.838460  0.212193 -0.265324 -0.616324   \n",
       "\n",
       "       1100  \n",
       "0  1.221029  \n",
       "1  0.786428  \n",
       "2 -0.172933  \n",
       "3  0.305470  \n",
       "4  0.788030  \n",
       "\n",
       "[5 rows x 1101 columns]"
      ]
     },
     "metadata": {},
     "output_type": "display_data"
    },
    {
     "data": {
      "text/plain": [
       "(14700, 1101)"
      ]
     },
     "metadata": {},
     "output_type": "display_data"
    }
   ],
   "source": [
    "X_HOG_train_dff = pd.DataFrame(data = X_HOG_std_validation)\n",
    "X_HOG_train_df = pd.DataFrame(data = dfFoldValidation_1[\"short_filenames\"])\n",
    "\n",
    "X_HOG_train_df = pd.concat([X_HOG_train_df,X_HOG_train_dff], axis=1)\n",
    "X_HOG_train_df.columns = pd.RangeIndex(X_HOG_train_df.columns.size)\n",
    "\n",
    "display(X_HOG_train_df.head(5), X_HOG_train_df.shape)\n",
    "\n",
    "X_HOG_train_df.to_csv(\"..//_inputs//_image_features//new//X-HOG_std_PCA_1100_std-validation-fold_1.csv\", header=False, index=False)"
   ]
  },
  {
   "attachments": {},
   "cell_type": "markdown",
   "metadata": {},
   "source": [
    "##### 4.2. For test set\n",
    "\n",
    "<u><b> Remarks :</b></u> We use 4-fold cross validaiton. Then, we need also to compute each kind of features for test set.\n",
    "So, for the test set, we extract 4 sets of features for each fold"
   ]
  },
  {
   "cell_type": "code",
   "execution_count": null,
   "metadata": {},
   "outputs": [],
   "source": [
    "dfTest = pd.read_csv('..//_inputs//_images_Zooscan//ZooScan-test_img.csv')"
   ]
  },
  {
   "cell_type": "code",
   "execution_count": null,
   "metadata": {},
   "outputs": [
    {
     "data": {
      "application/vnd.jupyter.widget-view+json": {
       "model_id": "fcea4e6c97904a97bf20446e69b11841",
       "version_major": 2,
       "version_minor": 0
      },
      "text/plain": [
       "Extract HOG:   0%|          | 0/6907 [00:00<?, ?it/s]"
      ]
     },
     "metadata": {},
     "output_type": "display_data"
    }
   ],
   "source": [
    "#Extract HOG features for the test set\n",
    "HOG_test_list = extract_hog(dfTest)"
   ]
  },
  {
   "cell_type": "code",
   "execution_count": null,
   "metadata": {},
   "outputs": [],
   "source": [
    "# standard deviation normalization \n",
    "HOG_test_list_std = train_std_norm.transform(HOG_test_list)\n",
    "# Transform the HOG features using above PCA fitting\n",
    "HOG_PCA_test = pca_HOG_std_2.transform(HOG_test_list_std)"
   ]
  },
  {
   "cell_type": "code",
   "execution_count": null,
   "metadata": {},
   "outputs": [
    {
     "name": "stdout",
     "output_type": "stream",
     "text": [
      "Original shape:    (6907, 2048)\n",
      "Transformed shape: (6907, 1100)\n"
     ]
    }
   ],
   "source": [
    "print(\"Original shape:   \", HOG_test_list.shape)\n",
    "print(\"Transformed shape:\", HOG_PCA_test.shape)"
   ]
  },
  {
   "cell_type": "code",
   "execution_count": null,
   "metadata": {},
   "outputs": [],
   "source": [
    "# standard deviation normalization using above std_scale_train = preprocessing.StandardScaler().fit(HOG_PCA_train)\n",
    "X_HOG_std_test = std_scale_train_2.transform(HOG_PCA_test)"
   ]
  },
  {
   "cell_type": "code",
   "execution_count": null,
   "metadata": {},
   "outputs": [
    {
     "data": {
      "text/html": [
       "<div>\n",
       "<style scoped>\n",
       "    .dataframe tbody tr th:only-of-type {\n",
       "        vertical-align: middle;\n",
       "    }\n",
       "\n",
       "    .dataframe tbody tr th {\n",
       "        vertical-align: top;\n",
       "    }\n",
       "\n",
       "    .dataframe thead th {\n",
       "        text-align: right;\n",
       "    }\n",
       "</style>\n",
       "<table border=\"1\" class=\"dataframe\">\n",
       "  <thead>\n",
       "    <tr style=\"text-align: right;\">\n",
       "      <th></th>\n",
       "      <th>0</th>\n",
       "      <th>1</th>\n",
       "      <th>2</th>\n",
       "      <th>3</th>\n",
       "      <th>4</th>\n",
       "      <th>5</th>\n",
       "      <th>6</th>\n",
       "      <th>7</th>\n",
       "      <th>8</th>\n",
       "      <th>9</th>\n",
       "      <th>...</th>\n",
       "      <th>1091</th>\n",
       "      <th>1092</th>\n",
       "      <th>1093</th>\n",
       "      <th>1094</th>\n",
       "      <th>1095</th>\n",
       "      <th>1096</th>\n",
       "      <th>1097</th>\n",
       "      <th>1098</th>\n",
       "      <th>1099</th>\n",
       "      <th>1100</th>\n",
       "    </tr>\n",
       "  </thead>\n",
       "  <tbody>\n",
       "    <tr>\n",
       "      <th>0</th>\n",
       "      <td>0007-aggregates_002.png</td>\n",
       "      <td>-0.083999</td>\n",
       "      <td>0.285228</td>\n",
       "      <td>1.056967</td>\n",
       "      <td>-1.102574</td>\n",
       "      <td>-0.732811</td>\n",
       "      <td>0.704804</td>\n",
       "      <td>-0.032445</td>\n",
       "      <td>-0.302684</td>\n",
       "      <td>0.461219</td>\n",
       "      <td>...</td>\n",
       "      <td>-1.192074</td>\n",
       "      <td>0.790377</td>\n",
       "      <td>0.517393</td>\n",
       "      <td>-0.096931</td>\n",
       "      <td>-0.706280</td>\n",
       "      <td>0.966497</td>\n",
       "      <td>0.393886</td>\n",
       "      <td>-0.692417</td>\n",
       "      <td>-0.349045</td>\n",
       "      <td>-0.716345</td>\n",
       "    </tr>\n",
       "    <tr>\n",
       "      <th>1</th>\n",
       "      <td>0009-aggregates_001.png</td>\n",
       "      <td>1.107838</td>\n",
       "      <td>-1.258026</td>\n",
       "      <td>-0.785372</td>\n",
       "      <td>0.486535</td>\n",
       "      <td>0.258588</td>\n",
       "      <td>2.908086</td>\n",
       "      <td>0.427533</td>\n",
       "      <td>0.276018</td>\n",
       "      <td>-0.867448</td>\n",
       "      <td>...</td>\n",
       "      <td>0.551549</td>\n",
       "      <td>-1.546961</td>\n",
       "      <td>-0.160959</td>\n",
       "      <td>0.598653</td>\n",
       "      <td>0.770346</td>\n",
       "      <td>0.262718</td>\n",
       "      <td>0.607093</td>\n",
       "      <td>-0.903584</td>\n",
       "      <td>0.244614</td>\n",
       "      <td>-1.806546</td>\n",
       "    </tr>\n",
       "    <tr>\n",
       "      <th>2</th>\n",
       "      <td>0012-aggregates_002.png</td>\n",
       "      <td>-0.226048</td>\n",
       "      <td>-0.929947</td>\n",
       "      <td>0.827838</td>\n",
       "      <td>0.395767</td>\n",
       "      <td>-0.144847</td>\n",
       "      <td>-0.650738</td>\n",
       "      <td>-0.817048</td>\n",
       "      <td>-0.418973</td>\n",
       "      <td>-0.809150</td>\n",
       "      <td>...</td>\n",
       "      <td>-1.091932</td>\n",
       "      <td>0.213372</td>\n",
       "      <td>-0.217287</td>\n",
       "      <td>2.521319</td>\n",
       "      <td>0.468563</td>\n",
       "      <td>-0.362330</td>\n",
       "      <td>0.147278</td>\n",
       "      <td>-1.238254</td>\n",
       "      <td>0.744157</td>\n",
       "      <td>0.388285</td>\n",
       "    </tr>\n",
       "    <tr>\n",
       "      <th>3</th>\n",
       "      <td>002-aggregates_001.png</td>\n",
       "      <td>0.743325</td>\n",
       "      <td>1.043750</td>\n",
       "      <td>-1.172682</td>\n",
       "      <td>-0.980800</td>\n",
       "      <td>0.279429</td>\n",
       "      <td>-1.244421</td>\n",
       "      <td>0.303815</td>\n",
       "      <td>0.206895</td>\n",
       "      <td>0.588795</td>\n",
       "      <td>...</td>\n",
       "      <td>-1.276829</td>\n",
       "      <td>1.945097</td>\n",
       "      <td>1.104895</td>\n",
       "      <td>0.495033</td>\n",
       "      <td>0.850021</td>\n",
       "      <td>-0.071929</td>\n",
       "      <td>-0.591222</td>\n",
       "      <td>2.768175</td>\n",
       "      <td>1.524619</td>\n",
       "      <td>2.143985</td>\n",
       "    </tr>\n",
       "    <tr>\n",
       "      <th>4</th>\n",
       "      <td>002-aggregates_007.png</td>\n",
       "      <td>1.662327</td>\n",
       "      <td>-0.054698</td>\n",
       "      <td>1.029701</td>\n",
       "      <td>0.370805</td>\n",
       "      <td>2.140615</td>\n",
       "      <td>-0.932924</td>\n",
       "      <td>1.840033</td>\n",
       "      <td>-1.019394</td>\n",
       "      <td>-2.440199</td>\n",
       "      <td>...</td>\n",
       "      <td>0.126361</td>\n",
       "      <td>-0.630941</td>\n",
       "      <td>0.162539</td>\n",
       "      <td>-0.159855</td>\n",
       "      <td>0.410425</td>\n",
       "      <td>-0.046487</td>\n",
       "      <td>-1.379179</td>\n",
       "      <td>1.184029</td>\n",
       "      <td>-0.834816</td>\n",
       "      <td>-0.678729</td>\n",
       "    </tr>\n",
       "  </tbody>\n",
       "</table>\n",
       "<p>5 rows × 1101 columns</p>\n",
       "</div>"
      ],
      "text/plain": [
       "                      0         1         2         3         4         5     \\\n",
       "0  0007-aggregates_002.png -0.083999  0.285228  1.056967 -1.102574 -0.732811   \n",
       "1  0009-aggregates_001.png  1.107838 -1.258026 -0.785372  0.486535  0.258588   \n",
       "2  0012-aggregates_002.png -0.226048 -0.929947  0.827838  0.395767 -0.144847   \n",
       "3   002-aggregates_001.png  0.743325  1.043750 -1.172682 -0.980800  0.279429   \n",
       "4   002-aggregates_007.png  1.662327 -0.054698  1.029701  0.370805  2.140615   \n",
       "\n",
       "       6         7         8         9     ...      1091      1092      1093  \\\n",
       "0  0.704804 -0.032445 -0.302684  0.461219  ... -1.192074  0.790377  0.517393   \n",
       "1  2.908086  0.427533  0.276018 -0.867448  ...  0.551549 -1.546961 -0.160959   \n",
       "2 -0.650738 -0.817048 -0.418973 -0.809150  ... -1.091932  0.213372 -0.217287   \n",
       "3 -1.244421  0.303815  0.206895  0.588795  ... -1.276829  1.945097  1.104895   \n",
       "4 -0.932924  1.840033 -1.019394 -2.440199  ...  0.126361 -0.630941  0.162539   \n",
       "\n",
       "       1094      1095      1096      1097      1098      1099      1100  \n",
       "0 -0.096931 -0.706280  0.966497  0.393886 -0.692417 -0.349045 -0.716345  \n",
       "1  0.598653  0.770346  0.262718  0.607093 -0.903584  0.244614 -1.806546  \n",
       "2  2.521319  0.468563 -0.362330  0.147278 -1.238254  0.744157  0.388285  \n",
       "3  0.495033  0.850021 -0.071929 -0.591222  2.768175  1.524619  2.143985  \n",
       "4 -0.159855  0.410425 -0.046487 -1.379179  1.184029 -0.834816 -0.678729  \n",
       "\n",
       "[5 rows x 1101 columns]"
      ]
     },
     "metadata": {},
     "output_type": "display_data"
    },
    {
     "data": {
      "text/plain": [
       "(6907, 1101)"
      ]
     },
     "metadata": {},
     "output_type": "display_data"
    }
   ],
   "source": [
    "X_HOG_train_dff = pd.DataFrame(data = X_HOG_std_test)\n",
    "X_HOG_train_df = pd.DataFrame(data = dfTest[\"short_filenames\"])\n",
    "\n",
    "X_HOG_train_df = pd.concat([X_HOG_train_df,X_HOG_train_dff], axis=1)\n",
    "X_HOG_train_df.columns = pd.RangeIndex(X_HOG_train_df.columns.size)\n",
    "\n",
    "display(X_HOG_train_df.head(5), X_HOG_train_df.shape)\n",
    "\n",
    "X_HOG_train_df.to_csv(\"..//_inputs//_image_features//new//X-HOG_std_PCA_1100_std-test-fold_1.csv\", header=False, index=False)"
   ]
  },
  {
   "attachments": {},
   "cell_type": "markdown",
   "metadata": {},
   "source": [
    "### 4.2.2. For fold 2\n",
    "#### 1. Read path of fold 2"
   ]
  },
  {
   "cell_type": "code",
   "execution_count": null,
   "metadata": {},
   "outputs": [],
   "source": [
    "dfFoldTraining_1 = pd.read_csv('..//_inputs//_images_Zooscan//_Zooscan-training-fold_2.csv')\n",
    "dfFoldValidation_1 = pd.read_csv('..//_inputs//_images_Zooscan//_Zooscan-validation-fold_2.csv')"
   ]
  },
  {
   "attachments": {},
   "cell_type": "markdown",
   "metadata": {},
   "source": [
    "#### 2. Extracting HOG feature for the training set"
   ]
  },
  {
   "cell_type": "code",
   "execution_count": null,
   "metadata": {},
   "outputs": [
    {
     "data": {
      "application/vnd.jupyter.widget-view+json": {
       "model_id": "403237ad7f1e4ea6b4a3889f36ef1642",
       "version_major": 2,
       "version_minor": 0
      },
      "text/plain": [
       "Extract HOG:   0%|          | 0/44099 [00:00<?, ?it/s]"
      ]
     },
     "metadata": {},
     "output_type": "display_data"
    }
   ],
   "source": [
    "HOG_list = extract_hog(dfFoldTraining_1)"
   ]
  },
  {
   "cell_type": "code",
   "execution_count": null,
   "metadata": {},
   "outputs": [],
   "source": [
    "# create a standard deviation normalization for later uses\n",
    "train_std_norm = StandardScaler().fit(HOG_list)"
   ]
  },
  {
   "cell_type": "code",
   "execution_count": null,
   "metadata": {},
   "outputs": [],
   "source": [
    "# Standard deviation normalization\n",
    "HOG_list_std = train_std_norm.transform(HOG_list)"
   ]
  },
  {
   "cell_type": "code",
   "execution_count": null,
   "metadata": {},
   "outputs": [
    {
     "data": {
      "text/plain": [
       "array([[-0.05001335, -0.03681146, -0.04617734, ..., -0.07239725,\n",
       "        -0.08944459, -0.07005554],\n",
       "       [-0.05001335, -0.03681146, -0.04617734, ..., -0.07239725,\n",
       "        -0.08944459, -0.07005554],\n",
       "       [-0.05001335, -0.03681146, -0.04617734, ..., -0.07239725,\n",
       "        -0.08944459, -0.07005554],\n",
       "       ...,\n",
       "       [-0.05001335, -0.03681146, -0.04617734, ..., -0.07239725,\n",
       "        -0.08944459, -0.07005554],\n",
       "       [-0.05001335, -0.03681146, -0.04617734, ..., -0.07239725,\n",
       "        -0.08944459, -0.07005554],\n",
       "       [-0.05001335, -0.03681146, -0.04617734, ..., -0.07239725,\n",
       "        -0.08944459, -0.07005554]])"
      ]
     },
     "metadata": {},
     "output_type": "display_data"
    }
   ],
   "source": [
    "display(HOG_list_std)"
   ]
  },
  {
   "cell_type": "code",
   "execution_count": null,
   "metadata": {},
   "outputs": [
    {
     "name": "stdout",
     "output_type": "stream",
     "text": [
      "Total HOG features: (44099, 2048)\n"
     ]
    }
   ],
   "source": [
    "print('Total HOG features:',(HOG_list_std.shape))"
   ]
  },
  {
   "attachments": {},
   "cell_type": "markdown",
   "metadata": {},
   "source": [
    "#### 3. PCA analysis on the training set"
   ]
  },
  {
   "cell_type": "code",
   "execution_count": null,
   "metadata": {},
   "outputs": [],
   "source": [
    "pca_HOG_std = PCA().fit(HOG_list_std)"
   ]
  },
  {
   "attachments": {},
   "cell_type": "markdown",
   "metadata": {},
   "source": [
    "##### 3.1. Plot PCA components and CEV\n",
    "\n",
    "From this, we can know number of components to keep"
   ]
  },
  {
   "cell_type": "code",
   "execution_count": null,
   "metadata": {},
   "outputs": [
    {
     "data": {
      "text/plain": [
       "Text(0.5, 1.0, 'PCA analysis on HOG features of training set')"
      ]
     },
     "metadata": {},
     "output_type": "display_data"
    },
    {
     "data": {
      "image/png": "[encoded data removed]",
      "text/plain": [
       "<Figure size 1000x500 with 1 Axes>"
      ]
     },
     "metadata": {},
     "output_type": "display_data"
    }
   ],
   "source": [
    "fig, ax = plt.subplots(figsize=(10, 5), tight_layout=True)\n",
    "\n",
    "ax.plot(np.cumsum(pca_HOG_std.explained_variance_ratio_)*100, linewidth=2)\n",
    "ax.grid(color='r', linestyle='--', linewidth=1)\n",
    "\n",
    "ax.set_xlabel('Number of components')\n",
    "ax.set_ylabel('Cumulative explained variance');\n",
    "\n",
    "ax.set_yticks(np.arange(0,105,5))\n",
    "ax.set_xticks(np.arange(0,HOG_list.shape[1],100))\n",
    "\n",
    "ax.axhline(y=90, linewidth=3, color='g', alpha=0.5)\n",
    "\n",
    "# ax.plot(800, 91, marker=\"o\", markersize=10, markeredgecolor=\"red\", markerfacecolor=\"green\")\n",
    "\n",
    "ax.set_title(\"PCA analysis on HOG features of training set\")"
   ]
  },
  {
   "cell_type": "code",
   "execution_count": null,
   "metadata": {},
   "outputs": [
    {
     "data": {
      "text/plain": [
       "90.44478267508579"
      ]
     },
     "metadata": {},
     "output_type": "display_data"
    }
   ],
   "source": [
    "(np.cumsum(pca_HOG_std.explained_variance_ratio_)*100)[1100]"
   ]
  },
  {
   "attachments": {},
   "cell_type": "markdown",
   "metadata": {},
   "source": [
    "<b>Remarks: More than 90% of variance is explained by first 1100 components</b>"
   ]
  },
  {
   "attachments": {},
   "cell_type": "markdown",
   "metadata": {},
   "source": [
    "#### 4. Fit PCA to the HOG features\n",
    "\n",
    "1. We fit PCA (with n_components to keep) onto the training set\n",
    "2. Transform the training set with that PCA\n",
    "3. Use that PCA to transform the validation & test set\n",
    "\n",
    "##### 4.1. For training set"
   ]
  },
  {
   "cell_type": "code",
   "execution_count": null,
   "metadata": {},
   "outputs": [
    {
     "name": "stdout",
     "output_type": "stream",
     "text": [
      "Original shape:    (44099, 2048)\n",
      "Transformed shape: (44099, 1100)\n"
     ]
    }
   ],
   "source": [
    "# keep 1100 components which contribute to > 90 %\n",
    "pca_HOG_std_2 = PCA(n_components=1100)\n",
    "pca_HOG_std_2.fit(HOG_list_std)\n",
    "HOG_PCA_train = pca_HOG_std_2.transform(HOG_list_std)\n",
    "print(\"Original shape:   \", HOG_list_std.shape)\n",
    "print(\"Transformed shape:\", HOG_PCA_train.shape)"
   ]
  },
  {
   "cell_type": "code",
   "execution_count": null,
   "metadata": {},
   "outputs": [],
   "source": [
    "# HOG for train set --- standardization again\n",
    "std_scale_train_2 = preprocessing.StandardScaler().fit(HOG_PCA_train)"
   ]
  },
  {
   "cell_type": "code",
   "execution_count": null,
   "metadata": {},
   "outputs": [
    {
     "data": {
      "text/html": [
       "<div>\n",
       "<style scoped>\n",
       "    .dataframe tbody tr th:only-of-type {\n",
       "        vertical-align: middle;\n",
       "    }\n",
       "\n",
       "    .dataframe tbody tr th {\n",
       "        vertical-align: top;\n",
       "    }\n",
       "\n",
       "    .dataframe thead th {\n",
       "        text-align: right;\n",
       "    }\n",
       "</style>\n",
       "<table border=\"1\" class=\"dataframe\">\n",
       "  <thead>\n",
       "    <tr style=\"text-align: right;\">\n",
       "      <th></th>\n",
       "      <th>0</th>\n",
       "      <th>1</th>\n",
       "      <th>2</th>\n",
       "      <th>3</th>\n",
       "      <th>4</th>\n",
       "      <th>5</th>\n",
       "      <th>6</th>\n",
       "      <th>7</th>\n",
       "      <th>8</th>\n",
       "      <th>9</th>\n",
       "      <th>...</th>\n",
       "      <th>1091</th>\n",
       "      <th>1092</th>\n",
       "      <th>1093</th>\n",
       "      <th>1094</th>\n",
       "      <th>1095</th>\n",
       "      <th>1096</th>\n",
       "      <th>1097</th>\n",
       "      <th>1098</th>\n",
       "      <th>1099</th>\n",
       "      <th>1100</th>\n",
       "    </tr>\n",
       "  </thead>\n",
       "  <tbody>\n",
       "    <tr>\n",
       "      <th>0</th>\n",
       "      <td>0001-aggregates.png</td>\n",
       "      <td>0.939521</td>\n",
       "      <td>1.427068</td>\n",
       "      <td>0.160153</td>\n",
       "      <td>-1.101771</td>\n",
       "      <td>-1.505959</td>\n",
       "      <td>-0.946847</td>\n",
       "      <td>-0.010380</td>\n",
       "      <td>-0.755271</td>\n",
       "      <td>-0.122177</td>\n",
       "      <td>...</td>\n",
       "      <td>-0.415068</td>\n",
       "      <td>-1.721783</td>\n",
       "      <td>2.212496</td>\n",
       "      <td>0.585304</td>\n",
       "      <td>-0.668340</td>\n",
       "      <td>-0.454989</td>\n",
       "      <td>-0.472800</td>\n",
       "      <td>0.029105</td>\n",
       "      <td>-0.127471</td>\n",
       "      <td>-1.462955</td>\n",
       "    </tr>\n",
       "    <tr>\n",
       "      <th>1</th>\n",
       "      <td>0002-aggregates.png</td>\n",
       "      <td>-0.016433</td>\n",
       "      <td>0.085104</td>\n",
       "      <td>1.071777</td>\n",
       "      <td>-0.723463</td>\n",
       "      <td>-1.416125</td>\n",
       "      <td>-0.652845</td>\n",
       "      <td>-0.199367</td>\n",
       "      <td>0.927099</td>\n",
       "      <td>0.219271</td>\n",
       "      <td>...</td>\n",
       "      <td>-0.393005</td>\n",
       "      <td>1.128203</td>\n",
       "      <td>-0.024059</td>\n",
       "      <td>-0.014156</td>\n",
       "      <td>0.600116</td>\n",
       "      <td>1.231951</td>\n",
       "      <td>1.477751</td>\n",
       "      <td>3.245014</td>\n",
       "      <td>-0.577392</td>\n",
       "      <td>-0.087490</td>\n",
       "    </tr>\n",
       "    <tr>\n",
       "      <th>2</th>\n",
       "      <td>0004-aggregates.png</td>\n",
       "      <td>-1.308085</td>\n",
       "      <td>1.109958</td>\n",
       "      <td>-0.536983</td>\n",
       "      <td>-0.030714</td>\n",
       "      <td>-0.473369</td>\n",
       "      <td>-1.306480</td>\n",
       "      <td>0.731195</td>\n",
       "      <td>-1.021078</td>\n",
       "      <td>-1.230801</td>\n",
       "      <td>...</td>\n",
       "      <td>-0.527559</td>\n",
       "      <td>-0.946181</td>\n",
       "      <td>1.259875</td>\n",
       "      <td>-0.473580</td>\n",
       "      <td>1.897243</td>\n",
       "      <td>0.968025</td>\n",
       "      <td>0.632915</td>\n",
       "      <td>0.268045</td>\n",
       "      <td>-0.667532</td>\n",
       "      <td>0.351762</td>\n",
       "    </tr>\n",
       "    <tr>\n",
       "      <th>3</th>\n",
       "      <td>0004.png</td>\n",
       "      <td>0.782161</td>\n",
       "      <td>-0.214615</td>\n",
       "      <td>1.373268</td>\n",
       "      <td>1.606214</td>\n",
       "      <td>-1.281327</td>\n",
       "      <td>-0.096618</td>\n",
       "      <td>-0.749075</td>\n",
       "      <td>-1.523342</td>\n",
       "      <td>-1.385394</td>\n",
       "      <td>...</td>\n",
       "      <td>-0.003915</td>\n",
       "      <td>0.427827</td>\n",
       "      <td>0.134935</td>\n",
       "      <td>1.286162</td>\n",
       "      <td>1.171474</td>\n",
       "      <td>-0.411318</td>\n",
       "      <td>1.329629</td>\n",
       "      <td>-1.220084</td>\n",
       "      <td>0.423582</td>\n",
       "      <td>1.073487</td>\n",
       "    </tr>\n",
       "    <tr>\n",
       "      <th>4</th>\n",
       "      <td>0005-aggregates.png</td>\n",
       "      <td>0.219535</td>\n",
       "      <td>-0.742943</td>\n",
       "      <td>-0.718212</td>\n",
       "      <td>0.212367</td>\n",
       "      <td>0.797423</td>\n",
       "      <td>-0.884481</td>\n",
       "      <td>-0.987095</td>\n",
       "      <td>-0.539020</td>\n",
       "      <td>-0.166109</td>\n",
       "      <td>...</td>\n",
       "      <td>0.124577</td>\n",
       "      <td>0.669175</td>\n",
       "      <td>0.148373</td>\n",
       "      <td>2.152839</td>\n",
       "      <td>-0.525691</td>\n",
       "      <td>-1.744503</td>\n",
       "      <td>0.811050</td>\n",
       "      <td>-0.647016</td>\n",
       "      <td>-0.273736</td>\n",
       "      <td>-0.581508</td>\n",
       "    </tr>\n",
       "  </tbody>\n",
       "</table>\n",
       "<p>5 rows × 1101 columns</p>\n",
       "</div>"
      ],
      "text/plain": [
       "                  0         1         2         3         4         5     \\\n",
       "0  0001-aggregates.png  0.939521  1.427068  0.160153 -1.101771 -1.505959   \n",
       "1  0002-aggregates.png -0.016433  0.085104  1.071777 -0.723463 -1.416125   \n",
       "2  0004-aggregates.png -1.308085  1.109958 -0.536983 -0.030714 -0.473369   \n",
       "3             0004.png  0.782161 -0.214615  1.373268  1.606214 -1.281327   \n",
       "4  0005-aggregates.png  0.219535 -0.742943 -0.718212  0.212367  0.797423   \n",
       "\n",
       "       6         7         8         9     ...      1091      1092      1093  \\\n",
       "0 -0.946847 -0.010380 -0.755271 -0.122177  ... -0.415068 -1.721783  2.212496   \n",
       "1 -0.652845 -0.199367  0.927099  0.219271  ... -0.393005  1.128203 -0.024059   \n",
       "2 -1.306480  0.731195 -1.021078 -1.230801  ... -0.527559 -0.946181  1.259875   \n",
       "3 -0.096618 -0.749075 -1.523342 -1.385394  ... -0.003915  0.427827  0.134935   \n",
       "4 -0.884481 -0.987095 -0.539020 -0.166109  ...  0.124577  0.669175  0.148373   \n",
       "\n",
       "       1094      1095      1096      1097      1098      1099      1100  \n",
       "0  0.585304 -0.668340 -0.454989 -0.472800  0.029105 -0.127471 -1.462955  \n",
       "1 -0.014156  0.600116  1.231951  1.477751  3.245014 -0.577392 -0.087490  \n",
       "2 -0.473580  1.897243  0.968025  0.632915  0.268045 -0.667532  0.351762  \n",
       "3  1.286162  1.171474 -0.411318  1.329629 -1.220084  0.423582  1.073487  \n",
       "4  2.152839 -0.525691 -1.744503  0.811050 -0.647016 -0.273736 -0.581508  \n",
       "\n",
       "[5 rows x 1101 columns]"
      ]
     },
     "metadata": {},
     "output_type": "display_data"
    },
    {
     "data": {
      "text/plain": [
       "(44099, 1101)"
      ]
     },
     "metadata": {},
     "output_type": "display_data"
    }
   ],
   "source": [
    "# Save in file\n",
    "X_HOG_std_train = std_scale_train_2.transform(HOG_PCA_train)\n",
    "X_HOG_train_dff = pd.DataFrame(data = X_HOG_std_train)\n",
    "X_HOG_train_df = pd.DataFrame(data = dfFoldTraining_1[\"short_filenames\"])\n",
    "\n",
    "X_HOG_train_df = pd.concat([X_HOG_train_df,X_HOG_train_dff], axis=1)\n",
    "X_HOG_train_df.columns = pd.RangeIndex(X_HOG_train_df.columns.size)\n",
    "\n",
    "display(X_HOG_train_df.head(5), X_HOG_train_df.shape)\n",
    "\n",
    "X_HOG_train_df.to_csv(\"..//_inputs//_image_features//new//X-HOG_std_PCA_1100_std-train-fold_2.csv\", header=False, index=False)"
   ]
  },
  {
   "attachments": {},
   "cell_type": "markdown",
   "metadata": {},
   "source": [
    "##### 4.2. For validation set"
   ]
  },
  {
   "cell_type": "code",
   "execution_count": null,
   "metadata": {},
   "outputs": [
    {
     "data": {
      "application/vnd.jupyter.widget-view+json": {
       "model_id": "9cbac62d310b4c92a8c85ff4de1100ef",
       "version_major": 2,
       "version_minor": 0
      },
      "text/plain": [
       "Extract HOG:   0%|          | 0/14700 [00:00<?, ?it/s]"
      ]
     },
     "metadata": {},
     "output_type": "display_data"
    }
   ],
   "source": [
    "#Extract HOG features for the validation set\n",
    "HOG_validation_list = extract_hog(dfFoldValidation_1)"
   ]
  },
  {
   "cell_type": "code",
   "execution_count": null,
   "metadata": {},
   "outputs": [],
   "source": [
    "# standard deviation normalization\n",
    "HOG_validation_list_std = train_std_norm.transform(HOG_validation_list)"
   ]
  },
  {
   "cell_type": "code",
   "execution_count": null,
   "metadata": {},
   "outputs": [],
   "source": [
    "# Transform the HOG features using above PCA fitting\n",
    "HOG_PCA_validation = pca_HOG_std_2.transform(HOG_validation_list_std)"
   ]
  },
  {
   "cell_type": "code",
   "execution_count": null,
   "metadata": {},
   "outputs": [
    {
     "name": "stdout",
     "output_type": "stream",
     "text": [
      "Original shape:    (14700, 2048)\n",
      "Transformed shape: (14700, 1100)\n"
     ]
    }
   ],
   "source": [
    "print(\"Original shape:   \", HOG_validation_list.shape)\n",
    "print(\"Transformed shape:\", HOG_PCA_validation.shape)"
   ]
  },
  {
   "cell_type": "code",
   "execution_count": null,
   "metadata": {},
   "outputs": [],
   "source": [
    "# standard deviation normalization using above std_scale_train = preprocessing.StandardScaler().fit(HOG_PCA_train)\n",
    "X_HOG_std_validation = std_scale_train_2.transform(HOG_PCA_validation)"
   ]
  },
  {
   "cell_type": "code",
   "execution_count": null,
   "metadata": {},
   "outputs": [
    {
     "data": {
      "text/html": [
       "<div>\n",
       "<style scoped>\n",
       "    .dataframe tbody tr th:only-of-type {\n",
       "        vertical-align: middle;\n",
       "    }\n",
       "\n",
       "    .dataframe tbody tr th {\n",
       "        vertical-align: top;\n",
       "    }\n",
       "\n",
       "    .dataframe thead th {\n",
       "        text-align: right;\n",
       "    }\n",
       "</style>\n",
       "<table border=\"1\" class=\"dataframe\">\n",
       "  <thead>\n",
       "    <tr style=\"text-align: right;\">\n",
       "      <th></th>\n",
       "      <th>0</th>\n",
       "      <th>1</th>\n",
       "      <th>2</th>\n",
       "      <th>3</th>\n",
       "      <th>4</th>\n",
       "      <th>5</th>\n",
       "      <th>6</th>\n",
       "      <th>7</th>\n",
       "      <th>8</th>\n",
       "      <th>9</th>\n",
       "      <th>...</th>\n",
       "      <th>1091</th>\n",
       "      <th>1092</th>\n",
       "      <th>1093</th>\n",
       "      <th>1094</th>\n",
       "      <th>1095</th>\n",
       "      <th>1096</th>\n",
       "      <th>1097</th>\n",
       "      <th>1098</th>\n",
       "      <th>1099</th>\n",
       "      <th>1100</th>\n",
       "    </tr>\n",
       "  </thead>\n",
       "  <tbody>\n",
       "    <tr>\n",
       "      <th>0</th>\n",
       "      <td>0002.png</td>\n",
       "      <td>0.344972</td>\n",
       "      <td>-0.928782</td>\n",
       "      <td>0.804029</td>\n",
       "      <td>-0.479591</td>\n",
       "      <td>0.588745</td>\n",
       "      <td>1.549811</td>\n",
       "      <td>-0.000783</td>\n",
       "      <td>-1.551123</td>\n",
       "      <td>-0.597946</td>\n",
       "      <td>...</td>\n",
       "      <td>-0.327792</td>\n",
       "      <td>0.296356</td>\n",
       "      <td>2.348425</td>\n",
       "      <td>-1.628121</td>\n",
       "      <td>0.643192</td>\n",
       "      <td>0.401500</td>\n",
       "      <td>-0.934512</td>\n",
       "      <td>-0.143353</td>\n",
       "      <td>-1.330135</td>\n",
       "      <td>-0.826922</td>\n",
       "    </tr>\n",
       "    <tr>\n",
       "      <th>1</th>\n",
       "      <td>0003-aggregates.png</td>\n",
       "      <td>2.879473</td>\n",
       "      <td>1.522155</td>\n",
       "      <td>0.639572</td>\n",
       "      <td>1.457542</td>\n",
       "      <td>-0.921154</td>\n",
       "      <td>2.390067</td>\n",
       "      <td>-0.762593</td>\n",
       "      <td>2.038160</td>\n",
       "      <td>-1.320133</td>\n",
       "      <td>...</td>\n",
       "      <td>0.660299</td>\n",
       "      <td>0.814411</td>\n",
       "      <td>-0.260897</td>\n",
       "      <td>0.991871</td>\n",
       "      <td>0.912935</td>\n",
       "      <td>-2.164270</td>\n",
       "      <td>-1.210537</td>\n",
       "      <td>-1.498188</td>\n",
       "      <td>0.152277</td>\n",
       "      <td>1.376036</td>\n",
       "    </tr>\n",
       "    <tr>\n",
       "      <th>2</th>\n",
       "      <td>0008-aggregates.png</td>\n",
       "      <td>-0.640206</td>\n",
       "      <td>-1.348753</td>\n",
       "      <td>0.012081</td>\n",
       "      <td>0.694277</td>\n",
       "      <td>-0.467492</td>\n",
       "      <td>0.277465</td>\n",
       "      <td>1.431348</td>\n",
       "      <td>0.006000</td>\n",
       "      <td>0.473003</td>\n",
       "      <td>...</td>\n",
       "      <td>-0.308303</td>\n",
       "      <td>-0.145306</td>\n",
       "      <td>0.199854</td>\n",
       "      <td>0.933020</td>\n",
       "      <td>-1.268828</td>\n",
       "      <td>0.360317</td>\n",
       "      <td>-0.532387</td>\n",
       "      <td>-0.035153</td>\n",
       "      <td>-0.374522</td>\n",
       "      <td>0.471007</td>\n",
       "    </tr>\n",
       "    <tr>\n",
       "      <th>3</th>\n",
       "      <td>001-aggregates_003.png</td>\n",
       "      <td>0.955387</td>\n",
       "      <td>2.616215</td>\n",
       "      <td>0.798324</td>\n",
       "      <td>-0.600646</td>\n",
       "      <td>-1.396582</td>\n",
       "      <td>0.068432</td>\n",
       "      <td>-1.336661</td>\n",
       "      <td>-0.733416</td>\n",
       "      <td>1.022640</td>\n",
       "      <td>...</td>\n",
       "      <td>0.656353</td>\n",
       "      <td>0.334594</td>\n",
       "      <td>-0.089904</td>\n",
       "      <td>1.448092</td>\n",
       "      <td>0.970404</td>\n",
       "      <td>2.185549</td>\n",
       "      <td>0.123249</td>\n",
       "      <td>-2.641407</td>\n",
       "      <td>-0.134512</td>\n",
       "      <td>0.589413</td>\n",
       "    </tr>\n",
       "    <tr>\n",
       "      <th>4</th>\n",
       "      <td>001-aggregates_006.png</td>\n",
       "      <td>0.341750</td>\n",
       "      <td>-0.847429</td>\n",
       "      <td>-0.067560</td>\n",
       "      <td>-0.415468</td>\n",
       "      <td>1.302986</td>\n",
       "      <td>-0.199045</td>\n",
       "      <td>0.180813</td>\n",
       "      <td>-1.173031</td>\n",
       "      <td>-0.381453</td>\n",
       "      <td>...</td>\n",
       "      <td>0.838327</td>\n",
       "      <td>0.417953</td>\n",
       "      <td>-0.713181</td>\n",
       "      <td>-1.342573</td>\n",
       "      <td>-0.427658</td>\n",
       "      <td>-0.305121</td>\n",
       "      <td>-0.123370</td>\n",
       "      <td>0.124106</td>\n",
       "      <td>1.251320</td>\n",
       "      <td>-0.722199</td>\n",
       "    </tr>\n",
       "  </tbody>\n",
       "</table>\n",
       "<p>5 rows × 1101 columns</p>\n",
       "</div>"
      ],
      "text/plain": [
       "                     0         1         2         3         4         5     \\\n",
       "0                0002.png  0.344972 -0.928782  0.804029 -0.479591  0.588745   \n",
       "1     0003-aggregates.png  2.879473  1.522155  0.639572  1.457542 -0.921154   \n",
       "2     0008-aggregates.png -0.640206 -1.348753  0.012081  0.694277 -0.467492   \n",
       "3  001-aggregates_003.png  0.955387  2.616215  0.798324 -0.600646 -1.396582   \n",
       "4  001-aggregates_006.png  0.341750 -0.847429 -0.067560 -0.415468  1.302986   \n",
       "\n",
       "       6         7         8         9     ...      1091      1092      1093  \\\n",
       "0  1.549811 -0.000783 -1.551123 -0.597946  ... -0.327792  0.296356  2.348425   \n",
       "1  2.390067 -0.762593  2.038160 -1.320133  ...  0.660299  0.814411 -0.260897   \n",
       "2  0.277465  1.431348  0.006000  0.473003  ... -0.308303 -0.145306  0.199854   \n",
       "3  0.068432 -1.336661 -0.733416  1.022640  ...  0.656353  0.334594 -0.089904   \n",
       "4 -0.199045  0.180813 -1.173031 -0.381453  ...  0.838327  0.417953 -0.713181   \n",
       "\n",
       "       1094      1095      1096      1097      1098      1099      1100  \n",
       "0 -1.628121  0.643192  0.401500 -0.934512 -0.143353 -1.330135 -0.826922  \n",
       "1  0.991871  0.912935 -2.164270 -1.210537 -1.498188  0.152277  1.376036  \n",
       "2  0.933020 -1.268828  0.360317 -0.532387 -0.035153 -0.374522  0.471007  \n",
       "3  1.448092  0.970404  2.185549  0.123249 -2.641407 -0.134512  0.589413  \n",
       "4 -1.342573 -0.427658 -0.305121 -0.123370  0.124106  1.251320 -0.722199  \n",
       "\n",
       "[5 rows x 1101 columns]"
      ]
     },
     "metadata": {},
     "output_type": "display_data"
    },
    {
     "data": {
      "text/plain": [
       "(14700, 1101)"
      ]
     },
     "metadata": {},
     "output_type": "display_data"
    }
   ],
   "source": [
    "X_HOG_train_dff = pd.DataFrame(data = X_HOG_std_validation)\n",
    "X_HOG_train_df = pd.DataFrame(data = dfFoldValidation_1[\"short_filenames\"])\n",
    "\n",
    "X_HOG_train_df = pd.concat([X_HOG_train_df,X_HOG_train_dff], axis=1)\n",
    "X_HOG_train_df.columns = pd.RangeIndex(X_HOG_train_df.columns.size)\n",
    "\n",
    "display(X_HOG_train_df.head(5), X_HOG_train_df.shape)\n",
    "\n",
    "X_HOG_train_df.to_csv(\"..//_inputs//_image_features//new//X-HOG_std_PCA_1100_std-validation-fold_2.csv\", header=False, index=False)"
   ]
  },
  {
   "attachments": {},
   "cell_type": "markdown",
   "metadata": {},
   "source": [
    "##### 4.2. For test set\n",
    "\n",
    "<u><b> Remarks :</b></u> We use 4-fold cross validaiton. Then, we need also to compute each kind of features for test set.\n",
    "So, for the test set, we extract 4 sets of features for each fold"
   ]
  },
  {
   "cell_type": "code",
   "execution_count": null,
   "metadata": {},
   "outputs": [],
   "source": [
    "dfTest = pd.read_csv('..//_inputs//_images_Zooscan//ZooScan-test_img.csv')"
   ]
  },
  {
   "cell_type": "code",
   "execution_count": null,
   "metadata": {},
   "outputs": [
    {
     "data": {
      "application/vnd.jupyter.widget-view+json": {
       "model_id": "484c3c1e466b4e759ce3faceaf3b37dc",
       "version_major": 2,
       "version_minor": 0
      },
      "text/plain": [
       "Extract HOG:   0%|          | 0/6907 [00:00<?, ?it/s]"
      ]
     },
     "metadata": {},
     "output_type": "display_data"
    }
   ],
   "source": [
    "#Extract HOG features for the test set\n",
    "HOG_test_list = extract_hog(dfTest)"
   ]
  },
  {
   "cell_type": "code",
   "execution_count": null,
   "metadata": {},
   "outputs": [],
   "source": [
    "# standard deviation normalization \n",
    "HOG_test_list_std = train_std_norm.transform(HOG_test_list)\n",
    "# Transform the HOG features using above PCA fitting\n",
    "HOG_PCA_test = pca_HOG_std_2.transform(HOG_test_list_std)"
   ]
  },
  {
   "cell_type": "code",
   "execution_count": null,
   "metadata": {},
   "outputs": [
    {
     "name": "stdout",
     "output_type": "stream",
     "text": [
      "Original shape:    (6907, 2048)\n",
      "Transformed shape: (6907, 1100)\n"
     ]
    }
   ],
   "source": [
    "print(\"Original shape:   \", HOG_test_list.shape)\n",
    "print(\"Transformed shape:\", HOG_PCA_test.shape)"
   ]
  },
  {
   "cell_type": "code",
   "execution_count": null,
   "metadata": {},
   "outputs": [],
   "source": [
    "# standard deviation normalization using above std_scale_train = preprocessing.StandardScaler().fit(HOG_PCA_train)\n",
    "X_HOG_std_test = std_scale_train_2.transform(HOG_PCA_test)"
   ]
  },
  {
   "cell_type": "code",
   "execution_count": null,
   "metadata": {},
   "outputs": [
    {
     "data": {
      "text/html": [
       "<div>\n",
       "<style scoped>\n",
       "    .dataframe tbody tr th:only-of-type {\n",
       "        vertical-align: middle;\n",
       "    }\n",
       "\n",
       "    .dataframe tbody tr th {\n",
       "        vertical-align: top;\n",
       "    }\n",
       "\n",
       "    .dataframe thead th {\n",
       "        text-align: right;\n",
       "    }\n",
       "</style>\n",
       "<table border=\"1\" class=\"dataframe\">\n",
       "  <thead>\n",
       "    <tr style=\"text-align: right;\">\n",
       "      <th></th>\n",
       "      <th>0</th>\n",
       "      <th>1</th>\n",
       "      <th>2</th>\n",
       "      <th>3</th>\n",
       "      <th>4</th>\n",
       "      <th>5</th>\n",
       "      <th>6</th>\n",
       "      <th>7</th>\n",
       "      <th>8</th>\n",
       "      <th>9</th>\n",
       "      <th>...</th>\n",
       "      <th>1091</th>\n",
       "      <th>1092</th>\n",
       "      <th>1093</th>\n",
       "      <th>1094</th>\n",
       "      <th>1095</th>\n",
       "      <th>1096</th>\n",
       "      <th>1097</th>\n",
       "      <th>1098</th>\n",
       "      <th>1099</th>\n",
       "      <th>1100</th>\n",
       "    </tr>\n",
       "  </thead>\n",
       "  <tbody>\n",
       "    <tr>\n",
       "      <th>0</th>\n",
       "      <td>0007-aggregates_002.png</td>\n",
       "      <td>-0.084828</td>\n",
       "      <td>0.324666</td>\n",
       "      <td>1.042687</td>\n",
       "      <td>-1.079308</td>\n",
       "      <td>-0.481635</td>\n",
       "      <td>-0.935537</td>\n",
       "      <td>-0.155899</td>\n",
       "      <td>-0.310544</td>\n",
       "      <td>0.416677</td>\n",
       "      <td>...</td>\n",
       "      <td>-0.357494</td>\n",
       "      <td>-1.122227</td>\n",
       "      <td>0.079258</td>\n",
       "      <td>0.378196</td>\n",
       "      <td>-0.976928</td>\n",
       "      <td>-1.336399</td>\n",
       "      <td>0.002920</td>\n",
       "      <td>-1.346101</td>\n",
       "      <td>-0.485684</td>\n",
       "      <td>-0.687447</td>\n",
       "    </tr>\n",
       "    <tr>\n",
       "      <th>1</th>\n",
       "      <td>0009-aggregates_001.png</td>\n",
       "      <td>1.076887</td>\n",
       "      <td>-1.309871</td>\n",
       "      <td>-0.728400</td>\n",
       "      <td>0.500154</td>\n",
       "      <td>1.074758</td>\n",
       "      <td>-2.587898</td>\n",
       "      <td>0.409962</td>\n",
       "      <td>0.315233</td>\n",
       "      <td>-1.211380</td>\n",
       "      <td>...</td>\n",
       "      <td>0.846101</td>\n",
       "      <td>-0.873514</td>\n",
       "      <td>-1.152154</td>\n",
       "      <td>-0.900361</td>\n",
       "      <td>1.178646</td>\n",
       "      <td>2.226271</td>\n",
       "      <td>0.205222</td>\n",
       "      <td>0.391807</td>\n",
       "      <td>1.355143</td>\n",
       "      <td>-1.178915</td>\n",
       "    </tr>\n",
       "    <tr>\n",
       "      <th>2</th>\n",
       "      <td>0012-aggregates_002.png</td>\n",
       "      <td>-0.255591</td>\n",
       "      <td>-0.889571</td>\n",
       "      <td>0.861222</td>\n",
       "      <td>0.405446</td>\n",
       "      <td>-0.221765</td>\n",
       "      <td>0.628911</td>\n",
       "      <td>-0.856405</td>\n",
       "      <td>-0.382488</td>\n",
       "      <td>-0.706104</td>\n",
       "      <td>...</td>\n",
       "      <td>0.374484</td>\n",
       "      <td>-0.722594</td>\n",
       "      <td>0.320618</td>\n",
       "      <td>0.226189</td>\n",
       "      <td>-0.664762</td>\n",
       "      <td>0.174853</td>\n",
       "      <td>1.289655</td>\n",
       "      <td>-0.892794</td>\n",
       "      <td>-1.037260</td>\n",
       "      <td>0.951886</td>\n",
       "    </tr>\n",
       "    <tr>\n",
       "      <th>3</th>\n",
       "      <td>002-aggregates_001.png</td>\n",
       "      <td>0.772760</td>\n",
       "      <td>0.978373</td>\n",
       "      <td>-1.204573</td>\n",
       "      <td>-0.973090</td>\n",
       "      <td>-0.148900</td>\n",
       "      <td>1.238766</td>\n",
       "      <td>0.371844</td>\n",
       "      <td>0.153808</td>\n",
       "      <td>0.602470</td>\n",
       "      <td>...</td>\n",
       "      <td>-0.138676</td>\n",
       "      <td>1.078928</td>\n",
       "      <td>1.373407</td>\n",
       "      <td>-1.498287</td>\n",
       "      <td>0.856990</td>\n",
       "      <td>-1.426160</td>\n",
       "      <td>1.030719</td>\n",
       "      <td>-0.098940</td>\n",
       "      <td>0.844066</td>\n",
       "      <td>0.673098</td>\n",
       "    </tr>\n",
       "    <tr>\n",
       "      <th>4</th>\n",
       "      <td>002-aggregates_007.png</td>\n",
       "      <td>1.636996</td>\n",
       "      <td>-0.068754</td>\n",
       "      <td>1.050464</td>\n",
       "      <td>0.347307</td>\n",
       "      <td>1.580382</td>\n",
       "      <td>1.571963</td>\n",
       "      <td>1.923754</td>\n",
       "      <td>-1.101774</td>\n",
       "      <td>-2.523573</td>\n",
       "      <td>...</td>\n",
       "      <td>1.465811</td>\n",
       "      <td>-0.777160</td>\n",
       "      <td>1.746052</td>\n",
       "      <td>-1.557608</td>\n",
       "      <td>-0.730564</td>\n",
       "      <td>-1.205231</td>\n",
       "      <td>1.563719</td>\n",
       "      <td>0.291714</td>\n",
       "      <td>-0.097705</td>\n",
       "      <td>1.287043</td>\n",
       "    </tr>\n",
       "  </tbody>\n",
       "</table>\n",
       "<p>5 rows × 1101 columns</p>\n",
       "</div>"
      ],
      "text/plain": [
       "                      0         1         2         3         4         5     \\\n",
       "0  0007-aggregates_002.png -0.084828  0.324666  1.042687 -1.079308 -0.481635   \n",
       "1  0009-aggregates_001.png  1.076887 -1.309871 -0.728400  0.500154  1.074758   \n",
       "2  0012-aggregates_002.png -0.255591 -0.889571  0.861222  0.405446 -0.221765   \n",
       "3   002-aggregates_001.png  0.772760  0.978373 -1.204573 -0.973090 -0.148900   \n",
       "4   002-aggregates_007.png  1.636996 -0.068754  1.050464  0.347307  1.580382   \n",
       "\n",
       "       6         7         8         9     ...      1091      1092      1093  \\\n",
       "0 -0.935537 -0.155899 -0.310544  0.416677  ... -0.357494 -1.122227  0.079258   \n",
       "1 -2.587898  0.409962  0.315233 -1.211380  ...  0.846101 -0.873514 -1.152154   \n",
       "2  0.628911 -0.856405 -0.382488 -0.706104  ...  0.374484 -0.722594  0.320618   \n",
       "3  1.238766  0.371844  0.153808  0.602470  ... -0.138676  1.078928  1.373407   \n",
       "4  1.571963  1.923754 -1.101774 -2.523573  ...  1.465811 -0.777160  1.746052   \n",
       "\n",
       "       1094      1095      1096      1097      1098      1099      1100  \n",
       "0  0.378196 -0.976928 -1.336399  0.002920 -1.346101 -0.485684 -0.687447  \n",
       "1 -0.900361  1.178646  2.226271  0.205222  0.391807  1.355143 -1.178915  \n",
       "2  0.226189 -0.664762  0.174853  1.289655 -0.892794 -1.037260  0.951886  \n",
       "3 -1.498287  0.856990 -1.426160  1.030719 -0.098940  0.844066  0.673098  \n",
       "4 -1.557608 -0.730564 -1.205231  1.563719  0.291714 -0.097705  1.287043  \n",
       "\n",
       "[5 rows x 1101 columns]"
      ]
     },
     "metadata": {},
     "output_type": "display_data"
    },
    {
     "data": {
      "text/plain": [
       "(6907, 1101)"
      ]
     },
     "metadata": {},
     "output_type": "display_data"
    }
   ],
   "source": [
    "X_HOG_train_dff = pd.DataFrame(data = X_HOG_std_test)\n",
    "X_HOG_train_df = pd.DataFrame(data = dfTest[\"short_filenames\"])\n",
    "\n",
    "X_HOG_train_df = pd.concat([X_HOG_train_df,X_HOG_train_dff], axis=1)\n",
    "X_HOG_train_df.columns = pd.RangeIndex(X_HOG_train_df.columns.size)\n",
    "\n",
    "display(X_HOG_train_df.head(5), X_HOG_train_df.shape)\n",
    "\n",
    "X_HOG_train_df.to_csv(\"..//_inputs//_image_features//new//X-HOG_std_PCA_1100_std-test-fold_2.csv\", header=False, index=False)"
   ]
  }
 ],
 "metadata": {
  "kernelspec": {
   "display_name": "image_processing",
   "language": "python",
   "name": "python3"
  },
  "language_info": {
   "codemirror_mode": {
    "name": "ipython",
    "version": 3
   },
   "file_extension": ".py",
   "mimetype": "text/x-python",
   "name": "python",
   "nbconvert_exporter": "python",
   "pygments_lexer": "ipython3",
   "version": "3.8.16"
  },
  "orig_nbformat": 4
 },
 "nbformat": 4,
 "nbformat_minor": 2
}
