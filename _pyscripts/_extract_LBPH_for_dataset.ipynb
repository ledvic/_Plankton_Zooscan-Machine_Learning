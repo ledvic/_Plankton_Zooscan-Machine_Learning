{
 "cells": [
  {
   "attachments": {},
   "cell_type": "markdown",
   "id": "53102324-5df3-44f6-9b6b-3b0983d53bed",
   "metadata": {},
   "source": [
    "# 1. Remarks\n",
    "1.  Split dataset int train & test sets\n",
    "\n",
    "2.  Do 4-fold cross validation.\n",
    "    - Split train set into training & validation sets by 4-fold (i.e., 3 training parts + 1 validation part)\n",
    "    - Train the models\n",
    "    - We obtain 4 different trained models \n",
    "    - Evaluate those 4 trained models using test set\n",
    "    \n",
    "    \n",
    "3.  Because using 4-fold cross validation, we need to do the feature extraction separately for each fold\n",
    "\n",
    "    The reason is that we must standardize / normalize the feature (for training & validation sets) before fitting into the model\n",
    "    \n",
    "4.  Step-by-step doing feature extraction for each fold \n",
    "    * From the training set, we do:\n",
    "        - SIFT + bags of visual words (i.e., k-means clustering) \n",
    "        - Gabor \n",
    "        - HOG + PCA \n",
    "        - LBP histogram + PCA\n",
    "    *  Standardize the features for training set\n",
    "    *  Fit obtained standardization into validation set and also test set \n"
   ]
  },
  {
   "cell_type": "code",
   "execution_count": 1,
   "id": "3fe648ea-3efc-4379-b3b1-73cecd39f585",
   "metadata": {},
   "outputs": [],
   "source": [
    "import os\n",
    "\n",
    "import pandas as pd\n",
    "\n",
    "import numpy as np\n",
    "from numpy import random\n",
    "\n",
    "from random import sample\n",
    "\n",
    "import matplotlib.pyplot as plt\n",
    "\n",
    "import skimage\n",
    "from skimage import io\n",
    "from skimage.feature import local_binary_pattern\n",
    "from skimage.color import label2rgb, rgb2gray\n",
    "from skimage.transform import resize, rotate, downscale_local_mean, rescale\n",
    "\n",
    "from scipy import ndimage as ndi\n",
    "from skimage.util import img_as_float\n",
    "from skimage.filters import gabor_kernel\n",
    "\n",
    "from sklearn.cluster import MiniBatchKMeans\n",
    "from sklearn.decomposition import PCA\n",
    "from sklearn import preprocessing\n",
    "from skimage import exposure\n",
    "\n",
    "from sklearn.preprocessing import Normalizer\n",
    "from matplotlib.ticker import MaxNLocator\n",
    "from sklearn.preprocessing import StandardScaler\n",
    "\n",
    "from tqdm.notebook import tqdm\n",
    "\n",
    "# from tqdm import tqdm\n",
    "\n",
    "import gc\n",
    "\n",
    "from joblib import Parallel, delayed"
   ]
  },
  {
   "cell_type": "code",
   "execution_count": 2,
   "id": "da6d3b8b-c911-4be7-aab6-23a579d4a733",
   "metadata": {},
   "outputs": [
    {
     "name": "stdout",
     "output_type": "stream",
     "text": [
      "3.8.16\n"
     ]
    }
   ],
   "source": [
    "from platform import python_version\n",
    "\n",
    "print(python_version())"
   ]
  },
  {
   "cell_type": "code",
   "execution_count": 3,
   "id": "f317f0e6-4b22-45df-bb8e-40bcf4a13afb",
   "metadata": {},
   "outputs": [
    {
     "name": "stdout",
     "output_type": "stream",
     "text": [
      "0.19.2\n"
     ]
    }
   ],
   "source": [
    "print(skimage.__version__)"
   ]
  },
  {
   "attachments": {},
   "cell_type": "markdown",
   "id": "6323ecf6-469a-46a5-8748-8e12b376ee23",
   "metadata": {},
   "source": [
    "# 1. Extract LBPH + PCA features\n",
    "\n",
    "<u><b>Remarks:</b></u>\n",
    "1. Read training-validation sets of a fold and test set\n",
    "2. For training set:\n",
    "    1. Extract LBP-H features: LBPH_list (num_of_images, num_of_HOG_feature)\n",
    "    2. Standard deviation normalization the HOG_list. Let's say Std_scaler()\n",
    "    3. Using PCA, analyze how many components to keep\n",
    "    4. Reducing number of features of HOG \n",
    "3. For validation set:\n",
    "    1. Extract HOG features\n",
    "    2. Using previous Std_scaler(), which perform on the training set, to normalize the HOG features\n",
    "    3. Apply PCA for dimension reduction\n",
    "4. For test set:\n",
    "    1. We do the same\n",
    "    2. Just be careful about the filename. Because we have only 1 test set. e.g., we could have test_HOG_fold_1, test_HOG_fold_2,...\n",
    "    "
   ]
  },
  {
   "attachments": {},
   "cell_type": "markdown",
   "id": "4ee2f034-f4a8-45c8-bb88-b270e1cec37e",
   "metadata": {},
   "source": [
    "## 1.1. Core functions"
   ]
  },
  {
   "cell_type": "code",
   "execution_count": 115,
   "id": "17a3840c",
   "metadata": {},
   "outputs": [],
   "source": [
    "img_blocks = 4\n",
    "n_points=72\n",
    "radius=2\n",
    "n_bins = n_points\n",
    "METHOD='uniform'\n",
    "\n",
    "scales = [1.0, 0.75, 0.5, 0.25]"
   ]
  },
  {
   "cell_type": "code",
   "execution_count": 13,
   "id": "6d017b41",
   "metadata": {},
   "outputs": [],
   "source": [
    "def compute_rotation_invariant_lbp_histogram(image, num_points, radius, num_bins):\n",
    "    lbp = local_binary_pattern(image, num_points, radius, method='uniform')\n",
    "    histogram, _ = np.histogram(lbp.ravel(), bins=num_bins, range=(0, num_bins))\n",
    "    histogram = histogram.astype(\"float\")\n",
    "    histogram /= (histogram.sum() + 1e-7)\n",
    "    return histogram\n",
    "\n",
    "def divide_image_into_blocks(image, num_blocks):\n",
    "    block_height = image.shape[0] // num_blocks\n",
    "    block_width = image.shape[1] // num_blocks\n",
    "    blocks = []\n",
    "    for i in range(num_blocks):\n",
    "        for j in range(num_blocks):\n",
    "            block = image[i*block_height : (i+1)*block_height, j*block_width : (j+1)*block_width]\n",
    "            blocks.append(block)\n",
    "    return blocks\n",
    "\n",
    "def compute_concatenated_lbp_histogram(image, num_points, radius, num_bins, num_blocks, scales):\n",
    "    histograms = []\n",
    "    for scale in scales:\n",
    "        scaled_image = rescale(image, scale, mode='reflect')\n",
    "        blocks = divide_image_into_blocks(scaled_image, num_blocks)\n",
    "        for block in blocks:\n",
    "            histogram = compute_rotation_invariant_lbp_histogram(block, num_points, radius, num_bins)\n",
    "            histograms.append(histogram)\n",
    "    concatenated_histogram = np.concatenate(histograms)\n",
    "    return concatenated_histogram\n",
    "\n",
    "\n",
    "concatenated_histogram = compute_concatenated_lbp_histogram(image, num_points, radius, num_bins, num_blocks, scales)"
   ]
  },
  {
   "cell_type": "code",
   "execution_count": 71,
   "id": "08e3038c",
   "metadata": {},
   "outputs": [
    {
     "data": {
      "text/plain": [
       "([], [])"
      ]
     },
     "execution_count": 71,
     "metadata": {},
     "output_type": "execute_result"
    },
    {
     "data": {
      "image/png": "[encoded data removed]",
      "text/plain": [
       "<Figure size 500x200 with 1 Axes>"
      ]
     },
     "metadata": {},
     "output_type": "display_data"
    }
   ],
   "source": [
    "# demos\n",
    "dfFoldTraining_1 = pd.read_csv('..//_inputs//_images_Zooscan//_Zooscan-training-fold_1.csv')\n",
    "\n",
    "img = io.imread(dfFoldTraining_1[\"filenames\"][0], as_gray=True)\n",
    "\n",
    "plt.figure(figsize=(5,2))\n",
    "\n",
    "plt.imshow(img,cmap='Greys_r')\n",
    "\n",
    "plt.title(str(img.shape))\n",
    "plt.xticks([])\n",
    "plt.yticks([])"
   ]
  },
  {
   "cell_type": "code",
   "execution_count": 72,
   "id": "ca2a3d57",
   "metadata": {},
   "outputs": [
    {
     "data": {
      "text/plain": [
       "(251, 251)"
      ]
     },
     "execution_count": 72,
     "metadata": {},
     "output_type": "execute_result"
    }
   ],
   "source": [
    "img.shape"
   ]
  },
  {
   "cell_type": "code",
   "execution_count": 73,
   "id": "3081f707",
   "metadata": {},
   "outputs": [
    {
     "data": {
      "text/plain": [
       "(16, 62, 62)"
      ]
     },
     "metadata": {},
     "output_type": "display_data"
    }
   ],
   "source": [
    "img_blocks = divide_image_into_blocks(img, 4)\n",
    "\n",
    "display(np.asarray(img_blocks).shape)"
   ]
  },
  {
   "cell_type": "code",
   "execution_count": 74,
   "id": "04652dec",
   "metadata": {},
   "outputs": [
    {
     "data": {
      "image/png": "[encoded data removed]",
      "text/plain": [
       "<Figure size 500x500 with 16 Axes>"
      ]
     },
     "metadata": {},
     "output_type": "display_data"
    }
   ],
   "source": [
    "# Display all blocks in a single figure\n",
    "num_plots = len(img_blocks)\n",
    "num_cols = int(np.sqrt(num_plots))\n",
    "num_rows = int(np.ceil(num_plots / num_cols))\n",
    "\n",
    "fig, axes = plt.subplots(num_rows, num_cols, figsize=(5, 5))\n",
    "\n",
    "\n",
    "for i, ax in enumerate(axes.flat):\n",
    "    if i < num_plots:\n",
    "        ax.imshow(img_blocks[i],cmap='gray', vmin=0, vmax=255)\n",
    "        ax.axes.xaxis.set_visible(False)\n",
    "        ax.axes.yaxis.set_visible(False)\n",
    "    else:\n",
    "        ax.axes.xaxis.set_visible(False)\n",
    "        ax.axes.yaxis.set_visible(False)\n",
    "\n",
    "fig.tight_layout(pad=0.3)\n",
    "plt.show()\n"
   ]
  },
  {
   "cell_type": "code",
   "execution_count": 75,
   "id": "1d128b86",
   "metadata": {},
   "outputs": [],
   "source": [
    "n_points=72\n",
    "radius=2\n",
    "n_bins = n_points\n",
    "METHOD='uniform'\n",
    "\n",
    "histograms=[]\n",
    "\n",
    "for img_block in img_blocks:\n",
    "    lbp = local_binary_pattern(img_block, n_points, radius, METHOD)\n",
    "    histogram, _ = np.histogram(lbp.ravel(), density=True, bins=n_bins, range=(0, n_bins))\n",
    "    \n",
    "    histograms.append(histogram)\n",
    "    \n",
    "concatenated_histogram = np.concatenate(histograms)"
   ]
  },
  {
   "cell_type": "code",
   "execution_count": 86,
   "id": "26d07365",
   "metadata": {},
   "outputs": [
    {
     "data": {
      "image/png": "[encoded data removed]",
      "text/plain": [
       "<Figure size 1500x500 with 16 Axes>"
      ]
     },
     "metadata": {},
     "output_type": "display_data"
    }
   ],
   "source": [
    "fig, axes = plt.subplots(num_rows, num_cols, figsize=(15, 5))\n",
    "fig.tight_layout(pad=2)\n",
    "\n",
    "for i, ax in enumerate(axes.flat):\n",
    "    if i < num_plots:\n",
    "        ax.hist(img_blocks[i].ravel(), bins=n_bins, range=(0, n_bins), color='gray', alpha=0.7)\n",
    "        ax.set_title(f'Block {i+1}')\n",
    "        ax.set_xlabel('Pixel Intensity')\n",
    "        ax.set_ylabel('Frequency')\n",
    "    else:\n",
    "        ax.axis('off')\n",
    "\n",
    "plt.show()\n"
   ]
  },
  {
   "cell_type": "code",
   "execution_count": 107,
   "id": "1f7ef9e1",
   "metadata": {},
   "outputs": [
    {
     "data": {
      "text/plain": [
       "array([0.12700477, 0.02990897, 0.01127005, 0.01170351, 0.01560468,\n",
       "       0.01170351, 0.01040312, 0.01733853, 0.0130039 , 0.01127005,\n",
       "       0.01343736, 0.01083658, 0.00736888, 0.01170351, 0.00736888,\n",
       "       0.00736888, 0.00736888, 0.00650195, 0.00650195, 0.0082358 ,\n",
       "       0.0047681 , 0.00346771, 0.00606849, 0.00520156, 0.0047681 ,\n",
       "       0.00996966, 0.00563502, 0.00433463, 0.00390117, 0.00650195,\n",
       "       0.00346771, 0.00910273, 0.00433463, 0.00433463, 0.00130039,\n",
       "       0.00433463, 0.00130039, 0.04594712, 0.00563502, 0.00606849,\n",
       "       0.00390117, 0.0047681 , 0.00303424, 0.01083658, 0.00606849,\n",
       "       0.0082358 , 0.00260078, 0.00650195, 0.00433463, 0.03771131,\n",
       "       0.00520156, 0.00563502, 0.00520156, 0.00693541, 0.00650195,\n",
       "       0.01473775, 0.00736888, 0.00736888, 0.00520156, 0.00996966,\n",
       "       0.01083658, 0.01213697, 0.01127005, 0.00996966, 0.01083658,\n",
       "       0.01213697, 0.01213697, 0.00996966, 0.00736888, 0.01517122,\n",
       "       0.01083658, 0.22886866])"
      ]
     },
     "execution_count": 107,
     "metadata": {},
     "output_type": "execute_result"
    }
   ],
   "source": [
    "histograms[i]"
   ]
  },
  {
   "cell_type": "code",
   "execution_count": 112,
   "id": "40f14472",
   "metadata": {},
   "outputs": [
    {
     "data": {
      "text/plain": [
       "(72,)"
      ]
     },
     "execution_count": 112,
     "metadata": {},
     "output_type": "execute_result"
    }
   ],
   "source": [
    "histograms[i].shape"
   ]
  },
  {
   "cell_type": "code",
   "execution_count": 113,
   "id": "65936ff8",
   "metadata": {},
   "outputs": [
    {
     "ename": "ValueError",
     "evalue": "The truth value of an array with more than one element is ambiguous. Use a.any() or a.all()",
     "output_type": "error",
     "traceback": [
      "\u001b[0;31m---------------------------------------------------------------------------\u001b[0m",
      "\u001b[0;31mValueError\u001b[0m                                Traceback (most recent call last)",
      "Cell \u001b[0;32mIn[113], line 1\u001b[0m\n\u001b[0;32m----> 1\u001b[0m np\u001b[39m.\u001b[39;49marange(histograms[i])\n",
      "\u001b[0;31mValueError\u001b[0m: The truth value of an array with more than one element is ambiguous. Use a.any() or a.all()"
     ]
    }
   ],
   "source": [
    "np.arange(histograms[i])"
   ]
  },
  {
   "cell_type": "code",
   "execution_count": 114,
   "id": "af361826",
   "metadata": {},
   "outputs": [
    {
     "data": {
      "text/plain": [
       "(72,)"
      ]
     },
     "metadata": {},
     "output_type": "display_data"
    },
    {
     "data": {
      "text/plain": [
       "<BarContainer object of 72 artists>"
      ]
     },
     "execution_count": 114,
     "metadata": {},
     "output_type": "execute_result"
    },
    {
     "data": {
      "image/png": "[encoded data removed]",
      "text/plain": [
       "<Figure size 500x200 with 1 Axes>"
      ]
     },
     "metadata": {},
     "output_type": "display_data"
    }
   ],
   "source": [
    "i=9\n",
    "\n",
    "display(histograms[i].shape)\n",
    "\n",
    "plt.figure(figsize=(5,2))\n",
    "\n",
    "plt.bar(np.arange(len(histograms[i])),histograms[i], facecolor='0.5')\n",
    "\n",
    "# plt.title(str(img.shape))\n",
    "# plt.xticks([])\n",
    "# plt.yticks([])"
   ]
  },
  {
   "cell_type": "code",
   "execution_count": 83,
   "id": "7e489f02",
   "metadata": {},
   "outputs": [
    {
     "name": "stderr",
     "output_type": "stream",
     "text": [
      "/tmp/ipykernel_18521/1398150271.py:5: MatplotlibDeprecationWarning: The label function was deprecated in Matplotlib 3.1 and will be removed in 3.8. Use Tick.label1 instead.\n",
      "  tick.label.set_fontsize(28)\n",
      "/tmp/ipykernel_18521/1398150271.py:7: MatplotlibDeprecationWarning: The label function was deprecated in Matplotlib 3.1 and will be removed in 3.8. Use Tick.label1 instead.\n",
      "  tick.label.set_fontsize(28)\n"
     ]
    },
    {
     "data": {
      "image/png": "[encoded data removed]",
      "text/plain": [
       "<Figure size 2000x1000 with 1 Axes>"
      ]
     },
     "metadata": {},
     "output_type": "display_data"
    }
   ],
   "source": [
    "ig, ax = plt.subplots(figsize=(20, 10))\n",
    "plt.bar( np.arange(len(concatenated_histogram)-72),concatenated_histogram[72:], facecolor='0.5')\n",
    "# ax.set_ylim(top=np.max(counts[:-1]+1))\n",
    "for tick in ax.xaxis.get_major_ticks():\n",
    "    tick.label.set_fontsize(28)\n",
    "for tick in ax.yaxis.get_major_ticks():\n",
    "    tick.label.set_fontsize(28)\n",
    "# plt.show()                                                             \n",
    "ax.set_xlabel('Uniform LBP values', fontsize=28)\n",
    "ax.set_ylabel('Percentage', fontsize=28)\n",
    "# ax.hist(hist, density=True, bins=n_bins, range=(0, n_bins), facecolor='0.5')\n",
    "\n",
    "# ax.set_xlim(right=n_bins+4)\n",
    "        \n",
    "plt.tight_layout()\n",
    "plt.show()"
   ]
  },
  {
   "attachments": {},
   "cell_type": "markdown",
   "id": "9c8ea395-1ccd-4645-86c4-d9ca4bca84ca",
   "metadata": {
    "tags": []
   },
   "source": [
    "## 5.2. main()\n",
    "\n",
    "### 5.2.1. For fold 1\n",
    "#### 1. Read path of fold 1 file"
   ]
  },
  {
   "cell_type": "code",
   "execution_count": null,
   "id": "b0befea6-35aa-4ae7-8996-e1de29775205",
   "metadata": {
    "tags": []
   },
   "outputs": [],
   "source": [
    "dfFoldTraining_1 = pd.read_csv('..//_inputs//_images_Zooscan//_Zooscan-training-fold_1.csv')\n",
    "dfFoldValidation_1 = pd.read_csv('..//_inputs//_images_Zooscan//_Zooscan-validation-fold_1.csv')"
   ]
  },
  {
   "attachments": {},
   "cell_type": "markdown",
   "id": "d78a3498-8e52-4328-85d9-53910a8e002d",
   "metadata": {},
   "source": [
    "#### 2. Extracting LBPH feature for the training set"
   ]
  },
  {
   "cell_type": "code",
   "execution_count": null,
   "id": "70b24955-6c0e-4f9f-9625-c91bc359ed95",
   "metadata": {},
   "outputs": [],
   "source": [
    "LBPH_list = extract_LBPH(dfFoldTraining_1)"
   ]
  },
  {
   "cell_type": "code",
   "execution_count": null,
   "id": "21741167-4bcd-41b8-bb58-6886a0a2c46c",
   "metadata": {},
   "outputs": [],
   "source": [
    "# create a standard deviation normalization for later uses\n",
    "train_std_norm = StandardScaler().fit(LBPH_list)"
   ]
  },
  {
   "cell_type": "code",
   "execution_count": null,
   "id": "9296e1b0-abdb-41e9-943d-b83c7f82c01b",
   "metadata": {},
   "outputs": [],
   "source": [
    "# Standard deviation normalization\n",
    "LBPH_list_std = train_std_norm.transform(LBPH_list)"
   ]
  },
  {
   "cell_type": "code",
   "execution_count": null,
   "id": "0b609ecc-2fee-4ff5-901b-3fa299e94fcc",
   "metadata": {},
   "outputs": [],
   "source": [
    "display(LBPH_list_std)"
   ]
  },
  {
   "cell_type": "code",
   "execution_count": null,
   "id": "13e77520-8103-455c-858b-8a017f8fa523",
   "metadata": {},
   "outputs": [],
   "source": [
    "print('Total LBPH features:',(LBPH_list_std.shape))"
   ]
  },
  {
   "attachments": {},
   "cell_type": "markdown",
   "id": "f6ddb3a6-4656-4bcf-812d-a93ae99b9dc5",
   "metadata": {},
   "source": [
    "#### 3. PCA analysis on the training set"
   ]
  },
  {
   "cell_type": "code",
   "execution_count": null,
   "id": "a2de386e-ef47-40ac-9cc1-7b68cc8c6370",
   "metadata": {},
   "outputs": [],
   "source": [
    "pca_LBPH_std = PCA().fit(LBPH_list_std)"
   ]
  },
  {
   "attachments": {},
   "cell_type": "markdown",
   "id": "3fe8703c-9e2e-43a8-96ad-f40d7791b8f7",
   "metadata": {},
   "source": [
    "##### 3.1. Plot PCA components and CEV\n",
    "\n",
    "From this, we can know number of components to keep"
   ]
  },
  {
   "cell_type": "code",
   "execution_count": null,
   "id": "ffd96a57-0b1b-4cfc-a614-597a49582a1e",
   "metadata": {},
   "outputs": [],
   "source": [
    "fig, ax = plt.subplots(figsize=(10, 5), tight_layout=True)\n",
    "\n",
    "ax.plot(np.cumsum(pca_LBPH_std.explained_variance_ratio_)*100, linewidth=2)\n",
    "ax.grid(color='r', linestyle='--', linewidth=1)\n",
    "\n",
    "ax.set_xlabel('Number of components')\n",
    "ax.set_ylabel('Cumulative explained variance');\n",
    "\n",
    "ax.set_yticks(np.arange(0,105,5))\n",
    "ax.set_xticks(np.arange(0,LBPH_list.shape[1],100))\n",
    "\n",
    "ax.axhline(y=90, linewidth=3, color='g', alpha=0.5)\n",
    "\n",
    "# ax.plot(800, 91, marker=\"o\", markersize=10, markeredgecolor=\"red\", markerfacecolor=\"green\")\n",
    "\n",
    "ax.set_title(\"PCA analysis on LBPH features of training set\")"
   ]
  },
  {
   "cell_type": "code",
   "execution_count": null,
   "id": "5129dbf7-fca8-4297-84c4-26878d1b16bc",
   "metadata": {},
   "outputs": [],
   "source": [
    "(np.cumsum(pca_LBPH_std.explained_variance_ratio_)*100)[700]"
   ]
  },
  {
   "attachments": {},
   "cell_type": "markdown",
   "id": "b04756f6-ddaa-4b09-9dbc-02b234ceafe6",
   "metadata": {},
   "source": [
    "<b>Remarks: More than 90% of variance is explained by first 700 components</b>"
   ]
  },
  {
   "attachments": {},
   "cell_type": "markdown",
   "id": "4188fa47-7017-4491-bda4-0d5fd742728f",
   "metadata": {},
   "source": [
    "##### 3.2. Kaiser's rule in statistics: Pick components which have eigenvalues >= 1 or 0.7\n"
   ]
  },
  {
   "cell_type": "code",
   "execution_count": null,
   "id": "41c890b5-c3fa-4bf9-aaea-323d3da2398f",
   "metadata": {},
   "outputs": [],
   "source": [
    "fig, ax = plt.subplots(figsize=(10, 5), tight_layout=True)\n",
    "\n",
    "ax.plot(pca_LBPH_std.explained_variance_, 'bo-', linewidth=2)\n",
    "ax.grid(color='r', linestyle='--', linewidth=1)\n",
    "\n",
    "ax.set_yticks(np.arange(0,125,5))\n",
    "ax.set_xticks(np.arange(0,LBPH_list.shape[1],100))\n",
    "\n",
    "ax.set_xlabel('Principal Component')\n",
    "ax.set_ylabel('Eigenvalue')\n",
    "plt.axhline(y=1, linewidth=1, color='g', alpha=0.5)\n",
    "plt.title('Scree Plot of PCA: Component Eigenvalues')"
   ]
  },
  {
   "cell_type": "code",
   "execution_count": null,
   "id": "8a2d28dd-a430-45e8-8822-f928b2f3c8f7",
   "metadata": {},
   "outputs": [],
   "source": [
    "print('\\nEigenvalues \\n%s' %pca_LBPH_std.explained_variance_)\n",
    "print('Eigenvectors \\n%s' %pca_LBPH_std.components_)"
   ]
  },
  {
   "cell_type": "code",
   "execution_count": null,
   "id": "5325eeae-bd95-4765-96c3-c9c9d85cfe53",
   "metadata": {},
   "outputs": [],
   "source": [
    "# kaiser's rule in statistics: Pick components which have eigenvalues >= 1 or 0.7\n",
    "a = pca_LBPH_std.explained_variance_ >= 1.0"
   ]
  },
  {
   "cell_type": "code",
   "execution_count": null,
   "id": "1b1332e0-8fac-4898-ac24-c904a7fb55a1",
   "metadata": {},
   "outputs": [],
   "source": [
    "a.sum()"
   ]
  },
  {
   "attachments": {},
   "cell_type": "markdown",
   "id": "0ecdd7c8-9089-4160-a996-539ac2d6341a",
   "metadata": {},
   "source": [
    "<b> Only 115 components are significant and should be kept </b>"
   ]
  },
  {
   "attachments": {},
   "cell_type": "markdown",
   "id": "24715e39-3c21-42e2-89ad-830f9d9e463e",
   "metadata": {},
   "source": [
    "#### 4. Fit PCA to the LBPH features\n",
    "\n",
    "1. We fit PCA (with n_components to keep) onto the training set\n",
    "2. Transform the training set with that PCA\n",
    "3. Use that PCA to transform the validation & test set\n",
    "\n",
    "##### 4.1. For training set"
   ]
  },
  {
   "cell_type": "code",
   "execution_count": null,
   "id": "38f9a14f-e7f1-4c96-9ab2-d873349be244",
   "metadata": {},
   "outputs": [],
   "source": [
    "# keep 1100 components which contribute to > 90 %\n",
    "pca_LBPH_std_2 = PCA(n_components=700)\n",
    "pca_LBPH_std_2.fit(LBPH_list_std)\n",
    "LBPH_PCA_train = pca_LBPH_std_2.transform(LBPH_list_std)\n",
    "print(\"Original shape:   \", LBPH_list_std.shape)\n",
    "print(\"Transformed shape:\", LBPH_PCA_train.shape)"
   ]
  },
  {
   "cell_type": "code",
   "execution_count": null,
   "id": "c148219f-6b2b-4163-978d-38d382fb51b8",
   "metadata": {},
   "outputs": [],
   "source": [
    "# LBPH for train set --- standardization again\n",
    "std_scale_train_2 = preprocessing.StandardScaler().fit(LBPH_PCA_train)"
   ]
  },
  {
   "cell_type": "code",
   "execution_count": null,
   "id": "01e48d39-34db-4665-a79a-e769b9708125",
   "metadata": {},
   "outputs": [],
   "source": [
    "# Save in file\n",
    "X_LBPH_std_train = std_scale_train_2.transform(LBPH_PCA_train)\n",
    "X_LBPH_train_dff = pd.DataFrame(data = X_LBPH_std_train)\n",
    "X_LBPH_train_df = pd.DataFrame(data = dfFoldTraining_1[\"short_filenames\"])\n",
    "\n",
    "X_LBPH_train_df = pd.concat([X_LBPH_train_df,X_LBPH_train_dff], axis=1)\n",
    "X_LBPH_train_df.columns = pd.RangeIndex(X_LBPH_train_df.columns.size)\n",
    "\n",
    "display(X_LBPH_train_df.head(5), X_LBPH_train_df.shape)\n",
    "\n",
    "X_LBPH_train_df.to_csv(\"..//_inputs//_image_features//new//X-LBPH_std_PCA_700_std-train-fold_1.csv\", header=False, index=False)"
   ]
  },
  {
   "attachments": {},
   "cell_type": "markdown",
   "id": "2f207cb8-194a-4aeb-bc06-fe369f96a659",
   "metadata": {},
   "source": [
    "##### 4.2. For validation set"
   ]
  },
  {
   "cell_type": "code",
   "execution_count": null,
   "id": "e50ca059-7783-4a2b-8654-d2b5418829ad",
   "metadata": {},
   "outputs": [],
   "source": [
    "#Extract LBPH features for the validation set\n",
    "LBPH_validation_list = extract_LBPH(dfFoldValidation_1)"
   ]
  },
  {
   "cell_type": "code",
   "execution_count": null,
   "id": "2a9ae042-cfe5-47ad-94f7-b10ba0ca31eb",
   "metadata": {},
   "outputs": [],
   "source": [
    "# standard deviation normalization\n",
    "LBPH_validation_list_std = train_std_norm.transform(LBPH_validation_list)"
   ]
  },
  {
   "cell_type": "code",
   "execution_count": null,
   "id": "9bf8c8dd-fca7-4f73-9f7e-79d4ea1e9c0e",
   "metadata": {},
   "outputs": [],
   "source": [
    "# Transform the LBPH features using above PCA fitting\n",
    "LBPH_PCA_validation = pca_LBPH_std_2.transform(LBPH_validation_list_std)"
   ]
  },
  {
   "cell_type": "code",
   "execution_count": null,
   "id": "b93ac02b-9048-4134-a7e4-c7db852b601e",
   "metadata": {},
   "outputs": [],
   "source": [
    "print(\"Original shape:   \", LBPH_validation_list.shape)\n",
    "print(\"Transformed shape:\", LBPH_PCA_validation.shape)"
   ]
  },
  {
   "cell_type": "code",
   "execution_count": null,
   "id": "4bd395f6-2f04-4fb5-81bb-51c6a1a92051",
   "metadata": {},
   "outputs": [],
   "source": [
    "# standard deviation normalization using above std_scale_train = preprocessing.StandardScaler().fit(LBPH_PCA_train)\n",
    "X_LBPH_std_validation = std_scale_train_2.transform(LBPH_PCA_validation)"
   ]
  },
  {
   "cell_type": "code",
   "execution_count": null,
   "id": "3bba37af-032d-4e41-9445-b8a380291758",
   "metadata": {},
   "outputs": [],
   "source": [
    "X_LBPH_train_dff = pd.DataFrame(data = X_LBPH_std_validation)\n",
    "X_LBPH_train_df = pd.DataFrame(data = dfFoldValidation_1[\"short_filenames\"])\n",
    "\n",
    "X_LBPH_train_df = pd.concat([X_LBPH_train_df,X_LBPH_train_dff], axis=1)\n",
    "X_LBPH_train_df.columns = pd.RangeIndex(X_LBPH_train_df.columns.size)\n",
    "\n",
    "display(X_LBPH_train_df.head(5), X_LBPH_train_df.shape)\n",
    "\n",
    "X_LBPH_train_df.to_csv(\"..//_inputs//_image_features//new//X-LBPH_std_PCA_700_std-validation-fold_1.csv\", header=False, index=False)"
   ]
  },
  {
   "attachments": {},
   "cell_type": "markdown",
   "id": "a231ef9b-ec97-48f6-95e6-32f0f4650193",
   "metadata": {},
   "source": [
    "##### 4.2. For test set\n",
    "\n",
    "<u><b> Remarks :</b></u> We use 4-fold cross validaiton. Then, we need also to compute each kind of features for test set.\n",
    "So, for the test set, we extract 4 sets of features for each fold"
   ]
  },
  {
   "cell_type": "code",
   "execution_count": null,
   "id": "2151fd02-64e2-44ca-9c2f-9aef33986e3b",
   "metadata": {},
   "outputs": [],
   "source": [
    "dfTest = pd.read_csv('..//_inputs//_images_Zooscan//ZooScan-test_img.csv')"
   ]
  },
  {
   "cell_type": "code",
   "execution_count": null,
   "id": "cbfa1ccd-8cc0-40a1-9bcd-2ce5861eecca",
   "metadata": {},
   "outputs": [],
   "source": [
    "#Extract LBPH features for the test set\n",
    "LBPH_test_list = extract_LBPH(dfTest)"
   ]
  },
  {
   "cell_type": "code",
   "execution_count": null,
   "id": "8f816f48-56ec-45f5-9292-be552c18efdc",
   "metadata": {},
   "outputs": [],
   "source": [
    "# standard deviation normalization \n",
    "LBPH_test_list_std = train_std_norm.transform(LBPH_test_list)\n",
    "# Transform the LBPH features using above PCA fitting\n",
    "LBPH_PCA_test = pca_LBPH_std_2.transform(LBPH_test_list_std)"
   ]
  },
  {
   "cell_type": "code",
   "execution_count": null,
   "id": "345c82ed-ad78-45fd-8acb-d61ac90b2984",
   "metadata": {},
   "outputs": [],
   "source": [
    "print(\"Original shape:   \", LBPH_test_list.shape)\n",
    "print(\"Transformed shape:\", LBPH_PCA_test.shape)"
   ]
  },
  {
   "cell_type": "code",
   "execution_count": null,
   "id": "362eee8f-bd57-4fdb-9655-095f5b5a3eb5",
   "metadata": {},
   "outputs": [],
   "source": [
    "# standard deviation normalization using above std_scale_train = preprocessing.StandardScaler().fit(LBPH_PCA_train)\n",
    "X_LBPH_std_test = std_scale_train_2.transform(LBPH_PCA_test)"
   ]
  },
  {
   "cell_type": "code",
   "execution_count": null,
   "id": "c61b5b91-1819-499f-a559-a2dbbf27d1ce",
   "metadata": {},
   "outputs": [],
   "source": [
    "X_LBPH_train_dff = pd.DataFrame(data = X_LBPH_std_test)\n",
    "X_LBPH_train_df = pd.DataFrame(data = dfTest[\"short_filenames\"])\n",
    "\n",
    "X_LBPH_train_df = pd.concat([X_LBPH_train_df,X_LBPH_train_dff], axis=1)\n",
    "X_LBPH_train_df.columns = pd.RangeIndex(X_LBPH_train_df.columns.size)\n",
    "\n",
    "display(X_LBPH_train_df.head(5), X_LBPH_train_df.shape)\n",
    "\n",
    "X_LBPH_train_df.to_csv(\"..//_inputs//_image_features//new//X-LBPH_std_PCA_700_std-test-fold_1.csv\", header=False, index=False)"
   ]
  },
  {
   "attachments": {},
   "cell_type": "markdown",
   "id": "7e404e07-4d72-4c8d-be73-febf741e93d0",
   "metadata": {
    "tags": []
   },
   "source": [
    "### 5.2.2. For fold 2\n",
    "#### 1. Read path of fold 1 file"
   ]
  },
  {
   "cell_type": "code",
   "execution_count": null,
   "id": "0e2ddf1c-05f9-4d9d-b1ff-2cd80c42c516",
   "metadata": {
    "tags": []
   },
   "outputs": [],
   "source": [
    "dfFoldTraining_1 = pd.read_csv('..//_inputs//_images_Zooscan//_Zooscan-training-fold_2.csv')\n",
    "dfFoldValidation_1 = pd.read_csv('..//_inputs//_images_Zooscan//_Zooscan-validation-fold_2.csv')"
   ]
  },
  {
   "attachments": {},
   "cell_type": "markdown",
   "id": "9bcb2300-32bf-4e28-bccf-206f6458b107",
   "metadata": {},
   "source": [
    "#### 2. Extracting LBPH feature for the training set"
   ]
  },
  {
   "cell_type": "code",
   "execution_count": null,
   "id": "929e1f75-94e7-49ce-af9a-796d2ce384c4",
   "metadata": {},
   "outputs": [],
   "source": [
    "LBPH_list = extract_LBPH(dfFoldTraining_1)"
   ]
  },
  {
   "cell_type": "code",
   "execution_count": null,
   "id": "4e690bd2-bd97-4f3a-b65d-9e402a0645d0",
   "metadata": {},
   "outputs": [],
   "source": [
    "# create a standard deviation normalization for later uses\n",
    "train_std_norm = StandardScaler().fit(LBPH_list)"
   ]
  },
  {
   "cell_type": "code",
   "execution_count": null,
   "id": "11b163b7-5289-410e-ade3-71f5b12a4173",
   "metadata": {},
   "outputs": [],
   "source": [
    "# Standard deviation normalization\n",
    "LBPH_list_std = train_std_norm.transform(LBPH_list)"
   ]
  },
  {
   "cell_type": "code",
   "execution_count": null,
   "id": "878f8057-f386-44f5-a5f1-bc37f6c23bda",
   "metadata": {},
   "outputs": [],
   "source": [
    "display(LBPH_list_std)"
   ]
  },
  {
   "cell_type": "code",
   "execution_count": null,
   "id": "06ac5203-8ee1-45e6-a677-0570c8719b7b",
   "metadata": {},
   "outputs": [],
   "source": [
    "print('Total LBPH features:',(LBPH_list_std.shape))"
   ]
  },
  {
   "attachments": {},
   "cell_type": "markdown",
   "id": "ac283274-9649-41f1-983e-a247a801ef59",
   "metadata": {},
   "source": [
    "#### 3. PCA analysis on the training set"
   ]
  },
  {
   "cell_type": "code",
   "execution_count": null,
   "id": "ec5a821c-8bc1-4741-9e93-65f0e0d18e04",
   "metadata": {},
   "outputs": [],
   "source": [
    "pca_LBPH_std = PCA().fit(LBPH_list_std)"
   ]
  },
  {
   "attachments": {},
   "cell_type": "markdown",
   "id": "f41ea341-8a95-426d-af3c-782493a00775",
   "metadata": {},
   "source": [
    "##### 3.1. Plot PCA components and CEV\n",
    "\n",
    "From this, we can know number of components to keep"
   ]
  },
  {
   "cell_type": "code",
   "execution_count": null,
   "id": "a4c7e032-f6bb-432d-87b1-6619287e604f",
   "metadata": {},
   "outputs": [],
   "source": [
    "fig, ax = plt.subplots(figsize=(10, 5), tight_layout=True)\n",
    "\n",
    "ax.plot(np.cumsum(pca_LBPH_std.explained_variance_ratio_)*100, linewidth=2)\n",
    "ax.grid(color='r', linestyle='--', linewidth=1)\n",
    "\n",
    "ax.set_xlabel('Number of components')\n",
    "ax.set_ylabel('Cumulative explained variance');\n",
    "\n",
    "ax.set_yticks(np.arange(0,105,5))\n",
    "ax.set_xticks(np.arange(0,LBPH_list.shape[1],100))\n",
    "\n",
    "ax.axhline(y=90, linewidth=3, color='g', alpha=0.5)\n",
    "\n",
    "# ax.plot(800, 91, marker=\"o\", markersize=10, markeredgecolor=\"red\", markerfacecolor=\"green\")\n",
    "\n",
    "ax.set_title(\"PCA analysis on LBPH features of training set\")"
   ]
  },
  {
   "cell_type": "code",
   "execution_count": null,
   "id": "9090502a-d2b4-46a8-8edf-82cbfb45d995",
   "metadata": {},
   "outputs": [],
   "source": [
    "(np.cumsum(pca_LBPH_std.explained_variance_ratio_)*100)[700]"
   ]
  },
  {
   "attachments": {},
   "cell_type": "markdown",
   "id": "ecf48dab-313f-49f3-a291-293180267ba6",
   "metadata": {},
   "source": [
    "<b>Remarks: More than 90% of variance is explained by first 700 components</b>"
   ]
  },
  {
   "cell_type": "code",
   "execution_count": null,
   "id": "668f68d1-c361-4656-9845-0d738997eed1",
   "metadata": {},
   "outputs": [],
   "source": [
    "print('\\nEigenvalues \\n%s' %pca_LBPH_std.explained_variance_)\n",
    "print('Eigenvectors \\n%s' %pca_LBPH_std.components_)"
   ]
  },
  {
   "attachments": {},
   "cell_type": "markdown",
   "id": "db475432-a6fb-4837-9543-579b3445df8f",
   "metadata": {},
   "source": [
    "#### 4. Fit PCA to the LBPH features\n",
    "\n",
    "1. We fit PCA (with n_components to keep) onto the training set\n",
    "2. Transform the training set with that PCA\n",
    "3. Use that PCA to transform the validation & test set\n",
    "\n",
    "##### 4.1. For training set"
   ]
  },
  {
   "cell_type": "code",
   "execution_count": null,
   "id": "94d5c4a8-47cd-4156-8fec-cda2a1294f53",
   "metadata": {},
   "outputs": [],
   "source": [
    "# keep 1100 components which contribute to > 90 %\n",
    "pca_LBPH_std_2 = PCA(n_components=700)\n",
    "pca_LBPH_std_2.fit(LBPH_list_std)\n",
    "LBPH_PCA_train = pca_LBPH_std_2.transform(LBPH_list_std)\n",
    "print(\"Original shape:   \", LBPH_list_std.shape)\n",
    "print(\"Transformed shape:\", LBPH_PCA_train.shape)"
   ]
  },
  {
   "cell_type": "code",
   "execution_count": null,
   "id": "96310876-bf14-4fc7-a4e8-1dd81be79346",
   "metadata": {},
   "outputs": [],
   "source": [
    "# LBPH for train set --- standardization again\n",
    "std_scale_train_2 = preprocessing.StandardScaler().fit(LBPH_PCA_train)"
   ]
  },
  {
   "cell_type": "code",
   "execution_count": null,
   "id": "d89e1345-aa7c-498f-97b2-aee273bda0e1",
   "metadata": {},
   "outputs": [],
   "source": [
    "# Save in file\n",
    "X_LBPH_std_train = std_scale_train_2.transform(LBPH_PCA_train)\n",
    "X_LBPH_train_dff = pd.DataFrame(data = X_LBPH_std_train)\n",
    "X_LBPH_train_df = pd.DataFrame(data = dfFoldTraining_1[\"short_filenames\"])\n",
    "\n",
    "X_LBPH_train_df = pd.concat([X_LBPH_train_df,X_LBPH_train_dff], axis=1)\n",
    "X_LBPH_train_df.columns = pd.RangeIndex(X_LBPH_train_df.columns.size)\n",
    "\n",
    "display(X_LBPH_train_df.head(5), X_LBPH_train_df.shape)\n",
    "\n",
    "X_LBPH_train_df.to_csv(\"..//_inputs//_image_features//new//X-LBPH_std_PCA_700_std-train-fold_2.csv\", header=False, index=False)"
   ]
  },
  {
   "attachments": {},
   "cell_type": "markdown",
   "id": "f56a2444-3d5b-4678-ba57-46cc9bd3322d",
   "metadata": {},
   "source": [
    "##### 4.2. For validation set"
   ]
  },
  {
   "cell_type": "code",
   "execution_count": null,
   "id": "8c93c73d-f926-4725-bc61-0bfd3ee9a923",
   "metadata": {},
   "outputs": [],
   "source": [
    "#Extract LBPH features for the validation set\n",
    "LBPH_validation_list = extract_LBPH(dfFoldValidation_1)"
   ]
  },
  {
   "cell_type": "code",
   "execution_count": null,
   "id": "2a450d89-841a-46ff-8e5b-5163a1d3ef74",
   "metadata": {},
   "outputs": [],
   "source": [
    "# standard deviation normalization\n",
    "LBPH_validation_list_std = train_std_norm.transform(LBPH_validation_list)"
   ]
  },
  {
   "cell_type": "code",
   "execution_count": null,
   "id": "f615654d-e7f4-46c9-ad26-9b3e77e8d41e",
   "metadata": {},
   "outputs": [],
   "source": [
    "# Transform the LBPH features using above PCA fitting\n",
    "LBPH_PCA_validation = pca_LBPH_std_2.transform(LBPH_validation_list_std)"
   ]
  },
  {
   "cell_type": "code",
   "execution_count": null,
   "id": "839f0cbc-f2da-44fa-bbd7-96cc74bc486c",
   "metadata": {},
   "outputs": [],
   "source": [
    "print(\"Original shape:   \", LBPH_validation_list.shape)\n",
    "print(\"Transformed shape:\", LBPH_PCA_validation.shape)"
   ]
  },
  {
   "cell_type": "code",
   "execution_count": null,
   "id": "b1d555ff-0161-43e6-b70e-06dedec409b7",
   "metadata": {},
   "outputs": [],
   "source": [
    "# standard deviation normalization using above std_scale_train = preprocessing.StandardScaler().fit(LBPH_PCA_train)\n",
    "X_LBPH_std_validation = std_scale_train_2.transform(LBPH_PCA_validation)"
   ]
  },
  {
   "cell_type": "code",
   "execution_count": null,
   "id": "1dbe1d93-ec6e-420c-8757-43547f0bdcd5",
   "metadata": {},
   "outputs": [],
   "source": [
    "X_LBPH_train_dff = pd.DataFrame(data = X_LBPH_std_validation)\n",
    "X_LBPH_train_df = pd.DataFrame(data = dfFoldValidation_1[\"short_filenames\"])\n",
    "\n",
    "X_LBPH_train_df = pd.concat([X_LBPH_train_df,X_LBPH_train_dff], axis=1)\n",
    "X_LBPH_train_df.columns = pd.RangeIndex(X_LBPH_train_df.columns.size)\n",
    "\n",
    "display(X_LBPH_train_df.head(5), X_LBPH_train_df.shape)\n",
    "\n",
    "X_LBPH_train_df.to_csv(\"..//_inputs//_image_features//new//X-LBPH_std_PCA_700_std-validation-fold_2.csv\", header=False, index=False)"
   ]
  },
  {
   "attachments": {},
   "cell_type": "markdown",
   "id": "664541c1-4004-41b4-b2ec-291c151d54c6",
   "metadata": {},
   "source": [
    "##### 4.2. For test set\n",
    "\n",
    "<u><b> Remarks :</b></u> We use 4-fold cross validaiton. Then, we need also to compute each kind of features for test set.\n",
    "So, for the test set, we extract 4 sets of features for each fold"
   ]
  },
  {
   "cell_type": "code",
   "execution_count": null,
   "id": "2b1822de-c45d-4725-85d5-568e7ff978d1",
   "metadata": {},
   "outputs": [],
   "source": [
    "dfTest = pd.read_csv('..//_inputs//_images_Zooscan//ZooScan-test_img.csv')"
   ]
  },
  {
   "cell_type": "code",
   "execution_count": null,
   "id": "85faaf65-4b38-4711-97d5-f31681627333",
   "metadata": {},
   "outputs": [],
   "source": [
    "#Extract LBPH features for the test set\n",
    "LBPH_test_list = extract_LBPH(dfTest)"
   ]
  },
  {
   "cell_type": "code",
   "execution_count": null,
   "id": "596d25d4-e34c-49a6-9979-97d4602125f2",
   "metadata": {},
   "outputs": [],
   "source": [
    "# standard deviation normalization \n",
    "LBPH_test_list_std = train_std_norm.transform(LBPH_test_list)\n",
    "# Transform the LBPH features using above PCA fitting\n",
    "LBPH_PCA_test = pca_LBPH_std_2.transform(LBPH_test_list_std)"
   ]
  },
  {
   "cell_type": "code",
   "execution_count": null,
   "id": "01878da9-6810-473b-b589-a3148298b45f",
   "metadata": {},
   "outputs": [],
   "source": [
    "print(\"Original shape:   \", LBPH_test_list.shape)\n",
    "print(\"Transformed shape:\", LBPH_PCA_test.shape)"
   ]
  },
  {
   "cell_type": "code",
   "execution_count": null,
   "id": "4e2526f5-2b8a-4bf2-8bc1-36be088c7452",
   "metadata": {},
   "outputs": [],
   "source": [
    "# standard deviation normalization using above std_scale_train = preprocessing.StandardScaler().fit(LBPH_PCA_train)\n",
    "X_LBPH_std_test = std_scale_train_2.transform(LBPH_PCA_test)"
   ]
  },
  {
   "cell_type": "code",
   "execution_count": null,
   "id": "362e3dbc-6435-44de-92b6-7969a0d14d31",
   "metadata": {},
   "outputs": [],
   "source": [
    "X_LBPH_train_dff = pd.DataFrame(data = X_LBPH_std_test)\n",
    "X_LBPH_train_df = pd.DataFrame(data = dfTest[\"short_filenames\"])\n",
    "\n",
    "X_LBPH_train_df = pd.concat([X_LBPH_train_df,X_LBPH_train_dff], axis=1)\n",
    "X_LBPH_train_df.columns = pd.RangeIndex(X_LBPH_train_df.columns.size)\n",
    "\n",
    "display(X_LBPH_train_df.head(5), X_LBPH_train_df.shape)\n",
    "\n",
    "X_LBPH_train_df.to_csv(\"..//_inputs//_image_features//new//X-LBPH_std_PCA_700_std-test-fold_2.csv\", header=False, index=False)\n",
    "\n",
    "### 3.1. Function definition"
   ]
  },
  {
   "attachments": {},
   "cell_type": "markdown",
   "id": "99889913-eaa2-4bb8-a589-f33e1e2a3b3b",
   "metadata": {
    "tags": []
   },
   "source": [
    "### 5.2.3. For fold 3\n",
    "\n",
    "#### 1. Read path of fold 1 file"
   ]
  },
  {
   "cell_type": "code",
   "execution_count": null,
   "id": "9416f162-b8b6-467c-9ca6-24fd125b82c6",
   "metadata": {
    "tags": []
   },
   "outputs": [],
   "source": [
    "dfFoldTraining_1 = pd.read_csv('..//_inputs//_images_Zooscan//_Zooscan-training-fold_3.csv')\n",
    "dfFoldValidation_1 = pd.read_csv('..//_inputs//_images_Zooscan//_Zooscan-validation-fold_3.csv')"
   ]
  },
  {
   "attachments": {},
   "cell_type": "markdown",
   "id": "f63523c1-0d38-4b45-b1b0-0c08c85d9d35",
   "metadata": {},
   "source": [
    "#### 2. Extracting LBPH feature for the training set"
   ]
  },
  {
   "cell_type": "code",
   "execution_count": null,
   "id": "97da78c5-31dd-4360-a07d-87252c8da7aa",
   "metadata": {},
   "outputs": [],
   "source": [
    "LBPH_list = extract_LBPH(dfFoldTraining_1)"
   ]
  },
  {
   "cell_type": "code",
   "execution_count": null,
   "id": "101fc932-27f1-4318-97a3-5d586adea466",
   "metadata": {},
   "outputs": [],
   "source": [
    "# create a standard deviation normalization for later uses\n",
    "train_std_norm = StandardScaler().fit(LBPH_list)"
   ]
  },
  {
   "cell_type": "code",
   "execution_count": null,
   "id": "6496cdc4-dd1e-44c1-9f7a-9b6c6534d0b9",
   "metadata": {},
   "outputs": [],
   "source": [
    "# Standard deviation normalization\n",
    "LBPH_list_std = train_std_norm.transform(LBPH_list)"
   ]
  },
  {
   "cell_type": "code",
   "execution_count": null,
   "id": "f66979f4-ddf8-49b0-aedb-c5beccf97503",
   "metadata": {},
   "outputs": [],
   "source": [
    "display(LBPH_list_std)"
   ]
  },
  {
   "cell_type": "code",
   "execution_count": null,
   "id": "6f8e95b1-8d9e-4fcf-81ea-824c6b370e07",
   "metadata": {},
   "outputs": [],
   "source": [
    "print('Total LBPH features:',(LBPH_list_std.shape))"
   ]
  },
  {
   "attachments": {},
   "cell_type": "markdown",
   "id": "997f5792-513e-4221-a291-96ae4232d39a",
   "metadata": {},
   "source": [
    "#### 3. PCA analysis on the training set"
   ]
  },
  {
   "cell_type": "code",
   "execution_count": null,
   "id": "c68f26be-fb95-41bd-abb7-0049a2d733c5",
   "metadata": {},
   "outputs": [],
   "source": [
    "pca_LBPH_std = PCA().fit(LBPH_list_std)"
   ]
  },
  {
   "attachments": {},
   "cell_type": "markdown",
   "id": "ade8344a-6c4c-460b-a951-14082f05322b",
   "metadata": {},
   "source": [
    "##### 3.1. Plot PCA components and CEV\n",
    "\n",
    "From this, we can know number of components to keep"
   ]
  },
  {
   "cell_type": "code",
   "execution_count": null,
   "id": "4cfee827-8545-42eb-8a77-da12bff78c0e",
   "metadata": {},
   "outputs": [],
   "source": [
    "fig, ax = plt.subplots(figsize=(10, 5), tight_layout=True)\n",
    "\n",
    "ax.plot(np.cumsum(pca_LBPH_std.explained_variance_ratio_)*100, linewidth=2)\n",
    "ax.grid(color='r', linestyle='--', linewidth=1)\n",
    "\n",
    "ax.set_xlabel('Number of components')\n",
    "ax.set_ylabel('Cumulative explained variance');\n",
    "\n",
    "ax.set_yticks(np.arange(0,105,5))\n",
    "ax.set_xticks(np.arange(0,LBPH_list.shape[1],100))\n",
    "\n",
    "ax.axhline(y=90, linewidth=3, color='g', alpha=0.5)\n",
    "\n",
    "# ax.plot(800, 91, marker=\"o\", markersize=10, markeredgecolor=\"red\", markerfacecolor=\"green\")\n",
    "\n",
    "ax.set_title(\"PCA analysis on LBPH features of training set\")"
   ]
  },
  {
   "cell_type": "code",
   "execution_count": null,
   "id": "104369a2-1381-4732-8be1-6859ff169168",
   "metadata": {},
   "outputs": [],
   "source": [
    "(np.cumsum(pca_LBPH_std.explained_variance_ratio_)*100)[700]"
   ]
  },
  {
   "attachments": {},
   "cell_type": "markdown",
   "id": "182e9846-6b8e-4109-9822-e7e4e06f590d",
   "metadata": {},
   "source": [
    "<b>Remarks: More than 90% of variance is explained by first 700 components</b>"
   ]
  },
  {
   "cell_type": "code",
   "execution_count": null,
   "id": "db050a6b-d04c-425d-a51a-cfd1507033cd",
   "metadata": {},
   "outputs": [],
   "source": [
    "print('\\nEigenvalues \\n%s' %pca_LBPH_std.explained_variance_)\n",
    "print('Eigenvectors \\n%s' %pca_LBPH_std.components_)"
   ]
  },
  {
   "attachments": {},
   "cell_type": "markdown",
   "id": "0e21fcf4-4c69-490c-b52b-4c594aed88b0",
   "metadata": {},
   "source": [
    "#### 4. Fit PCA to the LBPH features\n",
    "\n",
    "1. We fit PCA (with n_components to keep) onto the training set\n",
    "2. Transform the training set with that PCA\n",
    "3. Use that PCA to transform the validation & test set\n",
    "\n",
    "##### 4.1. For training set"
   ]
  },
  {
   "cell_type": "code",
   "execution_count": null,
   "id": "8a5c0077-d1b0-4869-a50a-ff8bc31d30af",
   "metadata": {},
   "outputs": [],
   "source": [
    "# keep 700 components which contribute to > 90 %\n",
    "pca_LBPH_std_2 = PCA(n_components=700)\n",
    "pca_LBPH_std_2.fit(LBPH_list_std)\n",
    "LBPH_PCA_train = pca_LBPH_std_2.transform(LBPH_list_std)\n",
    "print(\"Original shape:   \", LBPH_list_std.shape)\n",
    "print(\"Transformed shape:\", LBPH_PCA_train.shape)"
   ]
  },
  {
   "cell_type": "code",
   "execution_count": null,
   "id": "6adc58d1-353c-4c7d-840d-edd8930b04a2",
   "metadata": {},
   "outputs": [],
   "source": [
    "# LBPH for train set --- standardization again\n",
    "std_scale_train_2 = preprocessing.StandardScaler().fit(LBPH_PCA_train)"
   ]
  },
  {
   "cell_type": "code",
   "execution_count": null,
   "id": "6fc178da-60f7-4dbc-af46-0d1b386cb8e8",
   "metadata": {},
   "outputs": [],
   "source": [
    "# Save in file\n",
    "X_LBPH_std_train = std_scale_train_2.transform(LBPH_PCA_train)\n",
    "X_LBPH_train_dff = pd.DataFrame(data = X_LBPH_std_train)\n",
    "X_LBPH_train_df = pd.DataFrame(data = dfFoldTraining_1[\"short_filenames\"])\n",
    "\n",
    "X_LBPH_train_df = pd.concat([X_LBPH_train_df,X_LBPH_train_dff], axis=1)\n",
    "X_LBPH_train_df.columns = pd.RangeIndex(X_LBPH_train_df.columns.size)\n",
    "\n",
    "display(X_LBPH_train_df.head(5), X_LBPH_train_df.shape)\n",
    "\n",
    "X_LBPH_train_df.to_csv(\"..//_inputs//_image_features//new//X-LBPH_std_PCA_700_std-train-fold_3.csv\", header=False, index=False)"
   ]
  },
  {
   "attachments": {},
   "cell_type": "markdown",
   "id": "a321626c-6172-4c1e-952d-1b3761c8874a",
   "metadata": {},
   "source": [
    "##### 4.2. For validation set"
   ]
  },
  {
   "cell_type": "code",
   "execution_count": null,
   "id": "d136ca62-5b2a-4f37-9876-89d4e3dc0156",
   "metadata": {},
   "outputs": [],
   "source": [
    "#Extract LBPH features for the validation set\n",
    "LBPH_validation_list = extract_LBPH(dfFoldValidation_1)"
   ]
  },
  {
   "cell_type": "code",
   "execution_count": null,
   "id": "648c591e-d80a-465b-92da-169495700ead",
   "metadata": {},
   "outputs": [],
   "source": [
    "# standard deviation normalization\n",
    "LBPH_validation_list_std = train_std_norm.transform(LBPH_validation_list)"
   ]
  },
  {
   "cell_type": "code",
   "execution_count": null,
   "id": "5342370a-1766-42dc-ae18-6a02b858cff3",
   "metadata": {},
   "outputs": [],
   "source": [
    "# Transform the LBPH features using above PCA fitting\n",
    "LBPH_PCA_validation = pca_LBPH_std_2.transform(LBPH_validation_list_std)"
   ]
  },
  {
   "cell_type": "code",
   "execution_count": null,
   "id": "46a356c4-17b3-4aab-b1ac-3fe9120d9a3e",
   "metadata": {},
   "outputs": [],
   "source": [
    "print(\"Original shape:   \", LBPH_validation_list.shape)\n",
    "print(\"Transformed shape:\", LBPH_PCA_validation.shape)"
   ]
  },
  {
   "cell_type": "code",
   "execution_count": null,
   "id": "19492288-40a9-4593-8ffa-83a6fcbffedf",
   "metadata": {},
   "outputs": [],
   "source": [
    "# standard deviation normalization using above std_scale_train = preprocessing.StandardScaler().fit(LBPH_PCA_train)\n",
    "X_LBPH_std_validation = std_scale_train_2.transform(LBPH_PCA_validation)"
   ]
  },
  {
   "cell_type": "code",
   "execution_count": null,
   "id": "c6e450da-d245-41b1-b65d-7aa0482ede2b",
   "metadata": {},
   "outputs": [],
   "source": [
    "X_LBPH_train_dff = pd.DataFrame(data = X_LBPH_std_validation)\n",
    "X_LBPH_train_df = pd.DataFrame(data = dfFoldValidation_1[\"short_filenames\"])\n",
    "\n",
    "X_LBPH_train_df = pd.concat([X_LBPH_train_df,X_LBPH_train_dff], axis=1)\n",
    "X_LBPH_train_df.columns = pd.RangeIndex(X_LBPH_train_df.columns.size)\n",
    "\n",
    "display(X_LBPH_train_df.head(5), X_LBPH_train_df.shape)\n",
    "\n",
    "X_LBPH_train_df.to_csv(\"..//_inputs//_image_features//new//X-LBPH_std_PCA_700_std-validation-fold_3.csv\", header=False, index=False)"
   ]
  },
  {
   "attachments": {},
   "cell_type": "markdown",
   "id": "aeb51e3c-4875-4eac-933e-ab687dd8470b",
   "metadata": {},
   "source": [
    "##### 4.2. For test set\n",
    "\n",
    "<u><b> Remarks :</b></u> We use 4-fold cross validaiton. Then, we need also to compute each kind of features for test set.\n",
    "So, for the test set, we extract 4 sets of features for each fold"
   ]
  },
  {
   "cell_type": "code",
   "execution_count": null,
   "id": "607d1796-e48b-4fbf-9232-0902eb6d1479",
   "metadata": {},
   "outputs": [],
   "source": [
    "dfTest = pd.read_csv('..//_inputs//_images_Zooscan//ZooScan-test_img.csv')"
   ]
  },
  {
   "cell_type": "code",
   "execution_count": null,
   "id": "eac45716-c130-4e6f-8122-470017465f6b",
   "metadata": {},
   "outputs": [],
   "source": [
    "#Extract LBPH features for the test set\n",
    "LBPH_test_list = extract_LBPH(dfTest)"
   ]
  },
  {
   "cell_type": "code",
   "execution_count": null,
   "id": "27954313-80c2-4cb6-890e-5daebc1e001e",
   "metadata": {},
   "outputs": [],
   "source": [
    "# standard deviation normalization \n",
    "LBPH_test_list_std = train_std_norm.transform(LBPH_test_list)\n",
    "# Transform the LBPH features using above PCA fitting\n",
    "LBPH_PCA_test = pca_LBPH_std_2.transform(LBPH_test_list_std)"
   ]
  },
  {
   "cell_type": "code",
   "execution_count": null,
   "id": "59935a02-fbd8-4a24-8e4a-7d7ae06442b7",
   "metadata": {},
   "outputs": [],
   "source": [
    "print(\"Original shape:   \", LBPH_test_list.shape)\n",
    "print(\"Transformed shape:\", LBPH_PCA_test.shape)"
   ]
  },
  {
   "cell_type": "code",
   "execution_count": null,
   "id": "16c856c8-0093-4def-912f-913f6bbe0884",
   "metadata": {},
   "outputs": [],
   "source": [
    "# standard deviation normalization using above std_scale_train = preprocessing.StandardScaler().fit(LBPH_PCA_train)\n",
    "X_LBPH_std_test = std_scale_train_2.transform(LBPH_PCA_test)"
   ]
  },
  {
   "cell_type": "code",
   "execution_count": null,
   "id": "d7ab7b56-ad3f-44a2-882f-c4b8a88d0766",
   "metadata": {},
   "outputs": [],
   "source": [
    "X_LBPH_train_dff = pd.DataFrame(data = X_LBPH_std_test)\n",
    "X_LBPH_train_df = pd.DataFrame(data = dfTest[\"short_filenames\"])\n",
    "\n",
    "X_LBPH_train_df = pd.concat([X_LBPH_train_df,X_LBPH_train_dff], axis=1)\n",
    "X_LBPH_train_df.columns = pd.RangeIndex(X_LBPH_train_df.columns.size)\n",
    "\n",
    "display(X_LBPH_train_df.head(5), X_LBPH_train_df.shape)\n",
    "\n",
    "X_LBPH_train_df.to_csv(\"..//_inputs//_image_features//new//X-LBPH_std_PCA_700_std-test-fold_3.csv\", header=False, index=False)\n",
    "\n",
    "### 3.1. Function definition"
   ]
  },
  {
   "attachments": {},
   "cell_type": "markdown",
   "id": "5fe3f595-a21f-4f7d-8829-894d194bccbc",
   "metadata": {
    "tags": []
   },
   "source": [
    "### 5.2.4. For fold 4\n",
    "\n",
    "#### 1. Read path of fold 1 file"
   ]
  },
  {
   "cell_type": "code",
   "execution_count": null,
   "id": "2f1c712f-c09b-4c35-a7df-11c101fc2909",
   "metadata": {
    "tags": []
   },
   "outputs": [],
   "source": [
    "dfFoldTraining_1 = pd.read_csv('..//_inputs//_images_Zooscan//_Zooscan-training-fold_4.csv')\n",
    "dfFoldValidation_1 = pd.read_csv('..//_inputs//_images_Zooscan//_Zooscan-validation-fold_4.csv')"
   ]
  },
  {
   "attachments": {},
   "cell_type": "markdown",
   "id": "fd3bdc30-b13e-40fb-a374-edbf94387436",
   "metadata": {},
   "source": [
    "#### 2. Extracting LBPH feature for the training set"
   ]
  },
  {
   "cell_type": "code",
   "execution_count": null,
   "id": "fbcfa076-38c9-47ee-916c-646caee9edbe",
   "metadata": {},
   "outputs": [],
   "source": [
    "LBPH_list = extract_LBPH(dfFoldTraining_1)"
   ]
  },
  {
   "cell_type": "code",
   "execution_count": null,
   "id": "d2dd7d88-3e66-401a-869c-2b3e6b309361",
   "metadata": {},
   "outputs": [],
   "source": [
    "# create a standard deviation normalization for later uses\n",
    "train_std_norm = StandardScaler().fit(LBPH_list)"
   ]
  },
  {
   "cell_type": "code",
   "execution_count": null,
   "id": "1ac3e29c-f3de-4a47-b998-e337b9e336c4",
   "metadata": {},
   "outputs": [],
   "source": [
    "# Standard deviation normalization\n",
    "LBPH_list_std = train_std_norm.transform(LBPH_list)"
   ]
  },
  {
   "cell_type": "code",
   "execution_count": null,
   "id": "061d4d9f-9a5d-489c-ba9e-30ad3e4dbeef",
   "metadata": {},
   "outputs": [],
   "source": [
    "display(LBPH_list_std)"
   ]
  },
  {
   "cell_type": "code",
   "execution_count": null,
   "id": "d3701dc4-8673-4481-b11c-ad6b6213bf2f",
   "metadata": {},
   "outputs": [],
   "source": [
    "print('Total LBPH features:',(LBPH_list_std.shape))"
   ]
  },
  {
   "attachments": {},
   "cell_type": "markdown",
   "id": "6590d227-f905-442b-a55e-4d6bb8de1277",
   "metadata": {},
   "source": [
    "#### 3. PCA analysis on the training set"
   ]
  },
  {
   "cell_type": "code",
   "execution_count": null,
   "id": "cf467a16-0e02-4a60-bdf8-ba0c1f3f42dd",
   "metadata": {},
   "outputs": [],
   "source": [
    "pca_LBPH_std = PCA().fit(LBPH_list_std)"
   ]
  },
  {
   "attachments": {},
   "cell_type": "markdown",
   "id": "401851d6-fee9-470a-beaa-2449eaec3305",
   "metadata": {},
   "source": [
    "##### 3.1. Plot PCA components and CEV\n",
    "\n",
    "From this, we can know number of components to keep"
   ]
  },
  {
   "cell_type": "code",
   "execution_count": null,
   "id": "09cdec46-ec08-4fe1-8b8b-b9a3ce872978",
   "metadata": {},
   "outputs": [],
   "source": [
    "fig, ax = plt.subplots(figsize=(10, 5), tight_layout=True)\n",
    "\n",
    "ax.plot(np.cumsum(pca_LBPH_std.explained_variance_ratio_)*100, linewidth=2)\n",
    "ax.grid(color='r', linestyle='--', linewidth=1)\n",
    "\n",
    "ax.set_xlabel('Number of components')\n",
    "ax.set_ylabel('Cumulative explained variance');\n",
    "\n",
    "ax.set_yticks(np.arange(0,105,5))\n",
    "ax.set_xticks(np.arange(0,LBPH_list.shape[1],100))\n",
    "\n",
    "ax.axhline(y=90, linewidth=3, color='g', alpha=0.5)\n",
    "\n",
    "# ax.plot(800, 91, marker=\"o\", markersize=10, markeredgecolor=\"red\", markerfacecolor=\"green\")\n",
    "\n",
    "ax.set_title(\"PCA analysis on LBPH features of training set\")"
   ]
  },
  {
   "cell_type": "code",
   "execution_count": null,
   "id": "b9ebee05-f4b8-4188-b3e9-cb28112e473f",
   "metadata": {},
   "outputs": [],
   "source": [
    "(np.cumsum(pca_LBPH_std.explained_variance_ratio_)*100)[700]"
   ]
  },
  {
   "attachments": {},
   "cell_type": "markdown",
   "id": "b518807d-5521-439e-9741-97bed8fb523f",
   "metadata": {},
   "source": [
    "<b>Remarks: More than 90% of variance is explained by first 700 components</b>"
   ]
  },
  {
   "cell_type": "code",
   "execution_count": null,
   "id": "eff458b9-aef3-4a17-a658-d9441b1fbb1e",
   "metadata": {},
   "outputs": [],
   "source": [
    "print('\\nEigenvalues \\n%s' %pca_LBPH_std.explained_variance_)\n",
    "print('Eigenvectors \\n%s' %pca_LBPH_std.components_)"
   ]
  },
  {
   "attachments": {},
   "cell_type": "markdown",
   "id": "45c25015-2f68-491b-8dea-0d6a01e20a95",
   "metadata": {},
   "source": [
    "#### 4. Fit PCA to the LBPH features\n",
    "\n",
    "1. We fit PCA (with n_components to keep) onto the training set\n",
    "2. Transform the training set with that PCA\n",
    "3. Use that PCA to transform the validation & test set\n",
    "\n",
    "##### 4.1. For training set"
   ]
  },
  {
   "cell_type": "code",
   "execution_count": null,
   "id": "79d3698f-2520-4b40-ab56-9bcf75bfedeb",
   "metadata": {},
   "outputs": [],
   "source": [
    "# keep 700 components which contribute to > 90 %\n",
    "pca_LBPH_std_2 = PCA(n_components=700)\n",
    "pca_LBPH_std_2.fit(LBPH_list_std)\n",
    "LBPH_PCA_train = pca_LBPH_std_2.transform(LBPH_list_std)\n",
    "print(\"Original shape:   \", LBPH_list_std.shape)\n",
    "print(\"Transformed shape:\", LBPH_PCA_train.shape)"
   ]
  },
  {
   "cell_type": "code",
   "execution_count": null,
   "id": "f25d0a4d-a34c-4a98-9cfd-2eb262c8a2ab",
   "metadata": {},
   "outputs": [],
   "source": [
    "# LBPH for train set --- standardization again\n",
    "std_scale_train_2 = preprocessing.StandardScaler().fit(LBPH_PCA_train)"
   ]
  },
  {
   "cell_type": "code",
   "execution_count": null,
   "id": "cdd0c4e5-a260-4f7f-bf5a-b8dc4a19b5a3",
   "metadata": {},
   "outputs": [],
   "source": [
    "# Save in file\n",
    "X_LBPH_std_train = std_scale_train_2.transform(LBPH_PCA_train)\n",
    "X_LBPH_train_dff = pd.DataFrame(data = X_LBPH_std_train)\n",
    "X_LBPH_train_df = pd.DataFrame(data = dfFoldTraining_1[\"short_filenames\"])\n",
    "\n",
    "X_LBPH_train_df = pd.concat([X_LBPH_train_df,X_LBPH_train_dff], axis=1)\n",
    "X_LBPH_train_df.columns = pd.RangeIndex(X_LBPH_train_df.columns.size)\n",
    "\n",
    "display(X_LBPH_train_df.head(5), X_LBPH_train_df.shape)\n",
    "\n",
    "X_LBPH_train_df.to_csv(\"..//_inputs//_image_features//new//X-LBPH_std_PCA_700_std-train-fold_4.csv\", header=False, index=False)"
   ]
  },
  {
   "attachments": {},
   "cell_type": "markdown",
   "id": "8ca1944b-f24f-4c89-aed4-058b4acc7904",
   "metadata": {},
   "source": [
    "##### 4.2. For validation set"
   ]
  },
  {
   "cell_type": "code",
   "execution_count": null,
   "id": "c499628b-b706-4df2-b3e7-ce47fe8a2ad9",
   "metadata": {},
   "outputs": [],
   "source": [
    "#Extract LBPH features for the validation set\n",
    "LBPH_validation_list = extract_LBPH(dfFoldValidation_1)"
   ]
  },
  {
   "cell_type": "code",
   "execution_count": null,
   "id": "d5da32f7-9831-4b20-bd6c-52dc3935b86a",
   "metadata": {},
   "outputs": [],
   "source": [
    "# standard deviation normalization\n",
    "LBPH_validation_list_std = train_std_norm.transform(LBPH_validation_list)"
   ]
  },
  {
   "cell_type": "code",
   "execution_count": null,
   "id": "0e0f0a19-bc33-46f6-a426-1dd7ec428116",
   "metadata": {},
   "outputs": [],
   "source": [
    "# Transform the LBPH features using above PCA fitting\n",
    "LBPH_PCA_validation = pca_LBPH_std_2.transform(LBPH_validation_list_std)"
   ]
  },
  {
   "cell_type": "code",
   "execution_count": null,
   "id": "096d1ffd-bfb1-47d0-b629-9b9cd3f9e9fd",
   "metadata": {},
   "outputs": [],
   "source": [
    "print(\"Original shape:   \", LBPH_validation_list.shape)\n",
    "print(\"Transformed shape:\", LBPH_PCA_validation.shape)"
   ]
  },
  {
   "cell_type": "code",
   "execution_count": null,
   "id": "3b3fe52b-53ab-4867-9d9f-4bddca8b26dc",
   "metadata": {},
   "outputs": [],
   "source": [
    "# standard deviation normalization using above std_scale_train = preprocessing.StandardScaler().fit(LBPH_PCA_train)\n",
    "X_LBPH_std_validation = std_scale_train_2.transform(LBPH_PCA_validation)"
   ]
  },
  {
   "cell_type": "code",
   "execution_count": null,
   "id": "ce6bfdb2-5cec-42b0-a9c3-ce1a6c40b35f",
   "metadata": {},
   "outputs": [],
   "source": [
    "X_LBPH_train_dff = pd.DataFrame(data = X_LBPH_std_validation)\n",
    "X_LBPH_train_df = pd.DataFrame(data = dfFoldValidation_1[\"short_filenames\"])\n",
    "\n",
    "X_LBPH_train_df = pd.concat([X_LBPH_train_df,X_LBPH_train_dff], axis=1)\n",
    "X_LBPH_train_df.columns = pd.RangeIndex(X_LBPH_train_df.columns.size)\n",
    "\n",
    "display(X_LBPH_train_df.head(5), X_LBPH_train_df.shape)\n",
    "\n",
    "X_LBPH_train_df.to_csv(\"..//_inputs//_image_features//new//X-LBPH_std_PCA_700_std-validation-fold_4.csv\", header=False, index=False)"
   ]
  },
  {
   "attachments": {},
   "cell_type": "markdown",
   "id": "0a713522-c8ec-441b-b73a-f4465c1234e3",
   "metadata": {},
   "source": [
    "##### 4.2. For test set\n",
    "\n",
    "<u><b> Remarks :</b></u> We use 4-fold cross validaiton. Then, we need also to compute each kind of features for test set.\n",
    "So, for the test set, we extract 4 sets of features for each fold"
   ]
  },
  {
   "cell_type": "code",
   "execution_count": null,
   "id": "81476a4d-dd81-4b78-99bf-d1e7cbd7db0b",
   "metadata": {},
   "outputs": [],
   "source": [
    "dfTest = pd.read_csv('..//_inputs//_images_Zooscan//ZooScan-test_img.csv')"
   ]
  },
  {
   "cell_type": "code",
   "execution_count": null,
   "id": "6f0bbc27-6284-4681-b2e0-bddca7d9eb10",
   "metadata": {},
   "outputs": [],
   "source": [
    "#Extract LBPH features for the test set\n",
    "LBPH_test_list = extract_LBPH(dfTest)"
   ]
  },
  {
   "cell_type": "code",
   "execution_count": null,
   "id": "c60550b0-392d-4fad-af27-3d93440569d7",
   "metadata": {},
   "outputs": [],
   "source": [
    "# standard deviation normalization \n",
    "LBPH_test_list_std = train_std_norm.transform(LBPH_test_list)\n",
    "# Transform the LBPH features using above PCA fitting\n",
    "LBPH_PCA_test = pca_LBPH_std_2.transform(LBPH_test_list_std)"
   ]
  },
  {
   "cell_type": "code",
   "execution_count": null,
   "id": "eb8aa5c1-1b92-4a56-9a68-886d52c66598",
   "metadata": {},
   "outputs": [],
   "source": [
    "print(\"Original shape:   \", LBPH_test_list.shape)\n",
    "print(\"Transformed shape:\", LBPH_PCA_test.shape)"
   ]
  },
  {
   "cell_type": "code",
   "execution_count": null,
   "id": "7f98cb17-c681-47e9-af7f-a5697042e84c",
   "metadata": {},
   "outputs": [],
   "source": [
    "# standard deviation normalization using above std_scale_train = preprocessing.StandardScaler().fit(LBPH_PCA_train)\n",
    "X_LBPH_std_test = std_scale_train_2.transform(LBPH_PCA_test)"
   ]
  },
  {
   "cell_type": "code",
   "execution_count": null,
   "id": "9033c873-59ff-4894-8247-5f94df1333ba",
   "metadata": {},
   "outputs": [],
   "source": [
    "X_LBPH_train_dff = pd.DataFrame(data = X_LBPH_std_test)\n",
    "X_LBPH_train_df = pd.DataFrame(data = dfTest[\"short_filenames\"])\n",
    "\n",
    "X_LBPH_train_df = pd.concat([X_LBPH_train_df,X_LBPH_train_dff], axis=1)\n",
    "X_LBPH_train_df.columns = pd.RangeIndex(X_LBPH_train_df.columns.size)\n",
    "\n",
    "display(X_LBPH_train_df.head(5), X_LBPH_train_df.shape)\n",
    "\n",
    "X_LBPH_train_df.to_csv(\"..//_inputs//_image_features//new//X-LBPH_std_PCA_700_std-test-fold_4.csv\", header=False, index=False)\n",
    "\n",
    "### 3.1. Function definition"
   ]
  },
  {
   "attachments": {},
   "cell_type": "markdown",
   "id": "966d6104-8c00-4cf7-99b5-90af089bca83",
   "metadata": {},
   "source": [
    "# 6. Extract Gabor features\n",
    "\n",
    "<u><b>Remarks:</b></u>\n",
    "1. Read training-validation sets of a fold and test set\n",
    "2. For training set:\n",
    "    1. Extract LBP-H features: LBPH_list (num_of_images, num_of_HOG_feature)\n",
    "    2. Standard deviation normalization the HOG_list. Let's say Std_scaler()\n",
    "    3. Using PCA, analyze how many components to keep\n",
    "    4. Reducing number of features of HOG \n",
    "3. For validation set:\n",
    "    1. Extract HOG features\n",
    "    2. Using previous Std_scaler(), which perform on the training set, to normalize the HOG features\n",
    "    3. Apply PCA for dimension reduction\n",
    "4. For test set:\n",
    "    1. We do the same\n",
    "    2. Just be careful about the filename. Because we have only 1 test set. e.g., we could have test_HOG_fold_1, test_HOG_fold_2,...\n",
    "    "
   ]
  },
  {
   "cell_type": "code",
   "execution_count": null,
   "id": "902ef0ae-5932-4b85-a61f-dd700393b4d0",
   "metadata": {},
   "outputs": [],
   "source": [
    "# gabor filter\n",
    "\n",
    "def createGaborfilterbank(m=39, n=39):\n",
    "    garray = []\n",
    "    fmax = 0.327 # maximum frequency\n",
    "    gamma = np.sqrt(2)\n",
    "    eta = np.sqrt(2)\n",
    "    \n",
    "    gamma = 0.5\n",
    "    eta = 0.5\n",
    "    \n",
    "    u = 6 #number of frequencies\n",
    "    v = 8 #number of orientation\n",
    "\n",
    "    for i in range(0,u):\n",
    "\n",
    "        fu = fmax/np.sqrt(2)**(i); # frequency\n",
    "        alpha = fu/gamma;\n",
    "        beta = fu/eta;\n",
    "\n",
    "        for j in range(0,v):\n",
    "            theta = j/v*np.pi; # orientation \n",
    "\n",
    "            x, y = np.meshgrid(np.arange(1,n+1,1), np.arange(1,m+1,1))\n",
    "\n",
    "            xenvolope  =  (x-((m+1)/2))*np.cos(theta) + (y-((n+1)/2))*np.sin(theta);\n",
    "            yenvolope  = -(x-((m+1)/2))*np.sin(theta) + (y-((n+1)/2))*np.cos(theta);\n",
    "            \n",
    "            gfilter = np.transpose(\n",
    "                                (fu**2/(np.pi*gamma*eta))*np.exp(-((alpha**2)*(xenvolope**2) + \n",
    "                              (beta**2)*(yenvolope**2)))*np.exp(1j*2*np.pi*fu*xenvolope)\n",
    "                                    );\n",
    "\n",
    "            garray.append(gfilter);\n",
    "\n",
    "    plt.figure(figsize=(15,10))\n",
    "\n",
    "    for i in range(48):    \n",
    "        ax = plt.subplot(6,8,i+1)\n",
    "        # ax.set_title(label)\n",
    "        plt.imshow(np.real(garray[i]),cmap='Greys_r')\n",
    "        plt.axis(\"off\")  \n",
    "        \n",
    "    return garray\n",
    "\n",
    "def computeGaborfeatures(image, kernels):\n",
    "    feats = []\n",
    "    filteredimg = []\n",
    "    \n",
    "    for k, kernel in enumerate(kernels):\n",
    "        filtered = ndi.convolve(image, np.abs(kernel), mode='wrap')\n",
    "            \n",
    "        feats.append(filtered.mean())\n",
    "        feats.append(filtered.std())\n",
    "        \n",
    "        filteredimg.append(filtered)\n",
    "        \n",
    "    return feats, filteredimg"
   ]
  },
  {
   "cell_type": "code",
   "execution_count": null,
   "id": "812335ea-1504-466f-850d-ccc16534ce6b",
   "metadata": {},
   "outputs": [],
   "source": [
    "0.327/np.sqrt(2)"
   ]
  },
  {
   "cell_type": "code",
   "execution_count": null,
   "id": "b1a647c8-e594-43c5-aa17-c9eb75a33dbb",
   "metadata": {},
   "outputs": [],
   "source": [
    "for j in range(0,8):\n",
    "    display(j/8*np.pi)"
   ]
  },
  {
   "cell_type": "code",
   "execution_count": null,
   "id": "66bf3f98-179d-4a21-be7d-84084a586e75",
   "metadata": {},
   "outputs": [],
   "source": [
    "m=7\n",
    "n=7\n",
    "v=8\n",
    "gamma =0.5\n",
    "eta=0.5\n",
    "fu = 0.327/np.sqrt(2)**(0); # frequency\n",
    "alpha = fu/0.5;\n",
    "beta = fu/0.5;\n",
    "theta = j/v*np.pi; # orientation "
   ]
  },
  {
   "cell_type": "code",
   "execution_count": null,
   "id": "59baf9e4-ba58-4e00-bdf8-5af43190c998",
   "metadata": {},
   "outputs": [],
   "source": [
    "fu"
   ]
  },
  {
   "cell_type": "code",
   "execution_count": null,
   "id": "d12ae77a-ff5c-466f-b386-92bb3b2fe9bb",
   "metadata": {},
   "outputs": [],
   "source": [
    "theta"
   ]
  },
  {
   "cell_type": "code",
   "execution_count": null,
   "id": "0c1f8456-8400-4d00-959e-18e30caf1a02",
   "metadata": {},
   "outputs": [],
   "source": [
    "\n",
    "\n",
    "x, y = np.meshgrid(np.arange(1,n+1,1), np.arange(1,m+1,1))\n",
    "\n",
    "xenvolope  =  (x-((m+1)/2))*np.cos(theta) + (y-((n+1)/2))*np.sin(theta);\n",
    "yenvolope  = -(x-((m+1)/2))*np.sin(theta) + (y-((n+1)/2))*np.cos(theta);\n",
    "\n",
    "display(xenvolope, yenvolope)"
   ]
  },
  {
   "cell_type": "code",
   "execution_count": null,
   "id": "302ecdd3-6097-4b45-9249-752a5792e934",
   "metadata": {},
   "outputs": [],
   "source": [
    "gfilter = np.transpose(\n",
    "                        (fu**2/(np.pi*gamma*eta))*np.exp(-((alpha**2)*(xenvolope**2) + \n",
    "                      (beta**2)*(yenvolope**2)))*np.exp(1j*2*np.pi*fu*xenvolope)\n",
    "                            );"
   ]
  },
  {
   "cell_type": "code",
   "execution_count": null,
   "id": "7087771f-aff4-425b-9127-56a4d77918a4",
   "metadata": {},
   "outputs": [],
   "source": [
    "gfilter"
   ]
  },
  {
   "cell_type": "code",
   "execution_count": null,
   "id": "0b74b729-8d09-440e-abbe-927453de8024",
   "metadata": {},
   "outputs": [],
   "source": [
    "gfilter.shape"
   ]
  },
  {
   "cell_type": "code",
   "execution_count": null,
   "id": "57bf1c55-5b6a-4868-8509-bb6cdd7aa4af",
   "metadata": {},
   "outputs": [],
   "source": [
    "-6.05587208e-05-1.19127798e-05"
   ]
  },
  {
   "cell_type": "code",
   "execution_count": null,
   "id": "fbcc1447-8037-4051-93f8-611e54a93463",
   "metadata": {},
   "outputs": [],
   "source": [
    "Gabor_kernels = createGaborfilterbank(m=43, n=43)"
   ]
  },
  {
   "cell_type": "code",
   "execution_count": null,
   "id": "3fa4cdd9-6cf3-43d1-8b11-7201c5d60e2e",
   "metadata": {},
   "outputs": [],
   "source": [
    "Gabor_kernels[0].shape"
   ]
  },
  {
   "cell_type": "code",
   "execution_count": null,
   "id": "246442aa-05ed-457f-942d-6b12507c0ee3",
   "metadata": {},
   "outputs": [],
   "source": [
    "img = io.imread(dfFoldTraining_1[\"filenames\"][0])"
   ]
  },
  {
   "cell_type": "code",
   "execution_count": null,
   "id": "b2afad1c",
   "metadata": {},
   "outputs": [],
   "source": [
    "feartures, imgfiltered = computeGaborfeatures(img_as_float(img), Gabor_kernels)"
   ]
  },
  {
   "cell_type": "code",
   "execution_count": null,
   "id": "1c1b6399-8b69-46ac-ad98-217fbe4b67e5",
   "metadata": {},
   "outputs": [],
   "source": [
    "plt.figure(figsize=(15,10))\n",
    "\n",
    "for i in range(48):    \n",
    "    ax = plt.subplot(6,8,i+1)\n",
    "    # ax.set_title(label)\n",
    "    plt.imshow((imgfiltered[i]), cmap='Greys_r')\n",
    "    plt.axis(\"off\")"
   ]
  },
  {
   "cell_type": "code",
   "execution_count": null,
   "id": "c1f6caca-f787-453a-bd56-a1ff08c35ec9",
   "metadata": {},
   "outputs": [],
   "source": [
    "np.asarray(feartures).shape"
   ]
  },
  {
   "cell_type": "code",
   "execution_count": null,
   "id": "88f37764-59d2-480e-bffd-6864ba0f5ada",
   "metadata": {},
   "outputs": [],
   "source": []
  },
  {
   "cell_type": "code",
   "execution_count": null,
   "id": "a82d3c7e-f980-4696-9772-55a3482b306d",
   "metadata": {},
   "outputs": [],
   "source": []
  },
  {
   "cell_type": "code",
   "execution_count": null,
   "id": "3b5a7a20-e807-48ee-8a45-418d41cb0605",
   "metadata": {},
   "outputs": [],
   "source": []
  },
  {
   "cell_type": "code",
   "execution_count": null,
   "id": "b71e4dc4-f3a4-41d8-ae63-bb22d15c1753",
   "metadata": {},
   "outputs": [],
   "source": [
    "# SIFT\n",
    "def extract_SIFT_from_image(fname):   \n",
    "    img = io.imread(fname, as_gray=True)\n",
    "#     img = (resize(img,(256,256))*255).astype(np.uint8)\n",
    "    \n",
    "    # Adaptive Equalization\n",
    "    img_adapteq = exposure.equalize_adapthist(img, clip_limit=0.03)\n",
    "    \n",
    "    # extract daisy descriptor\n",
    "    descriptor_extractor = SIFT()\n",
    "    try:\n",
    "        descriptor_extractor.detect_and_extract(img_adapteq)\n",
    "    except:\n",
    "        img_adapteq = exposure.equalize_adapthist(img, clip_limit=0.1)\n",
    "        descriptor_extractor.detect_and_extract(img_adapteq)\n",
    "        \n",
    "    sift_feature = descriptor_extractor.descriptors\n",
    "    \n",
    "    return sift_feature\n",
    "\n",
    "\n",
    "def extract_sift_feature_BOVW_from_image(fname,sift_cluster_model):    \n",
    "    \n",
    "    sift_features=extract_SIFT_from_image(fname)     \n",
    "    \n",
    "    bovw_feature = np.histogram(sift_cluster_model.predict(sift_features), bins=range(sift_cluster_model.n_clusters), density=True)[0]\n",
    "\n",
    "    return bovw_feature"
   ]
  },
  {
   "attachments": {},
   "cell_type": "markdown",
   "id": "b80859d2-f0aa-4e9b-bcc3-0d768eb1700b",
   "metadata": {},
   "source": [
    "### 3.2. Work on images of training set"
   ]
  },
  {
   "cell_type": "code",
   "execution_count": null,
   "id": "36119a61-209b-434a-8011-bbeaa0367710",
   "metadata": {},
   "outputs": [],
   "source": [
    "number_of_clusters = 512\n",
    "batch_size = 1000\n",
    "\n",
    "kmeans = MiniBatchKMeans(n_clusters=number_of_clusters,batch_size=batch_size, n_init=\"auto\")\n",
    "\n",
    "number_of_batch = len(X_train_df)// batch_size + 1\n",
    "\n",
    "list_batches = np.array_split(X_train_df[\"filenames\"], number_of_batch)\n",
    "    \n",
    "    \n",
    "for batch in tqdm(list_batches, desc='batch', leave=True, colour='green'):      \n",
    "    \n",
    "    sift_descriptor_list = Parallel(n_jobs=8)(\n",
    "            delayed(extract_SIFT_from_image)(filename) for filename in batch\n",
    "        )\n",
    "    \n",
    "    sift_descriptor_list_concat = np.concatenate(sift_descriptor_list)\n",
    "\n",
    "    # %reset_selective -f sift_descriptor_list\n",
    "    del sift_descriptor_list                                \n",
    "    gc.collect()\n",
    "                                    \n",
    "    kmeans = kmeans.partial_fit(sift_descriptor_list_concat)\n",
    "    \n",
    "    # %reset_selective -f sift_descriptor_list_concat\n",
    "                                    \n",
    "    del sift_descriptor_list_concat\n",
    "    \n",
    "    gc.collect()"
   ]
  },
  {
   "cell_type": "code",
   "execution_count": null,
   "id": "a81d53da",
   "metadata": {},
   "outputs": [],
   "source": [
    "for batch in list_batches:  \n",
    "    sift_descriptor_list = Parallel(n_jobs=-1)(\n",
    "            delayed(extract_SIFT_from_image)(filename) for filename in batch\n",
    "        )\n",
    "\n",
    "    # for filname in batch:\n",
    "\n",
    "\n",
    "    kmeans = kmeans.partial_fit(np.concatenate(sift_descriptor_list))\n",
    "\n",
    "    del sift_descriptor_list\n",
    "    gc.collect()"
   ]
  },
  {
   "cell_type": "code",
   "execution_count": null,
   "id": "7fac0479-7870-4ffb-a5e0-22ad307c66a4",
   "metadata": {},
   "outputs": [],
   "source": [
    "list_batches[0][0]"
   ]
  },
  {
   "cell_type": "code",
   "execution_count": null,
   "id": "972bcf86-8bf0-41d3-9aba-04953ac62f4d",
   "metadata": {},
   "outputs": [],
   "source": [
    "import pickle\n",
    "# pickle.dump(kmeans, open(\"..//_inputs//_image_features//new//sift_kmeans_512_model.pkl\", \"wb\"))"
   ]
  },
  {
   "cell_type": "code",
   "execution_count": null,
   "id": "e45e4551-deff-44ed-b649-b0da90148f96",
   "metadata": {},
   "outputs": [],
   "source": [
    "# load the model from disk\n",
    "loaded_model = pickle.load(open(\"..//_inputs//_image_features//new//sift_kmeans_512_model.pkl\", 'rb'))"
   ]
  },
  {
   "cell_type": "code",
   "execution_count": null,
   "id": "d9e06507-4302-4b6c-9ebf-39f48477dd16",
   "metadata": {},
   "outputs": [],
   "source": [
    "sift_decs = extract_sift_feature_BOVW_from_image(X_train_df[\"filenames\"][40500], loaded_model)"
   ]
  },
  {
   "cell_type": "code",
   "execution_count": null,
   "id": "bb0969d6-ead9-4cc8-b17f-199a0e27e022",
   "metadata": {},
   "outputs": [],
   "source": [
    "sift_decs.shape"
   ]
  },
  {
   "cell_type": "code",
   "execution_count": null,
   "id": "dbd9cd46-820c-4fe1-a1f9-67a2e7006f06",
   "metadata": {},
   "outputs": [],
   "source": [
    "sift_features=extract_SIFT_from_image(X_train_df[\"filenames\"][40500]) "
   ]
  },
  {
   "cell_type": "code",
   "execution_count": null,
   "id": "8a246212-8ea7-436e-894d-536ea9fd38a1",
   "metadata": {},
   "outputs": [],
   "source": [
    "sift_decs = np.histogram(loaded_model.predict(sift_features), bins=loaded_model.n_clusters, range=(0, loaded_model.n_clusters), density=True)[0]\n",
    "display(sift_decs)"
   ]
  },
  {
   "cell_type": "code",
   "execution_count": null,
   "id": "d4bdbd9d-cdeb-48de-99ce-dd8d236b42d6",
   "metadata": {},
   "outputs": [],
   "source": [
    "sift_decs2 = np.histogram(loaded_model.predict(sift_features), bins=range(loaded_model.n_clusters), density=True)[0]\n",
    "display(sift_decs2)"
   ]
  },
  {
   "cell_type": "code",
   "execution_count": null,
   "id": "7f5f0b75-9752-4845-9508-7ebf20737391",
   "metadata": {},
   "outputs": [],
   "source": [
    "sift_decs[0:511] - sift_decs2"
   ]
  },
  {
   "cell_type": "code",
   "execution_count": null,
   "id": "01757131-104e-4878-8e41-5066cdf32b7b",
   "metadata": {},
   "outputs": [],
   "source": [
    "sift_decs[0][0]"
   ]
  },
  {
   "cell_type": "code",
   "execution_count": null,
   "id": "d5e81056-5f43-49bf-b544-ef8385d98abc",
   "metadata": {},
   "outputs": [],
   "source": [
    "number_of_clusters = 512\n",
    "batch_sise = 1000\n",
    "\n",
    "number_of_batch = len(X_train_df)// batch_sise + 1\n",
    "\n",
    "list_batches = np.array_split(X_train_df[\"filenames\"], number_of_batch)\n",
    "\n",
    "sift_descriptor_list = Parallel(n_jobs=6)(\n",
    "            delayed(extract_sift_feature_BOVW_from_image)(fname, loaded_model) for fname in tqdm(list_batches[0])\n",
    "        )\n",
    "\n",
    "sift_BOVW = np.array(sift_descriptor_list)\n",
    "del sift_descriptor_list\n",
    "gc.collect()\n",
    "    \n",
    "for batch in tqdm(list_batches[1:], desc='batch', position=1, leave=False, colour='green'):    \n",
    "    sift_descriptor_list = Parallel(n_jobs=6)(\n",
    "            delayed(extract_sift_feature_BOVW_from_image)(fname, loaded_model) for fname in tqdm(batch)\n",
    "        )\n",
    "\n",
    "    sift_BOVW = np.vstack((sift_BOVW, np.array(sift_descriptor_list)))\n",
    "    \n",
    "    del sift_descriptor_list\n",
    "    gc.collect()\n",
    "\n",
    "        "
   ]
  },
  {
   "cell_type": "code",
   "execution_count": null,
   "id": "9acc5337-59a4-49bf-a6ef-abe03ccc7339",
   "metadata": {},
   "outputs": [],
   "source": [
    "sift_BOVW.shape"
   ]
  },
  {
   "cell_type": "code",
   "execution_count": null,
   "id": "ac48af52-1ae1-4264-ab16-4ab3eec608f6",
   "metadata": {},
   "outputs": [],
   "source": [
    "X_daisy_train_dff = pd.DataFrame(data = sift_BOVW)\n",
    "X_daisy_train_df = pd.DataFrame(data = X_train_df[\"short_filenames\"])\n",
    "\n",
    "X_daisy_train_df = pd.concat([X_daisy_train_df,X_daisy_train_dff], axis=1)\n",
    "X_daisy_train_df.columns = pd.RangeIndex(X_daisy_train_df.columns.size)\n",
    "\n",
    "display(X_daisy_train_df.head(5), X_daisy_train_df.shape)\n",
    "\n",
    "X_daisy_train_df.to_csv(\"..//_inputs//_image_features//new//X-sift_512_features-train_df.csv\", header=False, index=False)\n",
    "\n",
    "# standardized version of daisy train set\n",
    "std_scale_train = preprocessing.StandardScaler().fit(sift_BOVW)\n",
    "\n",
    "X_daisy_train_std = std_scale_train.transform(sift_BOVW)\n",
    "\n",
    "X_daisy_train_dff = pd.DataFrame(data = X_daisy_train_std)\n",
    "X_daisy_train_df = pd.DataFrame(data = X_train_df[\"short_filenames\"])\n",
    "\n",
    "X_daisy_train_df = pd.concat([X_daisy_train_df,X_daisy_train_dff], axis=1)\n",
    "X_daisy_train_df.columns = pd.RangeIndex(X_daisy_train_df.columns.size)\n",
    "\n",
    "display(X_daisy_train_df.head(5), X_daisy_train_df.shape)\n",
    "\n",
    "X_daisy_train_df.to_csv(\"..//_inputs//_image_features//new//X-sift_512_std_features-train_df.csv\", header=False, index=False)"
   ]
  },
  {
   "cell_type": "code",
   "execution_count": null,
   "id": "44130d92-e9e3-4ad7-9f7b-3986598d0886",
   "metadata": {},
   "outputs": [],
   "source": []
  },
  {
   "cell_type": "code",
   "execution_count": null,
   "id": "115526b5-26cd-4d4f-8abb-94e7728dbfc6",
   "metadata": {},
   "outputs": [],
   "source": []
  },
  {
   "cell_type": "code",
   "execution_count": null,
   "id": "724cb2d3-5ad2-43b7-97b2-9aa6581a07ab",
   "metadata": {},
   "outputs": [],
   "source": [
    "number_of_clusters = 512\n",
    "batch_sise = 1000\n",
    "\n",
    "number_of_batch = len(X_validation_df)// batch_sise + 1\n",
    "\n",
    "list_batches = np.array_split(X_validation_df[\"filenames\"], number_of_batch)\n",
    "\n",
    "sift_descriptor_list = Parallel(n_jobs=6)(\n",
    "            delayed(extract_sift_feature_BOVW_from_image)(fname, loaded_model) for fname in tqdm(list_batches[0])\n",
    "        )\n",
    "\n",
    "sift_BOVW = np.array(sift_descriptor_list)\n",
    "del sift_descriptor_list\n",
    "gc.collect()\n",
    "    \n",
    "for batch in tqdm(list_batches[1:], desc='batch', position=1, leave=False, colour='green'):    \n",
    "    sift_descriptor_list = Parallel(n_jobs=6)(\n",
    "            delayed(extract_sift_feature_BOVW_from_image)(fname, loaded_model) for fname in tqdm(batch)\n",
    "        )\n",
    "\n",
    "    sift_BOVW = np.vstack((sift_BOVW, np.array(sift_descriptor_list)))\n",
    "    \n",
    "    del sift_descriptor_list\n",
    "    gc.collect()"
   ]
  },
  {
   "cell_type": "code",
   "execution_count": null,
   "id": "0af00436-52ad-44d7-85c2-6ff0448f4868",
   "metadata": {},
   "outputs": [],
   "source": [
    "sift_BOVW.shape"
   ]
  },
  {
   "cell_type": "code",
   "execution_count": null,
   "id": "2dd4b55c-68c1-41ba-bbce-8ecc051d3977",
   "metadata": {},
   "outputs": [],
   "source": [
    "std_scale_train"
   ]
  },
  {
   "cell_type": "code",
   "execution_count": null,
   "id": "0b530e92-1035-4d83-8357-0070f06a052e",
   "metadata": {},
   "outputs": [],
   "source": [
    "\n",
    "X_daisy_validation_dff = pd.DataFrame(data = sift_BOVW)\n",
    "X_daisy_validation_df = pd.DataFrame(data = X_validation_df[\"short_filenames\"])\n",
    "\n",
    "X_daisy_validation_df = pd.concat([X_daisy_validation_df,X_daisy_validation_dff], axis=1)\n",
    "X_daisy_validation_df.columns = pd.RangeIndex(X_daisy_validation_df.columns.size)\n",
    "\n",
    "display(X_daisy_validation_df.head(5), X_daisy_validation_df.shape)\n",
    "\n",
    "X_daisy_validation_df.to_csv(\"..//_inputs//_image_features//new//X-sift_512_features-validation_df.csv\", header=False, index=False)\n",
    "\n",
    "# standardized version of daisy validation set\n",
    "X_daisy_validation_std = std_scale_train.transform(sift_BOVW)\n",
    "\n",
    "X_daisy_validation_dff = pd.DataFrame(data = X_daisy_validation_std)\n",
    "X_daisy_validation_df = pd.DataFrame(data = X_validation_df[\"short_filenames\"])\n",
    "\n",
    "X_daisy_validation_df = pd.concat([X_daisy_validation_df,X_daisy_validation_dff], axis=1)\n",
    "X_daisy_validation_df.columns = pd.RangeIndex(X_daisy_validation_df.columns.size)\n",
    "\n",
    "display(X_daisy_validation_df.head(5), X_daisy_validation_df.shape)\n",
    "\n",
    "X_daisy_validation_df.to_csv(\"..//_inputs//_image_features//new//X-sift_512_std_features-validation_df.csv\", header=False, index=False)\n"
   ]
  },
  {
   "cell_type": "code",
   "execution_count": null,
   "id": "b98af208-a8ef-4f5f-a607-f9df21609a14",
   "metadata": {},
   "outputs": [],
   "source": [
    "list_batches[0]"
   ]
  },
  {
   "cell_type": "code",
   "execution_count": null,
   "id": "9a895d81-c66f-4d65-9f9d-cded65d10d4d",
   "metadata": {},
   "outputs": [],
   "source": [
    "for fname in tqdm(list_batches[0]):\n",
    "    sift_fea = extract_SIFT_from_image(fname)\n",
    "    if sift_fea.shape[0] == 0:\n",
    "        display(fname)\n",
    "        break;\n",
    "    "
   ]
  },
  {
   "cell_type": "code",
   "execution_count": null,
   "id": "9b955615-7cb5-4a6b-878a-73699654deff",
   "metadata": {},
   "outputs": [],
   "source": [
    "number_of_clusters = 512\n",
    "batch_sise = 1000\n",
    "\n",
    "number_of_batch = len(X_test_df)// batch_sise + 1\n",
    "\n",
    "list_batches = np.array_split(X_test_df[\"filenames\"], number_of_batch)\n",
    "\n",
    "sift_descriptor_list = Parallel(n_jobs=6)(\n",
    "            delayed(extract_sift_feature_BOVW_from_image)(fname, loaded_model) for fname in tqdm(list_batches[0])\n",
    "        )\n",
    "\n",
    "sift_BOVW = np.array(sift_descriptor_list)\n",
    "\n",
    "display(sift_BOVW.shape)\n",
    "\n",
    "del sift_descriptor_list\n",
    "gc.collect()\n",
    "    \n",
    "for batch in tqdm(list_batches[1:], desc='batch', position=1, leave=False, colour='green'):    \n",
    "    sift_descriptor_list = Parallel(n_jobs=6)(\n",
    "            delayed(extract_sift_feature_BOVW_from_image)(fname, loaded_model) for fname in tqdm(batch)\n",
    "        )\n",
    "\n",
    "    sift_BOVW = np.vstack((sift_BOVW, np.array(sift_descriptor_list)))\n",
    "    \n",
    "    del sift_descriptor_list\n",
    "    gc.collect()\n",
    "    \n",
    "display(sift_BOVW.shape)"
   ]
  },
  {
   "cell_type": "code",
   "execution_count": null,
   "id": "caf700d7-a56f-4dca-b0a4-3b94ef261516",
   "metadata": {},
   "outputs": [],
   "source": [
    "X_daisy_test_dff = pd.DataFrame(data = sift_BOVW)\n",
    "X_daisy_test_df = pd.DataFrame(data = X_test_df[\"short_filenames\"])\n",
    "\n",
    "X_daisy_test_df = pd.concat([X_daisy_test_df,X_daisy_test_dff], axis=1)\n",
    "X_daisy_test_df.columns = pd.RangeIndex(X_daisy_test_df.columns.size)\n",
    "\n",
    "display(X_daisy_test_df.head(5), X_daisy_test_df.shape)\n",
    "\n",
    "X_daisy_test_df.to_csv(\"..//_inputs//_image_features//new//X-sift_512_features-test_df.csv\", header=False, index=False)\n",
    "\n",
    "# standardized version of daisy validation set\n",
    "X_daisy_test_std = std_scale_train.transform(sift_BOVW)\n",
    "\n",
    "X_daisy_test_dff = pd.DataFrame(data = X_daisy_test_std)\n",
    "X_daisy_test_df = pd.DataFrame(data = X_test_df[\"short_filenames\"])\n",
    "\n",
    "X_daisy_test_df = pd.concat([X_daisy_test_df,X_daisy_test_dff], axis=1)\n",
    "X_daisy_test_df.columns = pd.RangeIndex(X_daisy_test_df.columns.size)\n",
    "\n",
    "display(X_daisy_test_df.head(5), X_daisy_test_df.shape)\n",
    "\n",
    "X_daisy_test_df.to_csv(\"..//_inputs//_image_features//new//X-sift_512_std_features-test_df.csv\", header=False, index=False)\n"
   ]
  },
  {
   "cell_type": "code",
   "execution_count": null,
   "id": "c9ef918d-8701-4972-9348-51a328796f19",
   "metadata": {},
   "outputs": [],
   "source": []
  },
  {
   "cell_type": "code",
   "execution_count": null,
   "id": "e0616df9-a22f-4d77-b572-a36f12300072",
   "metadata": {},
   "outputs": [],
   "source": []
  },
  {
   "cell_type": "code",
   "execution_count": null,
   "id": "b96ee6bc-41bd-492a-9f9c-93e83b230b50",
   "metadata": {},
   "outputs": [],
   "source": []
  },
  {
   "cell_type": "code",
   "execution_count": null,
   "id": "cc0428d8-6879-472b-87a9-953ad2c4ad48",
   "metadata": {},
   "outputs": [],
   "source": []
  },
  {
   "cell_type": "code",
   "execution_count": null,
   "id": "325678d5-1432-48bc-8d52-bcab6b90015c",
   "metadata": {},
   "outputs": [],
   "source": [
    "number_of_clusters = 512\n",
    "batch_sise = 1000\n",
    "\n",
    "kmeans = MiniBatchKMeans(n_clusters=number_of_clusters,batch_size=batch_sise)\n",
    "\n",
    "number_of_batch = len(X_train_df)// batch_sise + 1\n",
    "\n",
    "list_batches = np.array_split(X_train_df[\"filenames\"], number_of_batch)\n",
    "\n",
    "for batch in tqdm(list_batches, desc='batch', position=1, leave=False, colour='green'):    \n",
    "\n",
    "    daisy_descriptor_list=[] ##list to store all daisy descriptors to form our visual vocabulary by clustering\n",
    "\n",
    "    # for i in tqdm(range(len(batch)), desc='filename', position=1, leave=False, colour='red', ncols=80):\n",
    "    for fname in tqdm(batch, desc='filenames', position=2, leave=True, colour='red'):\n",
    "        img = io.imread(fname, as_gray=True)\n",
    "        # extract sift features\n",
    "        # fname = batch[i]\n",
    "        sift_features=extract_SIFT_from_image(img)\n",
    "\n",
    "        # save in a map    \n",
    "        daisy_descriptor_list=daisy_descriptor_list+list(daisy_features)\n",
    "\n",
    "    kmeans = kmeans.partial_fit(np.concatenate(daisy_descriptor_list))\n",
    "    \n",
    "    del daisy_descriptor_list\n",
    "    gc.collect()"
   ]
  },
  {
   "cell_type": "code",
   "execution_count": null,
   "id": "ab4afa6d-d321-4936-972f-9f1e69ec869c",
   "metadata": {},
   "outputs": [],
   "source": [
    "kmeans = MiniBatchKMeans(n_clusters=10,batch_size=100)"
   ]
  },
  {
   "cell_type": "code",
   "execution_count": null,
   "id": "a40a1ffb-8d63-4210-845f-1f2badb22f6e",
   "metadata": {},
   "outputs": [],
   "source": []
  },
  {
   "cell_type": "code",
   "execution_count": null,
   "id": "5b07144f-592e-425e-a3a1-216d9f46b128",
   "metadata": {},
   "outputs": [],
   "source": [
    "descriptors = Parallel(n_jobs=-1)(\n",
    "            delayed(extract_SIFT_from_image)(filename) for filename in X_train_df[\"filenames\"][0:100]\n",
    "        )"
   ]
  },
  {
   "cell_type": "code",
   "execution_count": null,
   "id": "41522ba5-8f96-4ed0-8889-905180a9181c",
   "metadata": {},
   "outputs": [],
   "source": [
    "np.concatenate(descriptors).shape"
   ]
  },
  {
   "cell_type": "code",
   "execution_count": null,
   "id": "4a058cd8-b76f-4f23-8aa2-b11a8268d409",
   "metadata": {},
   "outputs": [],
   "source": [
    "np.array(descriptors).shape"
   ]
  },
  {
   "cell_type": "code",
   "execution_count": null,
   "id": "fdebd903-8a8f-414e-9c3d-1b2fe95b45e4",
   "metadata": {},
   "outputs": [],
   "source": [
    "kmeans"
   ]
  },
  {
   "cell_type": "code",
   "execution_count": null,
   "id": "a5248a2a-2d30-4ab6-9ef2-4c8b00d6b95c",
   "metadata": {},
   "outputs": [],
   "source": [
    "import pickle\n",
    "pickle.dump(kmeans, open(\"..//_inputs//_image_features//new//daisy_kmeans_512_model.pkl\", \"wb\"))"
   ]
  },
  {
   "cell_type": "code",
   "execution_count": null,
   "id": "c0ed9812-72f7-4857-8e2e-e49e9c088a01",
   "metadata": {},
   "outputs": [],
   "source": [
    "pickle.dump(kmeans, open(\"..//_inputs//_image_features//new//daisy_kmeans_512_model.pkl\", \"wb\"))"
   ]
  },
  {
   "cell_type": "raw",
   "id": "1dcf3a03-2827-437c-844e-95d0021d249b",
   "metadata": {},
   "source": [
    "extract_daisy_feature_BOVW_from_image"
   ]
  },
  {
   "cell_type": "code",
   "execution_count": null,
   "id": "43033867-be83-4720-a9aa-7149cde4e46b",
   "metadata": {},
   "outputs": [],
   "source": [
    "#Daisy for train set\n",
    "\n",
    "img = io.imread(X_train_df[\"filenames\"][0])\n",
    "X_daisy_train = extract_daisy_feature_BOVW_from_image(img,kmeans)\n",
    "\n",
    "for fname in tqdm(X_train_df[\"filenames\"][1:]):\n",
    "    img = io.imread(fname)\n",
    "    X_daisy_train = np.vstack((X_daisy_train, extract_daisy_feature_BOVW_from_image(img,kmeans)))\n",
    "       \n",
    "\n",
    "X_daisy_train_dff = pd.DataFrame(data = X_daisy_train)\n",
    "X_daisy_train_df = pd.DataFrame(data = X_train_df[\"short_filenames\"])\n",
    "\n",
    "X_daisy_train_df = pd.concat([X_daisy_train_df,X_daisy_train_dff], axis=1)\n",
    "X_daisy_train_df.columns = pd.RangeIndex(X_daisy_train_df.columns.size)\n",
    "\n",
    "display(X_daisy_train_df.head(5), X_daisy_train_df.shape)\n",
    "\n",
    "X_daisy_train_df.to_csv(\"..//_inputs//_image_features//new//X-daisy_512_features-train_df.csv\", header=False, index=False)\n",
    "\n",
    "# standardized version of daisy train set\n",
    "std_scale_train = preprocessing.StandardScaler().fit(X_daisy_train)\n",
    "\n",
    "X_daisy_train_std = std_scale_train.transform(X_daisy_train)\n",
    "\n",
    "X_daisy_train_dff = pd.DataFrame(data = X_daisy_train_std)\n",
    "X_daisy_train_df = pd.DataFrame(data = X_train_df[\"short_filenames\"])\n",
    "\n",
    "X_daisy_train_df = pd.concat([X_daisy_train_df,X_daisy_train_dff], axis=1)\n",
    "X_daisy_train_df.columns = pd.RangeIndex(X_daisy_train_df.columns.size)\n",
    "\n",
    "display(X_daisy_train_df.head(5), X_daisy_train_df.shape)\n",
    "\n",
    "X_daisy_train_df.to_csv(\"..//_inputs//_image_features//new//X-daisy_512_std_features-train_df.csv\", header=False, index=False)\n"
   ]
  },
  {
   "cell_type": "code",
   "execution_count": null,
   "id": "845440b0-9bd8-4b24-881a-ddab3b850f05",
   "metadata": {},
   "outputs": [],
   "source": [
    "del X_daisy_train, X_daisy_train_std, X_daisy_train_dff, X_daisy_train_df, X_daisy_train_df, X_daisy_train_df\n",
    "\n",
    "gc.collect()"
   ]
  },
  {
   "cell_type": "code",
   "execution_count": null,
   "id": "b0bc4dcd-d4cf-4e56-8f64-1c51578e7c5b",
   "metadata": {},
   "outputs": [],
   "source": [
    "#daisy for validation set\n",
    "img = io.imread(X_validation_df[\"filenames\"][0])\n",
    "X_daisy_validation = extract_daisy_feature_BOVW_from_image(img,kmeans)\n",
    "\n",
    "for fname in tqdm(X_validation_df[\"filenames\"][1:]):\n",
    "    img = io.imread(fname)\n",
    "    X_daisy_validation = np.vstack((X_daisy_validation, extract_daisy_feature_BOVW_from_image(img,kmeans)))\n",
    "    \n",
    "\n",
    "X_daisy_validation_dff = pd.DataFrame(data = X_daisy_validation)\n",
    "X_daisy_validation_df = pd.DataFrame(data = X_validation_df[\"short_filenames\"])\n",
    "\n",
    "X_daisy_validation_df = pd.concat([X_daisy_validation_df,X_daisy_validation_dff], axis=1)\n",
    "X_daisy_validation_df.columns = pd.RangeIndex(X_daisy_validation_df.columns.size)\n",
    "\n",
    "display(X_daisy_validation_df.head(5), X_daisy_validation_df.shape)\n",
    "\n",
    "X_daisy_validation_df.to_csv(\"..//_inputs//_image_features//new//X-daisy_512_features-validation_df.csv\", header=False, index=False)\n",
    "\n",
    "# standardized version of daisy validation set\n",
    "X_daisy_validation_std = std_scale_train.transform(X_daisy_validation)\n",
    "\n",
    "X_daisy_validation_dff = pd.DataFrame(data = X_daisy_validation_std)\n",
    "X_daisy_validation_df = pd.DataFrame(data = X_validation_df[\"short_filenames\"])\n",
    "\n",
    "X_daisy_validation_df = pd.concat([X_daisy_validation_df,X_daisy_validation_dff], axis=1)\n",
    "X_daisy_validation_df.columns = pd.RangeIndex(X_daisy_validation_df.columns.size)\n",
    "\n",
    "display(X_daisy_validation_df.head(5), X_daisy_validation_df.shape)\n",
    "\n",
    "X_daisy_validation_df.to_csv(\"..//_inputs//_image_features//new//X-daisy_512_std_features-validation_df.csv\", header=False, index=False)\n"
   ]
  },
  {
   "cell_type": "code",
   "execution_count": null,
   "id": "531c7464-f1e9-4a63-976d-f5a6fc4e4b50",
   "metadata": {},
   "outputs": [],
   "source": [
    "del X_daisy_validation, X_daisy_validation_std, X_daisy_validation_dff, X_daisy_validation_df\n",
    "\n",
    "gc.collect()"
   ]
  },
  {
   "cell_type": "code",
   "execution_count": null,
   "id": "77084f48-8f48-4b45-9bd0-ed1c60cfd9fe",
   "metadata": {},
   "outputs": [],
   "source": [
    "# daisy for test set\n",
    "    \n",
    "img = io.imread(X_test_df[\"filenames\"][0])\n",
    "X_daisy_test = extract_daisy_feature_BOVW_from_image(img,kmeans)\n",
    "\n",
    "for fname in tqdm(X_test_df[\"filenames\"][1:]):\n",
    "    img = io.imread(fname)\n",
    "    X_daisy_test = np.vstack((X_daisy_test, extract_daisy_feature_BOVW_from_image(img,kmeans)))\n",
    "\n",
    "    \n",
    "X_daisy_test_dff = pd.DataFrame(data = X_daisy_test)\n",
    "X_daisy_test_df = pd.DataFrame(data = X_test_df[\"short_filenames\"])\n",
    "\n",
    "X_daisy_test_df = pd.concat([X_daisy_test_df,X_daisy_test_dff], axis=1)\n",
    "X_daisy_test_df.columns = pd.RangeIndex(X_daisy_test_df.columns.size)\n",
    "\n",
    "display(X_daisy_test_df.head(5), X_daisy_test_df.shape)\n",
    "\n",
    "X_daisy_test_df.to_csv(\"..//_inputs//_image_features//new//X-daisy_512_features-test_df.csv\", header=False, index=False)\n",
    "\n",
    "# standardized version of daisy validation set\n",
    "X_daisy_test_std = std_scale_train.transform(X_daisy_test)\n",
    "\n",
    "X_daisy_test_dff = pd.DataFrame(data = X_daisy_test_std)\n",
    "X_daisy_test_df = pd.DataFrame(data = X_test_df[\"short_filenames\"])\n",
    "\n",
    "X_daisy_test_df = pd.concat([X_daisy_test_df,X_daisy_test_dff], axis=1)\n",
    "X_daisy_test_df.columns = pd.RangeIndex(X_daisy_test_df.columns.size)\n",
    "\n",
    "display(X_daisy_test_df.head(5), X_daisy_test_df.shape)\n",
    "\n",
    "X_daisy_test_df.to_csv(\"..//_inputs//_image_features//new//X-daisy_512_std_features-test_df.csv\", header=False, index=False)\n"
   ]
  },
  {
   "cell_type": "code",
   "execution_count": null,
   "id": "855de810-c819-4747-9088-803caa41133d",
   "metadata": {},
   "outputs": [],
   "source": [
    "del X_daisy_test, X_daisy_test_std, X_daisy_test_dff, X_daisy_test_df\n",
    "\n",
    "gc.collect()"
   ]
  },
  {
   "cell_type": "code",
   "execution_count": null,
   "id": "c7fed140-cc13-4c84-b6e3-46da673e0293",
   "metadata": {},
   "outputs": [],
   "source": [
    "fname = X_train_df[\"filenames\"][0]\n",
    "img = io.imread(fname, as_gray=True)\n",
    "sift_features=extract_SIFT_from_image(img)\n",
    "\n",
    "sift_descriptors =sift_features\n",
    "\n",
    "for fname in tqdm(X_train_df[\"filenames\"][1:100], desc='filenames', position=2, leave=True, colour='red'):\n",
    "    img = io.imread(fname, as_gray=True)\n",
    "    \n",
    "    sift_features=extract_SIFT_from_image(img)\n",
    "    \n",
    "    sift_descriptors = np.concatenate(sift_features)\n",
    "    "
   ]
  },
  {
   "cell_type": "code",
   "execution_count": null,
   "id": "a6e321dd-ac3a-45f9-b659-7e257b095e66",
   "metadata": {},
   "outputs": [],
   "source": [
    "sift_descriptors.shape"
   ]
  },
  {
   "cell_type": "code",
   "execution_count": null,
   "id": "351afe6e-6784-47cb-96f2-5484520888dd",
   "metadata": {},
   "outputs": [],
   "source": [
    "kmeans.fit(np.concatenate(descriptors))"
   ]
  },
  {
   "cell_type": "code",
   "execution_count": null,
   "id": "a4763785-f296-42bb-8e24-1238ac9d1303",
   "metadata": {},
   "outputs": [],
   "source": [
    "np.concatenate(descriptors).shape"
   ]
  },
  {
   "cell_type": "code",
   "execution_count": null,
   "id": "d6dff511-fb38-456c-8ccb-18fd42fc798a",
   "metadata": {},
   "outputs": [],
   "source": [
    "def _descriptors_to_histogram(descriptors, dictionary):\n",
    "    return np.histogram(\n",
    "        dictionary.predict(descriptors), bins=range(dictionary.n_clusters), density=True\n",
    "    )[0]\n",
    "\n",
    "X_trans = Parallel(n_jobs=-1)(\n",
    "            delayed(_descriptors_to_histogram)(descr_img,kmeans)\n",
    "            for descr_img in descriptors\n",
    "        )\n"
   ]
  },
  {
   "cell_type": "code",
   "execution_count": null,
   "id": "e33fe3d3-a80d-4e83-89fd-3b55b70881b3",
   "metadata": {},
   "outputs": [],
   "source": [
    "X_trans = Parallel(n_jobs=-1)(\n",
    "            delayed(_descriptors_to_histogram)(descr_img,kmeans)\n",
    "            for descr_img in descriptors\n",
    "        )\n"
   ]
  },
  {
   "cell_type": "code",
   "execution_count": null,
   "id": "cd86f2de-e569-49d8-a0d6-6c4bbd53b270",
   "metadata": {},
   "outputs": [],
   "source": [
    "X_trans[0]"
   ]
  },
  {
   "cell_type": "code",
   "execution_count": null,
   "id": "1ae49ea7-0b58-4041-ba0c-58368268cb79",
   "metadata": {},
   "outputs": [],
   "source": [
    "np.sum(X_trans[0])"
   ]
  },
  {
   "cell_type": "code",
   "execution_count": null,
   "id": "768a5cfa-6af5-461e-b3af-5390d1dc997d",
   "metadata": {},
   "outputs": [],
   "source": []
  },
  {
   "cell_type": "code",
   "execution_count": null,
   "id": "05b79900-988b-432f-b33f-a87c37d0fdfa",
   "metadata": {},
   "outputs": [],
   "source": []
  },
  {
   "cell_type": "code",
   "execution_count": null,
   "id": "049f77b5-962c-4960-9828-6cdda4966668",
   "metadata": {},
   "outputs": [],
   "source": []
  },
  {
   "cell_type": "code",
   "execution_count": null,
   "id": "57918cf2-eed8-418a-aeea-f77987768bbc",
   "metadata": {},
   "outputs": [],
   "source": []
  },
  {
   "cell_type": "code",
   "execution_count": null,
   "id": "907dbce2-1277-4ced-ac62-d9420631ac90",
   "metadata": {},
   "outputs": [],
   "source": []
  },
  {
   "cell_type": "code",
   "execution_count": null,
   "id": "324be052-b5b7-4b51-844f-1aa9d0484273",
   "metadata": {},
   "outputs": [],
   "source": []
  },
  {
   "cell_type": "code",
   "execution_count": null,
   "id": "6c68c6b2-6d74-42b1-a215-90bfe5249d4a",
   "metadata": {},
   "outputs": [],
   "source": []
  },
  {
   "cell_type": "code",
   "execution_count": null,
   "id": "15c6d8ff-d313-4924-8628-29e57bf15e2c",
   "metadata": {},
   "outputs": [],
   "source": []
  },
  {
   "cell_type": "code",
   "execution_count": null,
   "id": "f12cc4aa-6a55-488b-9d16-3ad21aecb26d",
   "metadata": {},
   "outputs": [],
   "source": []
  },
  {
   "attachments": {},
   "cell_type": "markdown",
   "id": "84194da8-e5f6-495e-bb31-057888d2304a",
   "metadata": {},
   "source": [
    "## 3.1. HOG and LBPH extraction"
   ]
  },
  {
   "cell_type": "code",
   "execution_count": null,
   "id": "3b6899cf-90c1-4c33-9773-f3b91b49e042",
   "metadata": {},
   "outputs": [],
   "source": [
    "# DAISY \n",
    "def extract_daisy_from_image(img):            \n",
    "    # extract daisy feature\n",
    "    descs = daisy(img, step=8, radius=8, rings=2, histograms=8,orientations=8, visualize=False)\n",
    "   \n",
    "    # calculate daisy feature descriptors\n",
    "    descs_num = descs.shape[0] * descs.shape[1]\n",
    "    daisy_desriptor = descs.reshape(descs_num,descs.shape[2])\n",
    "    \n",
    "    return daisy_desriptor\n",
    "\n",
    "def extract_daisy_feature_BOVW_from_image(fname,daisy_cluster_model):\n",
    "\n",
    "    \n",
    "    daisy_features=extract_daisy_from_image(fname)     \n",
    "    \n",
    "    ##find to which clusters each daisy feature belongs\n",
    "    img_clusters=daisy_cluster_model.predict(daisy_features) \n",
    "    \n",
    "    cluster_freq_counts=pd.DataFrame(img_clusters,columns=['cnt'])['cnt'].value_counts()\n",
    "    bovw_vector=np.zeros(daisy_cluster_model.n_clusters) ##feature vector of size as the total number of clusters\n",
    "    \n",
    "    for key in cluster_freq_counts.keys():\n",
    "        bovw_vector[key]=cluster_freq_counts[key]\n",
    "\n",
    "    bovw_feature=bovw_vector/np.linalg.norm(bovw_vector) # normalize the histogram\n",
    "\n",
    "    return bovw_feature\n",
    "\n",
    "# HOG\n",
    "def extract_hog_from_image(img):    \n",
    "    # resize the image for obtaining the same length of HOG feature \n",
    "    img_r = (resize(img,(256,256))*255).astype(np.uint8)\n",
    "    # extract hog feature\n",
    "    hog_feature = hog(img_r, orientations=8, pixels_per_cell=(16, 16),cells_per_block=(1, 1), visualize=False, feature_vector=True)\n",
    "    hog_feature=hog_feature/np.linalg.norm(hog_feature)\n",
    "    return hog_feature\n",
    "\n",
    "# Local Binary Pattern\n",
    "\n",
    "def stride_split(image: np.ndarray, kernel_size: tuple):\n",
    "    # Image & Tile dimensions\n",
    "    img_height, img_width = image.shape\n",
    "    tile_height, tile_width = kernel_size\n",
    "\n",
    "    # bytelength of a single element\n",
    "    bytelength = image.nbytes // image.size\n",
    "\n",
    "    tiled_array = np.lib.stride_tricks.as_strided(\n",
    "        image,\n",
    "        shape=(img_height // tile_height,\n",
    "               img_width // tile_width,\n",
    "               tile_height,\n",
    "               tile_width),\n",
    "        strides=(img_width*tile_height*bytelength,\n",
    "                 tile_width*bytelength,\n",
    "                 img_width*bytelength,\n",
    "                 bytelength)\n",
    "    )\n",
    "    return tiled_array\n",
    "\n",
    "def extract_lbp_from_image(img):    \n",
    "    # get image size\n",
    "    img_height, img_width = img.shape\n",
    "    \n",
    "    # display(img)\n",
    "    # get kernel size\n",
    "    num_cells = 4\n",
    "    \n",
    "    img_height_new = img_height\n",
    "    img_width_new = img_width\n",
    "    if img_height%num_cells != 0:\n",
    "        img_height_new = img_height - img_height%num_cells + num_cells\n",
    "    if img_width%num_cells != 0:\n",
    "        img_width_new = img_width - img_width%num_cells + num_cells\n",
    "        \n",
    "    image_r = (resize(img,(img_height_new,img_width_new))*255).astype(np.uint8)\n",
    "    # image_r = imagfe_r.astype(np.uint8)\n",
    "    img_height, img_width = image_r.shape\n",
    "    \n",
    "    # display(image_r)\n",
    "    \n",
    "    # display(img_height, img_width)\n",
    "    \n",
    "    kernel_size = (int(img_height//num_cells), int(img_width//num_cells))\n",
    "    \n",
    "    # display(kernel_size, kernel_size)\n",
    "    \n",
    "    # split the image into 16 cells\n",
    "    tiled_array = stride_split(image_r, kernel_size)  \n",
    "    \n",
    "    # display(tiled_array[1,1,:,:])\n",
    "    \n",
    "    # fig = plt.figure(figsize=(10, 10))\n",
    "    # for i in range(tiled_array.shape[0]):\n",
    "    #     # print(i)\n",
    "    #     for j in range(tiled_array.shape[1]):\n",
    "    #         # print(j)\n",
    "    #         ax = plt.subplot(tiled_array.shape[0], tiled_array.shape[1], tiled_array.shape[0]*i + j+1)\n",
    "    #         ax.imshow(tiled_array[i,j,:,:],cmap='gray', vmin=0, vmax=255)\n",
    "    #         # ax.imshow(tiled_array[i,j,:,:],cmap='Greys_r')\n",
    "    #         ax.axes.xaxis.set_visible(False)\n",
    "    #         ax.axes.yaxis.set_visible(False)\n",
    "    # plt.tight_layout()\n",
    "    # plt.show()\n",
    "\n",
    "    # extract lbp feature\n",
    "    n_points=72\n",
    "    radius=2\n",
    "    n_bins = n_points\n",
    "    METHOD='uniform'\n",
    "\n",
    "\n",
    "    lbp = local_binary_pattern(tiled_array[0,0,:,:], n_points, radius, METHOD)\n",
    "    hist, _ = np.histogram(lbp.ravel(), density=True, bins=n_bins, range=(0, n_bins))\n",
    "                                                              \n",
    "    # display(hist.shape)\n",
    "    \n",
    "    for i in range(tiled_array.shape[0]):\n",
    "        for j in range(tiled_array.shape[1]):\n",
    "            lbp = local_binary_pattern(tiled_array[i,j,:,:], n_points, radius, METHOD)\n",
    "            histij, _ = np.histogram(lbp.ravel(), density=True, bins=n_bins, range=(0, n_bins))\n",
    "            hist = np.concatenate([hist.ravel(), histij.ravel()])\n",
    "        \n",
    "    return hist[n_points:]\n",
    "\n",
    "\n",
    "# gabor filter\n",
    "\n",
    "def createGaborfilterbank(m=39, n=39):\n",
    "    garray = []\n",
    "    fmax = 0.327 # maximum frequency\n",
    "    gamma = np.sqrt(2)\n",
    "    eta = np.sqrt(2)\n",
    "    \n",
    "    gamma = 0.5\n",
    "    eta = 0.5\n",
    "    \n",
    "    u = 6 #number of frequencies\n",
    "    v = 8 #number of orientation\n",
    "\n",
    "    for i in range(0,u):\n",
    "\n",
    "        fu = fmax/np.sqrt(2)**(i);\n",
    "        alpha = fu/gamma;\n",
    "        beta = fu/eta;\n",
    "\n",
    "        for j in range(0,v):\n",
    "            theta = j/v*np.pi;\n",
    "\n",
    "            x, y = np.meshgrid(np.arange(1,n+1,1), np.arange(1,m+1,1))\n",
    "\n",
    "            xenvolope  =  (x-((m+1)/2))*np.cos(theta) + (y-((n+1)/2))*np.sin(theta);\n",
    "            yenvolope  = -(x-((m+1)/2))*np.sin(theta) + (y-((n+1)/2))*np.cos(theta);\n",
    "            \n",
    "            gfilter = np.transpose(\n",
    "                                (fu**2/(np.pi*gamma*eta))*np.exp(-((alpha**2)*(xenvolope**2) + \n",
    "                              (beta**2)*(yenvolope**2)))*np.exp(1j*2*np.pi*fu*xenvolope)\n",
    "                                    );\n",
    "\n",
    "            garray.append(gfilter);\n",
    "\n",
    "#     plt.figure(figsize=(30,20))\n",
    "\n",
    "#     for i in range(48):    \n",
    "#         ax = plt.subplot(6,8,i+1)\n",
    "#         # ax.set_title(label)\n",
    "#         plt.imshow(np.real(garray[i]),cmap='Greys_r')\n",
    "#         plt.axis(\"off\")  \n",
    "        \n",
    "    return garray\n",
    "\n",
    "def computeGaborfeatures(image, kernels):\n",
    "    feats = []\n",
    "    filteredimg = []\n",
    "    \n",
    "    for k, kernel in enumerate(kernels):\n",
    "        filtered = ndi.convolve(image, np.abs(kernel), mode='wrap')\n",
    "            \n",
    "        feats.append(filtered.mean())\n",
    "        feats.append(filtered.std())\n",
    "        \n",
    "        filteredimg.append(filtered)\n",
    "        \n",
    "    return feats, filteredimg"
   ]
  },
  {
   "cell_type": "code",
   "execution_count": null,
   "id": "fefc791b-ff8f-4432-87b5-5f3040180187",
   "metadata": {},
   "outputs": [],
   "source": [
    "from tqdm.notebook import tqdm"
   ]
  },
  {
   "attachments": {},
   "cell_type": "markdown",
   "id": "28b68cfd-c779-4645-9da1-59f0874a7801",
   "metadata": {},
   "source": [
    "### 3.2. merge training and validation sets because we want to perform k-ford cross validations"
   ]
  },
  {
   "cell_type": "code",
   "execution_count": null,
   "id": "e05a74fa-0e8a-4aa1-aeee-8674179d76bd",
   "metadata": {},
   "outputs": [],
   "source": []
  },
  {
   "cell_type": "code",
   "execution_count": null,
   "id": "e319e788-7979-4a80-b531-6b9e9652c877",
   "metadata": {},
   "outputs": [],
   "source": [
    "# HOG for training data\n",
    "\n",
    "img = io.imread(X_train_df[\"filenames\"][0])\n",
    "\n",
    "HOG_list=extract_hog_from_image(img)\n",
    "# display(HOG_features)\n",
    "\n",
    "for fname in tqdm(X_train_df[\"filenames\"][1:]):\n",
    "    img = io.imread(fname)\n",
    "    \n",
    "    # extract HOG features\n",
    "    HOG_features=extract_hog_from_image(img)\n",
    "    \n",
    "    # display(HOG_features)\n",
    "    # save in a map    \n",
    "    HOG_list=np.vstack((HOG_list,HOG_features))\n",
    "    \n",
    "\n",
    "        \n",
    "print('Total HOG features:',(HOG_list.shape))\n",
    "\n",
    "pca_HOG = PCA().fit(HOG_list)\n",
    "\n",
    "fig, ax = plt.subplots(figsize=(15, 10), tight_layout=True)\n",
    "\n",
    "ax.plot(np.cumsum(np.round(pca_HOG.explained_variance_ratio_, decimals=3)*100), linewidth=2)\n",
    "ax.grid(color='r', linestyle='--', linewidth=1)\n",
    "\n",
    "ax.set_xlabel('number of components')\n",
    "ax.set_ylabel('cumulative explained variance');\n",
    "\n",
    "ax.set_yticks(np.arange(0,105,5))\n",
    "\n",
    "ax.set_title(\"PCA analysis on HOG features of training set\")"
   ]
  },
  {
   "cell_type": "code",
   "execution_count": null,
   "id": "d38f7565-9da2-49b7-b217-5b27b2573ce0",
   "metadata": {},
   "outputs": [],
   "source": [
    "fig, ax = plt.subplots(figsize=(15, 10), tight_layout=True)\n",
    "\n",
    "ax.plot(np.cumsum(np.round(pca_HOG.explained_variance_ratio_, decimals=3)*100), linewidth=2)\n",
    "ax.grid(color='r', linestyle='--', linewidth=1)\n",
    "\n",
    "ax.set_xlabel('number of components')\n",
    "ax.set_ylabel('cumulative explained variance');\n",
    "\n",
    "ax.set_yticks(np.arange(0,105,5))\n",
    "ax.set_xticks(np.arange(0,1650,50))\n",
    "ax.set_title(\"PCA analysis on HOG features of training set\")"
   ]
  },
  {
   "cell_type": "code",
   "execution_count": null,
   "id": "609e13d1-c808-4a21-9653-53de2c1b4aa1",
   "metadata": {},
   "outputs": [],
   "source": [
    "# LBP for training data\n",
    "\n",
    "img = io.imread(X_train_df[\"filenames\"][0])\n",
    "\n",
    "LBP_list=extract_lbp_from_image(img)\n",
    "# display(LBP_features)\n",
    "\n",
    "for fname in tqdm(X_train_df[\"filenames\"][1:]):\n",
    "    img = io.imread(fname)\n",
    "    \n",
    "    # extract LBP features\n",
    "    LBP_features=extract_lbp_from_image(img)\n",
    "    \n",
    "    # display(LBP_features)\n",
    "    # save in a map    \n",
    "    LBP_list=np.vstack((LBP_list,LBP_features))\n",
    "    \n",
    "\n",
    "        \n",
    "print('Total LBP features:',(LBP_list.shape))\n",
    "\n",
    "pca_LBP = PCA().fit(LBP_list)\n"
   ]
  },
  {
   "cell_type": "code",
   "execution_count": null,
   "id": "8a5ea34e-30f3-4bab-b408-61e89a9181d5",
   "metadata": {},
   "outputs": [],
   "source": [
    "fig, ax = plt.subplots(figsize=(15, 10), tight_layout=True)\n",
    "\n",
    "ax.plot(np.cumsum(np.round(pca_LBP.explained_variance_ratio_, decimals=3)*100), linewidth=2)\n",
    "ax.grid(color='r', linestyle='--', linewidth=1)\n",
    "\n",
    "ax.set_xlabel('number of components')\n",
    "ax.set_ylabel('cumulative explained variance');\n",
    "\n",
    "ax.set_yticks(np.arange(0,105,5))\n",
    "ax.set_xticks(np.arange(0,200,5))\n",
    "ax.set_xlim((0,200))\n",
    "\n",
    "ax.set_title(\"PCA analysis on LBP features of training set\")"
   ]
  },
  {
   "cell_type": "code",
   "execution_count": null,
   "id": "716c8946-b768-41f6-a658-9e4183db16d9",
   "metadata": {},
   "outputs": [],
   "source": [
    "# 2.2. PCA for HOG features\n",
    "\n",
    "# For training set\n",
    "pca_HOG_2 = PCA(n_components=350)\n",
    "pca_HOG_2.fit(HOG_list)\n",
    "HOG_PCA_train = pca_HOG_2.transform(HOG_list)\n",
    "print(\"original shape:   \", HOG_list.shape)\n",
    "print(\"transformed shape:\", HOG_PCA_train.shape)\n",
    "\n"
   ]
  },
  {
   "cell_type": "code",
   "execution_count": null,
   "id": "dca6f1b3-8a3c-4bbb-bdad-a44aff71da73",
   "metadata": {},
   "outputs": [],
   "source": [
    "# HOG for train set\n",
    "X_HOG_train_dff = pd.DataFrame(data = HOG_PCA_train)\n",
    "X_HOG_train_df = pd.DataFrame(data = X_train_df[\"short_filenames\"])\n",
    "\n",
    "X_HOG_train_df = pd.concat([X_HOG_train_df,X_HOG_train_dff], axis=1)\n",
    "X_HOG_train_df.columns = pd.RangeIndex(X_HOG_train_df.columns.size)\n",
    "\n",
    "display(X_HOG_train_df.head(5), X_HOG_train_df.shape)\n",
    "\n",
    "X_HOG_train_df.to_csv(\"..//_inputs//_image_features//new//X-HOG_PCA_350_features-train_df.csv\", header=False, index=False)"
   ]
  },
  {
   "cell_type": "code",
   "execution_count": null,
   "id": "42a17914-1a5c-44b3-bafd-6934db8b1681",
   "metadata": {},
   "outputs": [],
   "source": [
    "# HOG for train set --- standardization\n",
    "std_scale_train = preprocessing.StandardScaler().fit(HOG_PCA_train)\n",
    "\n",
    "X_HOG_std_train = std_scale_train.transform(HOG_PCA_train)\n",
    "\n",
    "X_HOG_train_dff = pd.DataFrame(data = X_HOG_std_train)\n",
    "X_HOG_train_df = pd.DataFrame(data = X_train_df[\"short_filenames\"])\n",
    "\n",
    "X_HOG_train_df = pd.concat([X_HOG_train_df,X_HOG_train_dff], axis=1)\n",
    "X_HOG_train_df.columns = pd.RangeIndex(X_HOG_train_df.columns.size)\n",
    "\n",
    "display(X_HOG_train_df.head(5), X_HOG_train_df.shape)\n",
    "\n",
    "X_HOG_train_df.to_csv(\"..//_inputs//_image_features//new//X-HOG_PCA_350_std_features-train_df.csv\", header=False, index=False)"
   ]
  },
  {
   "cell_type": "code",
   "execution_count": null,
   "id": "e9c7f932-8149-4735-9df2-3545dbb9a388",
   "metadata": {},
   "outputs": [],
   "source": [
    "# For validation set\n",
    "img = io.imread(X_validation_df[\"filenames\"][0])\n",
    "\n",
    "HOG_validation_list=extract_hog_from_image(img)\n",
    "# display(HOG_features)\n",
    "\n",
    "for fname in tqdm(X_validation_df[\"filenames\"][1:]):\n",
    "    img = io.imread(fname)\n",
    "    \n",
    "    # extract HOG features\n",
    "    HOG_features=extract_hog_from_image(img)\n",
    "    \n",
    "    # display(HOG_features)\n",
    "    # save in a map    \n",
    "    HOG_validation_list=np.vstack((HOG_validation_list,HOG_features))\n",
    "    \n",
    "\n",
    "        \n",
    "print('Total HOG features of validation set:',(HOG_validation_list.shape))\n",
    "\n",
    "HOG_PCA_validation = pca_HOG_2.transform(HOG_validation_list)\n",
    "\n",
    "# store to file\n",
    "X_HOG_train_dff = pd.DataFrame(data = HOG_PCA_validation)\n",
    "X_HOG_train_df = pd.DataFrame(data = X_validation_df[\"short_filenames\"])\n",
    "\n",
    "X_HOG_train_df = pd.concat([X_HOG_train_df,X_HOG_train_dff], axis=1)\n",
    "X_HOG_train_df.columns = pd.RangeIndex(X_HOG_train_df.columns.size)\n",
    "\n",
    "display(X_HOG_train_df.head(5), X_HOG_train_df.shape)\n",
    "\n",
    "X_HOG_train_df.to_csv(\"..//_inputs//_image_features//new//X-HOG_PCA_350_features-validation_df.csv\", header=False, index=False)\n",
    "\n",
    "# store to file with standardization\n",
    "X_HOG_std_validation = std_scale_train.transform(HOG_PCA_validation)\n",
    "\n",
    "X_HOG_train_dff = pd.DataFrame(data = X_HOG_std_validation)\n",
    "X_HOG_train_df = pd.DataFrame(data = X_validation_df[\"short_filenames\"])\n",
    "\n",
    "X_HOG_train_df = pd.concat([X_HOG_train_df,X_HOG_train_dff], axis=1)\n",
    "X_HOG_train_df.columns = pd.RangeIndex(X_HOG_train_df.columns.size)\n",
    "\n",
    "display(X_HOG_train_df.head(5), X_HOG_train_df.shape)\n",
    "\n",
    "X_HOG_train_df.to_csv(\"..//_inputs//_image_features//new//X-HOG_PCA_350_std_features-validation_df.csv\", header=False, index=False)"
   ]
  },
  {
   "cell_type": "code",
   "execution_count": null,
   "id": "b11ba2b3-c71b-4f3a-b79d-a9bdb9e85c74",
   "metadata": {},
   "outputs": [],
   "source": [
    "# For test set\n",
    "\n",
    "img = io.imread(X_test_df[\"filenames\"][0])\n",
    "\n",
    "HOG_test_list=extract_hog_from_image(img)\n",
    "# display(HOG_features)\n",
    "\n",
    "for fname in tqdm(X_test_df[\"filenames\"][1:]):\n",
    "    img = io.imread(fname)\n",
    "    \n",
    "    # extract HOG features\n",
    "    HOG_features=extract_hog_from_image(img)\n",
    "    \n",
    "    # display(HOG_features)\n",
    "    # save in a map    \n",
    "    HOG_test_list=np.vstack((HOG_test_list,HOG_features))\n",
    "    \n",
    "\n",
    "print('Total HOG features of test set:',(HOG_test_list.shape))\n",
    "\n",
    "HOG_PCA_test = pca_HOG_2.transform(HOG_test_list)\n",
    "\n",
    "# store to file\n",
    "X_HOG_train_dff = pd.DataFrame(data = HOG_PCA_test)\n",
    "X_HOG_train_df = pd.DataFrame(data = X_test_df[\"short_filenames\"])\n",
    "\n",
    "X_HOG_train_df = pd.concat([X_HOG_train_df,X_HOG_train_dff], axis=1)\n",
    "X_HOG_train_df.columns = pd.RangeIndex(X_HOG_train_df.columns.size)\n",
    "\n",
    "display(X_HOG_train_df.head(5), X_HOG_train_df.shape)\n",
    "\n",
    "X_HOG_train_df.to_csv(\"..//_inputs//_image_features//new//X-HOG_PCA_350_features-test_df.csv\", header=False, index=False)\n",
    "\n",
    "# store to file with standardization\n",
    "X_HOG_std_test = std_scale_train.transform(HOG_PCA_test)\n",
    "\n",
    "X_HOG_train_dff = pd.DataFrame(data = X_HOG_std_test)\n",
    "X_HOG_train_df = pd.DataFrame(data = X_test_df[\"short_filenames\"])\n",
    "\n",
    "X_HOG_train_df = pd.concat([X_HOG_train_df,X_HOG_train_dff], axis=1)\n",
    "X_HOG_train_df.columns = pd.RangeIndex(X_HOG_train_df.columns.size)\n",
    "\n",
    "display(X_HOG_train_df.head(5), X_HOG_train_df.shape)\n",
    "\n",
    "X_HOG_train_df.to_csv(\"..//_inputs//_image_features//new//X-HOG_PCA_350_std_features-test_df.csv\", header=False, index=False)"
   ]
  },
  {
   "cell_type": "code",
   "execution_count": null,
   "id": "954026f7-5103-482e-9fd5-083866f35c50",
   "metadata": {},
   "outputs": [],
   "source": []
  },
  {
   "cell_type": "code",
   "execution_count": null,
   "id": "0237e507-3aa0-4335-99d9-887886785530",
   "metadata": {},
   "outputs": [],
   "source": []
  },
  {
   "cell_type": "code",
   "execution_count": null,
   "id": "ac36f8b4-ecda-4a98-af2f-2281c239bc9e",
   "metadata": {
    "tags": []
   },
   "outputs": [],
   "source": [
    "# 2.2. PCA for LBP features\n",
    "\n",
    "# For training set\n",
    "pca_LBP_2 = PCA(n_components=35)\n",
    "pca_LBP_2.fit(LBP_list)\n",
    "LBP_PCA_train = pca_LBP_2.transform(LBP_list)\n",
    "print(\"original shape:   \", LBP_list.shape)\n",
    "print(\"transformed shape:\", LBP_PCA_train.shape)\n",
    "# Fsave LBP PCA for train set\n",
    "X_LBP_train_dff = pd.DataFrame(data = LBP_PCA_train)\n",
    "X_LBP_train_df = pd.DataFrame(data = X_train_df[\"short_filenames\"])\n",
    "\n",
    "X_LBP_train_df = pd.concat([X_LBP_train_df,X_LBP_train_dff], axis=1)\n",
    "X_LBP_train_df.columns = pd.RangeIndex(X_LBP_train_df.columns.size)\n",
    "\n",
    "display(X_LBP_train_df.head(5), X_LBP_train_df.shape)\n",
    "\n",
    "X_LBP_train_df.to_csv(\"..//_inputs//_image_features//new//X-LBP_PCA_350_features-train_df.csv\", header=False, index=False)\n",
    "# LBP for train set --- standardization\n",
    "std_scale_train = preprocessing.StandardScaler().fit(LBP_PCA_train)\n",
    "\n",
    "X_LBP_std_train = std_scale_train.transform(LBP_PCA_train)\n",
    "\n",
    "X_LBP_train_dff = pd.DataFrame(data = X_LBP_std_train)\n",
    "X_LBP_train_df = pd.DataFrame(data = X_train_df[\"short_filenames\"])\n",
    "\n",
    "X_LBP_train_df = pd.concat([X_LBP_train_df,X_LBP_train_dff], axis=1)\n",
    "X_LBP_train_df.columns = pd.RangeIndex(X_LBP_train_df.columns.size)\n",
    "\n",
    "display(X_LBP_train_df.head(5), X_LBP_train_df.shape)\n",
    "\n",
    "X_LBP_train_df.to_csv(\"..//_inputs//_image_features//new//X-LBP_PCA_350_std_features-train_df.csv\", header=False, index=False)\n",
    "\n",
    "\n",
    "\n",
    "\n",
    "\n",
    "# For validation set\n",
    "img = io.imread(X_validation_df[\"filenames\"][0])\n",
    "\n",
    "LBP_validation_list=extract_lbp_from_image(img)\n",
    "# display(LBP_features)\n",
    "\n",
    "for fname in tqdm(X_validation_df[\"filenames\"][1:]):\n",
    "    img = io.imread(fname)\n",
    "    \n",
    "    # extract LBP features\n",
    "    LBP_features=extract_lbp_from_image(img)\n",
    "    \n",
    "    # display(LBP_features)\n",
    "    # save in a map    \n",
    "    LBP_validation_list=np.vstack((LBP_validation_list,LBP_features))\n",
    "    \n",
    "\n",
    "        \n",
    "print('Total LBP features of validation set:',(LBP_validation_list.shape))\n",
    "\n",
    "LBP_PCA_validation = pca_LBP_2.transform(LBP_validation_list)\n",
    "\n",
    "\n",
    "# store to file\n",
    "X_LBP_train_dff = pd.DataFrame(data = LBP_PCA_validation)\n",
    "X_LBP_train_df = pd.DataFrame(data = X_validation_df[\"short_filenames\"])\n",
    "\n",
    "X_LBP_train_df = pd.concat([X_LBP_train_df,X_LBP_train_dff], axis=1)\n",
    "X_LBP_train_df.columns = pd.RangeIndex(X_LBP_train_df.columns.size)\n",
    "\n",
    "display(X_LBP_train_df.head(5), X_LBP_train_df.shape)\n",
    "\n",
    "X_LBP_train_df.to_csv(\"..//_inputs//_image_features//new//X-LBP_PCA_350_features-validation_df.csv\", header=False, index=False)\n",
    "\n",
    "# store to file with standardization\n",
    "X_LBP_std_validation = std_scale_train.transform(LBP_PCA_validation)\n",
    "\n",
    "X_LBP_train_dff = pd.DataFrame(data = X_LBP_std_validation)\n",
    "X_LBP_train_df = pd.DataFrame(data = X_validation_df[\"short_filenames\"])\n",
    "\n",
    "X_LBP_train_df = pd.concat([X_LBP_train_df,X_LBP_train_dff], axis=1)\n",
    "X_LBP_train_df.columns = pd.RangeIndex(X_LBP_train_df.columns.size)\n",
    "\n",
    "display(X_LBP_train_df.head(5), X_LBP_train_df.shape)\n",
    "\n",
    "X_LBP_train_df.to_csv(\"..//_inputs//_image_features//new//X-LBP_PCA_350_std_features-validation_df.csv\", header=False, index=False)\n",
    "\n",
    "\n",
    "\n",
    "\n",
    "\n",
    "\n",
    "\n",
    "\n",
    "\n",
    "\n",
    "\n",
    "# For test set\n",
    "\n",
    "img = io.imread(X_test_df[\"filenames\"][0])\n",
    "\n",
    "LBP_test_list=extract_lbp_from_image(img)\n",
    "# display(LBP_features)\n",
    "\n",
    "for fname in tqdm(X_test_df[\"filenames\"][1:]):\n",
    "    img = io.imread(fname)\n",
    "    \n",
    "    # extract LBP features\n",
    "    LBP_features=extract_lbp_from_image(img)\n",
    "    \n",
    "    # display(LBP_features)\n",
    "    # save in a map    \n",
    "    LBP_test_list=np.vstack((LBP_test_list,LBP_features))\n",
    "    \n",
    "\n",
    "print('Total LBP features of test set:',(LBP_test_list.shape))\n",
    "\n",
    "LBP_PCA_test = pca_LBP_2.transform(LBP_test_list)\n",
    "\n",
    "# store to file\n",
    "X_LBP_train_dff = pd.DataFrame(data = LBP_PCA_test)\n",
    "X_LBP_train_df = pd.DataFrame(data = X_test_df[\"short_filenames\"])\n",
    "\n",
    "X_LBP_train_df = pd.concat([X_LBP_train_df,X_LBP_train_dff], axis=1)\n",
    "X_LBP_train_df.columns = pd.RangeIndex(X_LBP_train_df.columns.size)\n",
    "\n",
    "display(X_LBP_train_df.head(5), X_LBP_train_df.shape)\n",
    "\n",
    "X_LBP_train_df.to_csv(\"..//_inputs//_image_features//new//X-LBP_PCA_350_features-test_df.csv\", header=False, index=False)\n",
    "\n",
    "# store to file with standardization\n",
    "X_LBP_std_test = std_scale_train.transform(LBP_PCA_test)\n",
    "\n",
    "X_LBP_train_dff = pd.DataFrame(data = X_LBP_std_test)\n",
    "X_LBP_train_df = pd.DataFrame(data = X_test_df[\"short_filenames\"])\n",
    "\n",
    "X_LBP_train_df = pd.concat([X_LBP_train_df,X_LBP_train_dff], axis=1)\n",
    "X_LBP_train_df.columns = pd.RangeIndex(X_LBP_train_df.columns.size)\n",
    "\n",
    "display(X_LBP_train_df.head(5), X_LBP_train_df.shape)\n",
    "\n",
    "X_LBP_train_df.to_csv(\"..//_inputs//_image_features//new//X-LBP_PCA_350_std_features-test_df.csv\", header=False, index=False)"
   ]
  },
  {
   "cell_type": "code",
   "execution_count": null,
   "id": "0d0638d4-78ff-481d-8f1f-5217937da133",
   "metadata": {},
   "outputs": [],
   "source": [
    "del HOG_PCA_train, HOG_PCA_validation, HOG_PCA_test"
   ]
  },
  {
   "cell_type": "code",
   "execution_count": null,
   "id": "13346d0b-925c-48b6-97cb-f0496901d0c5",
   "metadata": {},
   "outputs": [],
   "source": [
    "del X_LBP_train_df"
   ]
  },
  {
   "cell_type": "code",
   "execution_count": null,
   "id": "53a99bf0-2234-40b7-b457-f99bf2f48a13",
   "metadata": {},
   "outputs": [],
   "source": [
    "data = [[0, 0], [0, 0], [1, 1], [1, 1]]"
   ]
  },
  {
   "cell_type": "code",
   "execution_count": null,
   "id": "2621cd83-f7d0-4db5-bc09-4026fb04ee5e",
   "metadata": {},
   "outputs": [],
   "source": [
    "scaler = preprocessing.StandardScaler()"
   ]
  },
  {
   "cell_type": "code",
   "execution_count": null,
   "id": "78697d8e-db12-4380-94be-2d2022e1b011",
   "metadata": {},
   "outputs": [],
   "source": [
    "scaler.fit(data)"
   ]
  },
  {
   "cell_type": "code",
   "execution_count": null,
   "id": "bccc2702-c597-4c1c-b39d-34d7278eb875",
   "metadata": {},
   "outputs": [],
   "source": [
    "print(scaler.mean_)"
   ]
  },
  {
   "cell_type": "code",
   "execution_count": null,
   "id": "a1b74ecf-70cf-40de-8e72-9bba1a4026e2",
   "metadata": {},
   "outputs": [],
   "source": [
    "print(np.sqrt(scaler.var_))"
   ]
  },
  {
   "cell_type": "code",
   "execution_count": null,
   "id": "bd75d2fd-453e-42d5-948b-cd9575e647ee",
   "metadata": {},
   "outputs": [],
   "source": [
    "# daisy for training data\n",
    "\n",
    "daisy_descriptor_list=[]\n",
    "\n",
    "for fname in tqdm(X_train_df[\"filenames\"]):\n",
    "    img = io.imread(fname)\n",
    "    \n",
    "    # extract HOG features\n",
    "    daisy_features=extract_daisy_from_image(img)\n",
    "    \n",
    "    daisy_descriptor_list=daisy_descriptor_list+list(daisy_features)"
   ]
  },
  {
   "cell_type": "raw",
   "id": "f15ece7d-0e3a-442d-8de9-171546eb2c29",
   "metadata": {},
   "source": [
    "from sklearn.metrics import silhouette_score\n",
    "\n",
    "sil = []\n",
    "kmax = 1024"
   ]
  },
  {
   "cell_type": "raw",
   "id": "cbc12a43-ed12-42f6-b01b-d3f67c68e784",
   "metadata": {},
   "source": [
    "sse = []\n",
    "for k in range(2, kmax+1):\n",
    "    kmeans = MiniBatchKMeans(n_clusters = k, batch_size = k*10).fit(daisy_descriptor_list)\n",
    "    centroids = kmeans.cluster_centers_\n",
    "    pred_clusters = kmeans.predict(daisy_descriptor_list)\n",
    "    curr_sse = 0\n",
    "\n",
    "    # calculate square of Euclidean distance of each point from its cluster center and add to current WSS\n",
    "    for i in range(len(daisy_descriptor_list)):\n",
    "        curr_center = centroids[pred_clusters[i]]\n",
    "        curr_sse += (daisy_descriptor_list[i, 0] - curr_center[0]) ** 2 + (daisy_descriptor_list[i, 1] - curr_center[1]) ** 2\n",
    "\n",
    "sse.append(curr_sse)\n"
   ]
  },
  {
   "cell_type": "raw",
   "id": "0ab8e593-554a-4409-9ab7-231b47276056",
   "metadata": {},
   "source": [
    "del sil\n",
    "gc.collect()"
   ]
  },
  {
   "cell_type": "raw",
   "id": "7863e600-647b-4ea5-b403-6e2073346ef5",
   "metadata": {},
   "source": [
    "# dissimilarity would not be defined for a single cluster, thus, minimum number of clusters should be 2\n",
    "for k in tqdm(range(2, kmax+1)):\n",
    "    kmeans = MiniBatchKMeans(n_clusters=k,batch_size=k*10).fit(daisy_descriptor_list)\n",
    "    labels = kmeans.labels_\n",
    "    sil.append(silhouette_score(daisy_descriptor_list, labels, metric = 'euclidean'))\n",
    "\n",
    "number_of_clusters = 1024\n",
    "batch_sise = number_of_clusters*10\n",
    "\n",
    "daisy_kmeans = MiniBatchKMeans(n_clusters=number_of_clusters,batch_size=batch_sise)\n",
    "\n",
    "number_of_batch = len(X_TRAINING_df)// batch_sise + 1\n",
    "\n",
    "list_batches = np.array_split(X_train_df[\"filenames\"], number_of_batch)\n",
    "\n",
    "# for batch in tqdm(np.array_split(X_TRAINING_df[\"filenames\"], number_of_batch), leave=False):\n",
    "for batch in tqdm(list_batches, desc='batch', position=0, le/ave=False, \n",
    "colour='green'):    \n",
    "    daisy_descriptor_list=[] ##list to store all daisy descriptors to form our visual vocabulary by clustering\n",
    "    \n",
    "    # for i in tqdm(range(len(batch)), desc='filename', position=1, leave=False, colour='red', ncols=80):\n",
    "    for fname in tqdm(batch, desc='filename', position=1, leave=True, colour='red'):\n",
    "        # extract DAISY features\n",
    "        # fname = batch[i]\n",
    "        daisy_features=extract_daisy_from_image(fname,daisy_step_size=8,daisy_radius=8)\n",
    "\n",
    "        # save in a map    \n",
    "        daisy_descriptor_list=daisy_descriptor_list+list(daisy_features)\n",
    "        \n",
    "    daisy_kmeans = daisy_kmeans.partial_fit(daisy_descriptor_list)\n",
    "\n",
    "        \n",
    "    \n"
   ]
  },
  {
   "cell_type": "code",
   "execution_count": null,
   "id": "c78e17f2-67b5-404f-95b2-68d3faf41fca",
   "metadata": {},
   "outputs": [],
   "source": [
    "\n",
    "number_of_clusters = 512\n",
    "batch_sise = 1000\n",
    "\n",
    "kmeans = MiniBatchKMeans(n_clusters=number_of_clusters,batch_size=batch_sise)\n",
    "\n",
    "number_of_batch = len(X_train_df)// batch_sise + 1\n",
    "\n",
    "list_batches = np.array_split(X_train_df[\"filenames\"], number_of_batch)\n",
    "\n",
    "for batch in tqdm(list_batches, desc='batch', position=1, leave=False, colour='green'):    \n",
    "\n",
    "    daisy_descriptor_list=[] ##list to store all daisy descriptors to form our visual vocabulary by clustering\n",
    "\n",
    "    # for i in tqdm(range(len(batch)), desc='filename', position=1, leave=False, colour='red', ncols=80):\n",
    "    for fname in tqdm(batch, desc='filenames', position=2, leave=True, colour='red'):\n",
    "        img = io.imread(fname)\n",
    "        # extract DAISY features\n",
    "        # fname = batch[i]\n",
    "        daisy_features=extract_daisy_from_image(img)\n",
    "\n",
    "        # save in a map    \n",
    "        daisy_descriptor_list=daisy_descriptor_list+list(daisy_features)\n",
    "\n",
    "    kmeans = kmeans.partial_fit(daisy_descriptor_list)\n",
    "    \n",
    "    del daisy_descriptor_list\n",
    "    gc.collect()\n",
    "\n",
    "# daisy_descriptor_list=[]\n",
    "\n",
    "# for fname in tqdm(X_train_df[\"filenames\"]):\n",
    "#     img = io.imread(fname)\n",
    "    \n",
    "#     # extract HOG features\n",
    "#     daisy_features=extract_daisy_from_image(img)\n",
    "    \n",
    "#     daisy_descriptor_list=daisy_descriptor_list+list(daisy_features)"
   ]
  },
  {
   "cell_type": "code",
   "execution_count": null,
   "id": "f5baffaa-3f4a-475a-b19a-6487742c995b",
   "metadata": {},
   "outputs": [],
   "source": [
    "kmeans"
   ]
  },
  {
   "cell_type": "code",
   "execution_count": null,
   "id": "d4f6ebd0-4102-4cb3-8dce-f155af997c67",
   "metadata": {},
   "outputs": [],
   "source": [
    "import pickle"
   ]
  },
  {
   "cell_type": "code",
   "execution_count": null,
   "id": "c6565935-5469-4186-99f6-21dc7bdcddc3",
   "metadata": {},
   "outputs": [],
   "source": [
    "pickle.dump(kmeans, open(\"..//_inputs//_image_features//new//daisy_kmeans_512_model.pkl\", \"wb\"))"
   ]
  },
  {
   "cell_type": "raw",
   "id": "415d7882-a016-4a5f-aa0a-0086cda097b6",
   "metadata": {},
   "source": [
    "extract_daisy_feature_BOVW_from_image"
   ]
  },
  {
   "cell_type": "code",
   "execution_count": null,
   "id": "1d3b74ad-0bc5-4955-92f3-d3d0ed510c7d",
   "metadata": {},
   "outputs": [],
   "source": [
    "#Daisy for train set\n",
    "\n",
    "img = io.imread(X_train_df[\"filenames\"][0])\n",
    "X_daisy_train = extract_daisy_feature_BOVW_from_image(img,kmeans)\n",
    "\n",
    "for fname in tqdm(X_train_df[\"filenames\"][1:]):\n",
    "    img = io.imread(fname)\n",
    "    X_daisy_train = np.vstack((X_daisy_train, extract_daisy_feature_BOVW_from_image(img,kmeans)))\n",
    "       \n",
    "\n",
    "X_daisy_train_dff = pd.DataFrame(data = X_daisy_train)\n",
    "X_daisy_train_df = pd.DataFrame(data = X_train_df[\"short_filenames\"])\n",
    "\n",
    "X_daisy_train_df = pd.concat([X_daisy_train_df,X_daisy_train_dff], axis=1)\n",
    "X_daisy_train_df.columns = pd.RangeIndex(X_daisy_train_df.columns.size)\n",
    "\n",
    "display(X_daisy_train_df.head(5), X_daisy_train_df.shape)\n",
    "\n",
    "X_daisy_train_df.to_csv(\"..//_inputs//_image_features//new//X-daisy_512_features-train_df.csv\", header=False, index=False)\n",
    "\n",
    "# standardized version of daisy train set\n",
    "std_scale_train = preprocessing.StandardScaler().fit(X_daisy_train)\n",
    "\n",
    "X_daisy_train_std = std_scale_train.transform(X_daisy_train)\n",
    "\n",
    "X_daisy_train_dff = pd.DataFrame(data = X_daisy_train_std)\n",
    "X_daisy_train_df = pd.DataFrame(data = X_train_df[\"short_filenames\"])\n",
    "\n",
    "X_daisy_train_df = pd.concat([X_daisy_train_df,X_daisy_train_dff], axis=1)\n",
    "X_daisy_train_df.columns = pd.RangeIndex(X_daisy_train_df.columns.size)\n",
    "\n",
    "display(X_daisy_train_df.head(5), X_daisy_train_df.shape)\n",
    "\n",
    "X_daisy_train_df.to_csv(\"..//_inputs//_image_features//new//X-daisy_512_std_features-train_df.csv\", header=False, index=False)\n"
   ]
  },
  {
   "cell_type": "code",
   "execution_count": null,
   "id": "3e0b27e5-7574-46de-a64f-666fd8b85f73",
   "metadata": {},
   "outputs": [],
   "source": [
    "del X_daisy_train, X_daisy_train_std, X_daisy_train_dff, X_daisy_train_df, X_daisy_train_df, X_daisy_train_df\n",
    "\n",
    "gc.collect()"
   ]
  },
  {
   "cell_type": "code",
   "execution_count": null,
   "id": "1aae2953-e1f9-411f-9f03-b9772858180d",
   "metadata": {},
   "outputs": [],
   "source": [
    "#daisy for validation set\n",
    "img = io.imread(X_validation_df[\"filenames\"][0])\n",
    "X_daisy_validation = extract_daisy_feature_BOVW_from_image(img,kmeans)\n",
    "\n",
    "for fname in tqdm(X_validation_df[\"filenames\"][1:]):\n",
    "    img = io.imread(fname)\n",
    "    X_daisy_validation = np.vstack((X_daisy_validation, extract_daisy_feature_BOVW_from_image(img,kmeans)))\n",
    "    \n",
    "\n",
    "X_daisy_validation_dff = pd.DataFrame(data = X_daisy_validation)\n",
    "X_daisy_validation_df = pd.DataFrame(data = X_validation_df[\"short_filenames\"])\n",
    "\n",
    "X_daisy_validation_df = pd.concat([X_daisy_validation_df,X_daisy_validation_dff], axis=1)\n",
    "X_daisy_validation_df.columns = pd.RangeIndex(X_daisy_validation_df.columns.size)\n",
    "\n",
    "display(X_daisy_validation_df.head(5), X_daisy_validation_df.shape)\n",
    "\n",
    "X_daisy_validation_df.to_csv(\"..//_inputs//_image_features//new//X-daisy_512_features-validation_df.csv\", header=False, index=False)\n",
    "\n",
    "# standardized version of daisy validation set\n",
    "X_daisy_validation_std = std_scale_train.transform(X_daisy_validation)\n",
    "\n",
    "X_daisy_validation_dff = pd.DataFrame(data = X_daisy_validation_std)\n",
    "X_daisy_validation_df = pd.DataFrame(data = X_validation_df[\"short_filenames\"])\n",
    "\n",
    "X_daisy_validation_df = pd.concat([X_daisy_validation_df,X_daisy_validation_dff], axis=1)\n",
    "X_daisy_validation_df.columns = pd.RangeIndex(X_daisy_validation_df.columns.size)\n",
    "\n",
    "display(X_daisy_validation_df.head(5), X_daisy_validation_df.shape)\n",
    "\n",
    "X_daisy_validation_df.to_csv(\"..//_inputs//_image_features//new//X-daisy_512_std_features-validation_df.csv\", header=False, index=False)\n"
   ]
  },
  {
   "cell_type": "code",
   "execution_count": null,
   "id": "56ccdd21-6dfb-4902-a98d-d9baeb25e1a8",
   "metadata": {},
   "outputs": [],
   "source": [
    "del X_daisy_validation, X_daisy_validation_std, X_daisy_validation_dff, X_daisy_validation_df\n",
    "\n",
    "gc.collect()"
   ]
  },
  {
   "cell_type": "code",
   "execution_count": null,
   "id": "27b25a50-eb7c-4713-a94e-617b77518814",
   "metadata": {},
   "outputs": [],
   "source": [
    "# daisy for test set\n",
    "    \n",
    "img = io.imread(X_test_df[\"filenames\"][0])\n",
    "X_daisy_test = extract_daisy_feature_BOVW_from_image(img,kmeans)\n",
    "\n",
    "for fname in tqdm(X_test_df[\"filenames\"][1:]):\n",
    "    img = io.imread(fname)\n",
    "    X_daisy_test = np.vstack((X_daisy_test, extract_daisy_feature_BOVW_from_image(img,kmeans)))\n",
    "\n",
    "    \n",
    "X_daisy_test_dff = pd.DataFrame(data = X_daisy_test)\n",
    "X_daisy_test_df = pd.DataFrame(data = X_test_df[\"short_filenames\"])\n",
    "\n",
    "X_daisy_test_df = pd.concat([X_daisy_test_df,X_daisy_test_dff], axis=1)\n",
    "X_daisy_test_df.columns = pd.RangeIndex(X_daisy_test_df.columns.size)\n",
    "\n",
    "display(X_daisy_test_df.head(5), X_daisy_test_df.shape)\n",
    "\n",
    "X_daisy_test_df.to_csv(\"..//_inputs//_image_features//new//X-daisy_512_features-test_df.csv\", header=False, index=False)\n",
    "\n",
    "# standardized version of daisy validation set\n",
    "X_daisy_test_std = std_scale_train.transform(X_daisy_test)\n",
    "\n",
    "X_daisy_test_dff = pd.DataFrame(data = X_daisy_test_std)\n",
    "X_daisy_test_df = pd.DataFrame(data = X_test_df[\"short_filenames\"])\n",
    "\n",
    "X_daisy_test_df = pd.concat([X_daisy_test_df,X_daisy_test_dff], axis=1)\n",
    "X_daisy_test_df.columns = pd.RangeIndex(X_daisy_test_df.columns.size)\n",
    "\n",
    "display(X_daisy_test_df.head(5), X_daisy_test_df.shape)\n",
    "\n",
    "X_daisy_test_df.to_csv(\"..//_inputs//_image_features//new//X-daisy_512_std_features-test_df.csv\", header=False, index=False)\n"
   ]
  },
  {
   "cell_type": "code",
   "execution_count": null,
   "id": "ffee2663-e795-4995-a7ed-8ea3102e2b8d",
   "metadata": {},
   "outputs": [],
   "source": [
    "del X_daisy_test, X_daisy_test_std, X_daisy_test_dff, X_daisy_test_df\n",
    "\n",
    "gc.collect()"
   ]
  },
  {
   "cell_type": "code",
   "execution_count": null,
   "id": "1940869a-8017-46ad-b0a7-0e6d58d5b899",
   "metadata": {},
   "outputs": [],
   "source": []
  },
  {
   "cell_type": "code",
   "execution_count": null,
   "id": "15e3a5b7-308b-45c3-a479-6e28dfd8a887",
   "metadata": {},
   "outputs": [],
   "source": []
  },
  {
   "cell_type": "code",
   "execution_count": null,
   "id": "6f76a0cc-9c2e-4796-82e9-33bca28b1587",
   "metadata": {},
   "outputs": [],
   "source": []
  },
  {
   "cell_type": "code",
   "execution_count": null,
   "id": "01b19f80-49db-430b-851e-9ac2acb82047",
   "metadata": {},
   "outputs": [],
   "source": [
    "\n",
    "\n",
    "# Daisy for augmented train set\n",
    "X_daisy_train_aug_dff = pd.DataFrame(data = X_daisy_train_aug)\n",
    "X_daisy_train_aug_df = pd.DataFrame(data = X_train_aug_df[\"short_filenames\"])\n",
    "\n",
    "X_daisy_train_aug_df = pd.concat([X_daisy_train_aug_df,X_daisy_train_aug_dff], axis=1)\n",
    "X_daisy_train_aug_df.columns = pd.RangeIndex(X_daisy_train_aug_df.columns.size)\n",
    "\n",
    "display(X_daisy_train_aug_df.head(5), X_daisy_train_aug_df.shape)\n",
    "\n",
    "X_daisy_train_aug_df.to_csv(\"..//_inputs//_image_features//daisy_1024//X_features_train_aug_df.csv\", header=False, index=False)\n",
    "\n",
    "# Daisy for validation set\n",
    "X_daisy_validation_dff = pd.DataFrame(data = X_daisy_validation)\n",
    "X_daisy_validation_df = pd.DataFrame(data = X_validation_df[\"short_filenames\"])\n",
    "\n",
    "X_daisy_validation_df = pd.concat([X_daisy_validation_df,X_daisy_validation_dff], axis=1)\n",
    "X_daisy_validation_df.columns = pd.RangeIndex(X_daisy_validation_df.columns.size)\n",
    "\n",
    "display(X_daisy_validation_df.head(5), X_daisy_validation_df.shape)\n",
    "\n",
    "X_daisy_validation_df.to_csv(\"..//_inputs//_image_features//daisy_1024//X_features_validation_df.csv\", header=False, index=False)\n",
    "\n",
    "# Daisy for test set\n",
    "X_daisy_test_dff = pd.DataFrame(data = X_daisy_test)\n",
    "X_daisy_test_df = pd.DataFrame(data = X_test_df[\"short_filenames\"])\n",
    "\n",
    "X_daisy_test_df = pd.concat([X_daisy_test_df,X_daisy_test_dff], axis=1)\n",
    "X_daisy_test_df.columns = pd.RangeIndex(X_daisy_test_df.columns.size)\n",
    "\n",
    "display(X_daisy_test_df.head(5), X_daisy_test_df.shape)\n",
    "\n",
    "X_daisy_test_df.to_csv(\"..//_inputs//_image_features//daisy_1024//X_features_test_df.csv\", header=False, index=False)\n",
    "\n",
    "\n",
    "pickle.dump(daisy_kmeans, open(\"..//_inputs//_image_features//daisy_1024//daisy_kmeans_1024.pkl\", \"wb\"))"
   ]
  },
  {
   "cell_type": "code",
   "execution_count": null,
   "id": "70a0b2bb-3eea-4e78-b3cd-e74f02404dac",
   "metadata": {},
   "outputs": [],
   "source": []
  },
  {
   "cell_type": "code",
   "execution_count": null,
   "id": "93a45533-45d8-4d33-bfe2-74011dee5279",
   "metadata": {},
   "outputs": [],
   "source": [
    "img = io.imread(X_train_df[\"filenames\"][0])\n",
    "\n",
    "lbp = extract_lbp_from_image(rgb2gray(img))\n",
    "\n",
    "lbp.shape\n",
    "\n",
    "fig, ax = plt.subplots(figsize=(20, 10))\n",
    "plt.bar( np.arange(len(lbp)-72),lbp[72:], facecolor='0.5')\n",
    "# ax.set_ylim(top=np.max(counts[:-1]+1))\n",
    "for tick in ax.xaxis.get_major_ticks():\n",
    "    tick.label.set_fontsize(28)\n",
    "for tick in ax.yaxis.get_major_ticks():\n",
    "    tick.label.set_fontsize(28)\n",
    "# plt.show()                                                             \n",
    "ax.set_xlabel('Uniform LBP values', fontsize=28)\n",
    "ax.set_ylabel('Percentage', fontsize=28)\n",
    "# ax.hist(hist, density=True, bins=n_bins, range=(0, n_bins), facecolor='0.5')\n",
    "\n",
    "# ax.set_xlim(right=n_bins+4)\n",
    "        \n",
    "plt.tight_layout()\n",
    "plt.show()"
   ]
  },
  {
   "cell_type": "code",
   "execution_count": null,
   "id": "8067267b-f68c-4fbd-aad6-2aebf28474ae",
   "metadata": {},
   "outputs": [],
   "source": []
  },
  {
   "cell_type": "code",
   "execution_count": null,
   "id": "a6711a5a-3760-40ab-b9df-45ca500cd120",
   "metadata": {},
   "outputs": [],
   "source": [
    "lbp = extract_lbp_from_image(rgb2gray(img))"
   ]
  },
  {
   "cell_type": "code",
   "execution_count": null,
   "id": "7d03dd2f-83db-4f27-b29d-1c69206cc160",
   "metadata": {},
   "outputs": [],
   "source": [
    "lbp.shape"
   ]
  },
  {
   "cell_type": "code",
   "execution_count": null,
   "id": "c698eb31-7195-41cf-8b74-da5a9f36b927",
   "metadata": {},
   "outputs": [],
   "source": [
    "fig, ax = plt.subplots(figsize=(20, 10))\n",
    "plt.bar( np.arange(len(lbp)-72),lbp[72:], facecolor='0.5')\n",
    "# ax.set_ylim(top=np.max(counts[:-1]+1))\n",
    "for tick in ax.xaxis.get_major_ticks():\n",
    "    tick.label.set_fontsize(28)\n",
    "for tick in ax.yaxis.get_major_ticks():\n",
    "    tick.label.set_fontsize(28)\n",
    "# plt.show()                                                             \n",
    "ax.set_xlabel('Uniform LBP values', fontsize=28)\n",
    "ax.set_ylabel('Percentage', fontsize=28)\n",
    "# ax.hist(hist, density=True, bins=n_bins, range=(0, n_bins), facecolor='0.5')\n",
    "\n",
    "# ax.set_xlim(right=n_bins+4)\n",
    "        \n",
    "plt.tight_layout()\n",
    "plt.show()"
   ]
  },
  {
   "cell_type": "code",
   "execution_count": null,
   "id": "50c295be-b6f7-4072-995b-f79c3de3cf6c",
   "metadata": {},
   "outputs": [],
   "source": [
    "img = io.imread(X_TRAINING_df[\"filenames\"][13789])\n",
    "img=rgb2gray(img)\n",
    "img = skimage.transform.resize(img,(128,128))\n",
    "\n",
    "descs_daisy, descs_img = daisy(img, step=8, radius=8, rings=3, histograms=8,orientations=8, visualize=True)\n",
    "\n",
    "display(descs_daisy.shape)\n",
    "\n",
    "descs_num =  descs_daisy.shape[0]*descs_daisy.shape[1]\n",
    "display(descs_num)\n",
    "\n",
    "fig, ax = plt.subplots(figsize=(20,20))\n",
    "ax.axis(\"off\")\n",
    "ax.imshow(descs_img)\n",
    "\n",
    "\n",
    "\n",
    "plt.show()\n",
    "\n",
    "\n",
    "    "
   ]
  },
  {
   "cell_type": "code",
   "execution_count": null,
   "id": "903d20d8-be1e-4d23-a7a5-1e9b3bd1fdaa",
   "metadata": {},
   "outputs": [],
   "source": [
    "img = io.imread(X_TRAINING_df[\"filenames\"][13789])\n",
    "img=rgb2gray(img)\n",
    "img = skimage.transform.resize(img,(128,128))\n",
    "\n",
    "descs_daisy, descs_img = daisy(img, step=8, radius=8, rings=3, histograms=2,orientations=8, visualize=True)\n",
    "\n",
    "display(descs_daisy.shape)\n",
    "\n",
    "descs_num =  descs_daisy.shape[0]*descs_daisy.shape[1]\n",
    "display(descs_num)\n",
    "\n",
    "fig, ax = plt.subplots(figsize=(20,20))\n",
    "ax.axis(\"off\")\n",
    "ax.imshow(descs_img)\n",
    "\n",
    "\n",
    "\n",
    "plt.show()"
   ]
  },
  {
   "cell_type": "code",
   "execution_count": null,
   "id": "65deb05a-5ffe-4527-ae49-c6b4380c4b58",
   "metadata": {},
   "outputs": [],
   "source": [
    "def extract_daisy_from_image(file_path,daisy_step_size=8,daisy_radius=8):\n",
    "    # Read image from file path\n",
    "    img = io.imread(file_path)\n",
    "    img=rgb2gray(img) # convert to grayscale image\n",
    "    # img = skimage.exposure.equalize_adapthist(img, clip_limit=0.03) # adaptive image normalization cl;a\n",
    "    img=resize(img,(128,128)) ##resize to a suitable dimension, avg size of images in the dataset\n",
    "            \n",
    "    # extract daisy feature\n",
    "    descs = daisy(img, step=daisy_step_size, radius=daisy_radius, rings=3, histograms=8,orientations=8, visualize=False)\n",
    "   \n",
    "    # calculate daisy feature descriptors\n",
    "    descs_num = descs.shape[0] * descs.shape[1]\n",
    "    daisy_desriptors=descs.reshape(descs_num,descs.shape[2])\n",
    "    \n",
    "    return daisy_desriptors\n",
    "\n",
    "def cluster_daisy_features(daisy_feature_list,number_of_clusters):\n",
    "    \n",
    "    km = MiniBatchKMeans(n_clusters=number_of_clusters,batch_size=number_of_clusters*10)\n",
    "    \n",
    "    km.fit(daisy_feature_list)\n",
    "    \n",
    "    return km\n",
    "\n",
    "def extract_daisy_hog_hybrid_feature_from_image(fname,daisy_cluster_model):\n",
    "    \n",
    "    #incase if we have encountered the file during training, the daisy would already have been computed\n",
    "    # if fname in training_data_feature_map:\n",
    "    #     daisy_features=training_data_feature_map[fname][0]\n",
    "    # else:\n",
    "    #     print(\"NO\")\n",
    "    #     daisy_features=extract_daisy_and_hog_features_from_image(fname,daisy_step_size=8,daisy_radius=8)\n",
    "    \n",
    "    daisy_features=extract_daisy_from_image(fname,daisy_step_size=8,daisy_radius=8)     \n",
    "    \n",
    "    ##find to which clusters each daisy feature belongs\n",
    "    img_clusters=daisy_cluster_model.predict(daisy_features) \n",
    "    \n",
    "    cluster_freq_counts=pd.DataFrame(img_clusters,columns=['cnt'])['cnt'].value_counts()\n",
    "    bovw_vector=np.zeros(daisy_cluster_model.n_clusters) ##feature vector of size as the total number of clusters\n",
    "    \n",
    "    for key in cluster_freq_counts.keys():\n",
    "        bovw_vector[key]=cluster_freq_counts[key]\n",
    "\n",
    "    bovw_feature=bovw_vector/np.linalg.norm(bovw_vector) # normalize the histogram\n",
    "\n",
    "    return list(bovw_feature)"
   ]
  },
  {
   "cell_type": "code",
   "execution_count": null,
   "id": "ab4b93da-41db-441c-a74a-bbed73413fb4",
   "metadata": {},
   "outputs": [],
   "source": [
    "X_TRAINING_df = pd.concat([X_train_aug_df, X_train_df], ignore_index=True)\n",
    "\n",
    "print('total files in training split:',len(X_TRAINING_df))\n",
    "\n",
    "print('total files in testting split:',len(X_train_aug_df))"
   ]
  },
  {
   "cell_type": "code",
   "execution_count": null,
   "id": "5b1e03e5-c8f6-406b-a343-05916dcf9138",
   "metadata": {},
   "outputs": [],
   "source": [
    "# training_data_feature_map={} ##map to store daisy feature as well as hog feature for all training datapoints\n",
    "daisy_descriptor_list=[] ##list to store all daisy descriptors to form our visual vocabulary by clustering\n",
    "counter=0\n",
    "for fname in tqdm(X_train_aug_df[\"filenames\"][1:10]):\n",
    "    \n",
    "    # extract DAISY features\n",
    "    daisy_features=extract_daisy_from_image(fname,daisy_step_size=8,daisy_radius=8)\n",
    "    \n",
    "    # save in a map    \n",
    "    daisy_descriptor_list=daisy_descriptor_list+list(daisy_features)\n",
    "    \n",
    "\n",
    "        \n",
    "print('Total daisy descriptors:',len(daisy_descriptor_list))"
   ]
  },
  {
   "cell_type": "code",
   "execution_count": null,
   "id": "bc0e9bef-11ba-43df-8afa-f5919d36b013",
   "metadata": {},
   "outputs": [],
   "source": [
    "def test_sum(a,b,&c):\n",
    "    c=a+b\n",
    "    return c\n",
    "    "
   ]
  },
  {
   "cell_type": "code",
   "execution_count": null,
   "id": "41c4b173-9817-46cb-9549-69f33c1a8a11",
   "metadata": {},
   "outputs": [],
   "source": [
    "c=1\n",
    "\n",
    "test_sum(7,8,c)\n",
    "\n",
    "display(c)"
   ]
  },
  {
   "cell_type": "code",
   "execution_count": null,
   "id": "a1145346-beed-43fb-b997-c5e66d78cee9",
   "metadata": {},
   "outputs": [],
   "source": [
    "n = 3  #chunk row size\n",
    "list_df = [X_train_aug_df[\"filenames\"][1:11][i:i+n] for i in range(0,len(X_train_aug_df[\"filenames\"][1:11]),n)]\n",
    "\n",
    "display(list_df)"
   ]
  },
  {
   "cell_type": "code",
   "execution_count": null,
   "id": "f80fa608-f6c4-47da-8079-09377abe4513",
   "metadata": {},
   "outputs": [],
   "source": [
    "for star in np.array_split(X_train_aug_df[\"filenames\"][0:11], 3):\n",
    "    for fname in star:\n",
    "        print(fname)\n",
    "        print(len(star))"
   ]
  },
  {
   "cell_type": "code",
   "execution_count": null,
   "id": "a5cfdb1b-b5a4-46ca-9375-e9e8d894e61d",
   "metadata": {},
   "outputs": [],
   "source": [
    "len(X_TRAINING_df[\"filenames\"])//5120"
   ]
  },
  {
   "cell_type": "code",
   "execution_count": null,
   "id": "7e42d8f3-77e5-403f-b2d5-b168f4bfba1d",
   "metadata": {},
   "outputs": [],
   "source": [
    "from tqdm.notebook import tqdm"
   ]
  },
  {
   "cell_type": "code",
   "execution_count": null,
   "id": "1234a977-e5ce-431b-8752-86fa81e764ae",
   "metadata": {},
   "outputs": [],
   "source": [
    "number_of_clusters = 512\n",
    "batch_sise = number_of_clusters*10\n",
    "\n",
    "daisy_kmeans = MiniBatchKMeans(n_clusters=number_of_clusters,batch_size=batch_sise)\n",
    "\n",
    "number_of_batch = len(X_TRAINING_df)// batch_sise + 1\n",
    "\n",
    "list_batches = np.array_split(X_TRAINING_df[\"filenames\"], number_of_batch)\n",
    "\n",
    "# for batch in tqdm(np.array_split(X_TRAINING_df[\"filenames\"], number_of_batch), leave=False):\n",
    "for batch in tqdm(list_batches, desc='batch', position=0, leave=False, colour='green'):    \n",
    "    daisy_descriptor_list=[] ##list to store all daisy descriptors to form our visual vocabulary by clustering\n",
    "    \n",
    "    # for i in tqdm(range(len(batch)), desc='filename', position=1, leave=False, colour='red', ncols=80):\n",
    "    for fname in tqdm(batch, desc='filename', position=1, leave=True, colour='red'):\n",
    "        # extract DAISY features\n",
    "        # fname = batch[i]\n",
    "        daisy_features=extract_daisy_from_image(fname,daisy_step_size=8,daisy_radius=8)\n",
    "\n",
    "        # save in a map    \n",
    "        daisy_descriptor_list=daisy_descriptor_list+list(daisy_features)\n",
    "        \n",
    "    daisy_kmeans = daisy_kmeans.partial_fit(daisy_descriptor_list)\n",
    "\n",
    "        \n"
   ]
  },
  {
   "cell_type": "code",
   "execution_count": null,
   "id": "d9b29259-7a03-4ae9-906b-05d6746c123e",
   "metadata": {},
   "outputs": [],
   "source": [
    "X_daisy_train=[]\n",
    "\n",
    "for fname in tqdm(X_train_df[\"filenames\"]):\n",
    "    X_daisy_train.append(extract_daisy_hog_hybrid_feature_from_image(fname,daisy_kmeans))"
   ]
  },
  {
   "cell_type": "code",
   "execution_count": null,
   "id": "5f5188f4-c2f2-4071-94a7-eea88a6516b5",
   "metadata": {},
   "outputs": [],
   "source": [
    "X_daisy_train_aug=[]\n",
    "\n",
    "for fname in tqdm(X_train_aug_df[\"filenames\"]):\n",
    "    X_daisy_train_aug.append(extract_daisy_hog_hybrid_feature_from_image(fname,daisy_kmeans))"
   ]
  },
  {
   "cell_type": "code",
   "execution_count": null,
   "id": "bcb05642-88ea-4efd-b43b-e6436749734c",
   "metadata": {},
   "outputs": [],
   "source": [
    "X_daisy_validation=[]\n",
    "\n",
    "for fname in tqdm(X_validation_df[\"filenames\"]):\n",
    "    X_daisy_validation.append(extract_daisy_hog_hybrid_feature_from_image(fname,daisy_kmeans))"
   ]
  },
  {
   "cell_type": "code",
   "execution_count": null,
   "id": "dc1f4a0a-ea11-4148-acb1-1bb1a9053cbc",
   "metadata": {},
   "outputs": [],
   "source": [
    "X_daisy_test=[]\n",
    "\n",
    "for fname in tqdm(X_test_df[\"filenames\"]):\n",
    "    X_daisy_test.append(extract_daisy_hog_hybrid_feature_from_image(fname,daisy_kmeans))"
   ]
  },
  {
   "cell_type": "code",
   "execution_count": null,
   "id": "eb7ff9c7-55a1-4262-bc07-3cf23b0c9607",
   "metadata": {},
   "outputs": [],
   "source": [
    "# Daisy for train set\n",
    "X_daisy_train_dff = pd.DataFrame(data = X_daisy_train)\n",
    "X_daisy_train_df = pd.DataFrame(data = X_train_df[\"short_filenames\"])\n",
    "\n",
    "X_daisy_train_df = pd.concat([X_daisy_train_df,X_daisy_train_dff], axis=1)\n",
    "X_daisy_train_df.columns = pd.RangeIndex(X_daisy_train_df.columns.size)\n",
    "\n",
    "display(X_daisy_train_df.head(5), X_daisy_train_df.shape)\n",
    "\n",
    "X_daisy_train_df.to_csv(\"..//_inputs//_image_features//daisy_512//X_features_train_df.csv\", header=False, index=False)\n",
    "\n",
    "# Daisy for augmented train set\n",
    "X_daisy_train_aug_dff = pd.DataFrame(data = X_daisy_train_aug)\n",
    "X_daisy_train_aug_df = pd.DataFrame(data = X_train_aug_df[\"short_filenames\"])\n",
    "\n",
    "X_daisy_train_aug_df = pd.concat([X_daisy_train_aug_df,X_daisy_train_aug_dff], axis=1)\n",
    "X_daisy_train_aug_df.columns = pd.RangeIndex(X_daisy_train_aug_df.columns.size)\n",
    "\n",
    "display(X_daisy_train_aug_df.head(5), X_daisy_train_aug_df.shape)\n",
    "\n",
    "X_daisy_train_aug_df.to_csv(\"..//_inputs//_image_features//daisy_512//X_features_train_aug_df.csv\", header=False, index=False)\n",
    "\n",
    "# Daisy for validation set\n",
    "X_daisy_validation_dff = pd.DataFrame(data = X_daisy_validation)\n",
    "X_daisy_validation_df = pd.DataFrame(data = X_validation_df[\"short_filenames\"])\n",
    "\n",
    "X_daisy_validation_df = pd.concat([X_daisy_validation_df,X_daisy_validation_dff], axis=1)\n",
    "X_daisy_validation_df.columns = pd.RangeIndex(X_daisy_validation_df.columns.size)\n",
    "\n",
    "display(X_daisy_validation_df.head(5), X_daisy_validation_df.shape)\n",
    "\n",
    "X_daisy_validation_df.to_csv(\"..//_inputs//_image_features//daisy_512//X_features_validation_df.csv\", header=False, index=False)\n",
    "\n",
    "# Daisy for test set\n",
    "X_daisy_test_dff = pd.DataFrame(data = X_daisy_test)\n",
    "X_daisy_test_df = pd.DataFrame(data = X_test_df[\"short_filenames\"])\n",
    "\n",
    "X_daisy_test_df = pd.concat([X_daisy_test_df,X_daisy_test_dff], axis=1)\n",
    "X_daisy_test_df.columns = pd.RangeIndex(X_daisy_test_df.columns.size)\n",
    "\n",
    "display(X_daisy_test_df.head(5), X_daisy_test_df.shape)\n",
    "\n",
    "X_daisy_test_df.to_csv(\"..//_inputs//_image_features//daisy_512//X_features_test_df.csv\", header=False, index=False)"
   ]
  },
  {
   "cell_type": "code",
   "execution_count": null,
   "id": "1e73f5f4-de0b-4192-a8c0-dc1ad8a3a011",
   "metadata": {},
   "outputs": [],
   "source": [
    "import pickle\n",
    "\n",
    "pickle.dump(daisy_kmeans, open(\"..//_inputs//_image_features//daisy_512//daisy_kmeans_512.pkl\", \"wb\"))\n",
    "\n",
    "\n",
    "# load the model\n",
    "# model = pickle.load(open(\"model.pkl\", \"rb\"))"
   ]
  },
  {
   "cell_type": "code",
   "execution_count": null,
   "id": "6b792e2c-5e65-4a04-9e71-f6663f313512",
   "metadata": {},
   "outputs": [],
   "source": []
  },
  {
   "cell_type": "code",
   "execution_count": null,
   "id": "2adb4c40-2744-4ecf-99be-6f6464781f00",
   "metadata": {},
   "outputs": [],
   "source": [
    "number_of_clusters = 256\n",
    "batch_sise = number_of_clusters*10\n",
    "\n",
    "daisy_kmeans = MiniBatchKMeans(n_clusters=number_of_clusters,batch_size=batch_sise)\n",
    "\n",
    "number_of_batch = len(X_TRAINING_df)// batch_sise + 1\n",
    "\n",
    "list_batches = np.array_split(X_TRAINING_df[\"filenames\"], number_of_batch)\n",
    "\n",
    "# for batch in tqdm(np.array_split(X_TRAINING_df[\"filenames\"], number_of_batch), leave=False):\n",
    "for batch in tqdm(list_batches, desc='batch', position=0, leave=False, colour='green'):    \n",
    "    daisy_descriptor_list=[] ##list to store all daisy descriptors to form our visual vocabulary by clustering\n",
    "    \n",
    "    # for i in tqdm(range(len(batch)), desc='filename', position=1, leave=False, colour='red', ncols=80):\n",
    "    for fname in tqdm(batch, desc='filename', position=1, leave=True, colour='red'):\n",
    "        # extract DAISY features\n",
    "        # fname = batch[i]\n",
    "        daisy_features=extract_daisy_from_image(fname,daisy_step_size=8,daisy_radius=8)\n",
    "\n",
    "        # save in a map    \n",
    "        daisy_descriptor_list=daisy_descriptor_list+list(daisy_features)\n",
    "        \n",
    "    daisy_kmeans = daisy_kmeans.partial_fit(daisy_descriptor_list)\n",
    "\n",
    "        \n",
    "X_daisy_train=[]\n",
    "\n",
    "for fname in tqdm(X_train_df[\"filenames\"]):\n",
    "    X_daisy_train.append(extract_daisy_hog_hybrid_feature_from_image(fname,daisy_kmeans))\n",
    "    \n",
    "    \n",
    "    \n",
    "X_daisy_train_aug=[]\n",
    "\n",
    "for fname in tqdm(X_train_aug_df[\"filenames\"]):\n",
    "    X_daisy_train_aug.append(extract_daisy_hog_hybrid_feature_from_image(fname,daisy_kmeans))\n",
    "    \n",
    "    \n",
    "    \n",
    "X_daisy_validation=[]\n",
    "\n",
    "for fname in tqdm(X_validation_df[\"filenames\"]):\n",
    "    X_daisy_validation.append(extract_daisy_hog_hybrid_feature_from_image(fname,daisy_kmeans))\n",
    "    \n",
    "    \n",
    "\n",
    "X_daisy_test=[]\n",
    "\n",
    "for fname in tqdm(X_test_df[\"filenames\"]):\n",
    "    X_daisy_test.append(extract_daisy_hog_hybrid_feature_from_image(fname,daisy_kmeans))\n",
    "    \n"
   ]
  },
  {
   "cell_type": "code",
   "execution_count": null,
   "id": "a2738614-c7cf-4a31-8b46-6c4b45d7b9e4",
   "metadata": {},
   "outputs": [],
   "source": [
    "##Daisy for train set\n",
    "X_daisy_train_dff = pd.DataFrame(data = X_daisy_train)\n",
    "X_daisy_train_df = pd.DataFrame(data = X_train_df[\"short_filenames\"])\n",
    "\n",
    "X_daisy_train_df = pd.concat([X_daisy_train_df,X_daisy_train_dff], axis=1)\n",
    "X_daisy_train_df.columns = pd.RangeIndex(X_daisy_train_df.columns.size)\n",
    "\n",
    "display(X_daisy_train_df.head(5), X_daisy_train_df.shape)\n",
    "\n",
    "X_daisy_train_df.to_csv(\"..//_inputs//_image_features//daisy_256//X_features_train_df.csv\", header=False, index=False)\n",
    "\n",
    "# Daisy for augmented train set\n",
    "X_daisy_train_aug_dff = pd.DataFrame(data = X_daisy_train_aug)\n",
    "X_daisy_train_aug_df = pd.DataFrame(data = X_train_aug_df[\"short_filenames\"])\n",
    "\n",
    "X_daisy_train_aug_df = pd.concat([X_daisy_train_aug_df,X_daisy_train_aug_dff], axis=1)\n",
    "X_daisy_train_aug_df.columns = pd.RangeIndex(X_daisy_train_aug_df.columns.size)\n",
    "\n",
    "display(X_daisy_train_aug_df.head(5), X_daisy_train_aug_df.shape)\n",
    "\n",
    "X_daisy_train_aug_df.to_csv(\"..//_inputs//_image_features//daisy_256//X_features_train_aug_df.csv\", header=False, index=False)\n",
    "\n",
    "# Daisy for validation set\n",
    "X_daisy_validation_dff = pd.DataFrame(data = X_daisy_validation)\n",
    "X_daisy_validation_df = pd.DataFrame(data = X_validation_df[\"short_filenames\"])\n",
    "\n",
    "X_daisy_validation_df = pd.concat([X_daisy_validation_df,X_daisy_validation_dff], axis=1)\n",
    "X_daisy_validation_df.columns = pd.RangeIndex(X_daisy_validation_df.columns.size)\n",
    "\n",
    "display(X_daisy_validation_df.head(5), X_daisy_validation_df.shape)\n",
    "\n",
    "X_daisy_validation_df.to_csv(\"..//_inputs//_image_features//daisy_256//X_features_validation_df.csv\", header=False, index=False)\n",
    "\n",
    "# Daisy for test set\n",
    "X_daisy_test_dff = pd.DataFrame(data = X_daisy_test)\n",
    "X_daisy_test_df = pd.DataFrame(data = X_test_df[\"short_filenames\"])\n",
    "\n",
    "X_daisy_test_df = pd.concat([X_daisy_test_df,X_daisy_test_dff], axis=1)\n",
    "X_daisy_test_df.columns = pd.RangeIndex(X_daisy_test_df.columns.size)\n",
    "\n",
    "display(X_daisy_test_df.head(5), X_daisy_test_df.shape)\n",
    "\n",
    "X_daisy_test_df.to_csv(\"..//_inputs//_image_features//daisy_256//X_features_test_df.csv\", header=False, index=False)\n",
    "\n",
    "\n",
    "pickle.dump(daisy_kmeans, open(\"..//_inputs//_image_features//daisy_256//daisy_kmeans_256.pkl\", \"wb\"))\n",
    "\n",
    "\n",
    "# load the model\n",
    "# model = pickle.load(open(\"model.pkl\", \"rb\"))"
   ]
  },
  {
   "cell_type": "code",
   "execution_count": null,
   "id": "0faa5f6b-6240-41f5-9cf7-e1b421213e78",
   "metadata": {},
   "outputs": [],
   "source": []
  },
  {
   "cell_type": "code",
   "execution_count": null,
   "id": "7df88562-9e27-4210-a82c-aca27cf7fdfb",
   "metadata": {},
   "outputs": [],
   "source": []
  },
  {
   "cell_type": "code",
   "execution_count": null,
   "id": "aa681231-1405-4af1-9e0f-6c75a85bda82",
   "metadata": {},
   "outputs": [],
   "source": [
    "number_of_clusters = 128\n",
    "batch_sise = number_of_clusters*10\n",
    "\n",
    "daisy_kmeans = MiniBatchKMeans(n_clusters=number_of_clusters,batch_size=batch_sise)\n",
    "\n",
    "number_of_batch = len(X_TRAINING_df)// batch_sise + 1\n",
    "\n",
    "list_batches = np.array_split(X_TRAINING_df[\"filenames\"], number_of_batch)\n",
    "\n",
    "# for batch in tqdm(np.array_split(X_TRAINING_df[\"filenames\"], number_of_batch), leave=False):\n",
    "for batch in tqdm(list_batches, desc='batch', position=0, leave=False, colour='green'):    \n",
    "    daisy_descriptor_list=[] ##list to store all daisy descriptors to form our visual vocabulary by clustering\n",
    "    \n",
    "    # for i in tqdm(range(len(batch)), desc='filename', position=1, leave=False, colour='red', ncols=80):\n",
    "    for fname in tqdm(batch, desc='filename', position=1, leave=True, colour='red'):\n",
    "        # extract DAISY features\n",
    "        # fname = batch[i]\n",
    "        daisy_features=extract_daisy_from_image(fname,daisy_step_size=8,daisy_radius=8)\n",
    "\n",
    "        # save in a map    \n",
    "        daisy_descriptor_list=daisy_descriptor_list+list(daisy_features)\n",
    "        \n",
    "    daisy_kmeans = daisy_kmeans.partial_fit(daisy_descriptor_list)\n",
    "\n",
    "        \n",
    "X_daisy_train=[]\n",
    "\n",
    "for fname in tqdm(X_train_df[\"filenames\"]):\n",
    "    X_daisy_train.append(extract_daisy_hog_hybrid_feature_from_image(fname,daisy_kmeans))\n",
    "    \n",
    "    \n",
    "    \n",
    "X_daisy_train_aug=[]\n",
    "\n",
    "for fname in tqdm(X_train_aug_df[\"filenames\"]):\n",
    "    X_daisy_train_aug.append(extract_daisy_hog_hybrid_feature_from_image(fname,daisy_kmeans))\n",
    "    \n",
    "    \n",
    "    \n",
    "X_daisy_validation=[]\n",
    "\n",
    "for fname in tqdm(X_validation_df[\"filenames\"]):\n",
    "    X_daisy_validation.append(extract_daisy_hog_hybrid_feature_from_image(fname,daisy_kmeans))\n",
    "    \n",
    "    \n",
    "\n",
    "X_daisy_test=[]\n",
    "\n",
    "for fname in tqdm(X_test_df[\"filenames\"]):\n",
    "    X_daisy_test.append(extract_daisy_hog_hybrid_feature_from_image(fname,daisy_kmeans))\n",
    "    \n"
   ]
  },
  {
   "cell_type": "code",
   "execution_count": null,
   "id": "428c788e-54fe-432f-90d8-c91860a4b069",
   "metadata": {},
   "outputs": [],
   "source": [
    "##Daisy for train set\n",
    "X_daisy_train_dff = pd.DataFrame(data = X_daisy_train)\n",
    "X_daisy_train_df = pd.DataFrame(data = X_train_df[\"short_filenames\"])\n",
    "\n",
    "X_daisy_train_df = pd.concat([X_daisy_train_df,X_daisy_train_dff], axis=1)\n",
    "X_daisy_train_df.columns = pd.RangeIndex(X_daisy_train_df.columns.size)\n",
    "\n",
    "display(X_daisy_train_df.head(5), X_daisy_train_df.shape)\n",
    "\n",
    "X_daisy_train_df.to_csv(\"..//_inputs//_image_features//daisy_128//X_features_train_df.csv\", header=False, index=False)\n",
    "\n",
    "# Daisy for augmented train set\n",
    "X_daisy_train_aug_dff = pd.DataFrame(data = X_daisy_train_aug)\n",
    "X_daisy_train_aug_df = pd.DataFrame(data = X_train_aug_df[\"short_filenames\"])\n",
    "\n",
    "X_daisy_train_aug_df = pd.concat([X_daisy_train_aug_df,X_daisy_train_aug_dff], axis=1)\n",
    "X_daisy_train_aug_df.columns = pd.RangeIndex(X_daisy_train_aug_df.columns.size)\n",
    "\n",
    "display(X_daisy_train_aug_df.head(5), X_daisy_train_aug_df.shape)\n",
    "\n",
    "X_daisy_train_aug_df.to_csv(\"..//_inputs//_image_features//daisy_128//X_features_train_aug_df.csv\", header=False, index=False)\n",
    "\n",
    "# Daisy for validation set\n",
    "X_daisy_validation_dff = pd.DataFrame(data = X_daisy_validation)\n",
    "X_daisy_validation_df = pd.DataFrame(data = X_validation_df[\"short_filenames\"])\n",
    "\n",
    "X_daisy_validation_df = pd.concat([X_daisy_validation_df,X_daisy_validation_dff], axis=1)\n",
    "X_daisy_validation_df.columns = pd.RangeIndex(X_daisy_validation_df.columns.size)\n",
    "\n",
    "display(X_daisy_validation_df.head(5), X_daisy_validation_df.shape)\n",
    "\n",
    "X_daisy_validation_df.to_csv(\"..//_inputs//_image_features//daisy_128//X_features_validation_df.csv\", header=False, index=False)\n",
    "\n",
    "# Daisy for test set\n",
    "X_daisy_test_dff = pd.DataFrame(data = X_daisy_test)\n",
    "X_daisy_test_df = pd.DataFrame(data = X_test_df[\"short_filenames\"])\n",
    "\n",
    "X_daisy_test_df = pd.concat([X_daisy_test_df,X_daisy_test_dff], axis=1)\n",
    "X_daisy_test_df.columns = pd.RangeIndex(X_daisy_test_df.columns.size)\n",
    "\n",
    "display(X_daisy_test_df.head(5), X_daisy_test_df.shape)\n",
    "\n",
    "X_daisy_test_df.to_csv(\"..//_inputs//_image_features//daisy_128//X_features_test_df.csv\", header=False, index=False)\n",
    "\n",
    "\n",
    "pickle.dump(daisy_kmeans, open(\"..//_inputs//_image_features//daisy_128//daisy_kmeans_128.pkl\", \"wb\"))\n",
    "\n",
    "\n",
    "# load the model\n",
    "# model = pickle.load(open(\"model.pkl\", \"rb\"))"
   ]
  },
  {
   "cell_type": "code",
   "execution_count": null,
   "id": "f5e65a37-e90f-4059-a51d-049f5c0a7046",
   "metadata": {},
   "outputs": [],
   "source": []
  },
  {
   "cell_type": "code",
   "execution_count": null,
   "id": "031f56eb-d0a8-4f2f-88df-790037a5299b",
   "metadata": {},
   "outputs": [],
   "source": []
  },
  {
   "cell_type": "code",
   "execution_count": null,
   "id": "f6806259-27d7-4fae-bf05-7e97dc72aee8",
   "metadata": {},
   "outputs": [],
   "source": [
    "number_of_clusters = 1024\n",
    "batch_sise = number_of_clusters*10\n",
    "\n",
    "daisy_kmeans = MiniBatchKMeans(n_clusters=number_of_clusters,batch_size=batch_sise)\n",
    "\n",
    "number_of_batch = len(X_TRAINING_df)// batch_sise + 1\n",
    "\n",
    "list_batches = np.array_split(X_TRAINING_df[\"filenames\"], number_of_batch)\n",
    "\n",
    "# for batch in tqdm(np.array_split(X_TRAINING_df[\"filenames\"], number_of_batch), leave=False):\n",
    "for batch in tqdm(list_batches, desc='batch', position=0, leave=False, colour='green'):    \n",
    "    daisy_descriptor_list=[] ##list to store all daisy descriptors to form our visual vocabulary by clustering\n",
    "    \n",
    "    # for i in tqdm(range(len(batch)), desc='filename', position=1, leave=False, colour='red', ncols=80):\n",
    "    for fname in tqdm(batch, desc='filename', position=1, leave=True, colour='red'):\n",
    "        # extract DAISY features\n",
    "        # fname = batch[i]\n",
    "        daisy_features=extract_daisy_from_image(fname,daisy_step_size=8,daisy_radius=8)\n",
    "\n",
    "        # save in a map    \n",
    "        daisy_descriptor_list=daisy_descriptor_list+list(daisy_features)\n",
    "        \n",
    "    daisy_kmeans = daisy_kmeans.partial_fit(daisy_descriptor_list)\n",
    "\n",
    "        \n",
    "X_daisy_train=[]\n",
    "\n",
    "for fname in tqdm(X_train_df[\"filenames\"]):\n",
    "    X_daisy_train.append(extract_daisy_hog_hybrid_feature_from_image(fname,daisy_kmeans))\n",
    "    \n",
    "    \n",
    "    \n",
    "X_daisy_train_aug=[]\n",
    "\n",
    "for fname in tqdm(X_train_aug_df[\"filenames\"]):\n",
    "    X_daisy_train_aug.append(extract_daisy_hog_hybrid_feature_from_image(fname,daisy_kmeans))\n",
    "    \n",
    "    \n",
    "    \n",
    "X_daisy_validation=[]\n",
    "\n",
    "for fname in tqdm(X_validation_df[\"filenames\"]):\n",
    "    X_daisy_validation.append(extract_daisy_hog_hybrid_feature_from_image(fname,daisy_kmeans))\n",
    "    \n",
    "    \n",
    "\n",
    "X_daisy_test=[]\n",
    "\n",
    "for fname in tqdm(X_test_df[\"filenames\"]):\n",
    "    X_daisy_test.append(extract_daisy_hog_hybrid_feature_from_image(fname,daisy_kmeans))\n",
    "    \n"
   ]
  },
  {
   "cell_type": "code",
   "execution_count": null,
   "id": "dbc7deea-24ff-4ca8-a1ab-88d973a3747b",
   "metadata": {},
   "outputs": [],
   "source": [
    "##Daisy for train set\n",
    "X_daisy_train_dff = pd.DataFrame(data = X_daisy_train)\n",
    "X_daisy_train_df = pd.DataFrame(data = X_train_df[\"short_filenames\"])\n",
    "\n",
    "X_daisy_train_df = pd.concat([X_daisy_train_df,X_daisy_train_dff], axis=1)\n",
    "X_daisy_train_df.columns = pd.RangeIndex(X_daisy_train_df.columns.size)\n",
    "\n",
    "display(X_daisy_train_df.head(5), X_daisy_train_df.shape)\n",
    "\n",
    "X_daisy_train_df.to_csv(\"..//_inputs//_image_features//daisy_1024//X_features_train_df.csv\", header=False, index=False)\n",
    "\n",
    "# Daisy for augmented train set\n",
    "X_daisy_train_aug_dff = pd.DataFrame(data = X_daisy_train_aug)\n",
    "X_daisy_train_aug_df = pd.DataFrame(data = X_train_aug_df[\"short_filenames\"])\n",
    "\n",
    "X_daisy_train_aug_df = pd.concat([X_daisy_train_aug_df,X_daisy_train_aug_dff], axis=1)\n",
    "X_daisy_train_aug_df.columns = pd.RangeIndex(X_daisy_train_aug_df.columns.size)\n",
    "\n",
    "display(X_daisy_train_aug_df.head(5), X_daisy_train_aug_df.shape)\n",
    "\n",
    "X_daisy_train_aug_df.to_csv(\"..//_inputs//_image_features//daisy_1024//X_features_train_aug_df.csv\", header=False, index=False)\n",
    "\n",
    "# Daisy for validation set\n",
    "X_daisy_validation_dff = pd.DataFrame(data = X_daisy_validation)\n",
    "X_daisy_validation_df = pd.DataFrame(data = X_validation_df[\"short_filenames\"])\n",
    "\n",
    "X_daisy_validation_df = pd.concat([X_daisy_validation_df,X_daisy_validation_dff], axis=1)\n",
    "X_daisy_validation_df.columns = pd.RangeIndex(X_daisy_validation_df.columns.size)\n",
    "\n",
    "display(X_daisy_validation_df.head(5), X_daisy_validation_df.shape)\n",
    "\n",
    "X_daisy_validation_df.to_csv(\"..//_inputs//_image_features//daisy_1024//X_features_validation_df.csv\", header=False, index=False)\n",
    "\n",
    "# Daisy for test set\n",
    "X_daisy_test_dff = pd.DataFrame(data = X_daisy_test)\n",
    "X_daisy_test_df = pd.DataFrame(data = X_test_df[\"short_filenames\"])\n",
    "\n",
    "X_daisy_test_df = pd.concat([X_daisy_test_df,X_daisy_test_dff], axis=1)\n",
    "X_daisy_test_df.columns = pd.RangeIndex(X_daisy_test_df.columns.size)\n",
    "\n",
    "display(X_daisy_test_df.head(5), X_daisy_test_df.shape)\n",
    "\n",
    "X_daisy_test_df.to_csv(\"..//_inputs//_image_features//daisy_1024//X_features_test_df.csv\", header=False, index=False)\n",
    "\n",
    "\n",
    "pickle.dump(daisy_kmeans, open(\"..//_inputs//_image_features//daisy_1024//daisy_kmeans_1024.pkl\", \"wb\"))\n",
    "\n",
    "\n",
    "# load the model\n",
    "# model = pickle.load(open(\"model.pkl\", \"rb\"))"
   ]
  },
  {
   "cell_type": "code",
   "execution_count": null,
   "id": "3809f8e8-c586-48db-8c24-e97887583e8b",
   "metadata": {},
   "outputs": [],
   "source": []
  }
 ],
 "metadata": {
  "kernelspec": {
   "display_name": "image_processing",
   "language": "python",
   "name": "python3"
  },
  "language_info": {
   "codemirror_mode": {
    "name": "ipython",
    "version": 3
   },
   "file_extension": ".py",
   "mimetype": "text/x-python",
   "name": "python",
   "nbconvert_exporter": "python",
   "pygments_lexer": "ipython3",
   "version": "3.8.16"
  }
 },
 "nbformat": 4,
 "nbformat_minor": 5
}
