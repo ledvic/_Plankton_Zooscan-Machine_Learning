{
 "cells": [
  {
   "cell_type": "code",
   "execution_count": 1,
   "id": "cj2q5nxnR8xB",
   "metadata": {
    "colab": {
     "base_uri": "https://localhost:8080/"
    },
    "executionInfo": {
     "elapsed": 388,
     "status": "ok",
     "timestamp": 1659094864147,
     "user": {
      "displayName": "Thắng Lê Dương Quốc",
      "userId": "17735925814044881454"
     },
     "user_tz": -120
    },
    "id": "cj2q5nxnR8xB",
    "outputId": "eed74d4c-4409-4dab-df47-d7a421881023"
   },
   "outputs": [
    {
     "name": "stdout",
     "output_type": "stream",
     "text": [
      "Tue Jul  4 23:28:41 2023       \n",
      "+-----------------------------------------------------------------------------+\n",
      "| NVIDIA-SMI 462.30       Driver Version: 462.30       CUDA Version: 11.2     |\n",
      "|-------------------------------+----------------------+----------------------+\n",
      "| GPU  Name            TCC/WDDM | Bus-Id        Disp.A | Volatile Uncorr. ECC |\n",
      "| Fan  Temp  Perf  Pwr:Usage/Cap|         Memory-Usage | GPU-Util  Compute M. |\n",
      "|                               |                      |               MIG M. |\n",
      "|===============================+======================+======================|\n",
      "|   0  Quadro T2000       WDDM  | 00000000:01:00.0 Off |                  N/A |\n",
      "| N/A   57C    P8     7W /  N/A |    134MiB /  4096MiB |      0%      Default |\n",
      "|                               |                      |                  N/A |\n",
      "+-------------------------------+----------------------+----------------------+\n",
      "                                                                               \n",
      "+-----------------------------------------------------------------------------+\n",
      "| Processes:                                                                  |\n",
      "|  GPU   GI   CI        PID   Type   Process name                  GPU Memory |\n",
      "|        ID   ID                                                   Usage      |\n",
      "|=============================================================================|\n",
      "|  No running processes found                                                 |\n",
      "+-----------------------------------------------------------------------------+\n"
     ]
    }
   ],
   "source": [
    "gpu_info = !nvidia-smi\n",
    "gpu_info = '\\n'.join(gpu_info)\n",
    "if gpu_info.find('failed') >= 0:\n",
    "  print('Select the Runtime > \"Change runtime type\" menu to enable a GPU accelerator, ')\n",
    "  print('and then re-execute this cell.')\n",
    "else:\n",
    "  print(gpu_info)"
   ]
  },
  {
   "cell_type": "code",
   "execution_count": 2,
   "id": "af43d70d",
   "metadata": {},
   "outputs": [
    {
     "name": "stdout",
     "output_type": "stream",
     "text": [
      "['/device:GPU:0']\n"
     ]
    }
   ],
   "source": [
    "from tensorflow.python.client import device_lib\n",
    "\n",
    "local_device_protos = device_lib.list_local_devices()\n",
    "gpu_devices = [device.name for device in local_device_protos if device.device_type == 'GPU']\n",
    "print(gpu_devices)"
   ]
  },
  {
   "attachments": {},
   "cell_type": "markdown",
   "id": "de344903-0908-4dcb-ae47-0403fe942ea5",
   "metadata": {
    "id": "de344903-0908-4dcb-ae47-0403fe942ea5"
   },
   "source": [
    "1. Training set\n",
    "    - Traing images are original and without \"heavy\" image processing\n",
    "    - Imbalanced distribution\n",
    "    - **Traditional features** from images\n",
    "        - Local features : SIFT - kmeans (160) + HOG - PCA (160)\n",
    "        - Texture features: Gabor (96) + LBPH (71)\n",
    "        - Global (38) + GLCM (16)\n",
    "2. CNN models\n",
    "    - Use  full \"Transfer Learning\" approach with MobileNetV2:\n",
    "        - Transfer learning \n",
    "        - Fine tune the whole CNN\n",
    "    - Use **class weights in PT**\n",
    "    - Use basic data augmentation from github module **'imgaug'**\n",
    "        - Affine transform\n",
    "            - Rotation: 0 to 270 degrees\n",
    "            - Shear : +- 10 degrees\n",
    "            - Zoom / scaling: +-20%\n",
    "        - Horizontal and vertial flip\n",
    "        - Gaussian Noise with stddev between 0 to 0.05 "
   ]
  },
  {
   "cell_type": "code",
   "execution_count": 3,
   "id": "c799a109",
   "metadata": {},
   "outputs": [
    {
     "name": "stdout",
     "output_type": "stream",
     "text": [
      "TensorFlow successfully installed.\n",
      "The installed version of TensorFlow includes GPU support.\n",
      "tensorflow - current version: 2.10.0\n",
      "tensorflow - physical device: [PhysicalDevice(name='/physical_device:CPU:0', device_type='CPU'), PhysicalDevice(name='/physical_device:GPU:0', device_type='GPU')]\n"
     ]
    }
   ],
   "source": [
    "import tensorflow as tf\n",
    "print(\"TensorFlow successfully installed.\")\n",
    "if tf.test.is_built_with_cuda():\n",
    "    print(\"The installed version of TensorFlow includes GPU support.\")\n",
    "    print(\"tensorflow - current version:\", tf.__version__)\n",
    "    print(\"tensorflow - physical device:\", tf.config.list_physical_devices())\n",
    "else:\n",
    "    print(\"The installed version of TensorFlow does not include GPU support.\")\n",
    "    \n",
    "gpus = tf.config.experimental.list_physical_devices('GPU')\n",
    "if gpus:\n",
    "    for gpu in gpus:\n",
    "        tf.config.experimental.set_memory_growth(gpu, True)"
   ]
  },
  {
   "cell_type": "code",
   "execution_count": 4,
   "id": "d83532a1",
   "metadata": {
    "colab": {
     "base_uri": "https://localhost:8080/"
    },
    "executionInfo": {
     "elapsed": 2795,
     "status": "ok",
     "timestamp": 1659094866941,
     "user": {
      "displayName": "Thắng Lê Dương Quốc",
      "userId": "17735925814044881454"
     },
     "user_tz": -120
    },
    "id": "d83532a1",
    "outputId": "1952e265-11a6-4225-e123-be28e1289a78"
   },
   "outputs": [],
   "source": [
    "import os\n",
    "import time\n",
    "import datetime\n",
    "\n",
    "from pathlib import Path\n",
    "import pandas as pd\n",
    "\n",
    "\n",
    "import tensorflow.keras as keras\n",
    "import tensorflow.keras.backend as K\n",
    "from tensorflow.keras.preprocessing.image import ImageDataGenerator\n",
    "from tensorflow.keras import layers\n",
    "\n",
    "from tensorflow.keras.callbacks import LearningRateScheduler, EarlyStopping, ReduceLROnPlateau, ModelCheckpoint, Callback\n",
    "from tensorflow.keras import Model \n",
    "from tensorflow.keras.utils import to_categorical\n",
    "from tensorflow.keras import regularizers\n",
    "from tensorflow.keras import mixed_precision\n",
    "from tensorflow.keras.applications import EfficientNetB1\n",
    "from tensorflow.keras.applications.efficientnet import preprocess_input\n",
    "from tensorflow.keras.preprocessing.image import array_to_img, img_to_array, load_img\n",
    "from tensorflow.keras.layers import Dense, Dropout, Activation, Flatten, Input, LeakyReLU,ReLU\n",
    "from tensorflow.keras.layers import Conv2D, MaxPooling2D, BatchNormalization , Input ,concatenate\n",
    "from tensorflow.keras.regularizers import l1,l2\n",
    "from tensorflow.keras.models import model_from_json\n",
    "from tensorflow.keras.losses import CategoricalCrossentropy\n",
    "from tensorflow.keras.optimizers import Adam\n",
    "\n",
    "from collections import Counter\n",
    "from collections import OrderedDict\n",
    "from itertools import cycle\n",
    "\n",
    "from sklearn.datasets import make_classification\n",
    "from sklearn.model_selection import train_test_split, StratifiedKFold, KFold\n",
    "from sklearn.preprocessing import LabelBinarizer\n",
    "from sklearn.metrics import classification_report, confusion_matrix, roc_auc_score, roc_curve,  roc_curve, auc\n",
    "\n",
    "\n",
    "\n",
    "import math\n",
    "import matplotlib.pyplot as plt\n",
    "from matplotlib import pyplot\n",
    "\n",
    "import matplotlib.patches as mpatches\n",
    "\n",
    "from PIL import Image\n",
    "\n",
    "import random\n",
    "import numpy as np\n",
    "from numpy import where\n",
    "\n",
    "import sys\n",
    "import importlib.util\n",
    "\n",
    "import gc\n",
    "# mixed_precision.set_global_policy('float32')\n",
    "# policy = mixed_precision.experimental.Policy('float32')\n",
    "# mixed_precision.experimental.set_policy(policy)"
   ]
  },
  {
   "cell_type": "raw",
   "id": "bbefe958-c9e4-403b-b87f-a720d2bf9db3",
   "metadata": {},
   "source": [
    "from tensorflow.keras import mixed_precision\n",
    "\n",
    "mixed_precision.set_global_policy('mixed_float16')"
   ]
  },
  {
   "attachments": {},
   "cell_type": "markdown",
   "id": "jlkMW9RwgtQD",
   "metadata": {
    "id": "jlkMW9RwgtQD"
   },
   "source": [
    "# 1. Mount google drive to access the data and scripts"
   ]
  },
  {
   "cell_type": "raw",
   "id": "tDCbfMEff9md",
   "metadata": {
    "colab": {
     "base_uri": "https://localhost:8080/"
    },
    "executionInfo": {
     "elapsed": 22621,
     "status": "ok",
     "timestamp": 1659094889558,
     "user": {
      "displayName": "Thắng Lê Dương Quốc",
      "userId": "17735925814044881454"
     },
     "user_tz": -120
    },
    "id": "tDCbfMEff9md",
    "outputId": "b0953592-da39-4442-fbd2-ebf67ec92302"
   },
   "source": [
    "from google.colab import drive\n",
    "drive.mount('/content/gdrive')"
   ]
  },
  {
   "attachments": {},
   "cell_type": "markdown",
   "id": "Q7a7SEiCtC9h",
   "metadata": {
    "id": "Q7a7SEiCtC9h"
   },
   "source": [
    "## 1.2. Unzip the zipped folder to a colab temporary drive"
   ]
  },
  {
   "cell_type": "raw",
   "id": "tQIUsJMstG4a",
   "metadata": {
    "colab": {
     "base_uri": "https://localhost:8080/"
    },
    "executionInfo": {
     "elapsed": 5362,
     "status": "ok",
     "timestamp": 1659094894916,
     "user": {
      "displayName": "Thắng Lê Dương Quốc",
      "userId": "17735925814044881454"
     },
     "user_tz": -120
    },
    "id": "tQIUsJMstG4a",
    "outputId": "2c94d314-0ec6-43f4-94c4-36c38d5fe8c2"
   },
   "source": [
    "# move back to location where we want to extract the zip file in colab temp drive\n",
    "# !cd [Location of colab drive]\n",
    "!cd /content\n",
    "# unzip the folder to colab temp drive\n",
    "# ! unzip [zip file location]\n",
    "! unzip /content/gdrive/MyDrive/_Colab_Notebooks/_Zooscan-CENTER_NOProcess/_inputs-Zooscan_3771.zip"
   ]
  },
  {
   "cell_type": "raw",
   "id": "6xSL_gq4NM8A",
   "metadata": {
    "executionInfo": {
     "elapsed": 70,
     "status": "ok",
     "timestamp": 1659094894917,
     "user": {
      "displayName": "Thắng Lê Dương Quốc",
      "userId": "17735925814044881454"
     },
     "user_tz": -120
    },
    "id": "6xSL_gq4NM8A"
   },
   "source": [
    "if not os.path.exists(f\"/content/mytemp\"):\n",
    "    os.mkdir(f\"/content/mytemp\")"
   ]
  },
  {
   "cell_type": "raw",
   "id": "amxYBuXtNVkp",
   "metadata": {
    "colab": {
     "base_uri": "https://localhost:8080/"
    },
    "executionInfo": {
     "elapsed": 623,
     "status": "ok",
     "timestamp": 1659094895471,
     "user": {
      "displayName": "Thắng Lê Dương Quốc",
      "userId": "17735925814044881454"
     },
     "user_tz": -120
    },
    "id": "amxYBuXtNVkp",
    "outputId": "77b4967f-5093-4bc8-e728-aac8e3c14c47"
   },
   "source": [
    "%cd /content/mytemp\n",
    "\n",
    "# get current active folder\n",
    "!pwd"
   ]
  },
  {
   "attachments": {},
   "cell_type": "markdown",
   "id": "ceb0d8c5",
   "metadata": {
    "id": "ceb0d8c5"
   },
   "source": [
    "# 1. Load fold1 (training set + validation set) and test set"
   ]
  },
  {
   "cell_type": "code",
   "execution_count": 5,
   "id": "90e5c9f0",
   "metadata": {},
   "outputs": [
    {
     "data": {
      "text/plain": [
       "'C:\\\\Users\\\\chevalier.c\\\\Documents\\\\GitHub\\\\_Plankton_Zooscan-Machine_Learning\\\\_pyscripts\\\\_transfer_learning'"
      ]
     },
     "metadata": {},
     "output_type": "display_data"
    }
   ],
   "source": [
    "mycwd = os.getcwd()\n",
    "\n",
    "display(mycwd)"
   ]
  },
  {
   "cell_type": "code",
   "execution_count": 6,
   "id": "6514188f",
   "metadata": {},
   "outputs": [
    {
     "data": {
      "text/plain": [
       "'C:\\\\Users\\\\chevalier.c\\\\Documents\\\\GitHub\\\\_Plankton_Zooscan-Machine_Learning\\\\_pyscripts'"
      ]
     },
     "execution_count": 6,
     "metadata": {},
     "output_type": "execute_result"
    }
   ],
   "source": [
    "os.chdir(\"..\")\n",
    "%pwd"
   ]
  },
  {
   "cell_type": "code",
   "execution_count": 7,
   "id": "02fc842b",
   "metadata": {},
   "outputs": [],
   "source": [
    "X_train_df = pd.read_csv('..//_inputs//_images_Zooscan//_Zooscan-training-fold_1.csv')\n",
    "X_validation_df = pd.read_csv('..//_inputs//_images_Zooscan//_Zooscan-validation-fold_1.csv')\n",
    "\n",
    "X_test_df = pd.read_csv('..//_inputs//_images_Zooscan//ZooScan-test_img.csv')"
   ]
  },
  {
   "cell_type": "code",
   "execution_count": 8,
   "id": "b0c4b94c-7312-49e8-95c4-11f6e595518e",
   "metadata": {
    "colab": {
     "base_uri": "https://localhost:8080/",
     "height": 430
    },
    "executionInfo": {
     "elapsed": 9,
     "status": "ok",
     "timestamp": 1659094895473,
     "user": {
      "displayName": "Thắng Lê Dương Quốc",
      "userId": "17735925814044881454"
     },
     "user_tz": -120
    },
    "id": "b0c4b94c-7312-49e8-95c4-11f6e595518e",
    "outputId": "c2e5fdac-d999-49bd-ec15-68c965434329"
   },
   "outputs": [
    {
     "data": {
      "text/html": [
       "<div>\n",
       "<style scoped>\n",
       "    .dataframe tbody tr th:only-of-type {\n",
       "        vertical-align: middle;\n",
       "    }\n",
       "\n",
       "    .dataframe tbody tr th {\n",
       "        vertical-align: top;\n",
       "    }\n",
       "\n",
       "    .dataframe thead th {\n",
       "        text-align: right;\n",
       "    }\n",
       "</style>\n",
       "<table border=\"1\" class=\"dataframe\">\n",
       "  <thead>\n",
       "    <tr style=\"text-align: right;\">\n",
       "      <th></th>\n",
       "      <th>filenames</th>\n",
       "      <th>labels</th>\n",
       "      <th>short_filenames</th>\n",
       "      <th>cls</th>\n",
       "    </tr>\n",
       "  </thead>\n",
       "  <tbody>\n",
       "    <tr>\n",
       "      <th>0</th>\n",
       "      <td>..//_inputs//_images_Zooscan//_training//aggre...</td>\n",
       "      <td>aggregats_debris</td>\n",
       "      <td>0001-aggregates.png</td>\n",
       "      <td>0</td>\n",
       "    </tr>\n",
       "    <tr>\n",
       "      <th>1</th>\n",
       "      <td>..//_inputs//_images_Zooscan//_training//aggre...</td>\n",
       "      <td>aggregats_debris</td>\n",
       "      <td>0002.png</td>\n",
       "      <td>0</td>\n",
       "    </tr>\n",
       "    <tr>\n",
       "      <th>2</th>\n",
       "      <td>..//_inputs//_images_Zooscan//_training//aggre...</td>\n",
       "      <td>aggregats_debris</td>\n",
       "      <td>0003-aggregates.png</td>\n",
       "      <td>0</td>\n",
       "    </tr>\n",
       "    <tr>\n",
       "      <th>3</th>\n",
       "      <td>..//_inputs//_images_Zooscan//_training//aggre...</td>\n",
       "      <td>aggregats_debris</td>\n",
       "      <td>0004-aggregates.png</td>\n",
       "      <td>0</td>\n",
       "    </tr>\n",
       "    <tr>\n",
       "      <th>4</th>\n",
       "      <td>..//_inputs//_images_Zooscan//_training//aggre...</td>\n",
       "      <td>aggregats_debris</td>\n",
       "      <td>0004.png</td>\n",
       "      <td>0</td>\n",
       "    </tr>\n",
       "  </tbody>\n",
       "</table>\n",
       "</div>"
      ],
      "text/plain": [
       "                                           filenames            labels  \\\n",
       "0  ..//_inputs//_images_Zooscan//_training//aggre...  aggregats_debris   \n",
       "1  ..//_inputs//_images_Zooscan//_training//aggre...  aggregats_debris   \n",
       "2  ..//_inputs//_images_Zooscan//_training//aggre...  aggregats_debris   \n",
       "3  ..//_inputs//_images_Zooscan//_training//aggre...  aggregats_debris   \n",
       "4  ..//_inputs//_images_Zooscan//_training//aggre...  aggregats_debris   \n",
       "\n",
       "       short_filenames  cls  \n",
       "0  0001-aggregates.png    0  \n",
       "1             0002.png    0  \n",
       "2  0003-aggregates.png    0  \n",
       "3  0004-aggregates.png    0  \n",
       "4             0004.png    0  "
      ]
     },
     "metadata": {},
     "output_type": "display_data"
    },
    {
     "data": {
      "text/plain": [
       "(44099, 4)"
      ]
     },
     "metadata": {},
     "output_type": "display_data"
    },
    {
     "data": {
      "text/html": [
       "<div>\n",
       "<style scoped>\n",
       "    .dataframe tbody tr th:only-of-type {\n",
       "        vertical-align: middle;\n",
       "    }\n",
       "\n",
       "    .dataframe tbody tr th {\n",
       "        vertical-align: top;\n",
       "    }\n",
       "\n",
       "    .dataframe thead th {\n",
       "        text-align: right;\n",
       "    }\n",
       "</style>\n",
       "<table border=\"1\" class=\"dataframe\">\n",
       "  <thead>\n",
       "    <tr style=\"text-align: right;\">\n",
       "      <th></th>\n",
       "      <th>filenames</th>\n",
       "      <th>labels</th>\n",
       "      <th>short_filenames</th>\n",
       "      <th>cls</th>\n",
       "    </tr>\n",
       "  </thead>\n",
       "  <tbody>\n",
       "    <tr>\n",
       "      <th>0</th>\n",
       "      <td>..//_inputs//_images_Zooscan//_training//aggre...</td>\n",
       "      <td>aggregats_debris</td>\n",
       "      <td>0002-aggregates.png</td>\n",
       "      <td>0</td>\n",
       "    </tr>\n",
       "    <tr>\n",
       "      <th>1</th>\n",
       "      <td>..//_inputs//_images_Zooscan//_training//aggre...</td>\n",
       "      <td>aggregats_debris</td>\n",
       "      <td>0006-aggregates.png</td>\n",
       "      <td>0</td>\n",
       "    </tr>\n",
       "    <tr>\n",
       "      <th>2</th>\n",
       "      <td>..//_inputs//_images_Zooscan//_training//aggre...</td>\n",
       "      <td>aggregats_debris</td>\n",
       "      <td>001-aggregates-jo_700_05.png</td>\n",
       "      <td>0</td>\n",
       "    </tr>\n",
       "    <tr>\n",
       "      <th>3</th>\n",
       "      <td>..//_inputs//_images_Zooscan//_training//aggre...</td>\n",
       "      <td>aggregats_debris</td>\n",
       "      <td>0010-aggregates.png</td>\n",
       "      <td>0</td>\n",
       "    </tr>\n",
       "    <tr>\n",
       "      <th>4</th>\n",
       "      <td>..//_inputs//_images_Zooscan//_training//aggre...</td>\n",
       "      <td>aggregats_debris</td>\n",
       "      <td>0011.png</td>\n",
       "      <td>0</td>\n",
       "    </tr>\n",
       "  </tbody>\n",
       "</table>\n",
       "</div>"
      ],
      "text/plain": [
       "                                           filenames            labels  \\\n",
       "0  ..//_inputs//_images_Zooscan//_training//aggre...  aggregats_debris   \n",
       "1  ..//_inputs//_images_Zooscan//_training//aggre...  aggregats_debris   \n",
       "2  ..//_inputs//_images_Zooscan//_training//aggre...  aggregats_debris   \n",
       "3  ..//_inputs//_images_Zooscan//_training//aggre...  aggregats_debris   \n",
       "4  ..//_inputs//_images_Zooscan//_training//aggre...  aggregats_debris   \n",
       "\n",
       "                short_filenames  cls  \n",
       "0           0002-aggregates.png    0  \n",
       "1           0006-aggregates.png    0  \n",
       "2  001-aggregates-jo_700_05.png    0  \n",
       "3           0010-aggregates.png    0  \n",
       "4                      0011.png    0  "
      ]
     },
     "metadata": {},
     "output_type": "display_data"
    },
    {
     "data": {
      "text/plain": [
       "(14700, 4)"
      ]
     },
     "metadata": {},
     "output_type": "display_data"
    },
    {
     "data": {
      "text/html": [
       "<div>\n",
       "<style scoped>\n",
       "    .dataframe tbody tr th:only-of-type {\n",
       "        vertical-align: middle;\n",
       "    }\n",
       "\n",
       "    .dataframe tbody tr th {\n",
       "        vertical-align: top;\n",
       "    }\n",
       "\n",
       "    .dataframe thead th {\n",
       "        text-align: right;\n",
       "    }\n",
       "</style>\n",
       "<table border=\"1\" class=\"dataframe\">\n",
       "  <thead>\n",
       "    <tr style=\"text-align: right;\">\n",
       "      <th></th>\n",
       "      <th>filenames</th>\n",
       "      <th>labels</th>\n",
       "      <th>short_filenames</th>\n",
       "      <th>cls</th>\n",
       "    </tr>\n",
       "  </thead>\n",
       "  <tbody>\n",
       "    <tr>\n",
       "      <th>0</th>\n",
       "      <td>..//_inputs//_images_Zooscan//_test//aggregats...</td>\n",
       "      <td>aggregats_debris</td>\n",
       "      <td>0007-aggregates_002.png</td>\n",
       "      <td>0</td>\n",
       "    </tr>\n",
       "    <tr>\n",
       "      <th>1</th>\n",
       "      <td>..//_inputs//_images_Zooscan//_test//aggregats...</td>\n",
       "      <td>aggregats_debris</td>\n",
       "      <td>0009-aggregates_001.png</td>\n",
       "      <td>0</td>\n",
       "    </tr>\n",
       "    <tr>\n",
       "      <th>2</th>\n",
       "      <td>..//_inputs//_images_Zooscan//_test//aggregats...</td>\n",
       "      <td>aggregats_debris</td>\n",
       "      <td>0012-aggregates_002.png</td>\n",
       "      <td>0</td>\n",
       "    </tr>\n",
       "    <tr>\n",
       "      <th>3</th>\n",
       "      <td>..//_inputs//_images_Zooscan//_test//aggregats...</td>\n",
       "      <td>aggregats_debris</td>\n",
       "      <td>002-aggregates_001.png</td>\n",
       "      <td>0</td>\n",
       "    </tr>\n",
       "    <tr>\n",
       "      <th>4</th>\n",
       "      <td>..//_inputs//_images_Zooscan//_test//aggregats...</td>\n",
       "      <td>aggregats_debris</td>\n",
       "      <td>002-aggregates_007.png</td>\n",
       "      <td>0</td>\n",
       "    </tr>\n",
       "  </tbody>\n",
       "</table>\n",
       "</div>"
      ],
      "text/plain": [
       "                                           filenames            labels  \\\n",
       "0  ..//_inputs//_images_Zooscan//_test//aggregats...  aggregats_debris   \n",
       "1  ..//_inputs//_images_Zooscan//_test//aggregats...  aggregats_debris   \n",
       "2  ..//_inputs//_images_Zooscan//_test//aggregats...  aggregats_debris   \n",
       "3  ..//_inputs//_images_Zooscan//_test//aggregats...  aggregats_debris   \n",
       "4  ..//_inputs//_images_Zooscan//_test//aggregats...  aggregats_debris   \n",
       "\n",
       "           short_filenames  cls  \n",
       "0  0007-aggregates_002.png    0  \n",
       "1  0009-aggregates_001.png    0  \n",
       "2  0012-aggregates_002.png    0  \n",
       "3   002-aggregates_001.png    0  \n",
       "4   002-aggregates_007.png    0  "
      ]
     },
     "metadata": {},
     "output_type": "display_data"
    },
    {
     "data": {
      "text/plain": [
       "(6907, 4)"
      ]
     },
     "metadata": {},
     "output_type": "display_data"
    }
   ],
   "source": [
    "display(X_train_df.head(5), X_train_df.shape)\n",
    "display(X_validation_df.head(5), X_validation_df.shape)\n",
    "display(X_test_df.head(5), X_test_df.shape)"
   ]
  },
  {
   "cell_type": "code",
   "execution_count": 9,
   "id": "LixssVcGSxgG",
   "metadata": {
    "colab": {
     "base_uri": "https://localhost:8080/",
     "height": 1000
    },
    "executionInfo": {
     "elapsed": 3611,
     "status": "ok",
     "timestamp": 1659094899079,
     "user": {
      "displayName": "Thắng Lê Dương Quốc",
      "userId": "17735925814044881454"
     },
     "user_tz": -120
    },
    "id": "LixssVcGSxgG",
    "outputId": "eeda968a-8b40-4bf6-9dd9-7e41268fa300"
   },
   "outputs": [
    {
     "data": {
      "image/png": "[encoded data removed]",
      "text/plain": [
       "<Figure size 3000x2000 with 32 Axes>"
      ]
     },
     "metadata": {},
     "output_type": "display_data"
    }
   ],
   "source": [
    "# show some random images in training set\n",
    "\n",
    "plt.figure(figsize=(30, 20))\n",
    "for i in range(32):\n",
    "    row_df = X_train_df.sample()\n",
    "    label = row_df['labels'].to_list()[0]\n",
    "    ax = plt.subplot(4, 8, i + 1)\n",
    "    plt.imshow(load_img(row_df['filenames'].to_list()[0], color_mode='rgb', interpolation=\"nearest\"))\n",
    "    ax.set_title(label)\n",
    "    ax.axes.xaxis.set_visible(False)\n",
    "    ax.axes.yaxis.set_visible(False)"
   ]
  },
  {
   "attachments": {},
   "cell_type": "markdown",
   "id": "ecd41cf1-cb62-4227-bbf2-2e15a83e2582",
   "metadata": {
    "id": "ecd41cf1-cb62-4227-bbf2-2e15a83e2582"
   },
   "source": [
    "# 3. Data augmentation \n"
   ]
  },
  {
   "cell_type": "code",
   "execution_count": 10,
   "id": "56be6ddc",
   "metadata": {},
   "outputs": [
    {
     "name": "stdout",
     "output_type": "stream",
     "text": [
      "Requirement already satisfied: imgaug in c:\\users\\chevalier.c\\appdata\\local\\miniconda3\\envs\\tf210v2\\lib\\site-packages (0.4.0)\n",
      "Requirement already satisfied: six in c:\\users\\chevalier.c\\appdata\\local\\miniconda3\\envs\\tf210v2\\lib\\site-packages (from imgaug) (1.16.0)\n",
      "Requirement already satisfied: numpy>=1.15 in c:\\users\\chevalier.c\\appdata\\local\\miniconda3\\envs\\tf210v2\\lib\\site-packages (from imgaug) (1.24.4)\n",
      "Requirement already satisfied: scipy in c:\\users\\chevalier.c\\appdata\\local\\miniconda3\\envs\\tf210v2\\lib\\site-packages (from imgaug) (1.10.1)\n",
      "Requirement already satisfied: Pillow in c:\\users\\chevalier.c\\appdata\\local\\miniconda3\\envs\\tf210v2\\lib\\site-packages (from imgaug) (9.5.0)\n",
      "Requirement already satisfied: matplotlib in c:\\users\\chevalier.c\\appdata\\local\\miniconda3\\envs\\tf210v2\\lib\\site-packages (from imgaug) (3.7.1)\n",
      "Requirement already satisfied: scikit-image>=0.14.2 in c:\\users\\chevalier.c\\appdata\\local\\miniconda3\\envs\\tf210v2\\lib\\site-packages (from imgaug) (0.21.0)\n",
      "Requirement already satisfied: opencv-python in c:\\users\\chevalier.c\\appdata\\local\\miniconda3\\envs\\tf210v2\\lib\\site-packages (from imgaug) (4.8.0.74)\n",
      "Requirement already satisfied: imageio in c:\\users\\chevalier.c\\appdata\\local\\miniconda3\\envs\\tf210v2\\lib\\site-packages (from imgaug) (2.31.1)\n",
      "Requirement already satisfied: Shapely in c:\\users\\chevalier.c\\appdata\\local\\miniconda3\\envs\\tf210v2\\lib\\site-packages (from imgaug) (2.0.1)\n",
      "Requirement already satisfied: networkx>=2.8 in c:\\users\\chevalier.c\\appdata\\local\\miniconda3\\envs\\tf210v2\\lib\\site-packages (from scikit-image>=0.14.2->imgaug) (3.1)\n",
      "Requirement already satisfied: tifffile>=2022.8.12 in c:\\users\\chevalier.c\\appdata\\local\\miniconda3\\envs\\tf210v2\\lib\\site-packages (from scikit-image>=0.14.2->imgaug) (2023.4.12)\n",
      "Requirement already satisfied: PyWavelets>=1.1.1 in c:\\users\\chevalier.c\\appdata\\local\\miniconda3\\envs\\tf210v2\\lib\\site-packages (from scikit-image>=0.14.2->imgaug) (1.4.1)\n",
      "Requirement already satisfied: packaging>=21 in c:\\users\\chevalier.c\\appdata\\local\\miniconda3\\envs\\tf210v2\\lib\\site-packages (from scikit-image>=0.14.2->imgaug) (23.1)\n",
      "Requirement already satisfied: lazy_loader>=0.2 in c:\\users\\chevalier.c\\appdata\\local\\miniconda3\\envs\\tf210v2\\lib\\site-packages (from scikit-image>=0.14.2->imgaug) (0.2)\n",
      "Requirement already satisfied: contourpy>=1.0.1 in c:\\users\\chevalier.c\\appdata\\local\\miniconda3\\envs\\tf210v2\\lib\\site-packages (from matplotlib->imgaug) (1.1.0)\n",
      "Requirement already satisfied: cycler>=0.10 in c:\\users\\chevalier.c\\appdata\\local\\miniconda3\\envs\\tf210v2\\lib\\site-packages (from matplotlib->imgaug) (0.11.0)\n",
      "Requirement already satisfied: fonttools>=4.22.0 in c:\\users\\chevalier.c\\appdata\\local\\miniconda3\\envs\\tf210v2\\lib\\site-packages (from matplotlib->imgaug) (4.40.0)\n",
      "Requirement already satisfied: kiwisolver>=1.0.1 in c:\\users\\chevalier.c\\appdata\\local\\miniconda3\\envs\\tf210v2\\lib\\site-packages (from matplotlib->imgaug) (1.4.4)\n",
      "Requirement already satisfied: pyparsing>=2.3.1 in c:\\users\\chevalier.c\\appdata\\local\\miniconda3\\envs\\tf210v2\\lib\\site-packages (from matplotlib->imgaug) (3.1.0)\n",
      "Requirement already satisfied: python-dateutil>=2.7 in c:\\users\\chevalier.c\\appdata\\local\\miniconda3\\envs\\tf210v2\\lib\\site-packages (from matplotlib->imgaug) (2.8.2)\n",
      "Requirement already satisfied: importlib-resources>=3.2.0 in c:\\users\\chevalier.c\\appdata\\local\\miniconda3\\envs\\tf210v2\\lib\\site-packages (from matplotlib->imgaug) (5.12.0)\n",
      "Requirement already satisfied: zipp>=3.1.0 in c:\\users\\chevalier.c\\appdata\\local\\miniconda3\\envs\\tf210v2\\lib\\site-packages (from importlib-resources>=3.2.0->matplotlib->imgaug) (3.15.0)\n"
     ]
    }
   ],
   "source": [
    "!pip install imgaug"
   ]
  },
  {
   "cell_type": "code",
   "execution_count": 11,
   "id": "48807852",
   "metadata": {},
   "outputs": [],
   "source": [
    "import imgaug.augmenters as iaa\n",
    "# import imgaug as ia"
   ]
  },
  {
   "cell_type": "raw",
   "id": "43abd5ea",
   "metadata": {},
   "source": [
    "data_augmentation = tf.keras.Sequential([\n",
    "                                            tf.keras.layers.RandomFlip(\"horizontal_and_vertical\"),\n",
    "                                            tf.keras.layers.RandomRotation(0.75),\n",
    "                                            tf.keras.layers.GaussianNoise(stddev=0.05),\n",
    "                                            tf.keras.layers.RandomZoom(0.2)\n",
    "                                            \n",
    "                                            ])"
   ]
  },
  {
   "cell_type": "raw",
   "id": "d0c76371",
   "metadata": {},
   "source": [
    "seq = iaa.Sequential(\n",
    "    [\n",
    "        # apply the following augmenters to most images\n",
    "        iaa.Fliplr(0.5), # horizontally flip 50% of all images\n",
    "        iaa.Flipud(0.5), # vertically flip 20% of all images\n",
    "        iaa.AdditiveGaussianNoise(scale=(0, 0.05 * 255)), # gaussian noise varies between 0 and 0.05*255\n",
    "        sometimes(iaa.Affine(\n",
    "            scale={\"x\": (0.8, 1.2), \"y\": (0.8, 1.2)}, # scale images to 80-120% of their size, individually per axis\n",
    "            rotate=(0, 270), # rotate by -45 to +45 degrees\n",
    "            shear=(-10, 10), # shear by -16 to +16 degrees\n",
    "            order=[0, 1], # use nearest neighbour or bilinear interpolation (fast)\n",
    "            # cval=(0, 255), # if mode is constant, use a cval between 0 and 255\n",
    "            mode=\"reflect\" # use any of scikit-image's warping modes (see 2nd image from the top for examples)\n",
    "        )),\n",
    "    ],\n",
    "    random_order=True\n",
    ")"
   ]
  },
  {
   "cell_type": "raw",
   "id": "55880ce0-88a8-41da-a0bb-da61856ad944",
   "metadata": {},
   "source": [
    "# Sometimes(0.5, ...) applies the given augmenter in 50% of all cases,\n",
    "# e.g. Sometimes(0.5, GaussianBlur(0.3)) would blur roughly every second image.\n",
    "sometimes = lambda aug: iaa.Sometimes(0.5, aug)\n",
    "\n",
    "image_augmentation = iaa.Sequential(\n",
    "    [\n",
    "        # apply the following augmenters to most images\n",
    "        iaa.Fliplr(0.5), # horizontally flip 50% of all images\n",
    "        iaa.Flipud(0.5), # vertically flip 50% of all images\n",
    "        iaa.AdditiveGaussianNoise(scale=(0.00, 0.05)), # gaussian noise varies between 0.01 and 0.05*255\n",
    "        sometimes(iaa.Affine(\n",
    "                    scale={\"x\": (0.8, 1.2), \"y\": (0.8, 1.2)}, # scale images to 80-120% of their size, individually per axis\n",
    "                    rotate=(0, 270), # rotate by 0 to +270 degrees\n",
    "                    shear=(-10, 10), # shear by -10 to +10 degrees\n",
    "                    order=[0, 1], # use nearest neighbour or bilinear interpolation (fast)\n",
    "                    # cval=(0, 255), # if mode is constant, use a cval between 0 and 255\n",
    "                    mode=\"reflect\" # use any of scikit-image's warping modes (see 2nd image from the top for examples)\n",
    "                )),\n",
    "    ],\n",
    "    random_order=True\n",
    ")"
   ]
  },
  {
   "cell_type": "raw",
   "id": "5f9a3971",
   "metadata": {},
   "source": [
    "# augmentation of input images using imgaug\n",
    "def data_augmentation_imgaug(image):\n",
    "    augmented_image = image_augmentation.augment_image(image.numpy())\n",
    "    return augmented_image"
   ]
  },
  {
   "attachments": {},
   "cell_type": "markdown",
   "id": "0aaf617b",
   "metadata": {},
   "source": [
    "# 4. Fold 1 data configuration"
   ]
  },
  {
   "cell_type": "raw",
   "id": "d6e2f4ed-a1e8-4430-9560-1e69314ab381",
   "metadata": {},
   "source": [
    "from tensorflow.data import AUTOTUNE\n",
    "\n",
    "BATCH_SIZE = 32"
   ]
  },
  {
   "cell_type": "raw",
   "id": "867a03c4-1b19-48da-9ac8-ecce8a4ecdac",
   "metadata": {},
   "source": [
    "def load_images(imagePath, imageLabel):\n",
    "\t# read the image from disk, decode it, convert the data type to\n",
    "\t# floating point, and resize it\n",
    "\timage = tf.io.read_file(imagePath)\n",
    "\timage = tf.io.decode_png(image, channels=3)\n",
    "\timage = tf.image.convert_image_dtype(image, dtype=tf.float32)\n",
    "\timage = tf.image.resize(image, (128, 128))\n",
    "\t\n",
    "\t# return the image and the label\n",
    "\treturn (image, imageLabel)"
   ]
  },
  {
   "attachments": {},
   "cell_type": "markdown",
   "id": "bb51bb17",
   "metadata": {},
   "source": [
    "## 4.1. Configure dataset using tf.data "
   ]
  },
  {
   "cell_type": "raw",
   "id": "d85974eb",
   "metadata": {},
   "source": [
    "# grab all image paths and their labels\n",
    "imagePaths = list(X_train_df['filenames'])\n",
    "imageLabels = list(X_train_df['labels'])\n",
    "\n",
    "# load training set\n",
    "traing_ds = tf.data.Dataset.from_tensor_slices((imagePaths, imageLabels))\n",
    "traing_ds = (traing_ds\n",
    "\t.shuffle(len(imagePaths), seed=42)\n",
    "\t.map(load_images, num_parallel_calls=AUTOTUNE)\n",
    "\t.cache()\n",
    "\t.batch(BATCH_SIZE)\n",
    " \t.prefetch(AUTOTUNE)\n",
    ")\n",
    "\n"
   ]
  },
  {
   "cell_type": "raw",
   "id": "df771bc3-6da2-461e-ba30-39ffdd9f4954",
   "metadata": {},
   "source": [
    "# def augment_dataset(self, dataset):\n",
    "#     dataset = dataset.map(self.augment_fn())\n",
    "#     return dataset\n",
    "\n",
    "def data_augmentation(images, imageLabels):\n",
    "    \n",
    "    img_dtype = images.dtype\n",
    "    img_shape = tf.shape(images)\n",
    "        \n",
    "        \n",
    "    images = tf.numpy_function(image_augmentation.augment_images,\n",
    "                                   [images],\n",
    "                                   img_dtype)\n",
    "    images = tf.reshape(images, shape = img_shape)\n",
    "    return (images, imageLabels)"
   ]
  },
  {
   "cell_type": "raw",
   "id": "2bea39c7-282f-4ba8-8e94-048a7129f193",
   "metadata": {},
   "source": [
    "def prepare(ds, num_of_samples, shuffle=False, augment=False):\n",
    "  if shuffle:\n",
    "    ds = ds.shuffle(num_of_samples)\n",
    "  \n",
    "  # Load image and its label\n",
    "  ds = ds.map(load_images, num_parallel_calls=AUTOTUNE)\n",
    "      \n",
    "  ds = ds.cache()\n",
    "\n",
    "  # Batch all datasets.\n",
    "  ds = ds.batch(BATCH_SIZE)\n",
    "  \n",
    "  # Use data augmentation only on the training set.\n",
    "  if augment:    \n",
    "    ds = ds.map(data_augmentation, num_parallel_calls=AUTOTUNE)\n",
    "  \n",
    "  # Use buffered prefetching on all datasets.\n",
    "  return ds.prefetch(buffer_size=AUTOTUNE)"
   ]
  },
  {
   "attachments": {},
   "cell_type": "markdown",
   "id": "fdd3ce6b",
   "metadata": {},
   "source": [
    "### 4.1.2. Check some data augmentation on a specific image"
   ]
  },
  {
   "cell_type": "raw",
   "id": "bc4c58c1-84b3-460a-80d6-96b7675c9968",
   "metadata": {},
   "source": [
    "# grab all image paths and their labels\n",
    "imagePaths = list(X_train_df['filenames'])\n",
    "imageLabels = list(X_train_df['labels'])\n",
    "\n",
    "image, label = load_images(imagePaths[23450], imageLabels[23450])"
   ]
  },
  {
   "cell_type": "raw",
   "id": "53b3c396-3ff4-4958-a5a4-e2cc3ebb205e",
   "metadata": {},
   "source": [
    "plt.imshow(image)"
   ]
  },
  {
   "cell_type": "raw",
   "id": "e9970233-6d8f-429a-9ae2-d682be1b07e7",
   "metadata": {},
   "source": [
    "# Add the image to a batch.\n",
    "image = tf.cast(tf.expand_dims(image, 0), tf.float32)"
   ]
  },
  {
   "cell_type": "raw",
   "id": "706a6c24-3a80-4b0c-b2a2-90b883b00a40",
   "metadata": {},
   "source": [
    "def aumentation_on_batch_of_images(images):\n",
    "    \n",
    "    img_dtype = images.dtype\n",
    "    img_shape = tf.shape(images)\n",
    "        \n",
    "        \n",
    "    images = tf.numpy_function(image_augmentation.augment_images,\n",
    "                                   [images],\n",
    "                                   img_dtype)\n",
    "    images = tf.reshape(images, shape = img_shape)\n",
    "    return images"
   ]
  },
  {
   "cell_type": "raw",
   "id": "8399c278-3b76-4fa0-8d01-a266d8de5712",
   "metadata": {},
   "source": [
    "plt.figure(figsize=(30, 20))\n",
    "\n",
    "for i in range(32):\n",
    "  augmented_image = aumentation_on_batch_of_images(image)\n",
    "  \n",
    "  ax = plt.subplot(4, 8, i + 1)\n",
    "\n",
    "  plt.imshow(np.clip(np.squeeze(augmented_image[0]), 0, 1))\n",
    "\n",
    "  plt.axis(\"off\")"
   ]
  },
  {
   "attachments": {},
   "cell_type": "markdown",
   "id": "645739f9",
   "metadata": {},
   "source": [
    "### 4.1.3. Check data augmentation on dataset"
   ]
  },
  {
   "cell_type": "raw",
   "id": "e084a9f1-67cc-4c34-88b3-5b1957a73b6c",
   "metadata": {},
   "source": [
    "# grab all image paths and their labels\n",
    "imagePaths = list(X_train_df['filenames'])\n",
    "imageLabels = list(X_train_df['labels'])\n",
    "\n",
    "training_ds = tf.data.Dataset.from_tensor_slices((imagePaths, imageLabels))\n",
    "\n",
    "traing_ds = prepare(training_ds, len(imagePaths), shuffle=True, augment=True)"
   ]
  },
  {
   "cell_type": "raw",
   "id": "0e25adff",
   "metadata": {},
   "source": [
    "# load training set\n",
    "traing_ds = tf.data.Dataset.from_tensor_slices((imagePaths, imageLabels))\n",
    "traing_ds = (traing_ds\n",
    "\t.shuffle(len(imagePaths), seed=42)\n",
    "\t.map(load_images, num_parallel_calls=AUTOTUNE)\n",
    "\t.cache()\n",
    "\t.batch(BATCH_SIZE)\n",
    "\t.map(data_augmentation, num_parallel_calls=AUTOTUNE)\n",
    " \t.prefetch(AUTOTUNE)\n",
    ")"
   ]
  },
  {
   "cell_type": "raw",
   "id": "c0098d7e-c6bd-437b-a8d0-c60606e867bf",
   "metadata": {},
   "source": [
    "plt.figure(figsize=(30, 20))\n",
    "\n",
    "for image, label in traing_ds.take(1):\n",
    "    for i in range(32):\n",
    "        ax = plt.subplot(4, 8, i + 1)\n",
    "        plt.imshow(np.clip(np.squeeze(image[i]), 0, 1))\n",
    "        ax.set_title(label[i].numpy().decode('utf-8'))\n",
    "        \n",
    "        ax.axes.xaxis.set_visible(False)\n",
    "        ax.axes.yaxis.set_visible(False)\n",
    "    # print(image[0])\n",
    "    # print(label)\n"
   ]
  },
  {
   "attachments": {},
   "cell_type": "markdown",
   "id": "b7753376",
   "metadata": {},
   "source": [
    "### 4.1.4. Training, validation and testing set\n",
    "\n",
    "#### 4.1.4.1. One-hot encoder"
   ]
  },
  {
   "cell_type": "code",
   "execution_count": 12,
   "id": "4a46d034",
   "metadata": {},
   "outputs": [],
   "source": [
    "training_labels = X_train_df['labels']\n",
    "validation_labels = X_validation_df['labels']\n",
    "testing_labels = X_test_df['labels']"
   ]
  },
  {
   "cell_type": "code",
   "execution_count": 13,
   "id": "0139c106",
   "metadata": {},
   "outputs": [
    {
     "data": {
      "text/html": [
       "<style>#sk-container-id-1 {color: black;background-color: white;}#sk-container-id-1 pre{padding: 0;}#sk-container-id-1 div.sk-toggleable {background-color: white;}#sk-container-id-1 label.sk-toggleable__label {cursor: pointer;display: block;width: 100%;margin-bottom: 0;padding: 0.3em;box-sizing: border-box;text-align: center;}#sk-container-id-1 label.sk-toggleable__label-arrow:before {content: \"▸\";float: left;margin-right: 0.25em;color: #696969;}#sk-container-id-1 label.sk-toggleable__label-arrow:hover:before {color: black;}#sk-container-id-1 div.sk-estimator:hover label.sk-toggleable__label-arrow:before {color: black;}#sk-container-id-1 div.sk-toggleable__content {max-height: 0;max-width: 0;overflow: hidden;text-align: left;background-color: #f0f8ff;}#sk-container-id-1 div.sk-toggleable__content pre {margin: 0.2em;color: black;border-radius: 0.25em;background-color: #f0f8ff;}#sk-container-id-1 input.sk-toggleable__control:checked~div.sk-toggleable__content {max-height: 200px;max-width: 100%;overflow: auto;}#sk-container-id-1 input.sk-toggleable__control:checked~label.sk-toggleable__label-arrow:before {content: \"▾\";}#sk-container-id-1 div.sk-estimator input.sk-toggleable__control:checked~label.sk-toggleable__label {background-color: #d4ebff;}#sk-container-id-1 div.sk-label input.sk-toggleable__control:checked~label.sk-toggleable__label {background-color: #d4ebff;}#sk-container-id-1 input.sk-hidden--visually {border: 0;clip: rect(1px 1px 1px 1px);clip: rect(1px, 1px, 1px, 1px);height: 1px;margin: -1px;overflow: hidden;padding: 0;position: absolute;width: 1px;}#sk-container-id-1 div.sk-estimator {font-family: monospace;background-color: #f0f8ff;border: 1px dotted black;border-radius: 0.25em;box-sizing: border-box;margin-bottom: 0.5em;}#sk-container-id-1 div.sk-estimator:hover {background-color: #d4ebff;}#sk-container-id-1 div.sk-parallel-item::after {content: \"\";width: 100%;border-bottom: 1px solid gray;flex-grow: 1;}#sk-container-id-1 div.sk-label:hover label.sk-toggleable__label {background-color: #d4ebff;}#sk-container-id-1 div.sk-serial::before {content: \"\";position: absolute;border-left: 1px solid gray;box-sizing: border-box;top: 0;bottom: 0;left: 50%;z-index: 0;}#sk-container-id-1 div.sk-serial {display: flex;flex-direction: column;align-items: center;background-color: white;padding-right: 0.2em;padding-left: 0.2em;position: relative;}#sk-container-id-1 div.sk-item {position: relative;z-index: 1;}#sk-container-id-1 div.sk-parallel {display: flex;align-items: stretch;justify-content: center;background-color: white;position: relative;}#sk-container-id-1 div.sk-item::before, #sk-container-id-1 div.sk-parallel-item::before {content: \"\";position: absolute;border-left: 1px solid gray;box-sizing: border-box;top: 0;bottom: 0;left: 50%;z-index: -1;}#sk-container-id-1 div.sk-parallel-item {display: flex;flex-direction: column;z-index: 1;position: relative;background-color: white;}#sk-container-id-1 div.sk-parallel-item:first-child::after {align-self: flex-end;width: 50%;}#sk-container-id-1 div.sk-parallel-item:last-child::after {align-self: flex-start;width: 50%;}#sk-container-id-1 div.sk-parallel-item:only-child::after {width: 0;}#sk-container-id-1 div.sk-dashed-wrapped {border: 1px dashed gray;margin: 0 0.4em 0.5em 0.4em;box-sizing: border-box;padding-bottom: 0.4em;background-color: white;}#sk-container-id-1 div.sk-label label {font-family: monospace;font-weight: bold;display: inline-block;line-height: 1.2em;}#sk-container-id-1 div.sk-label-container {text-align: center;}#sk-container-id-1 div.sk-container {/* jupyter's `normalize.less` sets `[hidden] { display: none; }` but bootstrap.min.css set `[hidden] { display: none !important; }` so we also need the `!important` here to be able to override the default hidden behavior on the sphinx rendered scikit-learn.org. See: https://github.com/scikit-learn/scikit-learn/issues/21755 */display: inline-block !important;position: relative;}#sk-container-id-1 div.sk-text-repr-fallback {display: none;}</style><div id=\"sk-container-id-1\" class=\"sk-top-container\"><div class=\"sk-text-repr-fallback\"><pre>LabelBinarizer()</pre><b>In a Jupyter environment, please rerun this cell to show the HTML representation or trust the notebook. <br />On GitHub, the HTML representation is unable to render, please try loading this page with nbviewer.org.</b></div><div class=\"sk-container\" hidden><div class=\"sk-item\"><div class=\"sk-estimator sk-toggleable\"><input class=\"sk-toggleable__control sk-hidden--visually\" id=\"sk-estimator-id-1\" type=\"checkbox\" checked><label for=\"sk-estimator-id-1\" class=\"sk-toggleable__label sk-toggleable__label-arrow\">LabelBinarizer</label><div class=\"sk-toggleable__content\"><pre>LabelBinarizer()</pre></div></div></div></div></div>"
      ],
      "text/plain": [
       "LabelBinarizer()"
      ]
     },
     "execution_count": 13,
     "metadata": {},
     "output_type": "execute_result"
    }
   ],
   "source": [
    "jobs_encoder = LabelBinarizer()\n",
    "jobs_encoder.fit(training_labels)"
   ]
  },
  {
   "cell_type": "code",
   "execution_count": 14,
   "id": "3f8003e4",
   "metadata": {},
   "outputs": [],
   "source": [
    "train_labels = jobs_encoder.transform(training_labels)\n",
    "val_labels = jobs_encoder.transform(validation_labels)\n",
    "test_labels = jobs_encoder.transform(testing_labels)"
   ]
  },
  {
   "cell_type": "code",
   "execution_count": 15,
   "id": "cc1fabc5",
   "metadata": {},
   "outputs": [
    {
     "data": {
      "text/plain": [
       "array([[1, 0, 0, 0, 0, 0, 0, 0, 0, 0, 0, 0, 0, 0, 0, 0, 0, 0, 0, 0, 0, 0,\n",
       "        0, 0, 0, 0, 0, 0, 0],\n",
       "       [1, 0, 0, 0, 0, 0, 0, 0, 0, 0, 0, 0, 0, 0, 0, 0, 0, 0, 0, 0, 0, 0,\n",
       "        0, 0, 0, 0, 0, 0, 0],\n",
       "       [1, 0, 0, 0, 0, 0, 0, 0, 0, 0, 0, 0, 0, 0, 0, 0, 0, 0, 0, 0, 0, 0,\n",
       "        0, 0, 0, 0, 0, 0, 0],\n",
       "       [1, 0, 0, 0, 0, 0, 0, 0, 0, 0, 0, 0, 0, 0, 0, 0, 0, 0, 0, 0, 0, 0,\n",
       "        0, 0, 0, 0, 0, 0, 0],\n",
       "       [1, 0, 0, 0, 0, 0, 0, 0, 0, 0, 0, 0, 0, 0, 0, 0, 0, 0, 0, 0, 0, 0,\n",
       "        0, 0, 0, 0, 0, 0, 0]])"
      ]
     },
     "metadata": {},
     "output_type": "display_data"
    },
    {
     "data": {
      "text/plain": [
       "(44099, 29)"
      ]
     },
     "metadata": {},
     "output_type": "display_data"
    },
    {
     "data": {
      "text/plain": [
       "numpy.ndarray"
      ]
     },
     "metadata": {},
     "output_type": "display_data"
    },
    {
     "data": {
      "text/plain": [
       "array([[1, 0, 0, 0, 0, 0, 0, 0, 0, 0, 0, 0, 0, 0, 0, 0, 0, 0, 0, 0, 0, 0,\n",
       "        0, 0, 0, 0, 0, 0, 0],\n",
       "       [1, 0, 0, 0, 0, 0, 0, 0, 0, 0, 0, 0, 0, 0, 0, 0, 0, 0, 0, 0, 0, 0,\n",
       "        0, 0, 0, 0, 0, 0, 0],\n",
       "       [1, 0, 0, 0, 0, 0, 0, 0, 0, 0, 0, 0, 0, 0, 0, 0, 0, 0, 0, 0, 0, 0,\n",
       "        0, 0, 0, 0, 0, 0, 0],\n",
       "       [1, 0, 0, 0, 0, 0, 0, 0, 0, 0, 0, 0, 0, 0, 0, 0, 0, 0, 0, 0, 0, 0,\n",
       "        0, 0, 0, 0, 0, 0, 0],\n",
       "       [1, 0, 0, 0, 0, 0, 0, 0, 0, 0, 0, 0, 0, 0, 0, 0, 0, 0, 0, 0, 0, 0,\n",
       "        0, 0, 0, 0, 0, 0, 0]])"
      ]
     },
     "metadata": {},
     "output_type": "display_data"
    },
    {
     "data": {
      "text/plain": [
       "(14700, 29)"
      ]
     },
     "metadata": {},
     "output_type": "display_data"
    },
    {
     "data": {
      "text/plain": [
       "numpy.ndarray"
      ]
     },
     "metadata": {},
     "output_type": "display_data"
    },
    {
     "data": {
      "text/plain": [
       "array([[1, 0, 0, 0, 0, 0, 0, 0, 0, 0, 0, 0, 0, 0, 0, 0, 0, 0, 0, 0, 0, 0,\n",
       "        0, 0, 0, 0, 0, 0, 0],\n",
       "       [1, 0, 0, 0, 0, 0, 0, 0, 0, 0, 0, 0, 0, 0, 0, 0, 0, 0, 0, 0, 0, 0,\n",
       "        0, 0, 0, 0, 0, 0, 0],\n",
       "       [1, 0, 0, 0, 0, 0, 0, 0, 0, 0, 0, 0, 0, 0, 0, 0, 0, 0, 0, 0, 0, 0,\n",
       "        0, 0, 0, 0, 0, 0, 0],\n",
       "       [1, 0, 0, 0, 0, 0, 0, 0, 0, 0, 0, 0, 0, 0, 0, 0, 0, 0, 0, 0, 0, 0,\n",
       "        0, 0, 0, 0, 0, 0, 0],\n",
       "       [1, 0, 0, 0, 0, 0, 0, 0, 0, 0, 0, 0, 0, 0, 0, 0, 0, 0, 0, 0, 0, 0,\n",
       "        0, 0, 0, 0, 0, 0, 0]])"
      ]
     },
     "metadata": {},
     "output_type": "display_data"
    },
    {
     "data": {
      "text/plain": [
       "(6907, 29)"
      ]
     },
     "metadata": {},
     "output_type": "display_data"
    },
    {
     "data": {
      "text/plain": [
       "numpy.ndarray"
      ]
     },
     "metadata": {},
     "output_type": "display_data"
    }
   ],
   "source": [
    "display(train_labels[0:5], train_labels.shape, type(train_labels))\n",
    "display(val_labels[0:5], val_labels.shape, type(val_labels))\n",
    "display(test_labels[0:5], test_labels.shape, type(test_labels))"
   ]
  },
  {
   "attachments": {},
   "cell_type": "markdown",
   "id": "7d844f9a",
   "metadata": {},
   "source": [
    "#### 4.1.4.2. Loading fold 1"
   ]
  },
  {
   "cell_type": "code",
   "execution_count": 16,
   "id": "b5d30978",
   "metadata": {},
   "outputs": [],
   "source": [
    "from tensorflow.data import AUTOTUNE\n",
    "\n",
    "BATCH_SIZE = 32\n",
    "\n",
    "IMG_SIZE = (128, 128)\n",
    "\n",
    "N_CLASSES = 29\n",
    "\n",
    "IMG_SHAPE = IMG_SIZE + (3,)\n"
   ]
  },
  {
   "cell_type": "code",
   "execution_count": 17,
   "id": "b0adffef",
   "metadata": {},
   "outputs": [],
   "source": [
    "# Sometimes(0.5, ...) applies the given augmenter in 50% of all cases,\n",
    "# e.g. Sometimes(0.5, GaussianBlur(0.3)) would blur roughly every second image.\n",
    "# sometimes = lambda aug: iaa.Sometimes(0.5, aug)\n",
    "\n",
    "image_augmentation = iaa.Sequential(\n",
    "    [\n",
    "        # apply the following augmenters to most images\n",
    "        iaa.Fliplr(1.0), # horizontally flip 50% of all images\n",
    "        iaa.Flipud(1.0), # vertically flip 50% of all images\n",
    "        iaa.AdditiveGaussianNoise(scale=(0.00, 0.05)), # gaussian noise varies between 0.01 and 0.05*255\n",
    "        iaa.Affine(\n",
    "                    scale={\"x\": (0.8, 1.2), \"y\": (0.8, 1.2)}, # scale images to 80-120% of their size, individually per axis\n",
    "                    rotate=(0, 270), # rotate by 0 to +270 degrees\n",
    "                    shear=(-10, 10), # shear by -10 to +10 degrees\n",
    "                    order=[0, 1], # use nearest neighbour or bilinear interpolation (fast)\n",
    "                    # cval=(0, 255), # if mode is constant, use a cval between 0 and 255\n",
    "                    mode=\"reflect\" # use any of scikit-image's warping modes (see 2nd image from the top for examples)\n",
    "                ),\n",
    "    ],\n",
    "    random_order=True\n",
    ")\n",
    "\n",
    "def load_images(imagePath, imageLabel):\n",
    "\t# read the image from disk, decode it, convert the data type to\n",
    "\t# floating point, and resize it\n",
    "\timage = tf.io.read_file(imagePath)\n",
    "\timage = tf.io.decode_png(image, channels=3)\n",
    "\timage = tf.image.convert_image_dtype(image, dtype=tf.float32)\n",
    "\timage = tf.image.resize(image, (128, 128))\n",
    "\t\n",
    "\t# return the image and the label\n",
    "\treturn (image, imageLabel)\n",
    "\n",
    "\n",
    "def data_augmentation(images, imageLabels):\n",
    "    \n",
    "    img_dtype = images.dtype\n",
    "    img_shape = tf.shape(images)\n",
    "        \n",
    "        \n",
    "    images = tf.numpy_function(image_augmentation.augment_images,\n",
    "                                   [images],\n",
    "                                   img_dtype)\n",
    "    images = tf.reshape(images, shape = img_shape)\n",
    "    return (images, imageLabels)\n",
    "\n",
    "\n",
    "def prepare(ds, num_of_samples, shuffle=False, augment=False):\n",
    "  if shuffle:\n",
    "    ds = ds.shuffle(num_of_samples)\n",
    "  \n",
    "  # Load image and its label\n",
    "  ds = ds.map(load_images, num_parallel_calls=AUTOTUNE)\n",
    "      \n",
    "  ds = ds.cache()\n",
    "\n",
    "  # Batch all datasets.\n",
    "  ds = ds.batch(BATCH_SIZE)\n",
    "  \n",
    "  # Use data augmentation only on the training set.\n",
    "  if augment:    \n",
    "    ds = ds.map(data_augmentation, num_parallel_calls=AUTOTUNE)\n",
    "  \n",
    "  # Use buffered prefetching on all datasets.\n",
    "  return ds.prefetch(buffer_size=AUTOTUNE)"
   ]
  },
  {
   "cell_type": "code",
   "execution_count": 18,
   "id": "755c22b0",
   "metadata": {},
   "outputs": [],
   "source": [
    "# grab all image paths and labels of training set\n",
    "imagePaths = list(X_train_df['filenames'])\n",
    "imageLabels = list(train_labels)\n",
    "\n",
    "training_ds = tf.data.Dataset.from_tensor_slices((imagePaths, imageLabels))\n",
    "\n",
    "train_ds = prepare(training_ds, len(imagePaths), shuffle=True, augment=True)"
   ]
  },
  {
   "cell_type": "code",
   "execution_count": 19,
   "id": "7fc57ea7",
   "metadata": {},
   "outputs": [],
   "source": [
    "# grab all image paths and labels of validation set\n",
    "imagePaths = list(X_validation_df['filenames'])\n",
    "imageLabels = list(val_labels)\n",
    "\n",
    "validation_ds = tf.data.Dataset.from_tensor_slices((imagePaths, imageLabels))\n",
    "\n",
    "val_ds = prepare(validation_ds, len(imagePaths), shuffle=True, augment=False)"
   ]
  },
  {
   "cell_type": "code",
   "execution_count": 20,
   "id": "02109bb9",
   "metadata": {},
   "outputs": [],
   "source": [
    "# grab all image paths and labels of testing set\n",
    "imagePaths = list(X_test_df['filenames'])\n",
    "imageLabels = list(test_labels)\n",
    "\n",
    "testing_ds = tf.data.Dataset.from_tensor_slices((imagePaths, imageLabels))\n",
    "\n",
    "test_ds = prepare(testing_ds, len(imagePaths), shuffle=True, augment=False)"
   ]
  },
  {
   "cell_type": "raw",
   "id": "ccf67235-6a55-492a-a2c9-e1a5b46a8e40",
   "metadata": {},
   "source": [
    "plt.figure(figsize=(30, 20))\n",
    "\n",
    "for image, label in train_ds.take(1):\n",
    "    for i in range(32):\n",
    "        ax = plt.subplot(4, 8, i + 1)\n",
    "        plt.imshow(np.clip(np.squeeze(image[i]), 0, 1))\n",
    "        \n",
    "        ax.axes.xaxis.set_visible(False)\n",
    "        ax.axes.yaxis.set_visible(False)\n",
    "    # print(image[0])"
   ]
  },
  {
   "attachments": {},
   "cell_type": "markdown",
   "id": "0ae157fd",
   "metadata": {},
   "source": [
    "## 4.2. Transfer Learning"
   ]
  },
  {
   "attachments": {},
   "cell_type": "markdown",
   "id": "3317c64b",
   "metadata": {},
   "source": [
    "### 4.2.0. Setup the output folder"
   ]
  },
  {
   "cell_type": "code",
   "execution_count": 21,
   "id": "4c330f13",
   "metadata": {},
   "outputs": [],
   "source": [
    "ROOT= f\"..//_outputs\"\n",
    "MODEL_NAME = \"_TLOps_EffiB1\"\n",
    "\n",
    "TAGS = \"_Zooscan\"\n",
    "\n",
    "# Setup folders\n",
    "\n",
    "date_time = datetime.datetime.now().strftime('%Y%m%d-%H%M%S')\n",
    "\n",
    "OUTPUT_DIR = f\"{ROOT}\"\n",
    "\n",
    "if not os.path.exists(OUTPUT_DIR):\n",
    "    os.mkdir(OUTPUT_DIR)\n",
    "    #print(\"The folder\", OUTPUT_DIR, \"has been created!\")\n",
    "#else:\n",
    "#   print(\"The folder\", OUTPUT_DIR, \"exists!\")\n",
    "\n",
    "MODEL_DIR = f\"{OUTPUT_DIR}//{MODEL_NAME}\" \n",
    "\n",
    "if not os.path.exists(MODEL_DIR):\n",
    "    os.mkdir(MODEL_DIR)\n",
    "    #print(\"The folder\", MODEL_DIR, \"has been created!\")\n",
    "#else:\n",
    "#    print(\"The folder\", MODEL_DIR, \"exists!\")\n",
    "\n",
    "LOG_DIR = f\"{MODEL_DIR}//_Zooscan\"\n",
    "\n",
    "if not os.path.exists(LOG_DIR):\n",
    "    os.mkdir(LOG_DIR)\n",
    "#    print(\"The folder\", LOG_DIR, \"has been created!\")\n",
    "#else:\n",
    "#    print(\"The folder\", LOG_DIR, \"exists!\")\n",
    "\n",
    "LOGTIME_DIR = f\"{LOG_DIR}//{TAGS}_{date_time}\"\n",
    "\n",
    "if not os.path.exists(LOGTIME_DIR):\n",
    "    os.mkdir(LOGTIME_DIR)\n",
    "#    print(\"The folder\", LOGTIME_DIR, \"has been created!\")\n",
    "#else:\n",
    "#    print(\"The folder\", LOGTIME_DIR, \"exists!\")\n",
    "\n"
   ]
  },
  {
   "cell_type": "code",
   "execution_count": 22,
   "id": "b156ccdd",
   "metadata": {},
   "outputs": [
    {
     "data": {
      "text/plain": [
       "'..//_outputs//_TLOps_EffiB1//_Zooscan//_Zooscan_20230704-232852'"
      ]
     },
     "metadata": {},
     "output_type": "display_data"
    }
   ],
   "source": [
    "display(LOGTIME_DIR)"
   ]
  },
  {
   "cell_type": "markdown",
   "id": "8224e667",
   "metadata": {},
   "source": [
    "### 4.2.2. Configure metrics"
   ]
  },
  {
   "cell_type": "code",
   "execution_count": 23,
   "id": "d9ebf8c3",
   "metadata": {},
   "outputs": [
    {
     "data": {
      "text/plain": [
       "{0: 0.1,\n",
       " 1: 1.9354720050942424,\n",
       " 2: 0.8151469233073261,\n",
       " 3: 1.194227407398575,\n",
       " 4: 1.6036768042209437,\n",
       " 5: 0.1,\n",
       " 6: 0.11763497515991952,\n",
       " 7: 0.1456806885554806,\n",
       " 8: 0.40715110573485097,\n",
       " 9: 4.0091920105523595,\n",
       " 10: 4.050523886949806,\n",
       " 11: 10.0,\n",
       " 12: 10.0,\n",
       " 13: 0.9653582728111332,\n",
       " 14: 0.20581499058885866,\n",
       " 15: 1.4133122914896805,\n",
       " 16: 1.2239900842184772,\n",
       " 17: 2.6911014865351452,\n",
       " 18: 7.555784942964062,\n",
       " 19: 0.14418378606757107,\n",
       " 20: 1.5228713838532217,\n",
       " 21: 10.0,\n",
       " 22: 0.8869092935307702,\n",
       " 23: 1.8446047748081276,\n",
       " 24: 1.368992393847147,\n",
       " 25: 2.0045960052761798,\n",
       " 26: 0.19128569475858384,\n",
       " 27: 0.3597992829982886,\n",
       " 28: 0.931044590128273}"
      ]
     },
     "metadata": {},
     "output_type": "display_data"
    }
   ],
   "source": [
    "# compute class weights\n",
    "X_TRAINING_df = pd.concat([X_train_df, X_validation_df], ignore_index=True)\n",
    "classes = X_TRAINING_df.sort_values(by=['labels']).groupby('labels').size().to_frame('number of images').reset_index()\n",
    "# display(classes)\n",
    "\n",
    "from scipy.stats.mstats import gmean\n",
    "count = classes['number of images'].values\n",
    "# display(count)\n",
    "\n",
    "weights_PT = gmean(count) / count\n",
    "#print(weights_PT)\n",
    "\n",
    "weights_PT[weights_PT < 0.1] = 0.1\n",
    "weights_PT[weights_PT > 10] = 10\n",
    "#print(weights_PT)\n",
    "\n",
    "class_weights_PT = dict(enumerate(weights_PT))\n",
    "display(class_weights_PT)\n"
   ]
  },
  {
   "cell_type": "code",
   "execution_count": 24,
   "id": "ff401275",
   "metadata": {},
   "outputs": [
    {
     "name": "stdout",
     "output_type": "stream",
     "text": [
      "Requirement already satisfied: tensorflow_addons in c:\\users\\chevalier.c\\appdata\\local\\miniconda3\\envs\\tf210v2\\lib\\site-packages (0.20.0)\n",
      "Requirement already satisfied: typeguard<3.0.0,>=2.7 in c:\\users\\chevalier.c\\appdata\\local\\miniconda3\\envs\\tf210v2\\lib\\site-packages (from tensorflow_addons) (2.13.3)\n",
      "Requirement already satisfied: packaging in c:\\users\\chevalier.c\\appdata\\local\\miniconda3\\envs\\tf210v2\\lib\\site-packages (from tensorflow_addons) (23.1)\n"
     ]
    },
    {
     "name": "stderr",
     "output_type": "stream",
     "text": [
      "C:\\Users\\chevalier.c\\AppData\\Local\\miniconda3\\envs\\tf210v2\\lib\\site-packages\\tensorflow_addons\\utils\\tfa_eol_msg.py:23: UserWarning: \n",
      "\n",
      "TensorFlow Addons (TFA) has ended development and introduction of new features.\n",
      "TFA has entered a minimal maintenance and release mode until a planned end of life in May 2024.\n",
      "Please modify downstream libraries to take dependencies from other repositories in our TensorFlow community (e.g. Keras, Keras-CV, and Keras-NLP). \n",
      "\n",
      "For more information see: https://github.com/tensorflow/addons/issues/2807 \n",
      "\n",
      "  warnings.warn(\n"
     ]
    }
   ],
   "source": [
    "!pip install tensorflow_addons\n",
    "import tensorflow_addons as tfa"
   ]
  },
  {
   "cell_type": "code",
   "execution_count": 25,
   "id": "4ce33a5a",
   "metadata": {},
   "outputs": [],
   "source": [
    "# set calibration metric, optimization and loss function\n",
    "METRICS = [\n",
    "      tf.keras.metrics.CategoricalAccuracy(name='accuracy'),\n",
    "      tfa.metrics.F1Score(num_classes=N_CLASSES, average='macro', name='f1') # macro f1-score\n",
    "            ]\n",
    "    \n",
    "\n",
    "OPTIMIZER = Adam()\n",
    "    \n",
    "LOSS = CategoricalCrossentropy()\n",
    "\n",
    "\n",
    "early_stop = EarlyStopping(\n",
    "    monitor='val_f1',  # Metric to monitor for improvement\n",
    "    patience=20,  # Number of epochs with no improvement\n",
    "    restore_best_weights=True,  # Restore the weights of the best model\n",
    "    mode='max',\n",
    "    min_delta=0.001,\n",
    "    verbose=1\n",
    ")\n",
    "\n",
    "reduce_lr = ReduceLROnPlateau(\n",
    "    monitor='val_f1', \n",
    "    factor=0.5,   \n",
    "    patience=10, \n",
    "    min_lr=1e-8,\n",
    "    verbose=1\n",
    ")"
   ]
  },
  {
   "attachments": {},
   "cell_type": "markdown",
   "id": "6e1cfcc5",
   "metadata": {},
   "source": [
    "### 4.2.1. Create CNN model"
   ]
  },
  {
   "cell_type": "raw",
   "id": "5f353df2",
   "metadata": {},
   "source": [
    "# Create the base model from the pre-trained model MobileNet V2\n",
    "IMG_SHAPE = IMG_SIZE + (3,)\n",
    "base_model = tf.keras.applications.MobileNetV2(input_shape=IMG_SHAPE,\n",
    "                                               include_top=False,\n",
    "                                               weights='imagenet')"
   ]
  },
  {
   "cell_type": "raw",
   "id": "bca9663b-a084-490d-8c02-65ef45b96c31",
   "metadata": {},
   "source": [
    "# Freeze the convolutional base and also BatchNormalization layers (if any)\n",
    "base_model.trainable = False"
   ]
  },
  {
   "cell_type": "raw",
   "id": "f9699bba",
   "metadata": {},
   "source": [
    "image_batch, label_batch = next(iter(train_ds))\n",
    "feature_batch = base_model(image_batch)\n",
    "print(feature_batch.shape)"
   ]
  },
  {
   "cell_type": "raw",
   "id": "456df7df",
   "metadata": {},
   "source": [
    "# global_average_layer = tf.keras.layers.GlobalAveragePooling2D()\n",
    "feature_batch_average = tf.keras.layers.GlobalAveragePooling2D()(feature_batch)\n",
    "print(feature_batch_average.shape)"
   ]
  },
  {
   "cell_type": "raw",
   "id": "ba7c3c59",
   "metadata": {},
   "source": [
    "global_average_layer = tf.keras.layers.Flatten()\n",
    "feature_batch_average = global_average_layer(feature_batch)\n",
    "print(feature_batch_average.shape)"
   ]
  },
  {
   "cell_type": "raw",
   "id": "048bb1d5",
   "metadata": {},
   "source": [
    "# input shape\n",
    "image_input = Input(shape=IMG_SHAPE, name='image')\n",
    "\n",
    "\n",
    "# Rescale pixel values\n",
    "image_network = tf.keras.applications.mobilenet_v2.preprocess_input(image_input)\n",
    "\n",
    "image_network = base_model(image_network, training=False)\n",
    "\n",
    "image_network = tf.keras.layers.GlobalAveragePooling2D()(image_network)\n",
    "\n",
    "image_network = Dropout(0.5)(image_network) \n",
    "    \n",
    "image_network = layers.Dense(512, activation='relu', name='full_connected_layer')(image_network)\n",
    "\n",
    "image_network = Dropout(0.5)(image_network)\n",
    "\n",
    "classfier_layer = Dense(N_CLASSES, activation='softmax', name='classifier')(image_network)\n",
    "\n",
    "model = Model(\n",
    "                inputs=image_input,\n",
    "                outputs=classfier_layer\n",
    "                )"
   ]
  },
  {
   "cell_type": "raw",
   "id": "131de272",
   "metadata": {},
   "source": [
    "base_learning_rate = 0.0001\n",
    "model.compile(  \n",
    "                optimizer=OPTIMIZER,\n",
    "                loss=LOSS,\n",
    "                metrics=[METRICS]\n",
    "                )"
   ]
  },
  {
   "cell_type": "code",
   "execution_count": 26,
   "id": "23c453cd",
   "metadata": {},
   "outputs": [],
   "source": [
    "def build_model(hp):\n",
    "\n",
    "    # input shape\n",
    "    image_input = Input(shape=IMG_SHAPE, name='image')\n",
    "\n",
    "    # Rescale pixel values to adapt to the pre-trained CNN model\n",
    "    image_network = tf.keras.applications.efficientnet.preprocess_input(image_input)\n",
    "\n",
    "    # Create the base model from the pre-trained model EfficientNetB1\n",
    "    base_model = tf.keras.applications.efficientnet.EfficientNetB1(input_shape=IMG_SHAPE,\n",
    "                                                include_top=False, pooling = 'avg',\n",
    "                                                weights='imagenet')\n",
    "    \n",
    "    image_network = base_model(image_network, training=False) # freeze all layers \n",
    "\n",
    "    # image_network = tf.keras.layers.GlobalAveragePooling2D()(image_network)\n",
    "    \n",
    "    # Determine the dropout rate\n",
    "    rate_dropout = hp.Float(name='dropout_rate_1', min_value= 0.0, max_value=0.8, step=0.1, default=0.5)\n",
    "    image_network = Dropout(rate_dropout)(image_network) \n",
    "\n",
    "    # Determine the number of neurons in each hidden layer\n",
    "    num_neurons = hp.Int(name='num_neurons', min_value=256, max_value=4096, step=256, default=512)\n",
    "    image_network = Dense(units=num_neurons, activation='relu')(image_network)\n",
    "    \n",
    "    # Determine the dropout rate\n",
    "    rate_dropout = hp.Float(name='dropout_rate_2', min_value= 0.0, max_value=0.8, step=0.1, default=0.0)\n",
    "    image_network = Dropout(rate_dropout)(image_network) \n",
    "\n",
    "    # output layer\n",
    "    classfier_layer = Dense(N_CLASSES, activation='softmax', name='classifier')(image_network)\n",
    "    \n",
    "    model = Model(\n",
    "                    inputs=image_input,\n",
    "                    outputs=classfier_layer\n",
    "                    )\n",
    "\n",
    "    # set calibration metric, optimization and loss function\n",
    "    METRICS = [\n",
    "      tf.keras.metrics.CategoricalAccuracy(name='accuracy'),\n",
    "      tfa.metrics.F1Score(num_classes=N_CLASSES, average='macro', name='f1') # macro f1-score\n",
    "            ]\n",
    "    \n",
    "    model.compile(\n",
    "                optimizer='adam',\n",
    "                loss=\"categorical_crossentropy\",\n",
    "                metrics=[METRICS])\n",
    "    \n",
    "    \n",
    "    return model"
   ]
  },
  {
   "attachments": {},
   "cell_type": "markdown",
   "id": "adca41dc",
   "metadata": {},
   "source": [
    "### 4.2.2. Setup for optimal hyperparameter search"
   ]
  },
  {
   "cell_type": "code",
   "execution_count": 27,
   "id": "2c3c5eb5-fcfe-4fa3-8950-52c2a97c41be",
   "metadata": {},
   "outputs": [
    {
     "name": "stdout",
     "output_type": "stream",
     "text": [
      "Requirement already satisfied: keras-tuner in c:\\users\\chevalier.c\\appdata\\local\\miniconda3\\envs\\tf210v2\\lib\\site-packages (1.3.5)\n",
      "Requirement already satisfied: packaging in c:\\users\\chevalier.c\\appdata\\local\\miniconda3\\envs\\tf210v2\\lib\\site-packages (from keras-tuner) (23.1)\n",
      "Requirement already satisfied: requests in c:\\users\\chevalier.c\\appdata\\local\\miniconda3\\envs\\tf210v2\\lib\\site-packages (from keras-tuner) (2.31.0)\n",
      "Requirement already satisfied: kt-legacy in c:\\users\\chevalier.c\\appdata\\local\\miniconda3\\envs\\tf210v2\\lib\\site-packages (from keras-tuner) (1.0.5)\n",
      "Requirement already satisfied: charset-normalizer<4,>=2 in c:\\users\\chevalier.c\\appdata\\local\\miniconda3\\envs\\tf210v2\\lib\\site-packages (from requests->keras-tuner) (3.1.0)\n",
      "Requirement already satisfied: idna<4,>=2.5 in c:\\users\\chevalier.c\\appdata\\local\\miniconda3\\envs\\tf210v2\\lib\\site-packages (from requests->keras-tuner) (3.4)\n",
      "Requirement already satisfied: urllib3<3,>=1.21.1 in c:\\users\\chevalier.c\\appdata\\local\\miniconda3\\envs\\tf210v2\\lib\\site-packages (from requests->keras-tuner) (1.26.16)\n",
      "Requirement already satisfied: certifi>=2017.4.17 in c:\\users\\chevalier.c\\appdata\\local\\miniconda3\\envs\\tf210v2\\lib\\site-packages (from requests->keras-tuner) (2023.5.7)\n"
     ]
    }
   ],
   "source": [
    "!pip install keras-tuner "
   ]
  },
  {
   "cell_type": "code",
   "execution_count": 28,
   "id": "9e5f8926",
   "metadata": {},
   "outputs": [],
   "source": [
    "from keras_tuner.tuners import BayesianOptimization, Hyperband\n",
    "import keras_tuner"
   ]
  },
  {
   "cell_type": "code",
   "execution_count": 29,
   "id": "2ea29298",
   "metadata": {},
   "outputs": [],
   "source": [
    "tuner = BayesianOptimization(\n",
    "                                hypermodel = build_model,\n",
    "                                objective = keras_tuner.Objective(\"val_f1\", direction=\"max\"),\n",
    "                                max_trials = 30,\n",
    "                                executions_per_trial = 1,\n",
    "                                directory=LOGTIME_DIR,\n",
    "                                project_name='Hyperparameters-TL-EffiB1'\n",
    "                                )"
   ]
  },
  {
   "cell_type": "code",
   "execution_count": 30,
   "id": "1a5ce3d2",
   "metadata": {},
   "outputs": [
    {
     "name": "stdout",
     "output_type": "stream",
     "text": [
      "Search space summary\n",
      "Default search space size: 3\n",
      "dropout_rate_1 (Float)\n",
      "{'default': 0.5, 'conditions': [], 'min_value': 0.0, 'max_value': 0.8, 'step': 0.1, 'sampling': 'linear'}\n",
      "num_neurons (Int)\n",
      "{'default': 512, 'conditions': [], 'min_value': 256, 'max_value': 4096, 'step': 256, 'sampling': 'linear'}\n",
      "dropout_rate_2 (Float)\n",
      "{'default': 0.0, 'conditions': [], 'min_value': 0.0, 'max_value': 0.8, 'step': 0.1, 'sampling': 'linear'}\n"
     ]
    }
   ],
   "source": [
    "tuner.search_space_summary()"
   ]
  },
  {
   "cell_type": "code",
   "execution_count": null,
   "id": "4243644c",
   "metadata": {},
   "outputs": [
    {
     "name": "stdout",
     "output_type": "stream",
     "text": [
      "\n",
      "Search: Running Trial #1\n",
      "\n",
      "Value             |Best Value So Far |Hyperparameter\n",
      "0.4               |0.4               |dropout_rate_1\n",
      "1792              |1792              |num_neurons\n",
      "0.1               |0.1               |dropout_rate_2\n",
      "\n",
      "Epoch 1/100\n",
      "1379/1379 [==============================] - 343s 239ms/step - loss: 0.7939 - accuracy: 0.3301 - f1: 0.0283 - val_loss: 2.5159 - val_accuracy: 0.3400 - val_f1: 0.0175 - lr: 0.0010\n",
      "Epoch 2/100\n",
      "1379/1379 [==============================] - 391s 281ms/step - loss: 0.7415 - accuracy: 0.3352 - f1: 0.0261 - val_loss: 2.5147 - val_accuracy: 0.3400 - val_f1: 0.0175 - lr: 0.0010\n",
      "Epoch 3/100\n",
      "1379/1379 [==============================] - 387s 278ms/step - loss: 0.7412 - accuracy: 0.3356 - f1: 0.0257 - val_loss: 2.5205 - val_accuracy: 0.3400 - val_f1: 0.0175 - lr: 0.0010\n",
      "Epoch 4/100\n",
      "  99/1379 [=>............................] - ETA: 5:37 - loss: 0.7055 - accuracy: 0.3415 - f1: 0.0193"
     ]
    }
   ],
   "source": [
    "# strategy = tf.distribute.OneDeviceStrategy('/device:GPU:0')\n",
    "\n",
    "# with strategy.scope():\n",
    "\n",
    "tuner.search(\n",
    "            x = train_ds,\n",
    "            validation_data = val_ds,\n",
    "            callbacks = [early_stop, reduce_lr],\n",
    "            class_weight = class_weights_PT,\n",
    "            epochs=100,\n",
    "            # workers=2,\n",
    "            verbose=1\n",
    "            )"
   ]
  },
  {
   "attachments": {},
   "cell_type": "markdown",
   "id": "7b6e655b",
   "metadata": {},
   "source": [
    "### 4.2.4. Train the model"
   ]
  },
  {
   "cell_type": "code",
   "execution_count": null,
   "id": "61b68636",
   "metadata": {},
   "outputs": [],
   "source": [
    "def build_model_test():\n",
    "\n",
    "    # input shape\n",
    "    image_input = Input(shape=IMG_SHAPE, name='image')\n",
    "\n",
    "    # Rescale pixel values to adapt to the pre-trained CNN model\n",
    "    image_network = tf.keras.applications.mobilenet_v2.preprocess_input(image_input)\n",
    "\n",
    "    # Create the base model from the pre-trained model MobileNet V2\n",
    "    base_model = tf.keras.applications.MobileNetV2(input_shape=IMG_SHAPE,\n",
    "                                                include_top=False,\n",
    "                                                weights='imagenet')\n",
    "    \n",
    "    image_network = base_model(image_network, training=False) # freeze all layers \n",
    "\n",
    "    image_network = tf.keras.layers.GlobalAveragePooling2D()(image_network)\n",
    "    \n",
    "    image_network = Dropout(0.5)(image_network) \n",
    "\n",
    "    image_network = Dense(512, activation='relu')(image_network)\n",
    "    \n",
    "    image_network = Dropout(0.5)(image_network) \n",
    "\n",
    "    # output layer\n",
    "    classfier_layer = Dense(N_CLASSES, activation='softmax', name='classifier')(image_network)\n",
    "    \n",
    "    model = Model(\n",
    "                    inputs=image_input,\n",
    "                    outputs=classfier_layer\n",
    "                    )\n",
    "\n",
    "    # set calibration metric, optimization and loss function\n",
    "    METRICS = [\n",
    "      tf.keras.metrics.CategoricalAccuracy(name='accuracy'),\n",
    "      tfa.metrics.F1Score(num_classes=N_CLASSES, average='macro', name='f1') # macro f1-score\n",
    "            ]\n",
    "    \n",
    "    model.compile(\n",
    "                optimizer='adam',\n",
    "                loss=\"categorical_crossentropy\",\n",
    "                metrics=[METRICS])\n",
    "    \n",
    "    \n",
    "    return model"
   ]
  },
  {
   "cell_type": "code",
   "execution_count": null,
   "id": "1a5b9a94",
   "metadata": {},
   "outputs": [],
   "source": [
    "model = build_model_test()"
   ]
  },
  {
   "cell_type": "code",
   "execution_count": null,
   "id": "ad245bd6",
   "metadata": {},
   "outputs": [],
   "source": [
    "initial_epochs = 10\n",
    "\n",
    "loss0, accuracy0, f10 = model.evaluate(val_ds)"
   ]
  },
  {
   "cell_type": "code",
   "execution_count": null,
   "id": "c1373946",
   "metadata": {},
   "outputs": [],
   "source": [
    "history_TLearning = model.fit(\n",
    "                                train_ds, \n",
    "                                validation_data = val_ds, \n",
    "                                epochs = 500,\n",
    "                                callbacks=[early_stop], \n",
    "                                class_weight = class_weights_PT,\n",
    "                                verbose=1\n",
    "                                )"
   ]
  },
  {
   "cell_type": "code",
   "execution_count": null,
   "id": "ca655125",
   "metadata": {},
   "outputs": [],
   "source": [
    "loss0"
   ]
  },
  {
   "cell_type": "code",
   "execution_count": null,
   "id": "e308aaef",
   "metadata": {},
   "outputs": [],
   "source": [
    "accuracy0"
   ]
  },
  {
   "cell_type": "code",
   "execution_count": null,
   "id": "9fe77928",
   "metadata": {},
   "outputs": [],
   "source": [
    "f10"
   ]
  },
  {
   "cell_type": "code",
   "execution_count": null,
   "id": "9e1e2a8d",
   "metadata": {},
   "outputs": [],
   "source": []
  },
  {
   "cell_type": "code",
   "execution_count": null,
   "id": "c6dc365f",
   "metadata": {},
   "outputs": [],
   "source": []
  },
  {
   "cell_type": "code",
   "execution_count": null,
   "id": "d2ad1408",
   "metadata": {},
   "outputs": [],
   "source": []
  },
  {
   "cell_type": "code",
   "execution_count": null,
   "id": "c85cea1e",
   "metadata": {},
   "outputs": [],
   "source": [
    "plt.figure(figsize=(30, 20))\n",
    "\n",
    "for image, label in traing_ds.take(1):\n",
    "    for i in range(32):\n",
    "        ax = plt.subplot(4, 8, i + 1)\n",
    "        plt.imshow(image[i], cmap=\"gray\")\n",
    "        ax.set_title(label[i].numpy().decode('utf-8'))\n",
    "        \n",
    "        ax.axes.xaxis.set_visible(False)\n",
    "        ax.axes.yaxis.set_visible(False)\n"
   ]
  },
  {
   "cell_type": "code",
   "execution_count": null,
   "id": "bf540066",
   "metadata": {},
   "outputs": [],
   "source": []
  },
  {
   "cell_type": "code",
   "execution_count": null,
   "id": "8aa9ea41",
   "metadata": {},
   "outputs": [],
   "source": []
  },
  {
   "cell_type": "code",
   "execution_count": null,
   "id": "aac25fce-8f78-414a-97d1-2558eea74562",
   "metadata": {
    "executionInfo": {
     "elapsed": 9,
     "status": "ok",
     "timestamp": 1659094899080,
     "user": {
      "displayName": "Thắng Lê Dương Quốc",
      "userId": "17735925814044881454"
     },
     "user_tz": -120
    },
    "id": "aac25fce-8f78-414a-97d1-2558eea74562"
   },
   "outputs": [],
   "source": [
    "# Initial settings\n",
    "IMG_SIZE = (128, 128)\n",
    "IMG_SHAPE = (*IMG_SIZE, 3)\n",
    "IMG_TYPE = 'rgb'\n",
    "BATCH_SIZE = 32\n",
    "COLOR_MODE = 'rgb'\n",
    "MAX_EPOCHS = 500\n",
    "\n",
    "N_CLASSES = 20"
   ]
  },
  {
   "cell_type": "code",
   "execution_count": null,
   "id": "ba4dedd5-ec3c-47ae-9317-ba8ad3142ce2",
   "metadata": {
    "executionInfo": {
     "elapsed": 9,
     "status": "ok",
     "timestamp": 1659094899080,
     "user": {
      "displayName": "Thắng Lê Dương Quốc",
      "userId": "17735925814044881454"
     },
     "user_tz": -120
    },
    "id": "ba4dedd5-ec3c-47ae-9317-ba8ad3142ce2"
   },
   "outputs": [],
   "source": [
    "train_gen = ImageDataGenerator(\n",
    "                                dtype = \"float32\",\n",
    "                                #rescale = 1./255.0,\n",
    "                                rotation_range = 360,\n",
    "                                # width_shift_range=0.2,\n",
    "                                # height_shift_range=0.2,\n",
    "                                # brightness_range=[0.4, 1.0],\n",
    "                                #channel_shift_range=0.2,\n",
    "                                shear_range=0.1,\n",
    "                                zoom_range=[0.8, 1.1],\n",
    "                                horizontal_flip=True,\n",
    "                                vertical_flip=True,\n",
    "                                # fill_mode='constant', cval=255,\n",
    "                                preprocessing_function = preprocess_input\n",
    "                              )\n",
    "\n",
    "validation_gen = ImageDataGenerator(\n",
    "                                    dtype=\"float32\",\n",
    "                                    preprocessing_function = preprocess_input\n",
    "                                    #rescale=1./255.0\n",
    "                                   )\n"
   ]
  },
  {
   "attachments": {},
   "cell_type": "markdown",
   "id": "0353ab5c-5161-4fd4-b1b2-94a99544385d",
   "metadata": {
    "id": "0353ab5c-5161-4fd4-b1b2-94a99544385d"
   },
   "source": [
    "## 3.1. Example for custom imagedatagenerator()"
   ]
  },
  {
   "cell_type": "code",
   "execution_count": null,
   "id": "86fdac51-bde9-4baa-9061-7a92117ab809",
   "metadata": {
    "colab": {
     "base_uri": "https://localhost:8080/"
    },
    "executionInfo": {
     "elapsed": 9,
     "status": "ok",
     "timestamp": 1659094899081,
     "user": {
      "displayName": "Thắng Lê Dương Quốc",
      "userId": "17735925814044881454"
     },
     "user_tz": -120
    },
    "id": "86fdac51-bde9-4baa-9061-7a92117ab809",
    "outputId": "d12a6ca6-ad36-4ca0-f38f-9cc5a009b161"
   },
   "outputs": [],
   "source": [
    "\n",
    "train_iterator = train_gen.flow_from_dataframe(\n",
    "                                            X_train_df,\n",
    "                                            x_col = \"filenames\", y_col = \"labels\",\n",
    "                                            batch_size = BATCH_SIZE,\n",
    "                                            target_size = IMG_SIZE,\n",
    "                                            color_mode = COLOR_MODE,\n",
    "                                            class_mode = \"categorical\", shuffle = True\n",
    "                                          )\n",
    "\n",
    "validation_iterator = validation_gen.flow_from_dataframe(\n",
    "                                                    X_validation_df,\n",
    "                                                    x_col = \"filenames\", y_col = \"labels\",\n",
    "                                                    batch_size = BATCH_SIZE,\n",
    "                                                    target_size = IMG_SIZE, \n",
    "                                                    color_mode = COLOR_MODE,\n",
    "                                                    class_mode = \"categorical\", shuffle = False\n",
    "                                                       )"
   ]
  },
  {
   "cell_type": "code",
   "execution_count": null,
   "id": "fdd2f8a7-b8c3-4702-aace-d9e9f9d616e0",
   "metadata": {
    "colab": {
     "base_uri": "https://localhost:8080/"
    },
    "executionInfo": {
     "elapsed": 7,
     "status": "ok",
     "timestamp": 1659094899081,
     "user": {
      "displayName": "Thắng Lê Dương Quốc",
      "userId": "17735925814044881454"
     },
     "user_tz": -120
    },
    "id": "fdd2f8a7-b8c3-4702-aace-d9e9f9d616e0",
    "outputId": "7ea06312-faa8-4531-d245-532b945a1d8c"
   },
   "outputs": [],
   "source": [
    "for c1,c2 in zip(train_iterator.class_indices,validation_iterator.class_indices):\n",
    "    print('{:25}{:30}\\t\\t{:25}{:30}'.format(c1, train_iterator.class_indices[c1], c2,validation_iterator.class_indices[c2]))"
   ]
  },
  {
   "cell_type": "code",
   "execution_count": null,
   "id": "2ec2976c-158c-4225-bddd-5c658b0f15d9",
   "metadata": {
    "colab": {
     "base_uri": "https://localhost:8080/",
     "height": 1000
    },
    "executionInfo": {
     "elapsed": 2256,
     "status": "ok",
     "timestamp": 1659094901331,
     "user": {
      "displayName": "Thắng Lê Dương Quốc",
      "userId": "17735925814044881454"
     },
     "user_tz": -120
    },
    "id": "2ec2976c-158c-4225-bddd-5c658b0f15d9",
    "outputId": "746cdeb4-d9f4-46aa-aa2d-3ed7bb12eab2"
   },
   "outputs": [],
   "source": [
    "image, y= train_iterator.next()\n",
    "\n",
    "plt.figure(figsize=(30, 20))\n",
    "for i in range(image.shape[0]):\n",
    "    label_value = np.argmax(y[i], axis=0)\n",
    "    label = list(train_iterator.class_indices.keys())[list(train_iterator.class_indices.values()).index(label_value)]\n",
    "    ax = plt.subplot(4, 8, i + 1)\n",
    "    plt.imshow(array_to_img(image[i]), interpolation=\"nearest\")\n",
    "    ax.set_title(label)\n",
    "    ax.axes.xaxis.set_visible(False)\n",
    "    ax.axes.yaxis.set_visible(False)\n",
    "    \n",
    "    "
   ]
  },
  {
   "attachments": {},
   "cell_type": "markdown",
   "id": "9bcd1ace-029b-49ff-a259-65f1644b153f",
   "metadata": {
    "id": "9bcd1ace-029b-49ff-a259-65f1644b153f"
   },
   "source": [
    "# 4. Create model CNN + SIFT"
   ]
  },
  {
   "attachments": {},
   "cell_type": "markdown",
   "id": "134fa9ec-f3b1-4de5-ae24-c0f454334728",
   "metadata": {
    "id": "134fa9ec-f3b1-4de5-ae24-c0f454334728"
   },
   "source": [
    "## 4.1. Set metrics"
   ]
  },
  {
   "cell_type": "code",
   "execution_count": null,
   "id": "5dd1b59a-1b0d-4a2a-b064-d8450663929b",
   "metadata": {
    "colab": {
     "base_uri": "https://localhost:8080/",
     "height": 364
    },
    "executionInfo": {
     "elapsed": 9,
     "status": "ok",
     "timestamp": 1659094901331,
     "user": {
      "displayName": "Thắng Lê Dương Quốc",
      "userId": "17735925814044881454"
     },
     "user_tz": -120
    },
    "id": "5dd1b59a-1b0d-4a2a-b064-d8450663929b",
    "outputId": "a884eac3-4acc-40fb-a8c2-824bb0720521"
   },
   "outputs": [],
   "source": [
    "# compute class weights\n",
    "X_TRAINING_df = pd.concat([X_train_df, X_validation_df], ignore_index=True)\n",
    "classes = X_TRAINING_df.sort_values(by=['labels']).groupby('labels').size().to_frame('number of images').reset_index()\n",
    "# display(classes)\n",
    "\n",
    "from scipy.stats.mstats import gmean\n",
    "count = classes['number of images'].values\n",
    "# display(count)\n",
    "\n",
    "weights_PT = gmean(count) / count\n",
    "#print(weights_PT)\n",
    "\n",
    "weights_PT[weights_PT < 0.1] = 0.1\n",
    "weights_PT[weights_PT > 10] = 10\n",
    "#print(weights_PT)\n",
    "\n",
    "class_weights_PT = dict(enumerate(weights_PT))\n",
    "display(class_weights_PT)\n"
   ]
  },
  {
   "cell_type": "code",
   "execution_count": null,
   "id": "3f321895-cf0f-4640-a160-c517c0bbad90",
   "metadata": {
    "colab": {
     "base_uri": "https://localhost:8080/"
    },
    "executionInfo": {
     "elapsed": 7,
     "status": "ok",
     "timestamp": 1659094901331,
     "user": {
      "displayName": "Thắng Lê Dương Quốc",
      "userId": "17735925814044881454"
     },
     "user_tz": -120
    },
    "id": "3f321895-cf0f-4640-a160-c517c0bbad90",
    "outputId": "0a985a82-c5a1-444a-fa9c-95d8d569eceb"
   },
   "outputs": [],
   "source": [
    "for c1,c2 in zip(class_weights_PT,train_iterator.class_indices):\n",
    "    print('{:10}{:30}\\t\\t{:30}{:30}'.format(c1, class_weights_PT[c1], c2,train_iterator.class_indices[c2]))"
   ]
  },
  {
   "cell_type": "code",
   "execution_count": null,
   "id": "43c59cdf-e6d0-4e7d-aefe-cdbf5d12c4ba",
   "metadata": {
    "executionInfo": {
     "elapsed": 503,
     "status": "ok",
     "timestamp": 1659094901829,
     "user": {
      "displayName": "Thắng Lê Dương Quốc",
      "userId": "17735925814044881454"
     },
     "user_tz": -120
    },
    "id": "43c59cdf-e6d0-4e7d-aefe-cdbf5d12c4ba"
   },
   "outputs": [],
   "source": [
    "# set calibration metric, optimization and loss function\n",
    "METRICS = [\n",
    "      keras.metrics.CategoricalAccuracy(name='accuracy'),\n",
    "      keras.metrics.AUC(name='prc', curve='PR'), # precision-recall curve\n",
    "]\n",
    "\n",
    "OPTIMIZER = Adam()\n",
    "    \n",
    "LOSS = CategoricalCrossentropy()\n"
   ]
  },
  {
   "attachments": {},
   "cell_type": "markdown",
   "id": "00ec8fcd-da40-4755-857a-eebfde4cf424",
   "metadata": {
    "id": "00ec8fcd-da40-4755-857a-eebfde4cf424"
   },
   "source": [
    "## 4.3. Create Network architechture"
   ]
  },
  {
   "cell_type": "code",
   "execution_count": null,
   "id": "06012c9d-30c6-4cf5-bd0b-066d00417347",
   "metadata": {
    "executionInfo": {
     "elapsed": 3,
     "status": "ok",
     "timestamp": 1659094901829,
     "user": {
      "displayName": "Thắng Lê Dương Quốc",
      "userId": "17735925814044881454"
     },
     "user_tz": -120
    },
    "id": "06012c9d-30c6-4cf5-bd0b-066d00417347"
   },
   "outputs": [],
   "source": [
    "# create CNN model \n",
    "\n",
    "def create_CNN_model(num_classes = N_CLASSES):\n",
    "    \n",
    "    # image \n",
    "    input_name='image'\n",
    "\n",
    "    image_input = Input(shape=IMG_SHAPE, name=input_name)\n",
    "    \n",
    "    # Create the base model from the pre-trained model MobileNet V2\n",
    "    pre_trained_model = tf.keras.applications.EfficientNetB1(input_shape=IMG_SHAPE,\n",
    "                                                   include_top=False,pooling='avg',\n",
    "                                                   weights='imagenet')\n",
    "\n",
    "    #freeze the batch normalisation layers\n",
    "    for layer in reversed(pre_trained_model.layers):\n",
    "        if isinstance(layer, tf.keras.layers.BatchNormalization):\n",
    "            layer.trainable = False\n",
    "        else:\n",
    "            layer.trainable = True\n",
    "            \n",
    "    image_network = pre_trained_model(image_input)\n",
    "    \n",
    "    image_network = Dropout(0.5)(image_network)   \n",
    "    \n",
    "    image_network = layers.Dense(512, activation='relu', name='full_connected_layer')(image_network)\n",
    "    classfier_layer = Dense(num_classes, activation='softmax', name='classifier')(image_network)\n",
    "    \n",
    "    model = Model(\n",
    "                    inputs=image_input,\n",
    "                    outputs=classfier_layer\n",
    "                    )\n",
    "    return model"
   ]
  },
  {
   "cell_type": "code",
   "execution_count": null,
   "id": "248ea0cd-d2d6-4046-beb1-2c4b94b4700b",
   "metadata": {
    "colab": {
     "base_uri": "https://localhost:8080/"
    },
    "executionInfo": {
     "elapsed": 6708,
     "status": "ok",
     "timestamp": 1659094908534,
     "user": {
      "displayName": "Thắng Lê Dương Quốc",
      "userId": "17735925814044881454"
     },
     "user_tz": -120
    },
    "id": "248ea0cd-d2d6-4046-beb1-2c4b94b4700b",
    "outputId": "fb8759aa-7c39-493c-bfaf-983ca2cc697f"
   },
   "outputs": [],
   "source": [
    "model = create_CNN_model(num_classes=N_CLASSES)\n",
    "model.compile(optimizer=OPTIMIZER, loss=LOSS, metrics=METRICS)"
   ]
  },
  {
   "cell_type": "code",
   "execution_count": null,
   "id": "5e7a068d-4d89-4476-9385-41711d8e8c18",
   "metadata": {
    "colab": {
     "base_uri": "https://localhost:8080/"
    },
    "executionInfo": {
     "elapsed": 650,
     "status": "ok",
     "timestamp": 1659094909179,
     "user": {
      "displayName": "Thắng Lê Dương Quốc",
      "userId": "17735925814044881454"
     },
     "user_tz": -120
    },
    "id": "5e7a068d-4d89-4476-9385-41711d8e8c18",
    "outputId": "1749efca-f6a0-41ce-e360-984f419f1b2d"
   },
   "outputs": [],
   "source": [
    "model.summary()"
   ]
  },
  {
   "attachments": {},
   "cell_type": "markdown",
   "id": "98385033-e36d-4a2b-a5b3-1ed5c502ce0a",
   "metadata": {
    "id": "98385033-e36d-4a2b-a5b3-1ed5c502ce0a"
   },
   "source": [
    "# 5. Let's train the model"
   ]
  },
  {
   "attachments": {},
   "cell_type": "markdown",
   "id": "4d206fc7-3688-4735-896d-b006b5cad16d",
   "metadata": {
    "id": "4d206fc7-3688-4735-896d-b006b5cad16d"
   },
   "source": [
    "## 5.1. Create path to store all stuffs"
   ]
  },
  {
   "cell_type": "code",
   "execution_count": null,
   "id": "62816dc8-02eb-481a-bc4a-7b8a7306f746",
   "metadata": {
    "colab": {
     "base_uri": "https://localhost:8080/",
     "height": 550
    },
    "executionInfo": {
     "elapsed": 2309,
     "status": "ok",
     "timestamp": 1659094911484,
     "user": {
      "displayName": "Thắng Lê Dương Quốc",
      "userId": "17735925814044881454"
     },
     "user_tz": -120
    },
    "id": "62816dc8-02eb-481a-bc4a-7b8a7306f746",
    "outputId": "aede14c3-7cf5-47e9-c380-e4117fb6276e"
   },
   "outputs": [],
   "source": [
    "ROOT= f\"../gdrive/MyDrive/_Colab_Notebooks/_Zooscan-CENTER_NOProcess/_outputs\"\n",
    "# ROOT= f\"../mytemp\"\n",
    "MODEL_NAME = \"_Zooscan_3771-EffB1\"\n",
    "\n",
    "TAGS = \"_Zooscan_3771\"\n",
    "index=\"sec2-WeiPT_final\"\n",
    "\n",
    "print(\"Hello! We are working with the CNN model:\", MODEL_NAME)\n",
    "\n",
    "# Setup folders\n",
    "\n",
    "date_time = datetime.datetime.now().strftime('%Y%m%d-%H%M%S')\n",
    "\n",
    "OUTPUT_DIR = f\"{ROOT}\"\n",
    "\n",
    "if not os.path.exists(OUTPUT_DIR):\n",
    "    os.mkdir(OUTPUT_DIR)\n",
    "    #print(\"The folder\", OUTPUT_DIR, \"has been created!\")\n",
    "#else:\n",
    "#   print(\"The folder\", OUTPUT_DIR, \"exists!\")\n",
    "\n",
    "MODEL_DIR = f\"{OUTPUT_DIR}//{MODEL_NAME}\" \n",
    "\n",
    "if not os.path.exists(MODEL_DIR):\n",
    "    os.mkdir(MODEL_DIR)\n",
    "    #print(\"The folder\", MODEL_DIR, \"has been created!\")\n",
    "#else:\n",
    "#    print(\"The folder\", MODEL_DIR, \"exists!\")\n",
    "\n",
    "LOG_DIR = f\"{MODEL_DIR}//_Zooscan-{index}\"\n",
    "\n",
    "if not os.path.exists(LOG_DIR):\n",
    "    os.mkdir(LOG_DIR)\n",
    "#    print(\"The folder\", LOG_DIR, \"has been created!\")\n",
    "#else:\n",
    "#    print(\"The folder\", LOG_DIR, \"exists!\")\n",
    "\n",
    "LOGTIME_DIR = f\"{LOG_DIR}//_{TAGS}_{date_time}\"\n",
    "\n",
    "if not os.path.exists(LOGTIME_DIR):\n",
    "    os.mkdir(LOGTIME_DIR)\n",
    "#    print(\"The folder\", LOGTIME_DIR, \"has been created!\")\n",
    "#else:\n",
    "#    print(\"The folder\", LOGTIME_DIR, \"exists!\")\n",
    "\n",
    "CNN_MODEL_NAME = f'{MODEL_NAME}_{date_time}'\n",
    "\n",
    "# serialize model to JSON (model architechture)\n",
    "MODEL_ARCHITECHTURE_JSON = f'{LOGTIME_DIR}//{CNN_MODEL_NAME}_model_archJSON.json'\n",
    "model_json = model.to_json()\n",
    "with open(MODEL_ARCHITECHTURE_JSON, \"w\") as json_file:\n",
    "    json_file.write(model_json)\n",
    "\n",
    "\n",
    "# serialize weights to HDF5 (model weights)\n",
    "MODEL_WEIGHTS_INITIAL = f'{LOGTIME_DIR}//{CNN_MODEL_NAME}_model_weights_initial.hdf5'\n",
    "model.save_weights(MODEL_WEIGHTS_INITIAL)\n",
    "\n",
    "# save model architecture in image\n",
    "tf.keras.utils.plot_model(model,f\"{LOGTIME_DIR}//_Zooscan_3771-EffB1_weiPT.png\", show_shapes=True)"
   ]
  },
  {
   "cell_type": "code",
   "execution_count": null,
   "id": "9b6b78b7-c4b2-4ba6-b2b4-afce8eb966a2",
   "metadata": {
    "colab": {
     "base_uri": "https://localhost:8080/",
     "height": 54
    },
    "executionInfo": {
     "elapsed": 8,
     "status": "ok",
     "timestamp": 1659094911484,
     "user": {
      "displayName": "Thắng Lê Dương Quốc",
      "userId": "17735925814044881454"
     },
     "user_tz": -120
    },
    "id": "9b6b78b7-c4b2-4ba6-b2b4-afce8eb966a2",
    "outputId": "fd90db7c-f640-48ad-bf29-2128475137f7"
   },
   "outputs": [],
   "source": [
    "display(MODEL_WEIGHTS_INITIAL)\n",
    "display(MODEL_ARCHITECHTURE_JSON)"
   ]
  },
  {
   "cell_type": "code",
   "execution_count": null,
   "id": "hDqHLIivnDWe",
   "metadata": {
    "colab": {
     "base_uri": "https://localhost:8080/"
    },
    "executionInfo": {
     "elapsed": 9,
     "status": "ok",
     "timestamp": 1659094911485,
     "user": {
      "displayName": "Thắng Lê Dương Quốc",
      "userId": "17735925814044881454"
     },
     "user_tz": -120
    },
    "id": "hDqHLIivnDWe",
    "outputId": "8e503d9d-7fe4-4e93-cb6b-fa6f2596f530"
   },
   "outputs": [],
   "source": [
    "!pwd"
   ]
  },
  {
   "attachments": {},
   "cell_type": "markdown",
   "id": "886dd951-6d0c-41e0-907e-bf23d5addb08",
   "metadata": {
    "id": "886dd951-6d0c-41e0-907e-bf23d5addb08"
   },
   "source": [
    "## 5.2. Find the best learning rate bound (i.e., min - max learning rate)"
   ]
  },
  {
   "cell_type": "code",
   "execution_count": null,
   "id": "E2zpoaeZVtxx",
   "metadata": {
    "executionInfo": {
     "elapsed": 478,
     "status": "ok",
     "timestamp": 1659078741262,
     "user": {
      "displayName": "Thắng Lê Dương Quốc",
      "userId": "17735925814044881454"
     },
     "user_tz": -120
    },
    "id": "E2zpoaeZVtxx"
   },
   "outputs": [],
   "source": [
    "!cp /content/gdrive/MyDrive/_Colab_Notebooks/_Zooscan-CENTER_NOProcess/_pyscripts/learningRateFinder.py /content/mytemp"
   ]
  },
  {
   "cell_type": "code",
   "execution_count": null,
   "id": "8dc23e73-3587-4ce5-8498-d7d437caa2cb",
   "metadata": {
    "colab": {
     "base_uri": "https://localhost:8080/"
    },
    "executionInfo": {
     "elapsed": 10,
     "status": "ok",
     "timestamp": 1659078741263,
     "user": {
      "displayName": "Thắng Lê Dương Quốc",
      "userId": "17735925814044881454"
     },
     "user_tz": -120
    },
    "id": "8dc23e73-3587-4ce5-8498-d7d437caa2cb",
    "outputId": "df87213a-d37c-49c1-abab-77eecb76241f"
   },
   "outputs": [],
   "source": [
    "path = os.path.abspath('learningRateFinder.py')\n",
    "print(path)\n",
    "spec = importlib.util.spec_from_file_location(\"learningRateFinder\", path)\n",
    "foo4 = importlib.util.module_from_spec(spec)\n",
    "spec.loader.exec_module(foo4)\n",
    "foo4.LRFinder"
   ]
  },
  {
   "attachments": {},
   "cell_type": "markdown",
   "id": "1d642f6a-1e35-4c8f-aea5-91b0647ce916",
   "metadata": {
    "id": "1d642f6a-1e35-4c8f-aea5-91b0647ce916"
   },
   "source": [
    "### 5.2.2. Create image loader with custom imagedatagenerator()"
   ]
  },
  {
   "cell_type": "code",
   "execution_count": null,
   "id": "4a5f3256-a60b-49fe-8cfe-6533121af67b",
   "metadata": {
    "colab": {
     "base_uri": "https://localhost:8080/"
    },
    "executionInfo": {
     "elapsed": 7,
     "status": "ok",
     "timestamp": 1659051284696,
     "user": {
      "displayName": "Thắng Lê Dương Quốc",
      "userId": "17735925814044881454"
     },
     "user_tz": -120
    },
    "id": "4a5f3256-a60b-49fe-8cfe-6533121af67b",
    "outputId": "d622c152-3749-41f4-cf61-8acab9e7d7fd"
   },
   "outputs": [],
   "source": [
    "\n",
    "train_iterator = train_gen.flow_from_dataframe(\n",
    "                                            X_train_df,\n",
    "                                            x_col = \"filenames\", y_col = \"labels\",\n",
    "                                            batch_size = BATCH_SIZE,\n",
    "                                            target_size = IMG_SIZE,\n",
    "                                            color_mode = COLOR_MODE,\n",
    "                                            class_mode = \"categorical\", shuffle = True\n",
    "                                          )\n",
    "\n",
    "validation_iterator = validation_gen.flow_from_dataframe(\n",
    "                                                    X_validation_df,\n",
    "                                                    x_col = \"filenames\", y_col = \"labels\",\n",
    "                                                    batch_size = BATCH_SIZE,\n",
    "                                                    target_size = IMG_SIZE, \n",
    "                                                    color_mode = COLOR_MODE,\n",
    "                                                    class_mode = \"categorical\", shuffle = False\n",
    "                                                       )"
   ]
  },
  {
   "attachments": {},
   "cell_type": "markdown",
   "id": "04298b69-c858-42e7-a063-f06f2b40f7cf",
   "metadata": {
    "id": "04298b69-c858-42e7-a063-f06f2b40f7cf"
   },
   "source": [
    "### 5.2.3. Load and run initial CNN model"
   ]
  },
  {
   "cell_type": "code",
   "execution_count": null,
   "id": "feef54d7-9794-4903-86b6-d4f3e577d6bc",
   "metadata": {
    "colab": {
     "base_uri": "https://localhost:8080/"
    },
    "executionInfo": {
     "elapsed": 500,
     "status": "ok",
     "timestamp": 1659051285192,
     "user": {
      "displayName": "Thắng Lê Dương Quốc",
      "userId": "17735925814044881454"
     },
     "user_tz": -120
    },
    "id": "feef54d7-9794-4903-86b6-d4f3e577d6bc",
    "outputId": "0486311d-e844-441e-baa4-ce4826ca1e5d"
   },
   "outputs": [],
   "source": [
    "del model\n",
    "K.clear_session()\n",
    "gc.collect()"
   ]
  },
  {
   "cell_type": "code",
   "execution_count": null,
   "id": "0dad13f7-7526-4d04-9261-155b43be5561",
   "metadata": {
    "executionInfo": {
     "elapsed": 3215,
     "status": "ok",
     "timestamp": 1659051288405,
     "user": {
      "displayName": "Thắng Lê Dương Quốc",
      "userId": "17735925814044881454"
     },
     "user_tz": -120
    },
    "id": "0dad13f7-7526-4d04-9261-155b43be5561"
   },
   "outputs": [],
   "source": [
    "# load initial CNN model \n",
    "\n",
    "json_file = open(MODEL_ARCHITECHTURE_JSON, 'r')\n",
    "loaded_model_json = json_file.read()\n",
    "json_file.close()\n",
    "model = model_from_json(loaded_model_json)\n",
    "\n",
    "# set calibration metric, optimization and loss function\n",
    "METRICS = [\n",
    "      keras.metrics.CategoricalAccuracy(name='accuracy'),\n",
    "      keras.metrics.AUC(name='prc', curve='PR'), # precision-recall curve\n",
    "            ]\n",
    "\n",
    "OPTIMIZER = Adam()\n",
    "    \n",
    "LOSS = CategoricalCrossentropy()\n",
    "\n",
    "model.load_weights(MODEL_WEIGHTS_INITIAL)\n",
    "\n",
    "\n",
    "model.compile(optimizer=OPTIMIZER, loss=LOSS, metrics=METRICS)"
   ]
  },
  {
   "cell_type": "code",
   "execution_count": null,
   "id": "95afc447-2226-40d4-a8e5-f461d4b67f0e",
   "metadata": {
    "colab": {
     "base_uri": "https://localhost:8080/"
    },
    "executionInfo": {
     "elapsed": 111662,
     "status": "ok",
     "timestamp": 1659051400064,
     "user": {
      "displayName": "Thắng Lê Dương Quốc",
      "userId": "17735925814044881454"
     },
     "user_tz": -120
    },
    "id": "95afc447-2226-40d4-a8e5-f461d4b67f0e",
    "outputId": "e122053c-f2b0-433b-90e0-43354ae8adec"
   },
   "outputs": [],
   "source": [
    "lr_finder = foo4.LRFinder(model)\n",
    "lr_finder.find(train_iterator,\n",
    "               validation_iterator, \n",
    "               start_lr=1e-10, end_lr=1e-2, \n",
    "               class_weight = class_weights_PT,\n",
    "               epochs=5)"
   ]
  },
  {
   "cell_type": "code",
   "execution_count": null,
   "id": "oBiKuAYSKavu",
   "metadata": {
    "colab": {
     "base_uri": "https://localhost:8080/",
     "height": 1000
    },
    "executionInfo": {
     "elapsed": 1396,
     "status": "ok",
     "timestamp": 1659051401771,
     "user": {
      "displayName": "Thắng Lê Dương Quốc",
      "userId": "17735925814044881454"
     },
     "user_tz": -120
    },
    "id": "oBiKuAYSKavu",
    "outputId": "a3d5a523-ac45-4f6f-b44b-c3be33062ffc"
   },
   "outputs": [],
   "source": [
    "#final\n",
    "min_value = min(lr_finder.losses)\n",
    "print(min_value)\n",
    "min_index = lr_finder.losses.index(min_value)\n",
    "print(min_index)\n",
    "print(lr_finder.lrs[min_index]) \n",
    "\n",
    "\n",
    "fig = plt.figure()\n",
    "fig.set_size_inches(20,20, forward=True)\n",
    "plt.rc('font', size=18)\n",
    "lr_finder.plot_loss(n_skip_beginning=1, n_skip_end=1)\n",
    "\n",
    "# ax = fig.gca()\n",
    "\n",
    "plt.xticks([1e-7,2e-7,1e-6,2e-6,3e-6,5e-6,6e-6, 7e-6,1e-5, 6e-5,1e-4,2e-4,3e-4, 4e-4, 5e-4, 6e-4, 7e-4, 1e-3])\n",
    "# \n",
    "# plt.xticks([1e-7, 1.7e-7])\n",
    "plt.show()"
   ]
  },
  {
   "cell_type": "code",
   "execution_count": null,
   "id": "82gVGBBCrrMF",
   "metadata": {
    "colab": {
     "base_uri": "https://localhost:8080/",
     "height": 1000
    },
    "executionInfo": {
     "elapsed": 1307,
     "status": "ok",
     "timestamp": 1659040170657,
     "user": {
      "displayName": "Thắng Lê Dương Quốc",
      "userId": "17735925814044881454"
     },
     "user_tz": -120
    },
    "id": "82gVGBBCrrMF",
    "outputId": "cec39716-06fe-43df-f571-9dd646c2e848"
   },
   "outputs": [],
   "source": [
    "#final\n",
    "min_value = min(lr_finder.losses)\n",
    "print(min_value)\n",
    "min_index = lr_finder.losses.index(min_value)\n",
    "print(min_index)\n",
    "print(lr_finder.lrs[min_index]) \n",
    "\n",
    "\n",
    "fig = plt.figure()\n",
    "fig.set_size_inches(20,20, forward=True)\n",
    "plt.rc('font', size=18)\n",
    "lr_finder.plot_loss(n_skip_beginning=1, n_skip_end=1)\n",
    "\n",
    "# ax = fig.gca()\n",
    "\n",
    "plt.xticks([1e-7,2e-7,1e-6,2e-6,3e-6,5e-6,6e-6, 7e-6,1e-5, 6e-5,1e-4,2e-4,3e-4, 4e-4, 5e-4, 6e-4, 7e-4, 1e-3])\n",
    "# \n",
    "# plt.xticks([1e-7, 1.7e-7])\n",
    "plt.show()"
   ]
  },
  {
   "attachments": {},
   "cell_type": "markdown",
   "id": "bbd21a01-bac5-4c0d-88f7-37c2a00bdb5b",
   "metadata": {
    "id": "bbd21a01-bac5-4c0d-88f7-37c2a00bdb5b"
   },
   "source": [
    "### **5.3. Run the model**"
   ]
  },
  {
   "cell_type": "code",
   "execution_count": null,
   "id": "zrakPe9hTivV",
   "metadata": {
    "colab": {
     "base_uri": "https://localhost:8080/"
    },
    "executionInfo": {
     "elapsed": 548,
     "status": "ok",
     "timestamp": 1659094912028,
     "user": {
      "displayName": "Thắng Lê Dương Quốc",
      "userId": "17735925814044881454"
     },
     "user_tz": -120
    },
    "id": "zrakPe9hTivV",
    "outputId": "04c742e0-1442-4926-fa19-fb1cf41147b1"
   },
   "outputs": [],
   "source": [
    "!pwd"
   ]
  },
  {
   "cell_type": "code",
   "execution_count": null,
   "id": "_OMbL_VxTlwy",
   "metadata": {
    "colab": {
     "base_uri": "https://localhost:8080/",
     "height": 35
    },
    "executionInfo": {
     "elapsed": 15,
     "status": "ok",
     "timestamp": 1659094912029,
     "user": {
      "displayName": "Thắng Lê Dương Quốc",
      "userId": "17735925814044881454"
     },
     "user_tz": -120
    },
    "id": "_OMbL_VxTlwy",
    "outputId": "d43b4e0c-7390-4ab8-8a12-2826b667c8d5"
   },
   "outputs": [],
   "source": [
    "LOGTIME_DIR"
   ]
  },
  {
   "cell_type": "code",
   "execution_count": null,
   "id": "uLkYfuQaIali",
   "metadata": {
    "colab": {
     "base_uri": "https://localhost:8080/"
    },
    "executionInfo": {
     "elapsed": 13,
     "status": "ok",
     "timestamp": 1659094912030,
     "user": {
      "displayName": "Thắng Lê Dương Quốc",
      "userId": "17735925814044881454"
     },
     "user_tz": -120
    },
    "id": "uLkYfuQaIali",
    "outputId": "22130fdc-57a8-47cc-cd2f-691989ccf429"
   },
   "outputs": [],
   "source": [
    "%%writefile {LOGTIME_DIR}/training_configuration.txt\n",
    "\n",
    "train_gen = ImageDataGenerator(\n",
    "                                dtype = \"float32\",\n",
    "                                #rescale = 1./255.0,\n",
    "                                rotation_range = 360,\n",
    "                                # width_shift_range=0.2,\n",
    "                                # height_shift_range=0.2,\n",
    "                                # brightness_range=[0.4, 1.0],\n",
    "                                #channel_shift_range=0.2,\n",
    "                                shear_range=0.1,\n",
    "                                zoom_range=[0.8, 1.1],\n",
    "                                horizontal_flip=True,\n",
    "                                vertical_flip=True,\n",
    "                                # fill_mode='constant', cval=255,\n",
    "                                preprocessing_function = preprocess_input\n",
    "                              )\n",
    "                              \n",
    "\n",
    "# create CNN model \n",
    "\n",
    "def create_CNN_model(num_classes = N_CLASSES):\n",
    "    \n",
    "    # image \n",
    "    input_name='image'\n",
    "\n",
    "    image_input = Input(shape=IMG_SHAPE, name=input_name)\n",
    "    \n",
    "    # Create the base model from the pre-trained model MobileNet V2\n",
    "    pre_trained_model = tf.keras.applications.EfficientNetB1(input_shape=IMG_SHAPE,\n",
    "                                                   include_top=False,pooling='avg',\n",
    "                                                   weights='imagenet')\n",
    "\n",
    "    #freeze the batch normalisation layers\n",
    "    for layer in reversed(pre_trained_model.layers):\n",
    "        if isinstance(layer, tf.keras.layers.BatchNormalization):\n",
    "            layer.trainable = False\n",
    "        else:\n",
    "            layer.trainable = True\n",
    "            \n",
    "    image_network = pre_trained_model(image_input)\n",
    "    \n",
    "    image_network = Dropout(0.5)(image_network)   \n",
    "    \n",
    "    image_network = layers.Dense(512, activation='relu', name='full_connected_layer')(image_network)\n",
    "    classfier_layer = Dense(num_classes, activation='softmax', name='classifier')(image_network)\n",
    "    \n",
    "    model = Model(\n",
    "                    inputs=image_input,\n",
    "                    outputs=classfier_layer\n",
    "                    )\n",
    "    return model\n",
    "\n",
    "def create_Callbakcs(strBestModelName, steps_per_epoch):\n",
    "\n",
    "    min_learningRate = 1e-4 # minimum learning rate or initial learning rate\n",
    "    max_learningRate = 3e-4  # maximum learning rate\n",
    "    \n",
    "    clr_triangular = foo3.CyclicLR(base_lr=min_learningRate, max_lr=max_learningRate,step_size=8*steps_per_epoch, mode='triangular2')\n",
    "\n",
    "    early_stopping = EarlyStopping(patience=20, monitor='val_prc', min_delta=0.001, verbose=1, mode='max') # calibration metric = \"val+prc\"\n",
    "    model_checkpoint = ModelCheckpoint(strBestModelName, monitor=\"val_prc\", save_best_only=True, verbose=1, mode='max')\n",
    "    \n",
    "    return [clr_triangular, early_stopping, model_checkpoint]"
   ]
  },
  {
   "cell_type": "code",
   "execution_count": null,
   "id": "9XulfsNPa5XS",
   "metadata": {
    "executionInfo": {
     "elapsed": 1561,
     "status": "ok",
     "timestamp": 1659094932753,
     "user": {
      "displayName": "Thắng Lê Dương Quốc",
      "userId": "17735925814044881454"
     },
     "user_tz": -120
    },
    "id": "9XulfsNPa5XS"
   },
   "outputs": [],
   "source": [
    "!cp /content/gdrive/MyDrive/_Colab_Notebooks/_Zooscan-CENTER_NOProcess/_pyscripts/CyclicLR.py /content/mytemp"
   ]
  },
  {
   "cell_type": "code",
   "execution_count": null,
   "id": "7f5eb50c-fea1-4684-ad2e-0c1144944e97",
   "metadata": {
    "colab": {
     "base_uri": "https://localhost:8080/"
    },
    "executionInfo": {
     "elapsed": 3,
     "status": "ok",
     "timestamp": 1659094932753,
     "user": {
      "displayName": "Thắng Lê Dương Quốc",
      "userId": "17735925814044881454"
     },
     "user_tz": -120
    },
    "id": "7f5eb50c-fea1-4684-ad2e-0c1144944e97",
    "outputId": "36dd59e8-6e36-4be8-e5be-66bfc3b96f54"
   },
   "outputs": [],
   "source": [
    "path = os.path.abspath('CyclicLR.py')\n",
    "print(path)\n",
    "spec = importlib.util.spec_from_file_location(\"CyclicLR\", path)\n",
    "foo3 = importlib.util.module_from_spec(spec)\n",
    "spec.loader.exec_module(foo3)\n",
    "foo3.CyclicLR\n",
    "\n",
    "del train_iterator, validation_iterator\n",
    "\n",
    "def create_Callbakcs(strBestModelName, steps_per_epoch):\n",
    "\n",
    "    min_learningRate = 1e-4 # minimum learning rate or initial learning rate\n",
    "    max_learningRate = 3e-4  # maximum learning rate\n",
    "    \n",
    "    clr_triangular = foo3.CyclicLR(base_lr=min_learningRate, max_lr=max_learningRate,step_size=8*steps_per_epoch, mode='triangular2')\n",
    "\n",
    "    early_stopping = EarlyStopping(patience=20, monitor='val_prc', min_delta=0.001, verbose=1, mode='max') # calibration metric = \"val+prc\"\n",
    "    model_checkpoint = ModelCheckpoint(strBestModelName, monitor=\"val_prc\", save_best_only=True, verbose=1, mode='max')\n",
    "    \n",
    "    return [clr_triangular, early_stopping, model_checkpoint]"
   ]
  },
  {
   "cell_type": "code",
   "execution_count": null,
   "id": "EXotj7yadkCW",
   "metadata": {
    "colab": {
     "base_uri": "https://localhost:8080/"
    },
    "executionInfo": {
     "elapsed": 567589,
     "status": "ok",
     "timestamp": 1659095502789,
     "user": {
      "displayName": "Thắng Lê Dương Quốc",
      "userId": "17735925814044881454"
     },
     "user_tz": -120
    },
    "id": "EXotj7yadkCW",
    "outputId": "dde71128-d768-4932-8e5a-fd40602adb43"
   },
   "outputs": [],
   "source": [
    "all_history={}\n",
    "\n",
    "fold='man1'\n",
    "\n",
    "\n",
    "train_iterator = train_gen.flow_from_dataframe(\n",
    "                                            X_train_df,\n",
    "                                            x_col = \"filenames\", y_col = \"labels\",\n",
    "                                            batch_size = BATCH_SIZE,\n",
    "                                            target_size = IMG_SIZE,\n",
    "                                            color_mode = COLOR_MODE,\n",
    "                                            class_mode = \"categorical\", shuffle = True\n",
    "                                          )\n",
    "\n",
    "validation_iterator = validation_gen.flow_from_dataframe(\n",
    "                                                    X_validation_df,\n",
    "                                                    x_col = \"filenames\", y_col = \"labels\",\n",
    "                                                    batch_size = BATCH_SIZE,\n",
    "                                                    target_size = IMG_SIZE, \n",
    "                                                    color_mode = COLOR_MODE,\n",
    "                                                    class_mode = \"categorical\", shuffle = False\n",
    "                                                       )\n",
    "\n",
    "\n",
    "\n",
    "\n",
    "print(\"... Working at fold \", fold, \"...\")\n",
    "steps_per_epoch = train_iterator.__len__()\n",
    "print(\"\\t step per epoch is: \", steps_per_epoch)\n",
    "\n",
    "\n",
    "# load initial model\n",
    "json_file = open(MODEL_ARCHITECHTURE_JSON, 'r')\n",
    "loaded_model_json = json_file.read()\n",
    "json_file.close()\n",
    "model = model_from_json(loaded_model_json)\n",
    "\n",
    "LOSS = CategoricalCrossentropy()\n",
    "\n",
    "OPTIMIZER = Adam(learning_rate=1e-04)\n",
    "\n",
    "METRICS = [ \n",
    "      keras.metrics.CategoricalAccuracy(name='accuracy'),\n",
    "      keras.metrics.AUC(name='prc', curve='PR'), # precision-recall curve\n",
    "]\n",
    "\n",
    "print(\"\\t 1. Reloading initial weights of the CNN model...\")\n",
    "model.load_weights(MODEL_WEIGHTS_INITIAL)\n",
    "\n",
    "print(\"\\t 1.1. Re-compiling the CNN model...\")\n",
    "model.compile(optimizer=OPTIMIZER, loss=LOSS, metrics=METRICS)\n",
    "\n",
    "print(\"\\t 2. Starting training the model...\")\n",
    "start = time.time()\n",
    "\n",
    "MODEL_CHECKPOINTS = f'{LOGTIME_DIR}//{CNN_MODEL_NAME}-best_model-fold_{fold}.hdf5'\n",
    "\n",
    "\n",
    "myCallbacks = create_Callbakcs(strBestModelName=MODEL_CHECKPOINTS, steps_per_epoch=steps_per_epoch)\n",
    "\n",
    "print(\"\\t\\t 2.1. Best model will be stored in the file: \", MODEL_CHECKPOINTS)\n",
    "\n",
    "history_TLearning = model.fit(\n",
    "                                train_iterator, \n",
    "                                validation_data = validation_iterator, \n",
    "                                epochs = MAX_EPOCHS,\n",
    "                                callbacks=myCallbacks, \n",
    "                                class_weight = class_weights_PT,\n",
    "                                verbose=0\n",
    "                                )\n",
    "\n",
    "time_done = time.time() - start\n",
    "\n",
    "print(\"\\t\\t 2.2. Total time for training the CNN model in fold \", fold, \"is: \", time_done, \"seconds\")\n",
    "\n",
    "MODEL_TIME = f'{LOGTIME_DIR}//{CNN_MODEL_NAME}-TrainingTime-fold_{fold}.txt'\n",
    "with open(MODEL_TIME, mode='w') as file:\n",
    "    file.write('Total time for training the CNN model: %3f seconds.\\n' %time_done)\n",
    "\n",
    "\n",
    "MODEL_WEIGHTS_FINAL = f'{LOGTIME_DIR}//{CNN_MODEL_NAME}-model_weights_final-fold_{fold}.hdf5'\n",
    "print(\"\\t\\t 2.3. Model at final epoch will be stored in the file: \", MODEL_WEIGHTS_FINAL)\n",
    "model.save_weights(MODEL_WEIGHTS_FINAL)\n",
    "\n",
    "\n",
    "#save whole model at final epoch of training process\n",
    "MODEL_FINAL_EPOCH = f'{LOGTIME_DIR}//{CNN_MODEL_NAME}-model_final_epoch-fold_{fold}.hdf5'\n",
    "print(\"\\t\\t 2.4. Model's weights at final epoch will be stored in the folder: \", MODEL_FINAL_EPOCH)\n",
    "model.save(MODEL_FINAL_EPOCH)\n",
    "\n",
    "# convert the history.history dict to a pandas DataFrame\n",
    "# Save the history to CSV for further visualization\n",
    "hist_df = pd.DataFrame(history_TLearning.history.copy()) \n",
    "\n",
    "HISTORY_CSV = f'{LOGTIME_DIR}//{CNN_MODEL_NAME}-History-fold_{fold}.csv'\n",
    "print(\"\\t\\t 2.5. Learning curve of the model will be stored in the file: \", HISTORY_CSV)\n",
    "\n",
    "with open(HISTORY_CSV, mode='w') as f:\n",
    "    hist_df.to_csv(f)\n",
    "\n",
    "print(\"... Ended fold \", fold, \"...\\n\\n\")\n",
    "\n",
    "all_history[f'history-fold-{fold}'] = history_TLearning\n",
    "    "
   ]
  },
  {
   "attachments": {},
   "cell_type": "markdown",
   "id": "f1c497db-7730-4e41-a8d2-430988a66fe4",
   "metadata": {
    "id": "f1c497db-7730-4e41-a8d2-430988a66fe4"
   },
   "source": [
    "### 5.4. Plot the accuracy and validation curve"
   ]
  },
  {
   "cell_type": "code",
   "execution_count": null,
   "id": "NiCv_JJvvS-6",
   "metadata": {
    "executionInfo": {
     "elapsed": 14,
     "status": "ok",
     "timestamp": 1659095502790,
     "user": {
      "displayName": "Thắng Lê Dương Quốc",
      "userId": "17735925814044881454"
     },
     "user_tz": -120
    },
    "id": "NiCv_JJvvS-6"
   },
   "outputs": [],
   "source": [
    "!cp /content/gdrive/MyDrive/_Colab_Notebooks/_Zooscan-CENTER_NOProcess/_pyscripts/plot_result.py /content/mytemp"
   ]
  },
  {
   "cell_type": "code",
   "execution_count": null,
   "id": "fa8183f9-99c8-42c7-afe5-98930fd6a27d",
   "metadata": {
    "colab": {
     "base_uri": "https://localhost:8080/"
    },
    "executionInfo": {
     "elapsed": 8,
     "status": "ok",
     "timestamp": 1659095502790,
     "user": {
      "displayName": "Thắng Lê Dương Quốc",
      "userId": "17735925814044881454"
     },
     "user_tz": -120
    },
    "id": "fa8183f9-99c8-42c7-afe5-98930fd6a27d",
    "outputId": "c00e918c-2336-4e5e-b4b3-cca3e62b745e"
   },
   "outputs": [],
   "source": [
    "path = os.path.abspath('plot_result.py')\n",
    "print(path)\n",
    "spec = importlib.util.spec_from_file_location(\"plot_result\", path)\n",
    "foo2 = importlib.util.module_from_spec(spec)\n",
    "spec.loader.exec_module(foo2)\n",
    "foo2.plot_result"
   ]
  },
  {
   "cell_type": "code",
   "execution_count": null,
   "id": "0a673795-fae7-4511-a9f3-998ec7876e4a",
   "metadata": {
    "colab": {
     "base_uri": "https://localhost:8080/",
     "height": 1000
    },
    "executionInfo": {
     "elapsed": 2028,
     "status": "ok",
     "timestamp": 1659095504815,
     "user": {
      "displayName": "Thắng Lê Dương Quốc",
      "userId": "17735925814044881454"
     },
     "user_tz": -120
    },
    "id": "0a673795-fae7-4511-a9f3-998ec7876e4a",
    "outputId": "e431d91c-cdeb-4ef9-9d4b-e45632a48fc3"
   },
   "outputs": [],
   "source": [
    "foo2.plot_result(LOGTIME_DIR, all_history) "
   ]
  },
  {
   "cell_type": "code",
   "execution_count": null,
   "id": "486fc37f-b469-4251-b48f-c15e86a6816a",
   "metadata": {
    "colab": {
     "base_uri": "https://localhost:8080/",
     "height": 630
    },
    "executionInfo": {
     "elapsed": 1914,
     "status": "ok",
     "timestamp": 1659095506725,
     "user": {
      "displayName": "Thắng Lê Dương Quốc",
      "userId": "17735925814044881454"
     },
     "user_tz": -120
    },
    "id": "486fc37f-b469-4251-b48f-c15e86a6816a",
    "outputId": "1afd9a15-5b70-4927-8d39-8e2731bbc120"
   },
   "outputs": [],
   "source": [
    "for index, history in enumerate(all_history):\n",
    "        acc = np.array(all_history[history].history['accuracy'].copy())*100\n",
    "        val_acc = np.array(all_history[history].history['val_accuracy'].copy())*100\n",
    "        loss = all_history[history].history['loss'].copy()\n",
    "        val_loss = all_history[history].history['val_loss'].copy()\n",
    "        epochs = range(len(acc))\n",
    "\n",
    "        # plt.figure(figsize=(15, 5))\n",
    "        # plt.plot(epochs, acc, 'b*-', label='Training accuracy')\n",
    "        # plt.plot(epochs, val_acc, 'r*-', label='Validation accuracy')\n",
    "        # plt.grid()\n",
    "        # plt.title('Training and validation accuracy')\n",
    "        # plt.ylabel(\"Accuracy\")\n",
    "        # plt.xlabel(\"Epochs\")\n",
    "        # plt.legend()\n",
    "        # # plt.savefig(f'{folder}/fold-{index+1}-acc.png')\n",
    "        # plt.figure()\n",
    "        # plt.show()\n",
    "        \n",
    "        markersize=10\n",
    "        linewidth=2\n",
    "        fontsize=22\n",
    "        \n",
    "        # create figure and axis objects with subplots()\n",
    "        fig, ax1 = plt.subplots(figsize=(20, 10))\n",
    "        # make a plot\n",
    "        p1, = ax1.plot(epochs, acc, 'r^-', linewidth=linewidth, markersize=markersize, label='Training accuracy')\n",
    "        p2, = ax1.plot(epochs, val_acc, 'b^-', linewidth=linewidth, markersize=markersize, label='Validation accuracy')\n",
    "        # set x-axis label\n",
    "        ax1.set_xlabel(\"Epochs\",fontsize=fontsize)\n",
    "        # set y-axis label\n",
    "        ax1.set_ylabel(\"Accuracy\",fontsize=fontsize)\n",
    "        # ax.set_ylim([0, 100])\n",
    "        \n",
    "        # twin object for two different y-axis on the sample plot\n",
    "        ax2 = ax1.twinx()\n",
    "        # make a plot with different y-axis using second axis object\n",
    "        p3, = ax2.plot(epochs, loss, 'ro-', linewidth=linewidth, markersize=markersize, label='Training Loss')\n",
    "        p4, = ax2.plot(epochs, val_loss, 'bo-', linewidth=linewidth, markersize=markersize, label='Validation Loss')\n",
    "        \n",
    "        ax2.set_ylabel(\"Loss\",fontsize=fontsize) \n",
    "        # ax2.set_ylim([0, 2])\n",
    "        \n",
    "        ax1.set_yticks(np.linspace(40, 100, 7))\n",
    "        ax2.set_yticks(np.round(np.linspace(0, 2, 7),1))\n",
    "\n",
    "        ax1.grid(), \n",
    "        # ax2.grid()\n",
    "        # ax.legend()\n",
    "        plt.legend(ncol=2, handles=[p1, p2,p3,p4],fontsize=fontsize-4)\n",
    "        \n",
    "        ax1.tick_params(axis='x', labelsize=fontsize-4)\n",
    "        ax1.tick_params(axis='y', labelsize=fontsize-4)\n",
    "        \n",
    "        ax2.tick_params(axis='y', labelsize=fontsize-4)\n",
    "        \n",
    "#         for tick in ax1.xaxis.get_major_ticks():\n",
    "#                 tick.label.set_fontsize(fontsize) \n",
    "#         for tick in ax2.xaxis.get_major_ticks():\n",
    "#                 tick.label.set_fontsize(fontsize) \n",
    "                \n",
    "#         for tick in ax1.yaxis.get_major_ticks():\n",
    "#                 tick.label.set_fontsize(fontsize) \n",
    "#         for tick in ax2.yaxis.get_major_ticks():\n",
    "#                 tick.label.set_fontsize(fontsize) \n",
    "                \n",
    "        plt.show()\n",
    "        \n",
    "        # save the plot as a file\n",
    "        fig.savefig(f'{LOGTIME_DIR}/fold-{index+1}-accuracy_loss.jpg',\n",
    "                    format='jpeg',\n",
    "                    dpi=600,\n",
    "                    bbox_inches='tight')\n",
    "\n",
    "#         plt.figure(figsize=(15, 5))\n",
    "#         loss = all_history[history].history['loss'].copy()\n",
    "#         val_loss = all_history[history].history['val_loss'].copy()\n",
    "#         plt.plot(epochs, loss, 'b*-', label='Training Loss')\n",
    "#         plt.plot(epochs, val_loss, 'r*-', label='Validation Loss')\n",
    "#         plt.grid()\n",
    "#         plt.title('Training and validation loss')\n",
    "#         plt.ylabel(\"Loss\")\n",
    "#         plt.xlabel(\"Epochs\")\n",
    "#         plt.legend()\n",
    "#         plt.savefig(f'{folder}/fold-{index+1}-loss.png')\n",
    "#         plt.figure()\n",
    "#         plt.show()\n",
    "        \n",
    "#         plt.figure(figsize=(15, 5))\n",
    "#         prc = all_history[history].history['prc'].copy()\n",
    "#         val_prc = all_history[history].history['val_prc'].copy()\n",
    "#         plt.plot(epochs, prc, 'b*-', label='Training AUPRC')\n",
    "#         plt.plot(epochs, val_prc, 'r*-', label='Validation AUPRC')\n",
    "#         plt.grid()\n",
    "#         plt.title('Training and validation AUPRC')\n",
    "#         plt.ylabel(\"AUPRC\")\n",
    "#         plt.xlabel(\"Epochs\")\n",
    "#         plt.legend()\n",
    "#         plt.savefig(f'{folder}/fold-{index+1}-AUPRC.png')\n",
    "#         plt.figure()\n",
    "#         plt.show()"
   ]
  },
  {
   "attachments": {},
   "cell_type": "markdown",
   "id": "4cba23fb-719c-4294-9dee-567b424fb170",
   "metadata": {
    "id": "4cba23fb-719c-4294-9dee-567b424fb170"
   },
   "source": [
    "# 6. Evaluate model"
   ]
  },
  {
   "cell_type": "code",
   "execution_count": null,
   "id": "Lk8e5IUSnIqW",
   "metadata": {
    "executionInfo": {
     "elapsed": 2,
     "status": "ok",
     "timestamp": 1659095506725,
     "user": {
      "displayName": "Thắng Lê Dương Quốc",
      "userId": "17735925814044881454"
     },
     "user_tz": -120
    },
    "id": "Lk8e5IUSnIqW"
   },
   "outputs": [],
   "source": [
    "!cp /content/gdrive/MyDrive/_Colab_Notebooks/_Zooscan-CENTER_NOProcess/_pyscripts/plotConfusionMatrix.py /content/mytemp"
   ]
  },
  {
   "cell_type": "code",
   "execution_count": null,
   "id": "028e5eba-56c5-444c-aba7-ec208ca27d2c",
   "metadata": {
    "colab": {
     "base_uri": "https://localhost:8080/",
     "height": 1000
    },
    "executionInfo": {
     "elapsed": 631,
     "status": "ok",
     "timestamp": 1659095507355,
     "user": {
      "displayName": "Thắng Lê Dương Quốc",
      "userId": "17735925814044881454"
     },
     "user_tz": -120
    },
    "id": "028e5eba-56c5-444c-aba7-ec208ca27d2c",
    "outputId": "9bb10879-edaf-4d30-b93f-370038d596a1"
   },
   "outputs": [],
   "source": [
    "from sklearn.metrics import roc_curve, auc\n",
    "from scipy import interp\n",
    "from itertools import cycle\n",
    "from sklearn.preprocessing import LabelBinarizer\n",
    "from sklearn.metrics import classification_report\n",
    "from sklearn.metrics import confusion_matrix\n",
    "from sklearn.metrics import roc_auc_score, roc_curve\n",
    "\n",
    "path = os.path.abspath('plotConfusionMatrix.py')\n",
    "print(path)\n",
    "spec = importlib.util.spec_from_file_location(\"plot_confusion_matrix\", path)\n",
    "foo5 = importlib.util.module_from_spec(spec)\n",
    "spec.loader.exec_module(foo5)\n",
    "foo5.plot_confusion_matrix\n",
    "\n",
    "from sklearn.metrics import balanced_accuracy_score, jaccard_score, average_precision_score, accuracy_score, recall_score\n",
    "\n",
    "def calc_ClassBalancedAccuracy(confusion_matrix, classes_values, class_names): \n",
    "    result=0\n",
    "    class_number = len(class_names)\n",
    "    for i in classes_values:\n",
    "        result += confusion_matrix[i][i] / max(sum(confusion_matrix[i,0:]), sum(confusion_matrix[0:,i]))\n",
    "\n",
    "    result /= class_number\n",
    "    \n",
    "    return result\n",
    "\n",
    "\n",
    "def computeGeometricAverageOfRecall(test_true, test_pred):\n",
    "    result = 1.0\n",
    "    for label in np.unique(test_true):\n",
    "        idx = (test_true==label)\n",
    "        result *= accuracy_score(np.array(test_true)[idx],np.array(test_pred)[idx])\n",
    "\n",
    "    result = np.power(result, 1/len(np.unique(test_true)))\n",
    "\n",
    "    return result\n",
    "\n",
    "\n",
    "# display(MODEL_CHECKPOINTS)\n",
    "\n",
    "display(LOGTIME_DIR)\n",
    "\n",
    "display(CNN_MODEL_NAME)"
   ]
  },
  {
   "cell_type": "code",
   "execution_count": null,
   "id": "r2l1iEVdo3an",
   "metadata": {
    "colab": {
     "base_uri": "https://localhost:8080/",
     "height": 1000
    },
    "executionInfo": {
     "elapsed": 36395,
     "status": "ok",
     "timestamp": 1659095543748,
     "user": {
      "displayName": "Thắng Lê Dương Quốc",
      "userId": "17735925814044881454"
     },
     "user_tz": -120
    },
    "id": "r2l1iEVdo3an",
    "outputId": "83e78f63-cbba-420c-c938-dc36dffd5c07"
   },
   "outputs": [],
   "source": [
    "GMeanRecalls=[]\n",
    "AverageAccuracies=[]\n",
    "ClassBalanceAccuracies=[]\n",
    "\n",
    "fold = 'man1'\n",
    "\n",
    "\n",
    "model_filename = f'{LOGTIME_DIR}//{CNN_MODEL_NAME}-best_model-fold_{fold}.hdf5'\n",
    "\n",
    "model = tf.keras.models.load_model(\n",
    "                                    model_filename,\n",
    "                                   compile=False\n",
    "                                    )\n",
    "\n",
    "test_iterator = validation_gen.flow_from_dataframe(\n",
    "                                                    X_validation_df,\n",
    "                                                    x_col = \"filenames\", y_col = \"labels\",\n",
    "                                                    batch_size = 1,\n",
    "                                                    target_size = IMG_SIZE, \n",
    "                                                    color_mode = COLOR_MODE,\n",
    "                                                    class_mode = \"categorical\", shuffle = False\n",
    "                                                       )\n",
    "\n",
    "\n",
    "test_prob=model.predict(test_iterator)\n",
    "test_pred = test_prob.argmax(axis=1).tolist()\n",
    "test_true = test_iterator.classes\n",
    "\n",
    "num_per_targetNames = Counter(test_iterator.classes)\n",
    "print(num_per_targetNames)\n",
    "targetNames=list(test_iterator.class_indices.keys())\n",
    "print(targetNames)\n",
    "\n",
    "# Accuracy, Precision, Recall, F1 score\n",
    "print(classification_report(test_true, test_pred, target_names=targetNames), sep='')\n",
    "\n",
    "REPORT_filename = f'{LOGTIME_DIR}//{CNN_MODEL_NAME}-classification_report-test_set-fold_{fold}.csv'\n",
    "df_classification_report = pd.DataFrame(classification_report(test_true, test_pred, target_names=targetNames, digits=2, output_dict=True)).transpose()\n",
    "df_classification_report.to_csv(REPORT_filename)\n",
    "\n",
    "\n",
    "# Confusion matrix\n",
    "confusion_mtx = confusion_matrix(test_true, test_pred) \n",
    "\n",
    "confusionmatrix_filename = f'{LOGTIME_DIR}//{CNN_MODEL_NAME}-confusion_matrix-test_set-fold_{fold}.png'\n",
    "fig = plt.figure()\n",
    "plt.rc('font', size=13)\n",
    "fig.set_size_inches(20, 20, forward=True)\n",
    "foo5.plot_confusion_matrix(confusion_mtx, classes = targetNames, num_images_per_class = num_per_targetNames, normalize=True) \n",
    "plt.savefig(confusionmatrix_filename,bbox_inches=\"tight\")\n",
    "\n",
    "\n",
    "#average accuracy\n",
    "AverageAccuracies.append(accuracy_score(test_true,test_pred))\n",
    "\n",
    "# geometric average of recall\n",
    "GMeanRecalls.append(computeGeometricAverageOfRecall(test_true, test_pred))\n",
    "\n",
    "# class balance accuracy\n",
    "ClassBalanceAccuracies.append(calc_ClassBalancedAccuracy(confusion_mtx, list(test_iterator.class_indices.values()), targetNames))\n",
    "\n"
   ]
  },
  {
   "cell_type": "code",
   "execution_count": null,
   "id": "bJ_bzyrBpS8T",
   "metadata": {
    "colab": {
     "base_uri": "https://localhost:8080/",
     "height": 282
    },
    "executionInfo": {
     "elapsed": 10,
     "status": "ok",
     "timestamp": 1659095543748,
     "user": {
      "displayName": "Thắng Lê Dương Quốc",
      "userId": "17735925814044881454"
     },
     "user_tz": -120
    },
    "id": "bJ_bzyrBpS8T",
    "outputId": "c40b927c-412a-4ee3-879c-ca8b9a73c07c"
   },
   "outputs": [],
   "source": [
    "display(GMeanRecalls, AverageAccuracies, ClassBalanceAccuracies)\n",
    "\n",
    "keys = ['man1']\n",
    "\n",
    "vals = np.array([GMeanRecalls, AverageAccuracies, ClassBalanceAccuracies])\n",
    "\n",
    "score_dict = dict(zip(keys, zip(*vals)))\n",
    "\n",
    "display(score_dict)\n",
    "\n",
    "z = {'Evaluation_scores':(\"Geometric_Average_of_Recalls\",\"Average_Accuracy\", \"Class_Balance_Accuracy\"), **score_dict}\n",
    "\n",
    "display(z)\n",
    "\n",
    "display(pd.DataFrame.from_dict(z))\n",
    "\n",
    "EVALUATION_SCORE_filename = f'{LOGTIME_DIR}//{CNN_MODEL_NAME}-evaluation_score-test_sets.csv'\n",
    "pd.DataFrame.from_dict(z).to_csv(EVALUATION_SCORE_filename, index=None)"
   ]
  },
  {
   "cell_type": "code",
   "execution_count": null,
   "id": "2NJct7lDpS_D",
   "metadata": {
    "executionInfo": {
     "elapsed": 5,
     "status": "ok",
     "timestamp": 1659091350011,
     "user": {
      "displayName": "Thắng Lê Dương Quốc",
      "userId": "17735925814044881454"
     },
     "user_tz": -120
    },
    "id": "2NJct7lDpS_D"
   },
   "outputs": [],
   "source": []
  },
  {
   "cell_type": "code",
   "execution_count": null,
   "id": "2cc12d75-ddd4-47aa-ae4e-a92b5f4332ea",
   "metadata": {
    "executionInfo": {
     "elapsed": 14,
     "status": "ok",
     "timestamp": 1659080815167,
     "user": {
      "displayName": "Thắng Lê Dương Quốc",
      "userId": "17735925814044881454"
     },
     "user_tz": -120
    },
    "id": "2cc12d75-ddd4-47aa-ae4e-a92b5f4332ea"
   },
   "outputs": [],
   "source": []
  },
  {
   "cell_type": "code",
   "execution_count": null,
   "id": "e58c9509-43c5-4e4e-97e4-b09cd8dabbd9",
   "metadata": {
    "executionInfo": {
     "elapsed": 15,
     "status": "ok",
     "timestamp": 1659080815168,
     "user": {
      "displayName": "Thắng Lê Dương Quốc",
      "userId": "17735925814044881454"
     },
     "user_tz": -120
    },
    "id": "e58c9509-43c5-4e4e-97e4-b09cd8dabbd9"
   },
   "outputs": [],
   "source": [
    "\n",
    "\n"
   ]
  },
  {
   "cell_type": "code",
   "execution_count": null,
   "id": "MEUHmIDn4ki3",
   "metadata": {
    "executionInfo": {
     "elapsed": 14,
     "status": "ok",
     "timestamp": 1659080815168,
     "user": {
      "displayName": "Thắng Lê Dương Quốc",
      "userId": "17735925814044881454"
     },
     "user_tz": -120
    },
    "id": "MEUHmIDn4ki3"
   },
   "outputs": [],
   "source": []
  }
 ],
 "metadata": {
  "accelerator": "GPU",
  "colab": {
   "collapsed_sections": [
    "134fa9ec-f3b1-4de5-ae24-c0f454334728",
    "00ec8fcd-da40-4755-857a-eebfde4cf424"
   ],
   "name": "_Zooscan_3771-EffB1_wei-juin2022.ipynb",
   "provenance": []
  },
  "gpuClass": "standard",
  "kernelspec": {
   "display_name": "Python 3 (ipykernel)",
   "language": "python",
   "name": "python3"
  },
  "language_info": {
   "codemirror_mode": {
    "name": "ipython",
    "version": 3
   },
   "file_extension": ".py",
   "mimetype": "text/x-python",
   "name": "python",
   "nbconvert_exporter": "python",
   "pygments_lexer": "ipython3",
   "version": "3.8.16"
  }
 },
 "nbformat": 4,
 "nbformat_minor": 5
}
