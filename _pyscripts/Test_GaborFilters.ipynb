{
 "cells": [
  {
   "cell_type": "code",
   "execution_count": 1,
   "id": "3a1f43a6-74ac-462c-9e39-fa1b1ce37b57",
   "metadata": {},
   "outputs": [],
   "source": [
    "import os\n",
    "\n",
    "import pandas as pd\n",
    "\n",
    "import numpy as np\n",
    "from numpy import random\n",
    "\n",
    "from random import sample\n",
    "\n",
    "import matplotlib.pyplot as plt\n",
    "\n",
    "import skimage\n",
    "from skimage import io\n",
    "from skimage.feature import daisy, hog, ORB, local_binary_pattern, SIFT\n",
    "from skimage.color import label2rgb, rgb2gray\n",
    "from skimage.transform import resize, rotate, downscale_local_mean\n",
    "\n",
    "from scipy import ndimage as ndi\n",
    "from skimage.util import img_as_float\n",
    "from skimage.filters import gabor_kernel\n",
    "\n",
    "from sklearn.cluster import MiniBatchKMeans\n",
    "from sklearn.decomposition import PCA\n",
    "from sklearn import preprocessing\n",
    "from skimage import exposure\n",
    "\n",
    "# from tqdm import tqdm\n",
    "\n",
    "import gc\n",
    "\n",
    "from joblib import Parallel, delayed\n",
    "\n",
    "from tqdm.notebook import tqdm\n",
    "\n",
    "from sklearn.preprocessing import Normalizer\n",
    "from matplotlib.ticker import MaxNLocator\n",
    "from sklearn.preprocessing import StandardScaler\n",
    "\n",
    "from scipy.special import erfcinv"
   ]
  },
  {
   "cell_type": "code",
   "execution_count": 2,
   "id": "eb92173c-0343-43f2-a0a8-e65cd4978653",
   "metadata": {},
   "outputs": [],
   "source": [
    "from skimage import data\n",
    "from skimage.util import img_as_float\n",
    "from skimage.filters import gabor_kernel\n",
    "\n",
    "import math"
   ]
  },
  {
   "cell_type": "code",
   "execution_count": 3,
   "id": "4dd57a97-c7ab-47f9-9685-587f331b5d27",
   "metadata": {},
   "outputs": [],
   "source": [
    "dfFoldTraining_1 = pd.read_csv('..//_inputs//_images_Zooscan//_Zooscan-training-fold_1.csv')"
   ]
  },
  {
   "cell_type": "code",
   "execution_count": 4,
   "id": "3900a0d8-8d22-4096-8c5f-3fa23a946ed8",
   "metadata": {},
   "outputs": [],
   "source": [
    "# gabor filter\n",
    "\n",
    "def createGaborfilterbank(m=39, n=39):\n",
    "    garray = []\n",
    "    fmax = 0.327 # maximum frequency\n",
    "    gamma = np.sqrt(2)\n",
    "    eta = np.sqrt(2)\n",
    "    \n",
    "    gamma = 0.5\n",
    "    eta = 0.5\n",
    "    \n",
    "    u = 6 #number of frequencies\n",
    "    v = 8 #number of orientation\n",
    "\n",
    "    for i in range(0,u):\n",
    "\n",
    "        fu = fmax/np.sqrt(2)**(i); # frequency\n",
    "        alpha = fu/gamma;\n",
    "        beta = fu/eta;\n",
    "\n",
    "        for j in range(0,v):\n",
    "            theta = j/v*np.pi; # orientation \n",
    "\n",
    "            x, y = np.meshgrid(np.arange(1,n+1,1), np.arange(1,m+1,1))\n",
    "\n",
    "            xenvolope  =  (x-((m+1)/2))*np.cos(theta) + (y-((n+1)/2))*np.sin(theta);\n",
    "            yenvolope  = -(x-((m+1)/2))*np.sin(theta) + (y-((n+1)/2))*np.cos(theta);\n",
    "            \n",
    "            gfilter = np.transpose(\n",
    "                                (fu**2/(np.pi*gamma*eta))*np.exp(-((alpha**2)*(xenvolope**2) + \n",
    "                              (beta**2)*(yenvolope**2)))*np.exp(1j*2*np.pi*fu*xenvolope)\n",
    "                                    );\n",
    "\n",
    "            garray.append(gfilter);\n",
    "\n",
    "    plt.figure(figsize=(15,10))\n",
    "\n",
    "    for i in range(48):    \n",
    "        ax = plt.subplot(6,8,i+1)\n",
    "        # ax.set_title(label)\n",
    "        plt.imshow(np.real(garray[i]),cmap='Greys_r')\n",
    "        plt.axis(\"off\")  \n",
    "        \n",
    "    return garray\n",
    "\n",
    "def computeGaborfeatures(image, kernels):\n",
    "    feats = []\n",
    "    filteredimg = []\n",
    "    \n",
    "    for k, kernel in enumerate(kernels):\n",
    "        filtered = ndi.convolve(image, np.abs(kernel), mode='wrap')\n",
    "            \n",
    "        feats.append(filtered.mean())\n",
    "        feats.append(filtered.std())\n",
    "        \n",
    "        filteredimg.append(filtered)\n",
    "        \n",
    "    return feats, filteredimg"
   ]
  },
  {
   "cell_type": "code",
   "execution_count": 5,
   "id": "c01b712b-b882-4a34-ac64-b665e7092033",
   "metadata": {},
   "outputs": [],
   "source": [
    "def norminv(p,mu,sigma):\n",
    "    \n",
    "    x0 = np.multiply( -np.sqrt(2), (erfcinv(2 * p)) );\n",
    "    x = np.multiply(sigma, x0) + mu;\n",
    "    \n",
    "    return x"
   ]
  },
  {
   "cell_type": "code",
   "execution_count": 6,
   "id": "23e3ae44-7de8-49a0-942d-59c3710fd292",
   "metadata": {},
   "outputs": [],
   "source": [
    "def compute_fhigh(f0, a, b):\n",
    "    \n",
    "    d = f0;\n",
    "\n",
    "    if b > a:\n",
    "\n",
    "      foo = -( (a**2) * d )/(a**2 - b**2);\n",
    "\n",
    "      if foo < a:\n",
    "        fhigh2 = np.sqrt( (d + foo)**2 + (b/a * np.sqrt(a**2 - foo**2))**2 );\n",
    "      else:\n",
    "        fhigh2 = d + a;\n",
    "    \n",
    "    else:\n",
    "        fhigh2 = d + a; \n",
    "\n",
    "    if fhigh2 > 0.5:\n",
    "      fhigh2 = 0.5; \n",
    "\n",
    "    return fhigh2"
   ]
  },
  {
   "cell_type": "code",
   "execution_count": 7,
   "id": "c478086a-2348-4948-924f-100e4f07b5aa",
   "metadata": {},
   "outputs": [],
   "source": [
    "def ellipsoid_envelope_point(a,b,c):\n",
    "\n",
    "    x=(c*(a**2))/np.sqrt(b**2+c**2*a**2)\n",
    "    y=b/a*np.sqrt(a**2-x**2);\n",
    "    \n",
    "    return np.array([x,y])"
   ]
  },
  {
   "cell_type": "code",
   "execution_count": 8,
   "id": "28a89f27-ad6b-47ff-80d6-36b1d8adcc23",
   "metadata": {},
   "outputs": [],
   "source": [
    "def accurate_envelope_f(f0,a,b,theta):\n",
    "\n",
    "    if np.mod(theta, np.pi/2)!=0:\n",
    "\n",
    "        # solve points with slopes -tan(pi/2-theta) and tan(theta)\n",
    "        x1y1 = ellipsoid_envelope_point(a,b,-np.tan(np.pi/2-theta))\n",
    "        x2y2 = ellipsoid_envelope_point(a,b,np.tan(theta))\n",
    "        \n",
    "        envelope = np.array([x1y1, -x1y1, x2y2, -x2y2])\n",
    "    \n",
    "        # shift by f0\n",
    "        envelope = envelope + np.tile([f0, 0],[4,1])\n",
    "\n",
    "        # rotate by theta\n",
    "        envelope = np.matmul(envelope, np.array([[np.cos(theta), np.sin(theta)],[-np.sin(theta), np.cos(theta)]]))\n",
    "\n",
    "        xmin = min(envelope[:,0]);\n",
    "        xmax = max(envelope[:,0]);\n",
    "        ymin = min(envelope[:,1]);\n",
    "        ymax = max(envelope[:,1]);\n",
    "\n",
    "        envelope=np.real([xmin, xmax, ymin, ymax])\n",
    "\n",
    "    else: \n",
    "\n",
    "        envelope = np.array([[f0-a, 0], [f0+a, 0] , [f0, b], [f0, -b]])\n",
    "        \n",
    "        envelope = np.matmul(envelope, np.array([[np.cos(theta), np.sin(theta)],[-np.sin(theta), np.cos(theta)]]))\n",
    "        \n",
    "        xmin = min(envelope[:,0]);\n",
    "        xmax = max(envelope[:,0]);\n",
    "        ymin = min(envelope[:,1]);\n",
    "        ymax = max(envelope[:,1]);\n",
    "        \n",
    "        envelope=np.real([xmin, xmax, ymin, ymax])\n",
    "\n",
    "    return envelope\n",
    "    "
   ]
  },
  {
   "cell_type": "code",
   "execution_count": 9,
   "id": "3b732c6e-1234-4e0a-b457-53a330337d9f",
   "metadata": {},
   "outputs": [],
   "source": [
    "def computeAGaborFilter(f0, theta, gamma, eta, Nx, Ny):\n",
    "    \n",
    "    pf = np.sqrt(0.99) #energy to include in the filters\n",
    "    alpha = f0 / gamma\n",
    "    beta = f0 / eta\n",
    "    \n",
    "    # accurate rectangular envelope\n",
    "    majenv = norminv(np.array([1-pf, 1+pf])/2,0,f0/(np.sqrt(2)*np.pi*gamma))\n",
    "    minenv = norminv(np.array([1-pf, 1+pf])/2,0,f0/(np.sqrt(2)*np.pi*eta))\n",
    "    \n",
    "    fhigh = compute_fhigh(f0,majenv[1],minenv[1])\n",
    "    \n",
    "    envelope = accurate_envelope_f(f0,majenv[1],minenv[1],theta)\n",
    "    \n",
    "    envelope[:2] = envelope[:2] * Nx\n",
    "    envelope[-2:] = envelope[-2:] * Ny\n",
    "    \n",
    "    envelope = np.array([np.floor(envelope[0]), np.ceil(envelope[1]), np.floor(envelope[2]), np.ceil(envelope[3])])\n",
    "    \n",
    "    nx = np.arange(envelope[0], envelope[1] + 1, 1, dtype=int)\n",
    "    ny = np.arange(envelope[2], envelope[3] + 1, 1, dtype=int)\n",
    "    \n",
    "    u = nx/Nx; #frequencies that bank contains\n",
    "    v = ny/Ny;\n",
    "    \n",
    "    U, V = np.meshgrid(u,v)\n",
    "    \n",
    "    Uenvelope =  (np.add(-U * np.sin(theta), V * np.cos(theta)))**2 / beta**2\n",
    "    Venvelope =  (np.add(U * np.cos(theta), V * np.sin(theta) - f0))**2 / alpha**2\n",
    "    \n",
    "    gf = np.exp(-(np.pi**2) * np.add(Uenvelope,Venvelope))\n",
    "    \n",
    "    return gf, envelope, fhigh\n",
    "    "
   ]
  },
  {
   "cell_type": "code",
   "execution_count": null,
   "id": "2c2d90ec-6364-4932-8926-f2471b8c6f07",
   "metadata": {},
   "outputs": [],
   "source": [
    "def transformtoSpatialGaborFiler(FrequencyGaborFilter, envelop, row, col):\n",
    "    \n",
    "    M1 = col\n",
    "    M2 = row\n",
    "    \n",
    "    lx = envelope[1] - envelope[0];\n",
    "    ly = envelope[3] - envelope[2];\n",
    "    \n",
    "    xx = np.int32(np.mod( np.arange(0,lx + 1) + envelope[0] + M1 , M1 ) + 1)-1;\n",
    "    yy = np.int32(np.mod( np.arange(0,ly + 1) + envelope[2] + M2 , M2 ) + 1)-1;\n",
    "    \n",
    "    f2_ = np.zeros((M2,M1), dtype=np.float64)\n",
    "    \n",
    "    for y in range(0,len(yy)):\n",
    "        for x in range(0,len(xx)):\n",
    "            xf2 = xx[x] \n",
    "            yf2 = yy[y] \n",
    "\n",
    "            f2_[yf2,xf2] = FrequencyGaborFilter[y,x]\n",
    "            \n",
    "    f2 = np.fft.ifftshift( np.fft.ifft2(f2_) )"
   ]
  },
  {
   "cell_type": "code",
   "execution_count": 10,
   "id": "e2216399-beed-48d8-9479-88ccc357e282",
   "metadata": {},
   "outputs": [],
   "source": [
    "def createSetOfGarborFilters(row=43, col=43):\n",
    "    garray = []\n",
    "    \n",
    "    fmax = 0.327 # maximum frequency\n",
    "\n",
    "    k = np.sqrt(2) #frequency ratio or factor for selecting filter frequencies\n",
    "    \n",
    "    gamma = 0.5 #smoothing parameter gamma\n",
    "    eta = 0.5 #smoothing parameter eta\n",
    "    \n",
    "    # pf = np.sqrt(0.99) #energy to include in the filters\n",
    "    \n",
    "    u = 6 #number of frequencies\n",
    "    v = 8 #number of orientation\n",
    "\n",
    "    for i in range(0,u):\n",
    "\n",
    "        fu = fmax/k**i; # frequency of the filter\n",
    "\n",
    "        for j in range(0,v):\n",
    "            theta = j/v*np.pi; # orientation of the filter \n",
    "            \n",
    "            FrequencyGaborFilter, envelope, fhigh = computeAGaborFilter(fu, theta, gamma, eta, row, col) \n",
    "\n",
    "            garray.append(gaborfilter);\n",
    "        \n",
    "    return garray"
   ]
  },
  {
   "cell_type": "code",
   "execution_count": 108,
   "id": "f7af3204-2823-409e-b62d-204233fb4b35",
   "metadata": {},
   "outputs": [
    {
     "data": {
      "text/plain": [
       "array([ 0,  1,  2,  3,  4,  5,  6,  7,  8,  9, 10, 11, 12, 13, 14, 15, 16,\n",
       "       17, 18, 19, 20, 21, 22, 23, 24, 25, 26, 27, 28, 29, 30, 31, 32, 33,\n",
       "       34, 35, 36])"
      ]
     },
     "execution_count": 108,
     "metadata": {},
     "output_type": "execute_result"
    }
   ],
   "source": [
    "np.arange(0,36+1)"
   ]
  },
  {
   "cell_type": "code",
   "execution_count": null,
   "id": "c2edfb56-c84b-4241-9014-d770b6857b13",
   "metadata": {},
   "outputs": [],
   "source": []
  },
  {
   "cell_type": "code",
   "execution_count": null,
   "id": "9d2ae567-dedf-46b5-bc87-ed81171f5b48",
   "metadata": {},
   "outputs": [],
   "source": []
  },
  {
   "cell_type": "code",
   "execution_count": 14,
   "id": "75d2dfb1-4395-484e-b99d-6c3e44cbae9f",
   "metadata": {},
   "outputs": [],
   "source": [
    "# envelope = np.array([-25,211,-18,18])\n",
    "M1=M2=43"
   ]
  },
  {
   "cell_type": "code",
   "execution_count": 15,
   "id": "6880d4e0-a1ce-4521-9d9c-8ea0b15fcc92",
   "metadata": {},
   "outputs": [
    {
     "data": {
      "text/plain": [
       "array([-4., 22., -9., 17.])"
      ]
     },
     "execution_count": 15,
     "metadata": {},
     "output_type": "execute_result"
    }
   ],
   "source": [
    "envelope"
   ]
  },
  {
   "cell_type": "code",
   "execution_count": 16,
   "id": "aeeb965f-0990-446e-96fe-9d0fccece098",
   "metadata": {},
   "outputs": [],
   "source": [
    "lx = envelope[1] - envelope[0];\n",
    "ly = envelope[3] - envelope[2];"
   ]
  },
  {
   "cell_type": "code",
   "execution_count": 17,
   "id": "8c5887a9-e753-4e77-8d17-407d51dc782f",
   "metadata": {},
   "outputs": [
    {
     "data": {
      "text/plain": [
       "26.0"
      ]
     },
     "execution_count": 17,
     "metadata": {},
     "output_type": "execute_result"
    }
   ],
   "source": [
    "lx"
   ]
  },
  {
   "cell_type": "code",
   "execution_count": 18,
   "id": "5b18a6a6-028c-44ef-a936-5c28467d8396",
   "metadata": {},
   "outputs": [
    {
     "data": {
      "text/plain": [
       "26.0"
      ]
     },
     "execution_count": 18,
     "metadata": {},
     "output_type": "execute_result"
    }
   ],
   "source": [
    "ly"
   ]
  },
  {
   "cell_type": "code",
   "execution_count": 70,
   "id": "60839566-d2d9-4ad4-a3c5-0e4cc8d0a021",
   "metadata": {},
   "outputs": [],
   "source": [
    "xx = np.int32(np.mod( np.arange(0,lx + 1) + envelope[0] + M1 , M1 ) + 1)-1;\n",
    "yy = np.int32(np.mod( np.arange(0,ly + 1) + envelope[2] + M2 , M2 ) + 1)-1;"
   ]
  },
  {
   "cell_type": "code",
   "execution_count": 71,
   "id": "4a4cd291-8c34-48c7-876f-2667e6185329",
   "metadata": {},
   "outputs": [
    {
     "data": {
      "text/plain": [
       "array([39, 40, 41, 42,  0,  1,  2,  3,  4,  5,  6,  7,  8,  9, 10, 11, 12,\n",
       "       13, 14, 15, 16, 17, 18, 19, 20, 21, 22])"
      ]
     },
     "execution_count": 71,
     "metadata": {},
     "output_type": "execute_result"
    }
   ],
   "source": [
    "xx"
   ]
  },
  {
   "cell_type": "code",
   "execution_count": 72,
   "id": "55945f4c-d80e-44a8-aec1-af2f29be777e",
   "metadata": {},
   "outputs": [
    {
     "data": {
      "text/plain": [
       "array([34, 35, 36, 37, 38, 39, 40, 41, 42,  0,  1,  2,  3,  4,  5,  6,  7,\n",
       "        8,  9, 10, 11, 12, 13, 14, 15, 16, 17])"
      ]
     },
     "execution_count": 72,
     "metadata": {},
     "output_type": "execute_result"
    }
   ],
   "source": [
    "yy"
   ]
  },
  {
   "cell_type": "code",
   "execution_count": 32,
   "id": "2228c7fd-652e-4b4b-8fb8-7eb5829c0e99",
   "metadata": {},
   "outputs": [
    {
     "data": {
      "text/plain": [
       "(27,)"
      ]
     },
     "execution_count": 32,
     "metadata": {},
     "output_type": "execute_result"
    }
   ],
   "source": [
    "yy.shape"
   ]
  },
  {
   "cell_type": "code",
   "execution_count": 67,
   "id": "079da326-e69a-4cd5-a330-f2a03c79b65e",
   "metadata": {},
   "outputs": [
    {
     "data": {
      "text/plain": [
       "(43, 43)"
      ]
     },
     "execution_count": 67,
     "metadata": {},
     "output_type": "execute_result"
    }
   ],
   "source": [
    "f2_ = np.zeros((M2,M1), dtype=np.float64)\n",
    "f2_.shape"
   ]
  },
  {
   "cell_type": "code",
   "execution_count": 66,
   "id": "df0490fc-54f4-4b55-a2f4-25f53054e328",
   "metadata": {},
   "outputs": [
    {
     "ename": "AxisError",
     "evalue": "axis 1 is out of bounds for array of dimension 1",
     "output_type": "error",
     "traceback": [
      "\u001b[1;31m---------------------------------------------------------------------------\u001b[0m",
      "\u001b[1;31mAxisError\u001b[0m                                 Traceback (most recent call last)",
      "Cell \u001b[1;32mIn[66], line 1\u001b[0m\n\u001b[1;32m----> 1\u001b[0m \u001b[43mf2_\u001b[49m\u001b[38;5;241;43m.\u001b[39;49m\u001b[43mtake\u001b[49m\u001b[43m(\u001b[49m\u001b[43mnp\u001b[49m\u001b[38;5;241;43m.\u001b[39;49m\u001b[43mint_\u001b[49m\u001b[43m(\u001b[49m\u001b[43mxx\u001b[49m\u001b[38;5;241;43m-\u001b[39;49m\u001b[38;5;241;43m1\u001b[39;49m\u001b[43m)\u001b[49m\u001b[43m)\u001b[49m\u001b[38;5;241;43m.\u001b[39;49m\u001b[43mtake\u001b[49m\u001b[43m(\u001b[49m\u001b[43mnp\u001b[49m\u001b[38;5;241;43m.\u001b[39;49m\u001b[43mint_\u001b[49m\u001b[43m(\u001b[49m\u001b[43myy\u001b[49m\u001b[38;5;241;43m-\u001b[39;49m\u001b[38;5;241;43m1\u001b[39;49m\u001b[43m)\u001b[49m\u001b[43m,\u001b[49m\u001b[43m \u001b[49m\u001b[43maxis\u001b[49m\u001b[38;5;241;43m=\u001b[39;49m\u001b[38;5;241;43m1\u001b[39;49m\u001b[43m)\u001b[49m\n",
      "\u001b[1;31mAxisError\u001b[0m: axis 1 is out of bounds for array of dimension 1"
     ]
    }
   ],
   "source": [
    "f2_.take(np.int_(xx-1)).take(np.int_(yy-1), axis=1)"
   ]
  },
  {
   "cell_type": "code",
   "execution_count": 229,
   "id": "199422c0-1c91-4e85-a1f7-31dd9ea7967d",
   "metadata": {},
   "outputs": [
    {
     "data": {
      "text/plain": [
       "(27,)"
      ]
     },
     "execution_count": 229,
     "metadata": {},
     "output_type": "execute_result"
    }
   ],
   "source": [
    "f2_.take(np.int_(xx-1)).shape"
   ]
  },
  {
   "cell_type": "code",
   "execution_count": 250,
   "id": "a0f0ee52-1763-41cd-a39a-5555ee3865cb",
   "metadata": {},
   "outputs": [
    {
     "data": {
      "text/plain": [
       "0.02241063185845139"
      ]
     },
     "execution_count": 250,
     "metadata": {},
     "output_type": "execute_result"
    }
   ],
   "source": [
    "gf[34,39]"
   ]
  },
  {
   "cell_type": "code",
   "execution_count": 69,
   "id": "f9589d4b-d046-4cb4-b892-00784b47ed46",
   "metadata": {},
   "outputs": [
    {
     "name": "stdout",
     "output_type": "stream",
     "text": [
      "0 0\n",
      "1 0\n",
      "2 0\n",
      "0 1\n",
      "1 1\n",
      "2 1\n",
      "0 2\n",
      "1 2\n",
      "2 2\n"
     ]
    }
   ],
   "source": [
    "for y in range(0,3):\n",
    "    for x in range(0,3):\n",
    "        print(x,y)"
   ]
  },
  {
   "cell_type": "code",
   "execution_count": 74,
   "id": "f6bb30f9-4317-4bff-b637-38dc9c72556e",
   "metadata": {},
   "outputs": [],
   "source": [
    "\n",
    "for y in range(0,len(yy)):\n",
    "    for x in range(0,len(xx)):\n",
    "        xf2 = xx[x] \n",
    "        yf2 = yy[y] \n",
    "        \n",
    "        f2_[yf2,xf2] = g[y,x]\n",
    "        \n",
    "#         print('index on f2_: ', yf2,xf2)\n",
    "#         print('index on g: ', y,x)\n",
    "#         print('value on g: ', g[y,x])\n",
    "        "
   ]
  },
  {
   "cell_type": "code",
   "execution_count": 75,
   "id": "4914c14a-8ea9-4635-bc7d-b285e6f2e1ab",
   "metadata": {},
   "outputs": [
    {
     "data": {
      "text/plain": [
       "array([[0.08480497, 0.13084111, 0.19203618, ..., 0.01711386, 0.03067066,\n",
       "        0.05228948],\n",
       "       [0.10001757, 0.15431183, 0.22648427, ..., 0.0201838 , 0.03617247,\n",
       "        0.06166934],\n",
       "       [0.11221404, 0.17312912, 0.2541025 , ..., 0.02264508, 0.04058346,\n",
       "        0.0691895 ],\n",
       "       ...,\n",
       "       [0.03831349, 0.05911186, 0.08675878, ..., 0.00773176, 0.0138565 ,\n",
       "        0.02362352],\n",
       "       [0.05248788, 0.08098078, 0.1188559 , ..., 0.01059219, 0.01898283,\n",
       "        0.03236324],\n",
       "       [0.06840411, 0.1055371 , 0.15489734, ..., 0.01380412, 0.02473911,\n",
       "        0.04217695]])"
      ]
     },
     "execution_count": 75,
     "metadata": {},
     "output_type": "execute_result"
    }
   ],
   "source": [
    "f2_"
   ]
  },
  {
   "cell_type": "code",
   "execution_count": 77,
   "id": "1675a08a-4f89-4d68-ad71-7487e3ce71b7",
   "metadata": {},
   "outputs": [],
   "source": [
    "f2 = np.fft.ifftshift( np.fft.ifft2(f2_) )"
   ]
  },
  {
   "cell_type": "code",
   "execution_count": 78,
   "id": "f431bf06-b856-414e-ad2f-871569bdc653",
   "metadata": {},
   "outputs": [
    {
     "data": {
      "text/plain": [
       "array([[-9.99363714e-09+1.36581003e-08j, -1.22633151e-08-1.16630867e-08j,\n",
       "        -8.82365598e-09+2.91939670e-08j, ...,\n",
       "        -2.06708748e-09-2.40487311e-08j,  9.25376466e-09+1.64636576e-09j,\n",
       "        -1.38749170e-08-2.71593684e-08j],\n",
       "       [-1.22633151e-08+1.16630867e-08j, -9.99363714e-09-1.36581003e-08j,\n",
       "        -1.38749170e-08+2.71593684e-08j, ...,\n",
       "         2.24274265e-09-2.40329862e-08j,  8.81345733e-09+3.26583075e-09j,\n",
       "        -8.82365598e-09-2.91939670e-08j],\n",
       "       [ 3.04000794e-08+1.43021780e-09j, -5.31801586e-09+2.99654644e-08j,\n",
       "         5.25359094e-08-1.57438617e-08j, ...,\n",
       "        -3.40110382e-08+2.69685144e-08j, -6.71568698e-09-1.55106768e-08j,\n",
       "        -2.69561696e-08+4.77624945e-08j],\n",
       "       ...,\n",
       "       [ 2.25728775e-08+8.44811162e-09j, -1.12738854e-08+2.13026969e-08j,\n",
       "         4.34252691e-08+8.66358731e-10j, ...,\n",
       "        -3.21799380e-08+1.20872133e-08j, -1.30295422e-09-1.33220695e-08j,\n",
       "        -3.19020834e-08+2.94747630e-08j],\n",
       "       [ 8.72520663e-09+3.67190854e-09j, -4.76081131e-09+8.18210356e-09j,\n",
       "         1.70283700e-08+1.02579767e-09j, ...,\n",
       "        -1.28197612e-08+4.23536687e-09j, -3.00948063e-10-5.24876349e-09j,\n",
       "        -1.29853134e-08+1.10634208e-08j],\n",
       "       [-5.31801586e-09-2.99654644e-08j,  3.04000794e-08-1.43021780e-09j,\n",
       "        -2.69561696e-08-4.77624945e-08j, ...,\n",
       "         3.38130869e-08+2.72162937e-08j, -1.36448370e-08+9.97496714e-09j,\n",
       "         5.25359094e-08+1.57438617e-08j]])"
      ]
     },
     "execution_count": 78,
     "metadata": {},
     "output_type": "execute_result"
    }
   ],
   "source": [
    "f2"
   ]
  },
  {
   "cell_type": "code",
   "execution_count": 88,
   "id": "29e6d4ad-97d6-455a-a01d-b69732e8a34e",
   "metadata": {},
   "outputs": [
    {
     "data": {
      "text/plain": [
       "Text(0.5, 1.0, '(43, 43)')"
      ]
     },
     "execution_count": 88,
     "metadata": {},
     "output_type": "execute_result"
    },
    {
     "data": {
      "image/png": "[encoded data removed]",
      "text/plain": [
       "<Figure size 1500x1000 with 3 Axes>"
      ]
     },
     "metadata": {},
     "output_type": "display_data"
    }
   ],
   "source": [
    "plt.figure(figsize=(15,10))\n",
    "  \n",
    "ax1 = plt.subplot(1,3,1)\n",
    "ax1.imshow((f2_),cmap='Greys_r')\n",
    "ax1.axis(\"off\") \n",
    "label = str((f2_).shape)\n",
    "ax1.set_title(label)\n",
    "\n",
    "ax2 = plt.subplot(1,3,2)\n",
    "ax2.imshow(np.real(f2),cmap='Greys_r')\n",
    "ax2.axis(\"off\") \n",
    "label = str(np.real(f2).shape)\n",
    "ax2.set_title(label)\n",
    "\n",
    "ax3 = plt.subplot(1,3,3)\n",
    "ax3.imshow(np.imag(f2),cmap='Greys_r')\n",
    "ax3.axis(\"off\") \n",
    "label = str(np.imag(f2).shape)\n",
    "ax3.set_title(label)\n",
    "    \n"
   ]
  },
  {
   "cell_type": "code",
   "execution_count": 89,
   "id": "6f512b0f-b91f-4877-b72b-917a0116fd9f",
   "metadata": {},
   "outputs": [
    {
     "data": {
      "text/plain": [
       "array([[-9.99363714e-09, -1.22633151e-08, -8.82365598e-09, ...,\n",
       "        -2.06708748e-09,  9.25376466e-09, -1.38749170e-08],\n",
       "       [-1.22633151e-08, -9.99363714e-09, -1.38749170e-08, ...,\n",
       "         2.24274265e-09,  8.81345733e-09, -8.82365598e-09],\n",
       "       [ 3.04000794e-08, -5.31801586e-09,  5.25359094e-08, ...,\n",
       "        -3.40110382e-08, -6.71568698e-09, -2.69561696e-08],\n",
       "       ...,\n",
       "       [ 2.25728775e-08, -1.12738854e-08,  4.34252691e-08, ...,\n",
       "        -3.21799380e-08, -1.30295422e-09, -3.19020834e-08],\n",
       "       [ 8.72520663e-09, -4.76081131e-09,  1.70283700e-08, ...,\n",
       "        -1.28197612e-08, -3.00948063e-10, -1.29853134e-08],\n",
       "       [-5.31801586e-09,  3.04000794e-08, -2.69561696e-08, ...,\n",
       "         3.38130869e-08, -1.36448370e-08,  5.25359094e-08]])"
      ]
     },
     "execution_count": 89,
     "metadata": {},
     "output_type": "execute_result"
    }
   ],
   "source": [
    "np.real(f2)"
   ]
  },
  {
   "cell_type": "code",
   "execution_count": 90,
   "id": "756140e0-f8fa-4d1a-b347-7cf61080d0a7",
   "metadata": {},
   "outputs": [
    {
     "data": {
      "text/plain": [
       "array([[ 1.36581003e-08, -1.16630867e-08,  2.91939670e-08, ...,\n",
       "        -2.40487311e-08,  1.64636576e-09, -2.71593684e-08],\n",
       "       [ 1.16630867e-08, -1.36581003e-08,  2.71593684e-08, ...,\n",
       "        -2.40329862e-08,  3.26583075e-09, -2.91939670e-08],\n",
       "       [ 1.43021780e-09,  2.99654644e-08, -1.57438617e-08, ...,\n",
       "         2.69685144e-08, -1.55106768e-08,  4.77624945e-08],\n",
       "       ...,\n",
       "       [ 8.44811162e-09,  2.13026969e-08,  8.66358731e-10, ...,\n",
       "         1.20872133e-08, -1.33220695e-08,  2.94747630e-08],\n",
       "       [ 3.67190854e-09,  8.18210356e-09,  1.02579767e-09, ...,\n",
       "         4.23536687e-09, -5.24876349e-09,  1.10634208e-08],\n",
       "       [-2.99654644e-08, -1.43021780e-09, -4.77624945e-08, ...,\n",
       "         2.72162937e-08,  9.97496714e-09,  1.57438617e-08]])"
      ]
     },
     "execution_count": 90,
     "metadata": {},
     "output_type": "execute_result"
    }
   ],
   "source": [
    "np.imag(f2)"
   ]
  },
  {
   "cell_type": "code",
   "execution_count": 97,
   "id": "709f749a-af5d-4298-bb97-e357a1a43697",
   "metadata": {},
   "outputs": [
    {
     "data": {
      "text/plain": [
       "(-0.5, 183.5, 183.5, -0.5)"
      ]
     },
     "execution_count": 97,
     "metadata": {},
     "output_type": "execute_result"
    },
    {
     "data": {
      "image/png": "[encoded data removed]",
      "text/plain": [
       "<Figure size 500x200 with 1 Axes>"
      ]
     },
     "metadata": {},
     "output_type": "display_data"
    }
   ],
   "source": [
    "img = io.imread(dfFoldTraining_1[\"filenames\"][10000])\n",
    "\n",
    "plt.figure(figsize=(5,2))\n",
    "\n",
    "plt.imshow(img,cmap='Greys_r')\n",
    "\n",
    "plt.axis(\"off\") "
   ]
  },
  {
   "cell_type": "code",
   "execution_count": 99,
   "id": "456a3518-e3b6-4890-ad4e-ce08936dcf20",
   "metadata": {},
   "outputs": [],
   "source": [
    "filtered = ndi.convolve(img, f2, mode='wrap')"
   ]
  },
  {
   "cell_type": "code",
   "execution_count": 107,
   "id": "1a8e501a-684b-4cdc-9d60-65c80ce25a41",
   "metadata": {},
   "outputs": [],
   "source": [
    "def power(image, kernel):\n",
    "    # Normalize images for better comparison.\n",
    "    image = (image - image.mean()) / image.std()\n",
    "    return np.sqrt(ndi.convolve(image, np.real(kernel), mode='wrap')**2 +\n",
    "                   ndi.convolve(image, np.imag(kernel), mode='wrap')**2)"
   ]
  },
  {
   "cell_type": "code",
   "execution_count": null,
   "id": "f7d55dd2-37f2-41b1-a06a-b263bdcce722",
   "metadata": {},
   "outputs": [],
   "source": []
  },
  {
   "cell_type": "code",
   "execution_count": 108,
   "id": "48a9f2c5-d8b4-4134-97a7-b13089c09763",
   "metadata": {},
   "outputs": [
    {
     "data": {
      "text/plain": [
       "Text(0.5, 1.0, '(184, 184)')"
      ]
     },
     "execution_count": 108,
     "metadata": {},
     "output_type": "execute_result"
    },
    {
     "data": {
      "image/png": "[encoded data removed]",
      "text/plain": [
       "<Figure size 1500x1000 with 3 Axes>"
      ]
     },
     "metadata": {},
     "output_type": "display_data"
    }
   ],
   "source": [
    "plt.figure(figsize=(15,10))\n",
    "  \n",
    "ax1 = plt.subplot(1,3,1)\n",
    "ax1.imshow(power(img, f2),cmap='Greys_r')\n",
    "ax1.axis(\"off\") \n",
    "ax1.set_title('Gabor responses in contrast normalization')\n",
    "\n",
    "ax2 = plt.subplot(1,3,2)\n",
    "ax2.imshow(np.real(filtered),cmap='Greys_r')\n",
    "ax2.axis(\"off\") \n",
    "label = str(np.real(filtered).shape)\n",
    "ax2.set_title(label)\n",
    "\n",
    "ax3 = plt.subplot(1,3,3)\n",
    "ax3.imshow(np.imag(filtered),cmap='Greys_r')\n",
    "ax3.axis(\"off\") \n",
    "label = str(np.imag(filtered).shape)\n",
    "ax3.set_title(label)"
   ]
  },
  {
   "cell_type": "code",
   "execution_count": null,
   "id": "e8ef6445-1a4b-4250-b3d4-c041ab8c563f",
   "metadata": {},
   "outputs": [],
   "source": []
  },
  {
   "cell_type": "code",
   "execution_count": 245,
   "id": "31e22cff-dac0-4104-8c34-2529c4306e7e",
   "metadata": {},
   "outputs": [
    {
     "data": {
      "text/plain": [
       "(2, 27)"
      ]
     },
     "execution_count": 245,
     "metadata": {},
     "output_type": "execute_result"
    }
   ],
   "source": [
    "f3_ =np.take(f2_,[np.int_(yy-1), np.int_(xx-1)])\n",
    "f3_.shape"
   ]
  },
  {
   "cell_type": "code",
   "execution_count": 44,
   "id": "8b907357-725f-46cb-9b19-c2b3b98eafd3",
   "metadata": {},
   "outputs": [
    {
     "data": {
      "text/plain": [
       "numpy.float64"
      ]
     },
     "execution_count": 44,
     "metadata": {},
     "output_type": "execute_result"
    }
   ],
   "source": [
    "type(g[0,0])"
   ]
  },
  {
   "cell_type": "code",
   "execution_count": 48,
   "id": "cb96cfdb-066a-4fbd-89e3-762d7e9dd75a",
   "metadata": {},
   "outputs": [],
   "source": [
    "f3_=g"
   ]
  },
  {
   "cell_type": "code",
   "execution_count": 49,
   "id": "636a0637-7dd7-4b6f-9761-4f37a8e6791d",
   "metadata": {},
   "outputs": [
    {
     "data": {
      "text/plain": [
       "array([[2.17574981e-04, 4.09890913e-04, 7.34587479e-04, 1.25237575e-03,\n",
       "        2.03114848e-03, 3.13375175e-03, 4.59942354e-03, 6.42181978e-03,\n",
       "        8.52960104e-03, 1.07774302e-02, 1.29544093e-02, 1.48127573e-02,\n",
       "        1.61127658e-02, 1.66732467e-02, 1.64129314e-02, 1.53697934e-02,\n",
       "        1.36919656e-02, 1.16032450e-02, 9.35425111e-03, 7.17388616e-03,\n",
       "        5.23378445e-03, 3.63239509e-03, 2.39820455e-03, 1.50624376e-03,\n",
       "        8.99953758e-04, 5.11518122e-04, 2.76578075e-04],\n",
       "       [4.02180387e-04, 7.57670231e-04, 1.35786144e-03, 2.31497648e-03,\n",
       "        3.75451294e-03, 5.79263980e-03, 8.50188718e-03, 1.18705283e-02,\n",
       "        1.57666945e-02, 1.99217347e-02, 2.39458109e-02, 2.73809077e-02,\n",
       "        2.97839317e-02, 3.08199628e-02, 3.03387784e-02, 2.84105711e-02,\n",
       "        2.53091601e-02, 2.14482270e-02, 1.72910337e-02, 1.32606989e-02,\n",
       "        9.67448301e-03, 6.71436604e-03, 4.43300434e-03, 2.78424337e-03,\n",
       "        1.66353571e-03, 9.45524874e-04, 5.11245718e-04],\n",
       "       [7.07210528e-04, 1.33231848e-03, 2.38771938e-03, 4.07074982e-03,\n",
       "        6.60208992e-03, 1.01860160e-02, 1.49500680e-02, 2.08736250e-02,\n",
       "        2.77248038e-02, 3.50311974e-02, 4.21072985e-02, 4.81477138e-02,\n",
       "        5.23732901e-02, 5.41950898e-02, 5.33489552e-02, 4.99583162e-02,\n",
       "        4.45046676e-02, 3.77154442e-02, 3.04052646e-02, 2.33181582e-02,\n",
       "        1.70120087e-02, 1.18068173e-02, 7.79517709e-03, 4.89592802e-03,\n",
       "        2.92522959e-03, 1.66264981e-03, 8.98995490e-04],\n",
       "       [1.18302097e-03, 2.22870085e-03, 3.99417428e-03, 6.80954568e-03,\n",
       "        1.10439685e-02, 1.70391560e-02, 2.50084567e-02, 3.49173762e-02,\n",
       "        4.63780204e-02, 5.86001473e-02, 7.04370410e-02, 8.05414410e-02,\n",
       "        8.76099803e-02, 9.06574847e-02, 8.92420717e-02, 8.35702147e-02,\n",
       "        7.44473575e-02, 6.30903523e-02, 5.08618922e-02, 3.90065885e-02,\n",
       "        2.84576688e-02, 1.97504306e-02, 1.30397634e-02, 8.18990284e-03,\n",
       "        4.89332074e-03, 2.78127872e-03, 1.50383863e-03],\n",
       "       [1.88257403e-03, 3.54659338e-03, 6.35604013e-03, 1.08362186e-02,\n",
       "        1.75745730e-02, 2.71148808e-02, 3.97966498e-02, 5.55649877e-02,\n",
       "        7.38026282e-02, 9.32520372e-02, 1.12088414e-01, 1.28167825e-01,\n",
       "        1.39416188e-01, 1.44265766e-01, 1.42013380e-01, 1.32987597e-01,\n",
       "        1.18470142e-01, 1.00397425e-01, 8.09379375e-02, 6.20722645e-02,\n",
       "        4.52854765e-02, 3.14294071e-02, 2.07505366e-02, 1.30328192e-02,\n",
       "        7.78687681e-03, 4.42592585e-03, 2.39310007e-03],\n",
       "       [2.84988660e-03, 5.36891979e-03, 9.62192898e-03, 1.64041327e-02,\n",
       "        2.66048183e-02, 4.10471696e-02, 6.02451416e-02, 8.41156371e-02,\n",
       "        1.11724223e-01, 1.41167214e-01, 1.69682182e-01, 1.94023588e-01,\n",
       "        2.11051634e-01, 2.18393044e-01, 2.14983328e-01, 2.01319876e-01,\n",
       "        1.79342997e-01, 1.51984077e-01, 1.22525829e-01, 9.39665119e-02,\n",
       "        6.85542616e-02, 4.75786051e-02, 3.14126697e-02, 1.97294004e-02,\n",
       "        1.17879645e-02, 6.70007478e-03, 3.62273340e-03],\n",
       "       [4.10410999e-03, 7.73175933e-03, 1.38565004e-02, 2.36235242e-02,\n",
       "        3.83134896e-02, 5.91118603e-02, 8.67587809e-02, 1.21134584e-01,\n",
       "        1.60893595e-01, 2.03294325e-01, 2.44358614e-01, 2.79412573e-01,\n",
       "        3.03934592e-01, 3.14506926e-01, 3.09596607e-01, 2.89919927e-01,\n",
       "        2.58271114e-01, 2.18871644e-01, 1.76448943e-01, 1.35320788e-01,\n",
       "        9.87247106e-02, 6.85177537e-02, 4.52372566e-02, 2.84122285e-02,\n",
       "        1.69757993e-02, 9.64875017e-03, 5.21708349e-03],\n",
       "       [5.62245902e-03, 1.05921869e-02, 1.89828260e-02, 3.23632400e-02,\n",
       "        5.24878781e-02, 8.09807761e-02, 1.18855901e-01, 1.65949313e-01,\n",
       "        2.20417495e-01, 2.78504722e-01, 3.34761079e-01, 3.82783537e-01,\n",
       "        4.16377678e-01, 4.30861334e-01, 4.24134402e-01, 3.97178173e-01,\n",
       "        3.53820623e-01, 2.99844998e-01, 2.41727672e-01, 1.85383819e-01,\n",
       "        1.35248724e-01, 9.38664566e-02, 6.19731494e-02, 3.89235646e-02,\n",
       "        2.32561350e-02, 1.32183841e-02, 7.14718616e-03],\n",
       "       [7.32739327e-03, 1.38041235e-02, 2.47391099e-02, 4.21769525e-02,\n",
       "        6.84041135e-02, 1.05537095e-01, 1.54897337e-01, 2.16271185e-01,\n",
       "        2.87256104e-01, 3.62957493e-01, 4.36272825e-01, 4.98857441e-01,\n",
       "        5.42638547e-01, 5.61514175e-01, 5.52747393e-01, 5.17617054e-01,\n",
       "        4.61111917e-01, 3.90768917e-01, 3.15028302e-01, 2.41598942e-01,\n",
       "        1.76261061e-01, 1.22330183e-01, 8.07656644e-02, 5.07266063e-02,\n",
       "        3.03082417e-02, 1.72266794e-02, 9.31447319e-03],\n",
       "       [9.08424001e-03, 1.71138585e-02, 3.06706632e-02, 5.22894766e-02,\n",
       "        8.48049725e-02, 1.30841115e-01, 1.92036176e-01, 2.68125278e-01,\n",
       "        3.56129840e-01, 4.49981713e-01, 5.40875439e-01, 6.18465606e-01,\n",
       "        6.72743856e-01, 6.96145184e-01, 6.85276440e-01, 6.41723103e-01,\n",
       "        5.71670056e-01, 4.84461322e-01, 3.90560817e-01, 2.99525724e-01,\n",
       "        2.18522157e-01, 1.51660584e-01, 1.00130381e-01, 6.28890315e-02,\n",
       "        3.75750737e-02, 2.13570208e-02, 1.15477506e-02],\n",
       "       [1.07138015e-02, 2.01837998e-02, 3.61724697e-02, 6.16693383e-02,\n",
       "        1.00017573e-01, 1.54311833e-01, 2.26484270e-01, 3.16222489e-01,\n",
       "        4.20013605e-01, 5.30700942e-01, 6.37899490e-01, 7.29408041e-01,\n",
       "        7.93422905e-01, 8.21022042e-01, 8.08203627e-01, 7.56837546e-01,\n",
       "        6.74218148e-01, 5.71365619e-01, 4.60620926e-01, 3.53255653e-01,\n",
       "        2.57721394e-01, 1.78865969e-01, 1.18092105e-01, 7.41702770e-02,\n",
       "        4.43154164e-02, 2.51881148e-02, 1.36192248e-02],\n",
       "       [1.20202772e-02, 2.26450779e-02, 4.05834582e-02, 6.91894978e-02,\n",
       "        1.12214041e-01, 1.73129119e-01, 2.54102497e-01, 3.54783687e-01,\n",
       "        4.71231429e-01, 5.95416339e-01, 7.15687026e-01, 8.18354427e-01,\n",
       "        8.90175472e-01, 9.21140137e-01, 9.06758603e-01, 8.49128775e-01,\n",
       "        7.56434500e-01, 6.41039798e-01, 5.16790538e-01, 3.96332795e-01,\n",
       "        2.89148778e-01, 2.00677466e-01, 1.32492639e-01, 8.32148415e-02,\n",
       "        4.97193823e-02, 2.82596354e-02, 1.52799973e-02],\n",
       "       [1.28292500e-02, 2.41691070e-02, 4.33147524e-02, 7.38459979e-02,\n",
       "        1.19766122e-01, 1.84780826e-01, 2.71203768e-01, 3.78660870e-01,\n",
       "        5.02945623e-01, 6.35488262e-01, 7.63853248e-01, 8.73430235e-01,\n",
       "        9.50084884e-01, 9.83133492e-01, 9.67784071e-01, 9.06275717e-01,\n",
       "        8.07343054e-01, 6.84182211e-01, 5.51570892e-01, 4.23006261e-01,\n",
       "        3.08608687e-01, 2.14183196e-01, 1.41409484e-01, 8.88152567e-02,\n",
       "        5.30655304e-02, 3.01615280e-02, 1.63083515e-02],\n",
       "       [1.30257863e-02, 2.45393630e-02, 4.39783080e-02, 7.49772736e-02,\n",
       "        1.21600866e-01, 1.87611556e-01, 2.75358444e-01, 3.84461724e-01,\n",
       "        5.10650444e-01, 6.45223556e-01, 7.75555015e-01, 8.86810654e-01,\n",
       "        9.64639606e-01, 9.98194499e-01, 9.82609934e-01, 9.20159310e-01,\n",
       "        8.19711058e-01, 6.94663466e-01, 5.60020622e-01, 4.29486459e-01,\n",
       "        3.13336384e-01, 2.17464352e-01, 1.43575791e-01, 9.01758524e-02,\n",
       "        5.38784620e-02, 3.06235842e-02, 1.65581855e-02],\n",
       "       [1.25812133e-02, 2.37018291e-02, 4.24773185e-02, 7.24182824e-02,\n",
       "        1.17450601e-01, 1.81208331e-01, 2.65960399e-01, 3.71339959e-01,\n",
       "        4.93221830e-01, 6.23201931e-01, 7.49085148e-01, 8.56543608e-01,\n",
       "        9.31716240e-01, 9.64125897e-01, 9.49073237e-01, 8.88754066e-01,\n",
       "        7.91734136e-01, 6.70954446e-01, 5.40906993e-01, 4.14827990e-01,\n",
       "        3.02642143e-01, 2.10042245e-01, 1.38675517e-01, 8.70981303e-02,\n",
       "        5.20395780e-02, 2.95783944e-02, 1.59930510e-02],\n",
       "       [1.15599777e-02, 2.17779167e-02, 3.90293721e-02, 6.65399840e-02,\n",
       "        1.07916963e-01, 1.66499385e-01, 2.44372002e-01, 3.41197748e-01,\n",
       "        4.53186289e-01, 5.72615714e-01, 6.88280806e-01, 7.87016704e-01,\n",
       "        8.56087464e-01, 8.85866381e-01, 8.72035567e-01, 8.16612592e-01,\n",
       "        7.27467912e-01, 6.16492088e-01, 4.97000777e-01, 3.81155792e-01,\n",
       "        2.78076236e-01, 1.92992807e-01, 1.27419022e-01, 8.00282470e-02,\n",
       "        4.78154490e-02, 2.71774727e-02, 1.46948715e-02],\n",
       "       [1.01043263e-02, 1.90356057e-02, 3.41147295e-02, 5.81611600e-02,\n",
       "        9.43278818e-02, 1.45533509e-01, 2.13600278e-01, 2.98233568e-01,\n",
       "        3.96120327e-01, 5.00511003e-01, 6.01611356e-01, 6.87914268e-01,\n",
       "        7.48287525e-01, 7.74316631e-01, 7.62227417e-01, 7.13783394e-01,\n",
       "        6.35863958e-01, 5.38862392e-01, 4.34417623e-01, 3.33160029e-01,\n",
       "        2.43060419e-01, 1.68690836e-01, 1.11374209e-01, 6.99509588e-02,\n",
       "        4.17944491e-02, 2.37552407e-02, 1.28444692e-02],\n",
       "       [8.40182492e-03, 1.58282523e-02, 2.83666595e-02, 4.83614510e-02,\n",
       "        7.84343578e-02, 1.21012230e-01, 1.77610271e-01, 2.47983501e-01,\n",
       "        3.29377093e-01, 4.16178741e-01, 5.00244461e-01, 5.72005995e-01,\n",
       "        6.22206821e-01, 6.43850223e-01, 6.33797948e-01, 5.93516371e-01,\n",
       "        5.28725763e-01, 4.48068215e-01, 3.61221588e-01, 2.77025122e-01,\n",
       "        2.02106605e-01, 1.40267725e-01, 9.26085098e-02, 5.81647592e-02,\n",
       "        3.47524053e-02, 1.97526650e-02, 1.06802747e-02],\n",
       "       [6.64593036e-03, 1.25203112e-02, 2.24383208e-02, 3.82544076e-02,\n",
       "        6.20423878e-02, 9.57219246e-02, 1.40491560e-01, 1.96157512e-01,\n",
       "        2.60540685e-01, 3.29201686e-01, 3.95698539e-01, 4.52462654e-01,\n",
       "        4.92172026e-01, 5.09292181e-01, 5.01340728e-01, 4.69477584e-01,\n",
       "        4.18227543e-01, 3.54426590e-01, 2.85730010e-01, 2.19129735e-01,\n",
       "        1.59868413e-01, 1.10953220e-01, 7.32542885e-02, 4.60089257e-02,\n",
       "        2.74895118e-02, 1.56245622e-02, 8.44820768e-03],\n",
       "       [5.00096529e-03, 9.42135083e-03, 1.68845079e-02, 2.87858816e-02,\n",
       "        4.66859884e-02, 7.20293468e-02, 1.05717842e-01, 1.47605656e-01,\n",
       "        1.96053051e-01, 2.47719449e-01, 2.97757357e-01, 3.40471523e-01,\n",
       "        3.70352244e-01, 3.83234910e-01, 3.77251557e-01, 3.53275008e-01,\n",
       "        3.14710103e-01, 2.66700819e-01, 2.15007649e-01, 1.64891917e-01,\n",
       "        1.20298640e-01, 8.34906737e-02, 5.51227795e-02, 3.46210430e-02,\n",
       "        2.06854551e-02, 1.17572543e-02, 6.35715258e-03],\n",
       "       [3.57987440e-03, 6.74414852e-03, 1.20865501e-02, 2.06059900e-02,\n",
       "        3.34195430e-02, 5.15612486e-02, 7.56767094e-02, 1.05661543e-01,\n",
       "        1.40341965e-01, 1.77326668e-01, 2.13145639e-01, 2.43722005e-01,\n",
       "        2.65111721e-01, 2.74333606e-01, 2.70050503e-01, 2.52887210e-01,\n",
       "        2.25281036e-01, 1.90914230e-01, 1.53910362e-01, 1.18035683e-01,\n",
       "        8.61141795e-02, 5.97656869e-02, 3.94589076e-02, 2.47830125e-02,\n",
       "        1.48074076e-02, 8.41627389e-03, 4.55068302e-03],\n",
       "       [2.43779754e-03, 4.59258255e-03, 8.23061339e-03, 1.40321213e-02,\n",
       "        2.27578040e-02, 3.51118143e-02, 5.15337902e-02, 7.19526501e-02,\n",
       "        9.55690787e-02, 1.20754660e-01, 1.45146409e-01, 1.65968087e-01,\n",
       "        1.80533904e-01, 1.86813758e-01, 1.83897081e-01, 1.72209343e-01,\n",
       "        1.53410286e-01, 1.30007421e-01, 1.04808790e-01, 8.03791041e-02,\n",
       "        5.86414247e-02, 4.06988146e-02, 2.68704478e-02, 1.68765605e-02,\n",
       "        1.00834437e-02, 5.73125465e-03, 3.09889192e-03],\n",
       "       [1.57922269e-03, 2.97510783e-03, 5.33185025e-03, 9.09010857e-03,\n",
       "        1.47426683e-02, 2.27456845e-02, 3.33839580e-02, 4.66114416e-02,\n",
       "        6.19103330e-02, 7.82257329e-02, 9.40268824e-02, 1.07515314e-01,\n",
       "        1.16951155e-01, 1.21019289e-01, 1.19129845e-01, 1.11558445e-01,\n",
       "        9.93802810e-02, 8.42197379e-02, 6.78958838e-02, 5.20701588e-02,\n",
       "        3.79883345e-02, 2.63649833e-02, 1.74068683e-02, 1.09327567e-02,\n",
       "        6.53212695e-03, 3.71274777e-03, 2.00748436e-03],\n",
       "       [9.73206524e-04, 1.83343006e-03, 3.28578831e-03, 5.60184008e-03,\n",
       "        9.08526772e-03, 1.40171799e-02, 2.05730870e-02, 2.87246120e-02,\n",
       "        3.81526560e-02, 4.82071300e-02, 5.79446939e-02, 6.62570300e-02,\n",
       "        7.20719300e-02, 7.45789449e-02, 7.34145622e-02, 6.87486362e-02,\n",
       "        6.12437615e-02, 5.19009756e-02, 4.18412916e-02, 3.20885829e-02,\n",
       "        2.34105647e-02, 1.62475970e-02, 1.07270988e-02, 6.73738428e-03,\n",
       "        4.02546683e-03, 2.28800560e-03, 1.23712564e-03],\n",
       "       [5.70535331e-04, 1.07483520e-03, 1.92626978e-03, 3.28403849e-03,\n",
       "        5.32617291e-03, 8.21747099e-03, 1.20608244e-02, 1.68395974e-02,\n",
       "        2.23667204e-02, 2.82610835e-02, 3.39696604e-02, 3.88427077e-02,\n",
       "        4.22516510e-02, 4.37213705e-02, 4.30387595e-02, 4.03033939e-02,\n",
       "        3.59037150e-02, 3.04265740e-02, 2.45291565e-02, 1.88117011e-02,\n",
       "        1.37242753e-02, 9.52503695e-03, 6.28868458e-03, 3.94974311e-03,\n",
       "        2.35990100e-03, 1.34132684e-03, 7.25256015e-04],\n",
       "       [3.18182266e-04, 5.99425628e-04, 1.07426280e-03, 1.83147783e-03,\n",
       "        2.97035727e-03, 4.58280742e-03, 6.72620998e-03, 9.39128738e-03,\n",
       "        1.24737127e-02, 1.57609444e-02, 1.89445648e-02, 2.16622181e-02,\n",
       "        2.35633542e-02, 2.43830031e-02, 2.40023173e-02, 2.24768292e-02,\n",
       "        2.00231691e-02, 1.69686183e-02, 1.36796832e-02, 1.04911114e-02,\n",
       "        7.65390116e-03, 5.31202483e-03, 3.50714111e-03, 2.20273513e-03,\n",
       "        1.31609492e-03, 7.48045546e-04, 4.04468558e-04],\n",
       "       [1.68804995e-04, 3.18012822e-04, 5.69927827e-04, 9.71652537e-04,\n",
       "        1.57586138e-03, 2.43131332e-03, 3.56845105e-03, 4.98235253e-03,\n",
       "        6.61766927e-03, 8.36164180e-03, 1.00506455e-02, 1.14924400e-02,\n",
       "        1.25010483e-02, 1.29358960e-02, 1.27339311e-02, 1.19246151e-02,\n",
       "        1.06228767e-02, 9.00234814e-03, 7.25747192e-03, 5.56584132e-03,\n",
       "        4.06061835e-03, 2.81818449e-03, 1.86064090e-03, 1.16861539e-03,\n",
       "        6.98226833e-04, 3.96860033e-04, 2.14582396e-04]])"
      ]
     },
     "execution_count": 49,
     "metadata": {},
     "output_type": "execute_result"
    }
   ],
   "source": [
    "f3_"
   ]
  },
  {
   "cell_type": "code",
   "execution_count": 184,
   "id": "55135f5c-b5b2-4c83-a50d-2a3bbcc78fd1",
   "metadata": {},
   "outputs": [
    {
     "ename": "TypeError",
     "evalue": "only integer scalar arrays can be converted to a scalar index",
     "output_type": "error",
     "traceback": [
      "\u001b[0;31m---------------------------------------------------------------------------\u001b[0m",
      "\u001b[0;31mTypeError\u001b[0m                                 Traceback (most recent call last)",
      "Cell \u001b[0;32mIn[184], line 1\u001b[0m\n\u001b[0;32m----> 1\u001b[0m \u001b[43mf2_\u001b[49m\u001b[43m[\u001b[49m\u001b[43mxx\u001b[49m\u001b[43m:\u001b[49m\u001b[43m]\u001b[49m\n",
      "\u001b[0;31mTypeError\u001b[0m: only integer scalar arrays can be converted to a scalar index"
     ]
    }
   ],
   "source": [
    "f2_[xx:]"
   ]
  },
  {
   "cell_type": "code",
   "execution_count": 204,
   "id": "fd4131e8-178e-4c1a-975c-a299df74e0bb",
   "metadata": {},
   "outputs": [],
   "source": [
    "a = np.array([[ 11, 12, 13, 14 ],\n",
    "[ 21, 22, 23, 24 ],\n",
    "[ 31, 32, 33, 34 ]])\n",
    "\n"
   ]
  },
  {
   "cell_type": "code",
   "execution_count": 206,
   "id": "e2aa60f2-388b-43ed-9bf3-657b2cc748af",
   "metadata": {},
   "outputs": [
    {
     "data": {
      "text/plain": [
       "array([[11, 12],\n",
       "       [13, 14]])"
      ]
     },
     "execution_count": 206,
     "metadata": {},
     "output_type": "execute_result"
    }
   ],
   "source": [
    "np.take(a, [[0, 1], [2, 3]])"
   ]
  },
  {
   "cell_type": "code",
   "execution_count": null,
   "id": "741f4621-e823-45f1-9598-72b49fa45290",
   "metadata": {},
   "outputs": [],
   "source": []
  },
  {
   "cell_type": "code",
   "execution_count": null,
   "id": "e4a521d9-5796-4254-9fef-c4588a6dfd51",
   "metadata": {},
   "outputs": [],
   "source": []
  },
  {
   "cell_type": "code",
   "execution_count": null,
   "id": "f5912e8d-9b26-4480-b611-5357355163d1",
   "metadata": {},
   "outputs": [],
   "source": [
    "def displaySpatialGaborFilters(fu, theta, gf, envelope, fhigh, m, n):\n",
    "    M1 = n;\n",
    "    M2 = m;\n",
    "    \n",
    "    lx = envelope[1] - envelope[0];\n",
    "    ly = envelope[3] - envelope[2];\n",
    "    \n",
    "    # coordinates for the filter area\n",
    "    xx = np.mod( np.arange(0,lx + 1) + envelope[0] + M1 , M1 ) + 1;\n",
    "    yy = np.mod( np.arange(0,ly + 1) + envelope[2] + M2 , M2 ) + 1;"
   ]
  },
  {
   "cell_type": "code",
   "execution_count": 10,
   "id": "f259fbf7-ec67-4371-85d4-f4b80faf6287",
   "metadata": {},
   "outputs": [
    {
     "ename": "NameError",
     "evalue": "name 'createSetOfGarborFilters' is not defined",
     "output_type": "error",
     "traceback": [
      "\u001b[1;31m---------------------------------------------------------------------------\u001b[0m",
      "\u001b[1;31mNameError\u001b[0m                                 Traceback (most recent call last)",
      "Cell \u001b[1;32mIn[10], line 1\u001b[0m\n\u001b[1;32m----> 1\u001b[0m garray \u001b[38;5;241m=\u001b[39m \u001b[43mcreateSetOfGarborFilters\u001b[49m(m\u001b[38;5;241m=\u001b[39m\u001b[38;5;241m43\u001b[39m, n\u001b[38;5;241m=\u001b[39m\u001b[38;5;241m43\u001b[39m)\n",
      "\u001b[1;31mNameError\u001b[0m: name 'createSetOfGarborFilters' is not defined"
     ]
    }
   ],
   "source": [
    "garray = createSetOfGarborFilters(m=43, n=43)"
   ]
  },
  {
   "cell_type": "code",
   "execution_count": 12,
   "id": "ceacfd9b-d823-4dfc-8c7a-f06a8c0bf619",
   "metadata": {},
   "outputs": [
    {
     "data": {
      "text/plain": [
       "'(37, 37)'"
      ]
     },
     "execution_count": 12,
     "metadata": {},
     "output_type": "execute_result"
    }
   ],
   "source": [
    "str(garray[0].shape)"
   ]
  },
  {
   "cell_type": "code",
   "execution_count": 13,
   "id": "776c4f50-ff7c-4a2e-b33a-3e55aa47f80e",
   "metadata": {},
   "outputs": [
    {
     "data": {
      "text/plain": [
       "<Figure size 1500x1000 with 0 Axes>"
      ]
     },
     "execution_count": 13,
     "metadata": {},
     "output_type": "execute_result"
    },
    {
     "data": {
      "image/png": "[encoded data removed]",
      "text/plain": [
       "<Figure size 1500x1000 with 48 Axes>"
      ]
     },
     "metadata": {},
     "output_type": "display_data"
    },
    {
     "data": {
      "text/plain": [
       "<Figure size 1500x1000 with 0 Axes>"
      ]
     },
     "metadata": {},
     "output_type": "display_data"
    }
   ],
   "source": [
    "plt.figure(figsize=(15,10))\n",
    "for i in range(48):    \n",
    "    ax = plt.subplot(6,8,i+1)\n",
    "    # ax.set_title(label)\n",
    "    plt.imshow((garray[i]),cmap='Greys_r')\n",
    "    label = str(garray[0].shape)\n",
    "    ax.set_title(label)\n",
    "    plt.axis(\"off\") \n",
    "    \n",
    "plt.figure(figsize=(15,10))"
   ]
  },
  {
   "cell_type": "code",
   "execution_count": null,
   "id": "2a570a8c-a2f8-419a-9554-5b1d8b3ed6f9",
   "metadata": {},
   "outputs": [],
   "source": []
  },
  {
   "cell_type": "code",
   "execution_count": 12,
   "id": "60fa1ebb-2ee6-40bc-910d-16d03094ffc3",
   "metadata": {},
   "outputs": [],
   "source": [
    "o0 = 0.0\n",
    "f0 = 0.327 #0.1635\n",
    "theta = 0.0\n",
    "gamma = 0.5\n",
    "eta = 0.5\n",
    "pf = np.sqrt(0.99)\n",
    "\n",
    "alpha = f0/gamma\n",
    "beta = f0/eta\n",
    "\n",
    "Nx=284\n",
    "Ny=284"
   ]
  },
  {
   "cell_type": "code",
   "execution_count": 151,
   "id": "526de395-0c7c-4f29-b471-91254b996bec",
   "metadata": {},
   "outputs": [
    {
     "data": {
      "text/plain": [
       "'Major envelope: '"
      ]
     },
     "metadata": {},
     "output_type": "display_data"
    },
    {
     "data": {
      "text/plain": [
       "array([-0.41308119,  0.41308119])"
      ]
     },
     "metadata": {},
     "output_type": "display_data"
    },
    {
     "data": {
      "text/plain": [
       "'Minor envelope: '"
      ]
     },
     "metadata": {},
     "output_type": "display_data"
    },
    {
     "data": {
      "text/plain": [
       "array([-0.41308119,  0.41308119])"
      ]
     },
     "metadata": {},
     "output_type": "display_data"
    }
   ],
   "source": [
    "majenv = norminv(np.array([1-pf, 1+pf])/2,0,f0/(np.sqrt(2)*np.pi*gamma))\n",
    "minenv = norminv(np.array([1-pf, 1+pf])/2,0,f0/(np.sqrt(2)*np.pi*eta))\n",
    "\n",
    "display('Major envelope: ', majenv)\n",
    "display(\"Minor envelope: \", minenv)"
   ]
  },
  {
   "cell_type": "code",
   "execution_count": 152,
   "id": "66abb6fe-0730-4a5b-8d48-c4e8c38c55dd",
   "metadata": {},
   "outputs": [
    {
     "data": {
      "text/plain": [
       "0.5"
      ]
     },
     "metadata": {},
     "output_type": "display_data"
    }
   ],
   "source": [
    "fhigh = compute_fhigh(f0,majenv[1],minenv[1]);\n",
    "\n",
    "display(fhigh)"
   ]
  },
  {
   "cell_type": "code",
   "execution_count": 153,
   "id": "d24a6e82-21e8-440f-b94f-74a73bee1feb",
   "metadata": {},
   "outputs": [],
   "source": [
    "pf = np.sqrt(0.99)\n",
    "alpha = f0/gamma\n",
    "beta = f0/eta\n",
    "\n",
    "# accurate rectangular envelope\n",
    "majenv = norminv(np.array([1-pf, 1+pf])/2,0,f0/(np.sqrt(2)*np.pi*gamma))\n",
    "minenv = norminv(np.array([1-pf, 1+pf])/2,0,f0/(np.sqrt(2)*np.pi*eta))\n",
    "\n",
    "fhigh = compute_fhigh(f0,majenv[1],minenv[1])\n",
    "\n",
    "envelope = accurate_envelope_f(f0,majenv[1],minenv[1],theta)\n",
    "\n",
    "envelope[:2] = envelope[:2]*Nx\n",
    "envelope[-2:] = envelope[-2:]*Ny\n",
    "\n",
    "envelope = np.array([np.floor(envelope[0]), np.ceil(envelope[1]), np.floor(envelope[2]), np.ceil(envelope[3])])\n",
    "\n",
    "nx = np.arange(envelope[0], envelope[1] + 1, 1, dtype=int)\n",
    "ny = np.arange(envelope[2], envelope[3] + 1, 1, dtype=int)\n",
    "\n",
    "u = nx/Nx; #frequencies that bank contains\n",
    "v = ny/Ny;\n",
    "\n",
    "U, V = np.meshgrid(u,v)\n",
    "\n",
    "Uenvelope =  (np.add(-U * np.sin(theta), V * np.cos(theta)))**2 / beta**2\n",
    "Venvelope =  (np.add(U * np.cos(theta), V * np.sin(theta) - f0))**2 / alpha**2\n",
    "\n",
    "gf = np.exp(-(np.pi**2) * np.add(Uenvelope,Venvelope))"
   ]
  },
  {
   "cell_type": "code",
   "execution_count": 154,
   "id": "e4569535-7031-41cf-82dd-bdb67402617b",
   "metadata": {},
   "outputs": [
    {
     "data": {
      "text/plain": [
       "array([ -25.,  211., -118.,  118.])"
      ]
     },
     "execution_count": 154,
     "metadata": {},
     "output_type": "execute_result"
    }
   ],
   "source": [
    "envelope"
   ]
  },
  {
   "cell_type": "code",
   "execution_count": 142,
   "id": "136cdc10-74fd-45cc-9842-42ccd8d7ed67",
   "metadata": {},
   "outputs": [
    {
     "data": {
      "text/plain": [
       "array([-25, -24, -23, -22, -21, -20, -19, -18, -17, -16, -15, -14, -13,\n",
       "       -12, -11, -10,  -9,  -8,  -7,  -6,  -5,  -4,  -3,  -2,  -1,   0,\n",
       "         1,   2,   3,   4,   5,   6,   7,   8,   9,  10,  11,  12,  13,\n",
       "        14,  15,  16,  17,  18,  19,  20,  21,  22,  23,  24,  25,  26,\n",
       "        27,  28,  29,  30,  31,  32,  33,  34,  35,  36,  37,  38,  39,\n",
       "        40,  41,  42,  43,  44,  45,  46,  47,  48,  49,  50,  51,  52,\n",
       "        53,  54,  55,  56,  57,  58,  59,  60,  61,  62,  63,  64,  65,\n",
       "        66,  67,  68,  69,  70,  71,  72,  73,  74,  75,  76,  77,  78,\n",
       "        79,  80,  81,  82,  83,  84,  85,  86,  87,  88,  89,  90,  91,\n",
       "        92,  93,  94,  95,  96,  97,  98,  99, 100, 101, 102, 103, 104,\n",
       "       105, 106, 107, 108, 109, 110, 111, 112, 113, 114, 115, 116, 117,\n",
       "       118, 119, 120, 121, 122, 123, 124, 125, 126, 127, 128, 129, 130,\n",
       "       131, 132, 133, 134, 135, 136, 137, 138, 139, 140, 141, 142, 143,\n",
       "       144, 145, 146, 147, 148, 149, 150, 151, 152, 153, 154, 155, 156,\n",
       "       157, 158, 159, 160, 161, 162, 163, 164, 165, 166, 167, 168, 169,\n",
       "       170, 171, 172, 173, 174, 175, 176, 177, 178, 179, 180, 181, 182,\n",
       "       183, 184, 185, 186, 187, 188, 189, 190, 191, 192, 193, 194, 195,\n",
       "       196, 197, 198, 199, 200, 201, 202, 203, 204, 205, 206, 207, 208,\n",
       "       209, 210, 211])"
      ]
     },
     "execution_count": 142,
     "metadata": {},
     "output_type": "execute_result"
    }
   ],
   "source": [
    "nx"
   ]
  },
  {
   "cell_type": "code",
   "execution_count": 143,
   "id": "08422b3b-f309-43d5-b81c-98353f8d7a74",
   "metadata": {},
   "outputs": [
    {
     "data": {
      "text/plain": [
       "array([-118, -117, -116, -115, -114, -113, -112, -111, -110, -109, -108,\n",
       "       -107, -106, -105, -104, -103, -102, -101, -100,  -99,  -98,  -97,\n",
       "        -96,  -95,  -94,  -93,  -92,  -91,  -90,  -89,  -88,  -87,  -86,\n",
       "        -85,  -84,  -83,  -82,  -81,  -80,  -79,  -78,  -77,  -76,  -75,\n",
       "        -74,  -73,  -72,  -71,  -70,  -69,  -68,  -67,  -66,  -65,  -64,\n",
       "        -63,  -62,  -61,  -60,  -59,  -58,  -57,  -56,  -55,  -54,  -53,\n",
       "        -52,  -51,  -50,  -49,  -48,  -47,  -46,  -45,  -44,  -43,  -42,\n",
       "        -41,  -40,  -39,  -38,  -37,  -36,  -35,  -34,  -33,  -32,  -31,\n",
       "        -30,  -29,  -28,  -27,  -26,  -25,  -24,  -23,  -22,  -21,  -20,\n",
       "        -19,  -18,  -17,  -16,  -15,  -14,  -13,  -12,  -11,  -10,   -9,\n",
       "         -8,   -7,   -6,   -5,   -4,   -3,   -2,   -1,    0,    1,    2,\n",
       "          3,    4,    5,    6,    7,    8,    9,   10,   11,   12,   13,\n",
       "         14,   15,   16,   17,   18,   19,   20,   21,   22,   23,   24,\n",
       "         25,   26,   27,   28,   29,   30,   31,   32,   33,   34,   35,\n",
       "         36,   37,   38,   39,   40,   41,   42,   43,   44,   45,   46,\n",
       "         47,   48,   49,   50,   51,   52,   53,   54,   55,   56,   57,\n",
       "         58,   59,   60,   61,   62,   63,   64,   65,   66,   67,   68,\n",
       "         69,   70,   71,   72,   73,   74,   75,   76,   77,   78,   79,\n",
       "         80,   81,   82,   83,   84,   85,   86,   87,   88,   89,   90,\n",
       "         91,   92,   93,   94,   95,   96,   97,   98,   99,  100,  101,\n",
       "        102,  103,  104,  105,  106,  107,  108,  109,  110,  111,  112,\n",
       "        113,  114,  115,  116,  117,  118])"
      ]
     },
     "execution_count": 143,
     "metadata": {},
     "output_type": "execute_result"
    }
   ],
   "source": [
    "ny"
   ]
  },
  {
   "cell_type": "code",
   "execution_count": 235,
   "id": "b418d6aa-7fb2-4439-ab1e-1b8574420716",
   "metadata": {},
   "outputs": [
    {
     "data": {
      "text/plain": [
       "array([[0.00034978, 0.00037407, 0.00039983, ..., 0.00039288, 0.00036752,\n",
       "        0.0003436 ],\n",
       "       [0.0003741 , 0.00040009, 0.00042763, ..., 0.00042021, 0.00039308,\n",
       "        0.00036749],\n",
       "       [0.00039989, 0.00042767, 0.00045711, ..., 0.00044917, 0.00042017,\n",
       "        0.00039282],\n",
       "       ...,\n",
       "       [0.00039989, 0.00042767, 0.00045711, ..., 0.00044917, 0.00042017,\n",
       "        0.00039282],\n",
       "       [0.0003741 , 0.00040009, 0.00042763, ..., 0.00042021, 0.00039308,\n",
       "        0.00036749],\n",
       "       [0.00034978, 0.00037407, 0.00039983, ..., 0.00039288, 0.00036752,\n",
       "        0.0003436 ]])"
      ]
     },
     "execution_count": 235,
     "metadata": {},
     "output_type": "execute_result"
    }
   ],
   "source": [
    "gf"
   ]
  },
  {
   "cell_type": "code",
   "execution_count": 166,
   "id": "b24151f1-f3d5-4676-809a-ecf81c946618",
   "metadata": {},
   "outputs": [
    {
     "data": {
      "text/plain": [
       "(237, 237)"
      ]
     },
     "execution_count": 166,
     "metadata": {},
     "output_type": "execute_result"
    }
   ],
   "source": [
    "gf.shape"
   ]
  },
  {
   "cell_type": "code",
   "execution_count": 93,
   "id": "bc79faaa-383d-48cd-bd49-80be6cd53b92",
   "metadata": {},
   "outputs": [
    {
     "data": {
      "text/plain": [
       "array([-0.09302326, -0.06976744, -0.04651163, -0.02325581,  0.        ,\n",
       "        0.02325581,  0.04651163,  0.06976744,  0.09302326,  0.11627907,\n",
       "        0.13953488,  0.1627907 ,  0.18604651,  0.20930233,  0.23255814,\n",
       "        0.25581395,  0.27906977,  0.30232558,  0.3255814 ,  0.34883721,\n",
       "        0.37209302,  0.39534884,  0.41860465,  0.44186047,  0.46511628,\n",
       "        0.48837209,  0.51162791])"
      ]
     },
     "execution_count": 93,
     "metadata": {},
     "output_type": "execute_result"
    }
   ],
   "source": [
    "u"
   ]
  },
  {
   "cell_type": "code",
   "execution_count": null,
   "id": "1b78eea2-06aa-45a0-9450-7f390c8d6980",
   "metadata": {},
   "outputs": [],
   "source": []
  },
  {
   "cell_type": "code",
   "execution_count": null,
   "id": "dd9c1b9d-f2b2-4ff0-8c1f-1c5442103e9b",
   "metadata": {},
   "outputs": [],
   "source": []
  },
  {
   "cell_type": "code",
   "execution_count": 50,
   "id": "bac28fd5-c69e-4aca-8904-d94a9f0af2a1",
   "metadata": {},
   "outputs": [
    {
     "data": {
      "text/plain": [
       "array([-4., 22., -9., 17.])"
      ]
     },
     "metadata": {},
     "output_type": "display_data"
    },
    {
     "data": {
      "text/plain": [
       "0.5"
      ]
     },
     "metadata": {},
     "output_type": "display_data"
    },
    {
     "data": {
      "text/plain": [
       "array([[2.17574981e-04, 4.09890913e-04, 7.34587479e-04, 1.25237575e-03,\n",
       "        2.03114848e-03, 3.13375175e-03, 4.59942354e-03, 6.42181978e-03,\n",
       "        8.52960104e-03, 1.07774302e-02, 1.29544093e-02, 1.48127573e-02,\n",
       "        1.61127658e-02, 1.66732467e-02, 1.64129314e-02, 1.53697934e-02,\n",
       "        1.36919656e-02, 1.16032450e-02, 9.35425111e-03, 7.17388616e-03,\n",
       "        5.23378445e-03, 3.63239509e-03, 2.39820455e-03, 1.50624376e-03,\n",
       "        8.99953758e-04, 5.11518122e-04, 2.76578075e-04],\n",
       "       [4.02180387e-04, 7.57670231e-04, 1.35786144e-03, 2.31497648e-03,\n",
       "        3.75451294e-03, 5.79263980e-03, 8.50188718e-03, 1.18705283e-02,\n",
       "        1.57666945e-02, 1.99217347e-02, 2.39458109e-02, 2.73809077e-02,\n",
       "        2.97839317e-02, 3.08199628e-02, 3.03387784e-02, 2.84105711e-02,\n",
       "        2.53091601e-02, 2.14482270e-02, 1.72910337e-02, 1.32606989e-02,\n",
       "        9.67448301e-03, 6.71436604e-03, 4.43300434e-03, 2.78424337e-03,\n",
       "        1.66353571e-03, 9.45524874e-04, 5.11245718e-04],\n",
       "       [7.07210528e-04, 1.33231848e-03, 2.38771938e-03, 4.07074982e-03,\n",
       "        6.60208992e-03, 1.01860160e-02, 1.49500680e-02, 2.08736250e-02,\n",
       "        2.77248038e-02, 3.50311974e-02, 4.21072985e-02, 4.81477138e-02,\n",
       "        5.23732901e-02, 5.41950898e-02, 5.33489552e-02, 4.99583162e-02,\n",
       "        4.45046676e-02, 3.77154442e-02, 3.04052646e-02, 2.33181582e-02,\n",
       "        1.70120087e-02, 1.18068173e-02, 7.79517709e-03, 4.89592802e-03,\n",
       "        2.92522959e-03, 1.66264981e-03, 8.98995490e-04],\n",
       "       [1.18302097e-03, 2.22870085e-03, 3.99417428e-03, 6.80954568e-03,\n",
       "        1.10439685e-02, 1.70391560e-02, 2.50084567e-02, 3.49173762e-02,\n",
       "        4.63780204e-02, 5.86001473e-02, 7.04370410e-02, 8.05414410e-02,\n",
       "        8.76099803e-02, 9.06574847e-02, 8.92420717e-02, 8.35702147e-02,\n",
       "        7.44473575e-02, 6.30903523e-02, 5.08618922e-02, 3.90065885e-02,\n",
       "        2.84576688e-02, 1.97504306e-02, 1.30397634e-02, 8.18990284e-03,\n",
       "        4.89332074e-03, 2.78127872e-03, 1.50383863e-03],\n",
       "       [1.88257403e-03, 3.54659338e-03, 6.35604013e-03, 1.08362186e-02,\n",
       "        1.75745730e-02, 2.71148808e-02, 3.97966498e-02, 5.55649877e-02,\n",
       "        7.38026282e-02, 9.32520372e-02, 1.12088414e-01, 1.28167825e-01,\n",
       "        1.39416188e-01, 1.44265766e-01, 1.42013380e-01, 1.32987597e-01,\n",
       "        1.18470142e-01, 1.00397425e-01, 8.09379375e-02, 6.20722645e-02,\n",
       "        4.52854765e-02, 3.14294071e-02, 2.07505366e-02, 1.30328192e-02,\n",
       "        7.78687681e-03, 4.42592585e-03, 2.39310007e-03],\n",
       "       [2.84988660e-03, 5.36891979e-03, 9.62192898e-03, 1.64041327e-02,\n",
       "        2.66048183e-02, 4.10471696e-02, 6.02451416e-02, 8.41156371e-02,\n",
       "        1.11724223e-01, 1.41167214e-01, 1.69682182e-01, 1.94023588e-01,\n",
       "        2.11051634e-01, 2.18393044e-01, 2.14983328e-01, 2.01319876e-01,\n",
       "        1.79342997e-01, 1.51984077e-01, 1.22525829e-01, 9.39665119e-02,\n",
       "        6.85542616e-02, 4.75786051e-02, 3.14126697e-02, 1.97294004e-02,\n",
       "        1.17879645e-02, 6.70007478e-03, 3.62273340e-03],\n",
       "       [4.10410999e-03, 7.73175933e-03, 1.38565004e-02, 2.36235242e-02,\n",
       "        3.83134896e-02, 5.91118603e-02, 8.67587809e-02, 1.21134584e-01,\n",
       "        1.60893595e-01, 2.03294325e-01, 2.44358614e-01, 2.79412573e-01,\n",
       "        3.03934592e-01, 3.14506926e-01, 3.09596607e-01, 2.89919927e-01,\n",
       "        2.58271114e-01, 2.18871644e-01, 1.76448943e-01, 1.35320788e-01,\n",
       "        9.87247106e-02, 6.85177537e-02, 4.52372566e-02, 2.84122285e-02,\n",
       "        1.69757993e-02, 9.64875017e-03, 5.21708349e-03],\n",
       "       [5.62245902e-03, 1.05921869e-02, 1.89828260e-02, 3.23632400e-02,\n",
       "        5.24878781e-02, 8.09807761e-02, 1.18855901e-01, 1.65949313e-01,\n",
       "        2.20417495e-01, 2.78504722e-01, 3.34761079e-01, 3.82783537e-01,\n",
       "        4.16377678e-01, 4.30861334e-01, 4.24134402e-01, 3.97178173e-01,\n",
       "        3.53820623e-01, 2.99844998e-01, 2.41727672e-01, 1.85383819e-01,\n",
       "        1.35248724e-01, 9.38664566e-02, 6.19731494e-02, 3.89235646e-02,\n",
       "        2.32561350e-02, 1.32183841e-02, 7.14718616e-03],\n",
       "       [7.32739327e-03, 1.38041235e-02, 2.47391099e-02, 4.21769525e-02,\n",
       "        6.84041135e-02, 1.05537095e-01, 1.54897337e-01, 2.16271185e-01,\n",
       "        2.87256104e-01, 3.62957493e-01, 4.36272825e-01, 4.98857441e-01,\n",
       "        5.42638547e-01, 5.61514175e-01, 5.52747393e-01, 5.17617054e-01,\n",
       "        4.61111917e-01, 3.90768917e-01, 3.15028302e-01, 2.41598942e-01,\n",
       "        1.76261061e-01, 1.22330183e-01, 8.07656644e-02, 5.07266063e-02,\n",
       "        3.03082417e-02, 1.72266794e-02, 9.31447319e-03],\n",
       "       [9.08424001e-03, 1.71138585e-02, 3.06706632e-02, 5.22894766e-02,\n",
       "        8.48049725e-02, 1.30841115e-01, 1.92036176e-01, 2.68125278e-01,\n",
       "        3.56129840e-01, 4.49981713e-01, 5.40875439e-01, 6.18465606e-01,\n",
       "        6.72743856e-01, 6.96145184e-01, 6.85276440e-01, 6.41723103e-01,\n",
       "        5.71670056e-01, 4.84461322e-01, 3.90560817e-01, 2.99525724e-01,\n",
       "        2.18522157e-01, 1.51660584e-01, 1.00130381e-01, 6.28890315e-02,\n",
       "        3.75750737e-02, 2.13570208e-02, 1.15477506e-02],\n",
       "       [1.07138015e-02, 2.01837998e-02, 3.61724697e-02, 6.16693383e-02,\n",
       "        1.00017573e-01, 1.54311833e-01, 2.26484270e-01, 3.16222489e-01,\n",
       "        4.20013605e-01, 5.30700942e-01, 6.37899490e-01, 7.29408041e-01,\n",
       "        7.93422905e-01, 8.21022042e-01, 8.08203627e-01, 7.56837546e-01,\n",
       "        6.74218148e-01, 5.71365619e-01, 4.60620926e-01, 3.53255653e-01,\n",
       "        2.57721394e-01, 1.78865969e-01, 1.18092105e-01, 7.41702770e-02,\n",
       "        4.43154164e-02, 2.51881148e-02, 1.36192248e-02],\n",
       "       [1.20202772e-02, 2.26450779e-02, 4.05834582e-02, 6.91894978e-02,\n",
       "        1.12214041e-01, 1.73129119e-01, 2.54102497e-01, 3.54783687e-01,\n",
       "        4.71231429e-01, 5.95416339e-01, 7.15687026e-01, 8.18354427e-01,\n",
       "        8.90175472e-01, 9.21140137e-01, 9.06758603e-01, 8.49128775e-01,\n",
       "        7.56434500e-01, 6.41039798e-01, 5.16790538e-01, 3.96332795e-01,\n",
       "        2.89148778e-01, 2.00677466e-01, 1.32492639e-01, 8.32148415e-02,\n",
       "        4.97193823e-02, 2.82596354e-02, 1.52799973e-02],\n",
       "       [1.28292500e-02, 2.41691070e-02, 4.33147524e-02, 7.38459979e-02,\n",
       "        1.19766122e-01, 1.84780826e-01, 2.71203768e-01, 3.78660870e-01,\n",
       "        5.02945623e-01, 6.35488262e-01, 7.63853248e-01, 8.73430235e-01,\n",
       "        9.50084884e-01, 9.83133492e-01, 9.67784071e-01, 9.06275717e-01,\n",
       "        8.07343054e-01, 6.84182211e-01, 5.51570892e-01, 4.23006261e-01,\n",
       "        3.08608687e-01, 2.14183196e-01, 1.41409484e-01, 8.88152567e-02,\n",
       "        5.30655304e-02, 3.01615280e-02, 1.63083515e-02],\n",
       "       [1.30257863e-02, 2.45393630e-02, 4.39783080e-02, 7.49772736e-02,\n",
       "        1.21600866e-01, 1.87611556e-01, 2.75358444e-01, 3.84461724e-01,\n",
       "        5.10650444e-01, 6.45223556e-01, 7.75555015e-01, 8.86810654e-01,\n",
       "        9.64639606e-01, 9.98194499e-01, 9.82609934e-01, 9.20159310e-01,\n",
       "        8.19711058e-01, 6.94663466e-01, 5.60020622e-01, 4.29486459e-01,\n",
       "        3.13336384e-01, 2.17464352e-01, 1.43575791e-01, 9.01758524e-02,\n",
       "        5.38784620e-02, 3.06235842e-02, 1.65581855e-02],\n",
       "       [1.25812133e-02, 2.37018291e-02, 4.24773185e-02, 7.24182824e-02,\n",
       "        1.17450601e-01, 1.81208331e-01, 2.65960399e-01, 3.71339959e-01,\n",
       "        4.93221830e-01, 6.23201931e-01, 7.49085148e-01, 8.56543608e-01,\n",
       "        9.31716240e-01, 9.64125897e-01, 9.49073237e-01, 8.88754066e-01,\n",
       "        7.91734136e-01, 6.70954446e-01, 5.40906993e-01, 4.14827990e-01,\n",
       "        3.02642143e-01, 2.10042245e-01, 1.38675517e-01, 8.70981303e-02,\n",
       "        5.20395780e-02, 2.95783944e-02, 1.59930510e-02],\n",
       "       [1.15599777e-02, 2.17779167e-02, 3.90293721e-02, 6.65399840e-02,\n",
       "        1.07916963e-01, 1.66499385e-01, 2.44372002e-01, 3.41197748e-01,\n",
       "        4.53186289e-01, 5.72615714e-01, 6.88280806e-01, 7.87016704e-01,\n",
       "        8.56087464e-01, 8.85866381e-01, 8.72035567e-01, 8.16612592e-01,\n",
       "        7.27467912e-01, 6.16492088e-01, 4.97000777e-01, 3.81155792e-01,\n",
       "        2.78076236e-01, 1.92992807e-01, 1.27419022e-01, 8.00282470e-02,\n",
       "        4.78154490e-02, 2.71774727e-02, 1.46948715e-02],\n",
       "       [1.01043263e-02, 1.90356057e-02, 3.41147295e-02, 5.81611600e-02,\n",
       "        9.43278818e-02, 1.45533509e-01, 2.13600278e-01, 2.98233568e-01,\n",
       "        3.96120327e-01, 5.00511003e-01, 6.01611356e-01, 6.87914268e-01,\n",
       "        7.48287525e-01, 7.74316631e-01, 7.62227417e-01, 7.13783394e-01,\n",
       "        6.35863958e-01, 5.38862392e-01, 4.34417623e-01, 3.33160029e-01,\n",
       "        2.43060419e-01, 1.68690836e-01, 1.11374209e-01, 6.99509588e-02,\n",
       "        4.17944491e-02, 2.37552407e-02, 1.28444692e-02],\n",
       "       [8.40182492e-03, 1.58282523e-02, 2.83666595e-02, 4.83614510e-02,\n",
       "        7.84343578e-02, 1.21012230e-01, 1.77610271e-01, 2.47983501e-01,\n",
       "        3.29377093e-01, 4.16178741e-01, 5.00244461e-01, 5.72005995e-01,\n",
       "        6.22206821e-01, 6.43850223e-01, 6.33797948e-01, 5.93516371e-01,\n",
       "        5.28725763e-01, 4.48068215e-01, 3.61221588e-01, 2.77025122e-01,\n",
       "        2.02106605e-01, 1.40267725e-01, 9.26085098e-02, 5.81647592e-02,\n",
       "        3.47524053e-02, 1.97526650e-02, 1.06802747e-02],\n",
       "       [6.64593036e-03, 1.25203112e-02, 2.24383208e-02, 3.82544076e-02,\n",
       "        6.20423878e-02, 9.57219246e-02, 1.40491560e-01, 1.96157512e-01,\n",
       "        2.60540685e-01, 3.29201686e-01, 3.95698539e-01, 4.52462654e-01,\n",
       "        4.92172026e-01, 5.09292181e-01, 5.01340728e-01, 4.69477584e-01,\n",
       "        4.18227543e-01, 3.54426590e-01, 2.85730010e-01, 2.19129735e-01,\n",
       "        1.59868413e-01, 1.10953220e-01, 7.32542885e-02, 4.60089257e-02,\n",
       "        2.74895118e-02, 1.56245622e-02, 8.44820768e-03],\n",
       "       [5.00096529e-03, 9.42135083e-03, 1.68845079e-02, 2.87858816e-02,\n",
       "        4.66859884e-02, 7.20293468e-02, 1.05717842e-01, 1.47605656e-01,\n",
       "        1.96053051e-01, 2.47719449e-01, 2.97757357e-01, 3.40471523e-01,\n",
       "        3.70352244e-01, 3.83234910e-01, 3.77251557e-01, 3.53275008e-01,\n",
       "        3.14710103e-01, 2.66700819e-01, 2.15007649e-01, 1.64891917e-01,\n",
       "        1.20298640e-01, 8.34906737e-02, 5.51227795e-02, 3.46210430e-02,\n",
       "        2.06854551e-02, 1.17572543e-02, 6.35715258e-03],\n",
       "       [3.57987440e-03, 6.74414852e-03, 1.20865501e-02, 2.06059900e-02,\n",
       "        3.34195430e-02, 5.15612486e-02, 7.56767094e-02, 1.05661543e-01,\n",
       "        1.40341965e-01, 1.77326668e-01, 2.13145639e-01, 2.43722005e-01,\n",
       "        2.65111721e-01, 2.74333606e-01, 2.70050503e-01, 2.52887210e-01,\n",
       "        2.25281036e-01, 1.90914230e-01, 1.53910362e-01, 1.18035683e-01,\n",
       "        8.61141795e-02, 5.97656869e-02, 3.94589076e-02, 2.47830125e-02,\n",
       "        1.48074076e-02, 8.41627389e-03, 4.55068302e-03],\n",
       "       [2.43779754e-03, 4.59258255e-03, 8.23061339e-03, 1.40321213e-02,\n",
       "        2.27578040e-02, 3.51118143e-02, 5.15337902e-02, 7.19526501e-02,\n",
       "        9.55690787e-02, 1.20754660e-01, 1.45146409e-01, 1.65968087e-01,\n",
       "        1.80533904e-01, 1.86813758e-01, 1.83897081e-01, 1.72209343e-01,\n",
       "        1.53410286e-01, 1.30007421e-01, 1.04808790e-01, 8.03791041e-02,\n",
       "        5.86414247e-02, 4.06988146e-02, 2.68704478e-02, 1.68765605e-02,\n",
       "        1.00834437e-02, 5.73125465e-03, 3.09889192e-03],\n",
       "       [1.57922269e-03, 2.97510783e-03, 5.33185025e-03, 9.09010857e-03,\n",
       "        1.47426683e-02, 2.27456845e-02, 3.33839580e-02, 4.66114416e-02,\n",
       "        6.19103330e-02, 7.82257329e-02, 9.40268824e-02, 1.07515314e-01,\n",
       "        1.16951155e-01, 1.21019289e-01, 1.19129845e-01, 1.11558445e-01,\n",
       "        9.93802810e-02, 8.42197379e-02, 6.78958838e-02, 5.20701588e-02,\n",
       "        3.79883345e-02, 2.63649833e-02, 1.74068683e-02, 1.09327567e-02,\n",
       "        6.53212695e-03, 3.71274777e-03, 2.00748436e-03],\n",
       "       [9.73206524e-04, 1.83343006e-03, 3.28578831e-03, 5.60184008e-03,\n",
       "        9.08526772e-03, 1.40171799e-02, 2.05730870e-02, 2.87246120e-02,\n",
       "        3.81526560e-02, 4.82071300e-02, 5.79446939e-02, 6.62570300e-02,\n",
       "        7.20719300e-02, 7.45789449e-02, 7.34145622e-02, 6.87486362e-02,\n",
       "        6.12437615e-02, 5.19009756e-02, 4.18412916e-02, 3.20885829e-02,\n",
       "        2.34105647e-02, 1.62475970e-02, 1.07270988e-02, 6.73738428e-03,\n",
       "        4.02546683e-03, 2.28800560e-03, 1.23712564e-03],\n",
       "       [5.70535331e-04, 1.07483520e-03, 1.92626978e-03, 3.28403849e-03,\n",
       "        5.32617291e-03, 8.21747099e-03, 1.20608244e-02, 1.68395974e-02,\n",
       "        2.23667204e-02, 2.82610835e-02, 3.39696604e-02, 3.88427077e-02,\n",
       "        4.22516510e-02, 4.37213705e-02, 4.30387595e-02, 4.03033939e-02,\n",
       "        3.59037150e-02, 3.04265740e-02, 2.45291565e-02, 1.88117011e-02,\n",
       "        1.37242753e-02, 9.52503695e-03, 6.28868458e-03, 3.94974311e-03,\n",
       "        2.35990100e-03, 1.34132684e-03, 7.25256015e-04],\n",
       "       [3.18182266e-04, 5.99425628e-04, 1.07426280e-03, 1.83147783e-03,\n",
       "        2.97035727e-03, 4.58280742e-03, 6.72620998e-03, 9.39128738e-03,\n",
       "        1.24737127e-02, 1.57609444e-02, 1.89445648e-02, 2.16622181e-02,\n",
       "        2.35633542e-02, 2.43830031e-02, 2.40023173e-02, 2.24768292e-02,\n",
       "        2.00231691e-02, 1.69686183e-02, 1.36796832e-02, 1.04911114e-02,\n",
       "        7.65390116e-03, 5.31202483e-03, 3.50714111e-03, 2.20273513e-03,\n",
       "        1.31609492e-03, 7.48045546e-04, 4.04468558e-04],\n",
       "       [1.68804995e-04, 3.18012822e-04, 5.69927827e-04, 9.71652537e-04,\n",
       "        1.57586138e-03, 2.43131332e-03, 3.56845105e-03, 4.98235253e-03,\n",
       "        6.61766927e-03, 8.36164180e-03, 1.00506455e-02, 1.14924400e-02,\n",
       "        1.25010483e-02, 1.29358960e-02, 1.27339311e-02, 1.19246151e-02,\n",
       "        1.06228767e-02, 9.00234814e-03, 7.25747192e-03, 5.56584132e-03,\n",
       "        4.06061835e-03, 2.81818449e-03, 1.86064090e-03, 1.16861539e-03,\n",
       "        6.98226833e-04, 3.96860033e-04, 2.14582396e-04]])"
      ]
     },
     "metadata": {},
     "output_type": "display_data"
    }
   ],
   "source": [
    "g, envelope, fhigh = computeAGaborFilter(0.2312, 0.3927, gamma, eta, 43, 43)\n",
    "\n",
    "display(envelope)\n",
    "\n",
    "display(fhigh)\n",
    "\n",
    "display(g)"
   ]
  },
  {
   "cell_type": "code",
   "execution_count": 76,
   "id": "8fe11b64-d4bf-4598-bbe1-00e65ebd2156",
   "metadata": {},
   "outputs": [
    {
     "data": {
      "text/plain": [
       "array([ -4.,  32., -18.,  18.])"
      ]
     },
     "metadata": {},
     "output_type": "display_data"
    }
   ],
   "source": [
    "display(envelope)"
   ]
  },
  {
   "cell_type": "code",
   "execution_count": 77,
   "id": "567138e0-8ee1-4f0e-9f20-d335420a4021",
   "metadata": {},
   "outputs": [
    {
     "data": {
      "text/plain": [
       "0.5"
      ]
     },
     "metadata": {},
     "output_type": "display_data"
    }
   ],
   "source": [
    "display(fhigh)"
   ]
  },
  {
   "cell_type": "code",
   "execution_count": 78,
   "id": "b8f63ec3-77c5-4df3-a8d7-8d4a9bab9a5c",
   "metadata": {},
   "outputs": [
    {
     "data": {
      "text/plain": [
       "array([[0.00029921, 0.00046381, 0.00070122, ..., 0.00073623, 0.00048845,\n",
       "        0.00031607],\n",
       "       [0.0004631 , 0.00071785, 0.00108531, ..., 0.00113949, 0.00075599,\n",
       "        0.00048919],\n",
       "       [0.00069909, 0.00108365, 0.00163836, ..., 0.00172016, 0.00114123,\n",
       "        0.00073848],\n",
       "       ...,\n",
       "       [0.00069909, 0.00108365, 0.00163836, ..., 0.00172016, 0.00114123,\n",
       "        0.00073848],\n",
       "       [0.0004631 , 0.00071785, 0.00108531, ..., 0.00113949, 0.00075599,\n",
       "        0.00048919],\n",
       "       [0.00029921, 0.00046381, 0.00070122, ..., 0.00073623, 0.00048845,\n",
       "        0.00031607]])"
      ]
     },
     "execution_count": 78,
     "metadata": {},
     "output_type": "execute_result"
    }
   ],
   "source": [
    "g"
   ]
  },
  {
   "cell_type": "code",
   "execution_count": 64,
   "id": "0506b938-f041-43ed-b944-89beb68ee210",
   "metadata": {},
   "outputs": [],
   "source": [
    "fs = 100 # sample rate \n",
    "f_list = [5,10,15,20,100] # the frequency of the signal\n",
    "\n",
    "x = np.arange(fs) # the points on the x axis for plotting\n",
    "\n",
    "# compute the value (amplitude) of the sin wave for each sample\n",
    "wave = []\n",
    "for f in f_list:\n",
    "    wave.append(list(np.sin(2*np.pi*f * (x/fs))))\n",
    "\n",
    "#Adds the sine waves together into a single complex wave\n",
    "wave4 = []\n",
    "for i in range(len(wave[0])):\n",
    "    data = 0\n",
    "    for ii in range(len(wave)):\n",
    "        data += wave[ii][i]\n",
    "    wave4.append(data)"
   ]
  },
  {
   "cell_type": "code",
   "execution_count": 16,
   "id": "f3e14a85-06d4-4d50-a675-e3662f01c01c",
   "metadata": {},
   "outputs": [],
   "source": [
    "fft = np.fft.rfft(wave4)"
   ]
  },
  {
   "cell_type": "code",
   "execution_count": 18,
   "id": "da3e72f5-69b9-45a1-9752-6382f8773aa2",
   "metadata": {},
   "outputs": [],
   "source": [
    "waveV2 = np.fft.irfft(fft)"
   ]
  },
  {
   "cell_type": "code",
   "execution_count": 19,
   "id": "ed3e4269-5713-478f-af65-43e68b5bde06",
   "metadata": {},
   "outputs": [
    {
     "data": {
      "text/plain": [
       "array([-2.01948392e-30,  2.65687576e+00,  3.07768354e+00,  1.48130525e+00,\n",
       "       -9.14526229e-16,  2.24421840e-15,  7.26542528e-01,  7.54762725e-01,\n",
       "       -1.83758058e-15, -4.20807780e-01,  4.59517003e-15,  4.20807780e-01,\n",
       "       -3.06100662e-15, -7.54762725e-01, -7.26542528e-01,  3.04357897e-15,\n",
       "       -3.42894946e-15, -1.48130525e+00, -3.07768354e+00, -2.65687576e+00,\n",
       "        6.86297392e-15,  2.65687576e+00,  3.07768354e+00,  1.48130525e+00,\n",
       "       -2.48244435e-15,  3.62716650e-16,  7.26542528e-01,  7.54762725e-01,\n",
       "        2.24626978e-14, -4.20807780e-01,  9.86486515e-15,  4.20807780e-01,\n",
       "       -7.07141539e-15, -7.54762725e-01, -7.26542528e-01, -1.63794466e-14,\n",
       "       -1.88824311e-15, -1.48130525e+00, -3.07768354e+00, -2.65687576e+00,\n",
       "        1.37259478e-14,  2.65687576e+00,  3.07768354e+00,  1.48130525e+00,\n",
       "        1.89312541e-14, -5.18252108e-15,  7.26542528e-01,  7.54762725e-01,\n",
       "       -1.25229334e-14, -4.20807780e-01,  4.47641924e-15,  4.20807780e-01,\n",
       "        1.73398853e-14, -7.54762725e-01, -7.26542528e-01,  1.01607611e-14,\n",
       "        4.50605849e-14, -1.48130525e+00, -3.07768354e+00, -2.65687576e+00,\n",
       "       -7.27360312e-16,  2.65687576e+00,  3.07768354e+00,  1.48130525e+00,\n",
       "       -1.38339310e-14,  2.15797312e-14,  7.26542528e-01,  7.54762725e-01,\n",
       "        1.16663227e-14, -4.20807780e-01, -2.22283088e-14,  4.20807780e-01,\n",
       "       -1.98661920e-14, -7.54762725e-01, -7.26542528e-01, -3.05785465e-14,\n",
       "        1.78465150e-14, -1.48130525e+00, -3.07768354e+00, -2.65687576e+00,\n",
       "        2.74518957e-14,  2.65687576e+00,  3.07768354e+00,  1.48130525e+00,\n",
       "        1.61284848e-14, -1.97146879e-14,  7.26542528e-01,  7.54762725e-01,\n",
       "        3.81870471e-14, -4.20807780e-01, -6.30047260e-15,  4.20807780e-01,\n",
       "        6.33869290e-14, -7.54762725e-01, -7.26542528e-01, -7.81309709e-15,\n",
       "       -9.14551043e-15, -1.48130525e+00, -3.07768354e+00, -2.65687576e+00])"
      ]
     },
     "execution_count": 19,
     "metadata": {},
     "output_type": "execute_result"
    }
   ],
   "source": [
    "waveV2"
   ]
  },
  {
   "cell_type": "code",
   "execution_count": null,
   "id": "6a2aebe1-9ad1-46d3-9500-5ba8aad99c23",
   "metadata": {},
   "outputs": [],
   "source": []
  },
  {
   "cell_type": "code",
   "execution_count": 8,
   "id": "ed907e94-edf6-4722-876b-34fac0f8fcf9",
   "metadata": {},
   "outputs": [
    {
     "ename": "NameError",
     "evalue": "name 'computeGaborfeatures' is not defined",
     "output_type": "error",
     "traceback": [
      "\u001b[0;31m---------------------------------------------------------------------------\u001b[0m",
      "\u001b[0;31mNameError\u001b[0m                                 Traceback (most recent call last)",
      "Cell \u001b[0;32mIn[8], line 2\u001b[0m\n\u001b[1;32m      1\u001b[0m img \u001b[38;5;241m=\u001b[39m io\u001b[38;5;241m.\u001b[39mimread(dfFoldTraining_1[\u001b[38;5;124m\"\u001b[39m\u001b[38;5;124mfilenames\u001b[39m\u001b[38;5;124m\"\u001b[39m][\u001b[38;5;241m10000\u001b[39m])\n\u001b[0;32m----> 2\u001b[0m feartures, imgfiltered \u001b[38;5;241m=\u001b[39m \u001b[43mcomputeGaborfeatures\u001b[49m(img_as_float(img), garray)\n",
      "\u001b[0;31mNameError\u001b[0m: name 'computeGaborfeatures' is not defined"
     ]
    }
   ],
   "source": [
    "img = io.imread(dfFoldTraining_1[\"filenames\"][10000])\n",
    "feartures, imgfiltered = computeGaborfeatures(img_as_float(img), garray)"
   ]
  },
  {
   "cell_type": "code",
   "execution_count": null,
   "id": "aa5be887-ce1c-4c8c-8ea3-878d2b8242a7",
   "metadata": {},
   "outputs": [],
   "source": [
    "plt.figure(figsize=(5,2))\n",
    "\n",
    "plt.imshow(img,cmap='Greys_r')\n",
    "\n",
    "plt.axis(\"off\") \n",
    "    \n"
   ]
  },
  {
   "cell_type": "code",
   "execution_count": null,
   "id": "d6b4e109-5739-49aa-92ab-8d51106b6ee1",
   "metadata": {},
   "outputs": [
    {
     "ename": "NameError",
     "evalue": "name 'imgfiltered' is not defined",
     "output_type": "error",
     "traceback": [
      "\u001b[0;31m---------------------------------------------------------------------------\u001b[0m",
      "\u001b[0;31mNameError\u001b[0m                                 Traceback (most recent call last)",
      "Cell \u001b[0;32mIn[60], line 5\u001b[0m\n\u001b[1;32m      3\u001b[0m ax \u001b[38;5;241m=\u001b[39m plt\u001b[38;5;241m.\u001b[39msubplot(\u001b[38;5;241m6\u001b[39m,\u001b[38;5;241m8\u001b[39m,i\u001b[38;5;241m+\u001b[39m\u001b[38;5;241m1\u001b[39m)\n\u001b[1;32m      4\u001b[0m \u001b[38;5;66;03m# ax.set_title(label)\u001b[39;00m\n\u001b[0;32m----> 5\u001b[0m plt\u001b[38;5;241m.\u001b[39mimshow(\u001b[43mimgfiltered\u001b[49m[i],cmap\u001b[38;5;241m=\u001b[39m\u001b[38;5;124m'\u001b[39m\u001b[38;5;124mGreys_r\u001b[39m\u001b[38;5;124m'\u001b[39m)\n\u001b[1;32m      7\u001b[0m plt\u001b[38;5;241m.\u001b[39maxis(\u001b[38;5;124m\"\u001b[39m\u001b[38;5;124moff\u001b[39m\u001b[38;5;124m\"\u001b[39m) \n",
      "\u001b[0;31mNameError\u001b[0m: name 'imgfiltered' is not defined"
     ]
    },
    {
     "data": {
      "image/png": "[encoded data removed]",
      "text/plain": [
       "<Figure size 1500x1000 with 1 Axes>"
      ]
     },
     "metadata": {},
     "output_type": "display_data"
    }
   ],
   "source": [
    "plt.figure(figsize=(15,10))\n",
    "for i in range(48):    \n",
    "    ax = plt.subplot(6,8,i+1)\n",
    "    # ax.set_title(label)\n",
    "    plt.imshow(imgfiltered[i],cmap='Greys_r')\n",
    "\n",
    "    plt.axis(\"off\") "
   ]
  },
  {
   "cell_type": "code",
   "execution_count": 134,
   "id": "f63e4e1e-e1e8-4229-9ad9-cf71cd7b2ce4",
   "metadata": {},
   "outputs": [
    {
     "data": {
      "text/plain": [
       "0.327"
      ]
     },
     "metadata": {},
     "output_type": "display_data"
    },
    {
     "data": {
      "text/plain": [
       "0.23122391744800103"
      ]
     },
     "metadata": {},
     "output_type": "display_data"
    },
    {
     "data": {
      "text/plain": [
       "0.16349999999999998"
      ]
     },
     "metadata": {},
     "output_type": "display_data"
    },
    {
     "data": {
      "text/plain": [
       "0.1156119587240005"
      ]
     },
     "metadata": {},
     "output_type": "display_data"
    },
    {
     "data": {
      "text/plain": [
       "0.08174999999999999"
      ]
     },
     "metadata": {},
     "output_type": "display_data"
    },
    {
     "data": {
      "text/plain": [
       "0.05780597936200024"
      ]
     },
     "metadata": {},
     "output_type": "display_data"
    }
   ],
   "source": [
    "for i in range(0,6):\n",
    "    fu = 0.327/np.sqrt(2)**i; # frequency\n",
    "    alpha = fu/gamma;\n",
    "    beta = fu/eta;\n",
    "    \n",
    "    display(fu)"
   ]
  },
  {
   "cell_type": "code",
   "execution_count": 123,
   "id": "7801e567-97ab-42b2-92f8-2cc2fa0d8bfd",
   "metadata": {},
   "outputs": [],
   "source": [
    "f0=0.327\n",
    "gamma=eta=0.5\n",
    "beta=alpha=0.654\n",
    "theta=0.3927\n",
    "Nx=43;\n",
    "Ny=43;\n",
    "pf=np.sqrt(0.99);"
   ]
  },
  {
   "cell_type": "code",
   "execution_count": 124,
   "id": "8988740d-23d9-4f1d-a5d4-9bba44c3de26",
   "metadata": {},
   "outputs": [
    {
     "data": {
      "text/plain": [
       "array([-0.41308119,  0.41308119])"
      ]
     },
     "metadata": {},
     "output_type": "display_data"
    },
    {
     "data": {
      "text/plain": [
       "array([-0.41308119,  0.41308119])"
      ]
     },
     "metadata": {},
     "output_type": "display_data"
    }
   ],
   "source": [
    "# accurate rectangular envelope\n",
    "majenv=norminv(np.array([1-pf, 1+pf])/2,0,f0/(np.sqrt(2)*np.pi*gamma));\n",
    "\n",
    "minenv=norminv(np.array([1-pf, 1+pf])/2,0,f0/(np.sqrt(2)*np.pi*eta));\n",
    "\n",
    "display(majenv)\n",
    "display(minenv)"
   ]
  },
  {
   "cell_type": "code",
   "execution_count": 128,
   "id": "44af4a51-725e-484b-961a-4bd4f39b6150",
   "metadata": {},
   "outputs": [
    {
     "data": {
      "text/plain": [
       "array([-0.11097269,  0.71518968, -0.28794343,  0.53821895])"
      ]
     },
     "metadata": {},
     "output_type": "display_data"
    }
   ],
   "source": [
    "envelope=accurate_envelope_f(f0,majenv[1],minenv[1],theta);\n",
    "\n",
    "display(envelope)"
   ]
  },
  {
   "cell_type": "code",
   "execution_count": 56,
   "id": "502542f8-7b2f-4602-9585-94af8d5a5155",
   "metadata": {},
   "outputs": [
    {
     "data": {
      "text/plain": [
       "array([ -3.70149102,  31.82349102, -17.76249102,  17.76249102])"
      ]
     },
     "metadata": {},
     "output_type": "display_data"
    }
   ],
   "source": [
    "envelope[:2] = envelope[:2]*Nx\n",
    "envelope[-2:] = envelope[-2:]*Ny\n",
    "\n",
    "display(envelope)"
   ]
  },
  {
   "cell_type": "code",
   "execution_count": 59,
   "id": "355fa6ff-38b4-4b55-a3ed-c63c0eed116b",
   "metadata": {},
   "outputs": [
    {
     "data": {
      "text/plain": [
       "array([ -4.,  32., -18.,  18.])"
      ]
     },
     "execution_count": 59,
     "metadata": {},
     "output_type": "execute_result"
    }
   ],
   "source": [
    "np.array([np.floor(envelope[0]), np.ceil(envelope[1]), np.floor(envelope[2]), np.ceil(envelope[3])])"
   ]
  },
  {
   "cell_type": "code",
   "execution_count": 71,
   "id": "0acc3769-5019-481f-a09f-718e8f6d587c",
   "metadata": {},
   "outputs": [
    {
     "data": {
      "text/plain": [
       "array([-4, -3, -2, -1,  0,  1,  2,  3,  4,  5,  6,  7,  8,  9, 10, 11, 12,\n",
       "       13, 14, 15, 16, 17, 18, 19, 20, 21, 22, 23, 24, 25, 26, 27, 28, 29,\n",
       "       30, 31, 32])"
      ]
     },
     "execution_count": 71,
     "metadata": {},
     "output_type": "execute_result"
    }
   ],
   "source": [
    "np.arange(envelope[0]-1, envelope[1], 1, dtype=int)"
   ]
  },
  {
   "cell_type": "code",
   "execution_count": 72,
   "id": "d9dafccc-9e8b-4053-937a-c2d68d73e029",
   "metadata": {},
   "outputs": [
    {
     "data": {
      "text/plain": [
       "array([-0.09302326, -0.06976744, -0.04651163, -0.02325581,  0.        ,\n",
       "        0.02325581,  0.04651163,  0.06976744,  0.09302326,  0.11627907,\n",
       "        0.13953488,  0.1627907 ,  0.18604651,  0.20930233,  0.23255814,\n",
       "        0.25581395,  0.27906977,  0.30232558,  0.3255814 ,  0.34883721,\n",
       "        0.37209302,  0.39534884,  0.41860465,  0.44186047,  0.46511628,\n",
       "        0.48837209,  0.51162791,  0.53488372,  0.55813953,  0.58139535,\n",
       "        0.60465116,  0.62790698,  0.65116279,  0.6744186 ,  0.69767442,\n",
       "        0.72093023,  0.74418605])"
      ]
     },
     "execution_count": 72,
     "metadata": {},
     "output_type": "execute_result"
    }
   ],
   "source": [
    "np.arange(envelope[0]-1, envelope[1], 1, dtype=int)/43"
   ]
  },
  {
   "cell_type": "code",
   "execution_count": 95,
   "id": "d6be0e4c-c8ab-4075-b1f6-5eb1b4fda360",
   "metadata": {},
   "outputs": [
    {
     "data": {
      "text/plain": [
       "array([-0.09302326, -0.06976744, -0.04651163, -0.02325581,  0.        ,\n",
       "        0.02325581,  0.04651163,  0.06976744,  0.09302326,  0.11627907,\n",
       "        0.13953488,  0.1627907 ,  0.18604651,  0.20930233,  0.23255814,\n",
       "        0.25581395,  0.27906977,  0.30232558,  0.3255814 ,  0.34883721,\n",
       "        0.37209302,  0.39534884,  0.41860465,  0.44186047,  0.46511628,\n",
       "        0.48837209,  0.51162791,  0.53488372,  0.55813953,  0.58139535,\n",
       "        0.60465116,  0.62790698,  0.65116279,  0.6744186 ,  0.69767442,\n",
       "        0.72093023,  0.74418605])"
      ]
     },
     "metadata": {},
     "output_type": "display_data"
    },
    {
     "data": {
      "text/plain": [
       "array([-0.41860465, -0.39534884, -0.37209302, -0.34883721, -0.3255814 ,\n",
       "       -0.30232558, -0.27906977, -0.25581395, -0.23255814, -0.20930233,\n",
       "       -0.18604651, -0.1627907 , -0.13953488, -0.11627907, -0.09302326,\n",
       "       -0.06976744, -0.04651163, -0.02325581,  0.        ,  0.02325581,\n",
       "        0.04651163,  0.06976744,  0.09302326,  0.11627907,  0.13953488,\n",
       "        0.1627907 ,  0.18604651,  0.20930233,  0.23255814,  0.25581395,\n",
       "        0.27906977,  0.30232558,  0.3255814 ,  0.34883721,  0.37209302,\n",
       "        0.39534884,  0.41860465])"
      ]
     },
     "metadata": {},
     "output_type": "display_data"
    }
   ],
   "source": [
    "nx = np.arange(envelope[0]-1, envelope[1], 1, dtype=int)\n",
    "ny = np.arange(envelope[2]-1, envelope[3], 1, dtype=int)\n",
    "\n",
    "u = nx/Nx; #frequencies that bank contains\n",
    "v = ny/Ny;\n",
    "\n",
    "display(u,v)"
   ]
  },
  {
   "cell_type": "code",
   "execution_count": 96,
   "id": "80866dd4-cdea-466a-85bb-0084f9a3fb4f",
   "metadata": {},
   "outputs": [
    {
     "data": {
      "text/plain": [
       "(37, 37)"
      ]
     },
     "metadata": {},
     "output_type": "display_data"
    },
    {
     "data": {
      "text/plain": [
       "(37, 37)"
      ]
     },
     "metadata": {},
     "output_type": "display_data"
    }
   ],
   "source": [
    "U,V=np.meshgrid(u,v);\n",
    "display(U.shape, V.shape)"
   ]
  },
  {
   "cell_type": "code",
   "execution_count": 97,
   "id": "5ac3275e-2f19-4cab-ab4a-6ed623da9d85",
   "metadata": {},
   "outputs": [
    {
     "data": {
      "text/plain": [
       "array([[-0.09302326, -0.06976744, -0.04651163, ...,  0.69767442,\n",
       "         0.72093023,  0.74418605],\n",
       "       [-0.09302326, -0.06976744, -0.04651163, ...,  0.69767442,\n",
       "         0.72093023,  0.74418605],\n",
       "       [-0.09302326, -0.06976744, -0.04651163, ...,  0.69767442,\n",
       "         0.72093023,  0.74418605],\n",
       "       ...,\n",
       "       [-0.09302326, -0.06976744, -0.04651163, ...,  0.69767442,\n",
       "         0.72093023,  0.74418605],\n",
       "       [-0.09302326, -0.06976744, -0.04651163, ...,  0.69767442,\n",
       "         0.72093023,  0.74418605],\n",
       "       [-0.09302326, -0.06976744, -0.04651163, ...,  0.69767442,\n",
       "         0.72093023,  0.74418605]])"
      ]
     },
     "execution_count": 97,
     "metadata": {},
     "output_type": "execute_result"
    }
   ],
   "source": [
    "U"
   ]
  },
  {
   "cell_type": "code",
   "execution_count": 98,
   "id": "0617999e-ed5c-467d-bf05-93099fead0dc",
   "metadata": {},
   "outputs": [
    {
     "data": {
      "text/plain": [
       "array([[-0.41860465, -0.41860465, -0.41860465, ..., -0.41860465,\n",
       "        -0.41860465, -0.41860465],\n",
       "       [-0.39534884, -0.39534884, -0.39534884, ..., -0.39534884,\n",
       "        -0.39534884, -0.39534884],\n",
       "       [-0.37209302, -0.37209302, -0.37209302, ..., -0.37209302,\n",
       "        -0.37209302, -0.37209302],\n",
       "       ...,\n",
       "       [ 0.37209302,  0.37209302,  0.37209302, ...,  0.37209302,\n",
       "         0.37209302,  0.37209302],\n",
       "       [ 0.39534884,  0.39534884,  0.39534884, ...,  0.39534884,\n",
       "         0.39534884,  0.39534884],\n",
       "       [ 0.41860465,  0.41860465,  0.41860465, ...,  0.41860465,\n",
       "         0.41860465,  0.41860465]])"
      ]
     },
     "execution_count": 98,
     "metadata": {},
     "output_type": "execute_result"
    }
   ],
   "source": [
    "V"
   ]
  },
  {
   "cell_type": "code",
   "execution_count": 107,
   "id": "45c5bbd9-598c-4d98-a680-4f6938e6f146",
   "metadata": {},
   "outputs": [],
   "source": [
    "Uenvelope =  (np.add(-U * np.sin(theta), V * np.cos(theta)))**2/(beta**2)\n",
    "Venvelope =  (np.add(U * np.cos(theta), V * np.sin(theta)-f0))**2/alpha**2"
   ]
  },
  {
   "cell_type": "code",
   "execution_count": 112,
   "id": "b7631738-6e68-4ccb-8902-912cf0fa01bd",
   "metadata": {},
   "outputs": [],
   "source": [
    "gf=np.exp(-(np.pi**2) * np.add(Uenvelope,Venvelope))"
   ]
  },
  {
   "cell_type": "code",
   "execution_count": 117,
   "id": "e8b7b880-3d4d-40c5-8596-879689ea4273",
   "metadata": {},
   "outputs": [
    {
     "data": {
      "text/plain": [
       "0.0010836546480005999"
      ]
     },
     "execution_count": 117,
     "metadata": {},
     "output_type": "execute_result"
    }
   ],
   "source": [
    "gf[34,1]"
   ]
  },
  {
   "cell_type": "code",
   "execution_count": 100,
   "id": "9fb2f017-5711-4441-ac0f-14a2cdb8cda4",
   "metadata": {},
   "outputs": [
    {
     "data": {
      "text/plain": [
       "array([[-0.41860465, -0.41860465, -0.41860465, ..., -0.41860465,\n",
       "        -0.41860465, -0.41860465],\n",
       "       [-0.39534884, -0.39534884, -0.39534884, ..., -0.39534884,\n",
       "        -0.39534884, -0.39534884],\n",
       "       [-0.37209302, -0.37209302, -0.37209302, ..., -0.37209302,\n",
       "        -0.37209302, -0.37209302],\n",
       "       ...,\n",
       "       [ 0.37209302,  0.37209302,  0.37209302, ...,  0.37209302,\n",
       "         0.37209302,  0.37209302],\n",
       "       [ 0.39534884,  0.39534884,  0.39534884, ...,  0.39534884,\n",
       "         0.39534884,  0.39534884],\n",
       "       [ 0.41860465,  0.41860465,  0.41860465, ...,  0.41860465,\n",
       "         0.41860465,  0.41860465]])"
      ]
     },
     "execution_count": 100,
     "metadata": {},
     "output_type": "execute_result"
    }
   ],
   "source": [
    "V"
   ]
  },
  {
   "cell_type": "code",
   "execution_count": 105,
   "id": "d940b2c5-a620-4ab6-afb1-b4afa55d69f9",
   "metadata": {},
   "outputs": [
    {
     "data": {
      "text/plain": [
       "array([[0.4096874 , 0.4096874 , 0.4096874 , ..., 0.4096874 , 0.4096874 ,\n",
       "        0.4096874 ],\n",
       "       [0.36543104, 0.36543104, 0.36543104, ..., 0.36543104, 0.36543104,\n",
       "        0.36543104],\n",
       "       [0.32370362, 0.32370362, 0.32370362, ..., 0.32370362, 0.32370362,\n",
       "        0.32370362],\n",
       "       ...,\n",
       "       [0.32370362, 0.32370362, 0.32370362, ..., 0.32370362, 0.32370362,\n",
       "        0.32370362],\n",
       "       [0.36543104, 0.36543104, 0.36543104, ..., 0.36543104, 0.36543104,\n",
       "        0.36543104],\n",
       "       [0.4096874 , 0.4096874 , 0.4096874 , ..., 0.4096874 , 0.4096874 ,\n",
       "        0.4096874 ]])"
      ]
     },
     "execution_count": 105,
     "metadata": {},
     "output_type": "execute_result"
    }
   ],
   "source": [
    "(np.add(-U * np.sin(theta), V * np.cos(theta)))**2/(beta**2)"
   ]
  },
  {
   "cell_type": "code",
   "execution_count": 106,
   "id": "bf57f042-0109-4027-a344-a3cf24d2c33b",
   "metadata": {},
   "outputs": [
    {
     "data": {
      "text/plain": [
       "array([[0.41246887, 0.36805825, 0.32617657, ..., 0.32124009, 0.36281324,\n",
       "        0.40691533],\n",
       "       [0.41246887, 0.36805825, 0.32617657, ..., 0.32124009, 0.36281324,\n",
       "        0.40691533],\n",
       "       [0.41246887, 0.36805825, 0.32617657, ..., 0.32124009, 0.36281324,\n",
       "        0.40691533],\n",
       "       ...,\n",
       "       [0.41246887, 0.36805825, 0.32617657, ..., 0.32124009, 0.36281324,\n",
       "        0.40691533],\n",
       "       [0.41246887, 0.36805825, 0.32617657, ..., 0.32124009, 0.36281324,\n",
       "        0.40691533],\n",
       "       [0.41246887, 0.36805825, 0.32617657, ..., 0.32124009, 0.36281324,\n",
       "        0.40691533]])"
      ]
     },
     "execution_count": 106,
     "metadata": {},
     "output_type": "execute_result"
    }
   ],
   "source": [
    "np.add(U * np.cos(theta), V * np.sin(theta)-f0)**2/alpha**2"
   ]
  },
  {
   "cell_type": "code",
   "execution_count": 33,
   "id": "539694a8-a3e2-40ab-ac03-97c05d608ae3",
   "metadata": {},
   "outputs": [
    {
     "data": {
      "text/plain": [
       "0.327"
      ]
     },
     "metadata": {},
     "output_type": "display_data"
    },
    {
     "data": {
      "text/plain": [
       "0.4130811865519662"
      ]
     },
     "metadata": {},
     "output_type": "display_data"
    },
    {
     "data": {
      "text/plain": [
       "0.4130811865519662"
      ]
     },
     "metadata": {},
     "output_type": "display_data"
    }
   ],
   "source": [
    "a=majenv[1]\n",
    "b=minenv[1]\n",
    "display(f0,a,b)"
   ]
  },
  {
   "cell_type": "code",
   "execution_count": 72,
   "id": "faae47d0-4591-45c1-8c70-986adc81b141",
   "metadata": {},
   "outputs": [
    {
     "data": {
      "text/plain": [
       "-0.08608118655196617"
      ]
     },
     "execution_count": 72,
     "metadata": {},
     "output_type": "execute_result"
    }
   ],
   "source": [
    "f0-a"
   ]
  },
  {
   "cell_type": "code",
   "execution_count": 34,
   "id": "a3a2bea6-e3be-45f3-928a-980875306aef",
   "metadata": {},
   "outputs": [
    {
     "data": {
      "text/plain": [
       "array([[-0.08608119,  0.        ],\n",
       "       [ 0.74008119,  0.        ],\n",
       "       [ 0.327     ,  0.41308119],\n",
       "       [ 0.327     , -0.41308119]])"
      ]
     },
     "metadata": {},
     "output_type": "display_data"
    },
    {
     "data": {
      "text/plain": [
       "(4, 2)"
      ]
     },
     "metadata": {},
     "output_type": "display_data"
    }
   ],
   "source": [
    "envelope = np.array([[f0-a, 0], [f0+a, 0],[f0, b],[f0, -b]])\n",
    "display(envelope, envelope.shape)"
   ]
  },
  {
   "cell_type": "code",
   "execution_count": 35,
   "id": "d7dc83c6-081c-42df-941c-73965d9410ee",
   "metadata": {},
   "outputs": [
    {
     "data": {
      "text/plain": [
       "array([[ 1.,  0.],\n",
       "       [-0.,  1.]])"
      ]
     },
     "metadata": {},
     "output_type": "display_data"
    },
    {
     "data": {
      "text/plain": [
       "(2, 2)"
      ]
     },
     "metadata": {},
     "output_type": "display_data"
    }
   ],
   "source": [
    "ccc=np.array([[np.cos(theta), np.sin(theta)],[-np.sin(theta), np.cos(theta)]])\n",
    "display(ccc, ccc.shape)"
   ]
  },
  {
   "cell_type": "code",
   "execution_count": 37,
   "id": "cca92207-379d-4a77-96fa-a09b3cefdc55",
   "metadata": {},
   "outputs": [
    {
     "data": {
      "text/plain": [
       "array([[-0.08608119,  0.        ],\n",
       "       [ 0.74008119,  0.        ],\n",
       "       [ 0.327     ,  0.41308119],\n",
       "       [ 0.327     , -0.41308119]])"
      ]
     },
     "metadata": {},
     "output_type": "display_data"
    }
   ],
   "source": [
    "envelope=np.matmul(envelope, ccc)\n",
    "display(envelope)"
   ]
  },
  {
   "cell_type": "code",
   "execution_count": 43,
   "id": "7a33fe18-8438-4018-a8ea-7c70dbf93d0a",
   "metadata": {},
   "outputs": [
    {
     "data": {
      "text/plain": [
       "array([-0.08608119,  0.74008119,  0.327     ,  0.327     ])"
      ]
     },
     "execution_count": 43,
     "metadata": {},
     "output_type": "execute_result"
    }
   ],
   "source": [
    "envelope[:,0]"
   ]
  },
  {
   "cell_type": "code",
   "execution_count": 38,
   "id": "145a7a4c-0a46-4c3c-b6e2-2d1e1bc74966",
   "metadata": {},
   "outputs": [
    {
     "data": {
      "text/plain": [
       "-0.08608118655196617"
      ]
     },
     "metadata": {},
     "output_type": "display_data"
    },
    {
     "data": {
      "text/plain": [
       "0.0"
      ]
     },
     "metadata": {},
     "output_type": "display_data"
    },
    {
     "data": {
      "text/plain": [
       "0.0"
      ]
     },
     "metadata": {},
     "output_type": "display_data"
    },
    {
     "data": {
      "text/plain": [
       "0.7400811865519662"
      ]
     },
     "metadata": {},
     "output_type": "display_data"
    }
   ],
   "source": [
    "xmin = min(envelope[0,:]);\n",
    "xmax = max(envelope[0,:]);\n",
    "ymin = min(envelope[1,:]);\n",
    "ymax = max(envelope[1,:]);\n",
    "display(xmin, xmax, ymin, ymax)        "
   ]
  },
  {
   "cell_type": "code",
   "execution_count": 48,
   "id": "6e745260-9977-4d3b-bde9-7ea13f9cc4b8",
   "metadata": {},
   "outputs": [
    {
     "data": {
      "text/plain": [
       "array([-0.08608119,  0.74008119])"
      ]
     },
     "execution_count": 48,
     "metadata": {},
     "output_type": "execute_result"
    }
   ],
   "source": [
    "envelope[:2]"
   ]
  },
  {
   "cell_type": "code",
   "execution_count": null,
   "id": "018ce441-c5fc-4059-9a9e-741a45e06262",
   "metadata": {},
   "outputs": [],
   "source": [
    "\n",
    "\n",
    "envelope(1:2)=envelope(1:2)*N(2);\n",
    "envelope(3:4)=envelope(3:4)*N(1);"
   ]
  },
  {
   "cell_type": "code",
   "execution_count": null,
   "id": "830bffef-b0aa-403c-90a9-efa8192da625",
   "metadata": {},
   "outputs": [],
   "source": []
  }
 ],
 "metadata": {
  "kernelspec": {
   "display_name": "Python [conda env:image_processing]",
   "language": "python",
   "name": "conda-env-image_processing-py"
  },
  "language_info": {
   "codemirror_mode": {
    "name": "ipython",
    "version": 3
   },
   "file_extension": ".py",
   "mimetype": "text/x-python",
   "name": "python",
   "nbconvert_exporter": "python",
   "pygments_lexer": "ipython3",
   "version": "3.9.16"
  },
  "toc-showmarkdowntxt": false
 },
 "nbformat": 4,
 "nbformat_minor": 5
}
